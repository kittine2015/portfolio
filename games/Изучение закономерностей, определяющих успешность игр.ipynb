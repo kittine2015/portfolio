{
 "cells": [
  {
   "cell_type": "markdown",
   "metadata": {},
   "source": [
    "### Изучение закономерностей, определяющих успешность игр\n",
    "\n",
    "    Мы работаем с интернет-магазином, который продаёт по всему миру компьютерные игры. Из открытых источников доступны исторические данные о продажах игр, оценки пользователей и экспертов, жанры и платформы (например, Xbox или PlayStation). Стоит **задача** нужно выявить определяющие успешность игры закономерности. Это позволит сделать ставку на потенциально популярный продукт и спланировать рекламные кампании.\n",
    "\n",
    "    Мне предоставлены данные до 2016 года. Нужно обработать данные так, чтобы можно было сделать прогноз на 2017 год.\n",
    "\n",
    "**Описание проекта**\n",
    "\n",
    "    Выявлены параметры, определяющие успешность игры в разных регионах мира. На основании этого подготовлен отчет для магазина компьютерных игр для планирования рекламных кампаний. Проведена предобработка данных, анализ. Выбран актуальный период для анализа. Составлены портреты пользователей каждого региона. Проверены гипотезы: средние пользовательские рейтинги платформ Xbox One и PC одинаковые; средние пользовательские рейтинги жанров Action и Sports разные. При анализе использовал критерий Стьюдента для независимых выборок.\n",
    "    "
   ]
  },
  {
   "cell_type": "markdown",
   "metadata": {},
   "source": [
    "**Описание данных**\n",
    "\n",
    "    Name — название игры\n",
    "    Platform — платформа\n",
    "    Year_of_Release — год выпуска\n",
    "    Genre — жанр игры\n",
    "    NA_sales — продажи в Северной Америке (миллионы проданных копий)\n",
    "    EU_sales — продажи в Европе (миллионы проданных копий)\n",
    "    JP_sales — продажи в Японии (миллионы проданных копий)\n",
    "    Other_sales — продажи в других странах (миллионы проданных копий)\n",
    "    Critic_Score — оценка критиков (максимум 100)\n",
    "    User_Score — оценка пользователей (максимум 10)\n",
    "    Rating — рейтинг от организации ESRB (англ. Entertainment Software Rating Board). Эта ассоциация определяет рейтинг компьютерных игр и присваивает им подходящую возрастную категорию.\n",
    "\n",
    "Данные за 2016 год могут быть неполными."
   ]
  },
  {
   "cell_type": "markdown",
   "metadata": {},
   "source": [
    "\n",
    "**План работы**\n",
    "\n",
    "    Шаг 1. Откроем файл с данными и изучим общую информацию\n",
    "    Путь к файлу: /datasets/games.csv.\n",
    "\n",
    "    Шаг 2. Подготовим данные\n",
    "        Заменим названия столбцов (приведем к нижнему регистру);\n",
    "        Преобразуем данные в нужные типы. Опишем, в каких столбцах заменили тип данных и почему;\n",
    "        Обработаем пропуски при необходимости:\n",
    "        Объясним, почему заполнили пропуски определённым образом или почему не стали это делать;\n",
    "        Опишем причины, которые могли привести к пропускам;\n",
    "        Обратим внимание на аббревиатуру 'tbd' в столбцах с рейтингом. Отдельно разберем это значение и опишем, как его обработать;\n",
    "        Посчитаем суммарные продажи во всех регионах и запишем их в отдельный столбец.\n",
    "\n",
    "    Шаг 3. Проведем исследовательский анализ данных\n",
    "        Посмотрим, сколько игр выпускалось в разные годы. Важны ли данные за все периоды?\n",
    "        Посмотрим, как менялись продажи по платформам. Выберем платформы с наибольшими суммарными продажами и построим распределение по годам. За какой характерный срок появляются новые и исчезают старые платформы?\n",
    "        Возьмем данные за соответствующий актуальный период. Актуальный период определим самостоятельно в результате исследования предыдущих вопросов. Основной фактор — эти данные помогут построить прогноз на 2017 год. Не будем учитывать в работе данные за предыдущие годы.\n",
    "        Какие платформы лидируют по продажам, растут или падают? Выберем несколько потенциально прибыльных платформ.\n",
    "        Построим график «ящик с усами» по глобальным продажам игр в разбивке по платформам. Опишем результат.\n",
    "        Посмотрим, как влияют на продажи внутри одной популярной платформы отзывы пользователей и критиков. Построем диаграмму рассеяния и посчитаем корреляцию между отзывами и продажами. Сформулируем выводы.\n",
    "        Соотнесем выводы с продажами игр на других платформах.\n",
    "        Посмотрим на общее распределение игр по жанрам. Что можно сказать о самых прибыльных жанрах? Выделяются ли жанры с высокими и низкими продажами?\n",
    "\n",
    "    Шаг 4. Составим портрет пользователя каждого региона\n",
    "        Определим для пользователя каждого региона (NA, EU, JP):\n",
    "        Самые популярные платформы (топ-5). Опишем различия в долях продаж.\n",
    "        Самые популярные жанры (топ-5). Поясним разницу.\n",
    "        Влияет ли рейтинг ESRB на продажи в отдельном регионе?\n",
    "\n",
    "    Шаг 5. Проверим гипотезы\n",
    "        Средние пользовательские рейтинги платформ Xbox One и PC одинаковые;\n",
    "        Средние пользовательские рейтинги жанров Action (англ. «действие», экшен-игры) и Sports (англ. «спортивные соревнования») разные.\n",
    "        Пороговое значение alpha зададим самостоятельно.\n",
    "        Поясним:\n",
    "            Как мы сформулировали нулевую и альтернативную гипотезы;\n",
    "            Какой критерий применили для проверки гипотез и почему.\n",
    "\n",
    "    Шаг 6. Напишем общий вывод\n",
    "        Оформление: Выполним задание в Jupyter Notebook. Заполним программный код в ячейках типа code, текстовые пояснения — в ячейках типа markdown. Применим форматирование и заголовки.\n",
    "\n"
   ]
  },
  {
   "cell_type": "markdown",
   "metadata": {},
   "source": [
    "**Шаг 1.**\n",
    "\n",
    "    Откроем файл с данными и изучим общую информацию\n",
    "    Путь к файлу: /datasets/games.csv."
   ]
  },
  {
   "cell_type": "code",
   "execution_count": 2,
   "metadata": {},
   "outputs": [],
   "source": [
    "import pandas as pd\n",
    "import matplotlib.pyplot as plt\n",
    "import seaborn as sns\n",
    "import numpy as np\n",
    "from scipy import stats as st\n"
   ]
  },
  {
   "cell_type": "code",
   "execution_count": 3,
   "metadata": {},
   "outputs": [],
   "source": [
    "try:\n",
    "    data = pd.read_csv('/datasets/games.csv')\n",
    "except:\n",
    "    data = pd.read_csv('https://code.s3.yandex.net/datasets/games.csv')"
   ]
  },
  {
   "cell_type": "code",
   "execution_count": 4,
   "metadata": {
    "scrolled": true
   },
   "outputs": [
    {
     "data": {
      "text/html": [
       "<div>\n",
       "<style scoped>\n",
       "    .dataframe tbody tr th:only-of-type {\n",
       "        vertical-align: middle;\n",
       "    }\n",
       "\n",
       "    .dataframe tbody tr th {\n",
       "        vertical-align: top;\n",
       "    }\n",
       "\n",
       "    .dataframe thead th {\n",
       "        text-align: right;\n",
       "    }\n",
       "</style>\n",
       "<table border=\"1\" class=\"dataframe\">\n",
       "  <thead>\n",
       "    <tr style=\"text-align: right;\">\n",
       "      <th></th>\n",
       "      <th>Name</th>\n",
       "      <th>Platform</th>\n",
       "      <th>Year_of_Release</th>\n",
       "      <th>Genre</th>\n",
       "      <th>NA_sales</th>\n",
       "      <th>EU_sales</th>\n",
       "      <th>JP_sales</th>\n",
       "      <th>Other_sales</th>\n",
       "      <th>Critic_Score</th>\n",
       "      <th>User_Score</th>\n",
       "      <th>Rating</th>\n",
       "    </tr>\n",
       "  </thead>\n",
       "  <tbody>\n",
       "    <tr>\n",
       "      <th>0</th>\n",
       "      <td>Wii Sports</td>\n",
       "      <td>Wii</td>\n",
       "      <td>2006.0</td>\n",
       "      <td>Sports</td>\n",
       "      <td>41.36</td>\n",
       "      <td>28.96</td>\n",
       "      <td>3.77</td>\n",
       "      <td>8.45</td>\n",
       "      <td>76.0</td>\n",
       "      <td>8</td>\n",
       "      <td>E</td>\n",
       "    </tr>\n",
       "    <tr>\n",
       "      <th>1</th>\n",
       "      <td>Super Mario Bros.</td>\n",
       "      <td>NES</td>\n",
       "      <td>1985.0</td>\n",
       "      <td>Platform</td>\n",
       "      <td>29.08</td>\n",
       "      <td>3.58</td>\n",
       "      <td>6.81</td>\n",
       "      <td>0.77</td>\n",
       "      <td>NaN</td>\n",
       "      <td>NaN</td>\n",
       "      <td>NaN</td>\n",
       "    </tr>\n",
       "    <tr>\n",
       "      <th>2</th>\n",
       "      <td>Mario Kart Wii</td>\n",
       "      <td>Wii</td>\n",
       "      <td>2008.0</td>\n",
       "      <td>Racing</td>\n",
       "      <td>15.68</td>\n",
       "      <td>12.76</td>\n",
       "      <td>3.79</td>\n",
       "      <td>3.29</td>\n",
       "      <td>82.0</td>\n",
       "      <td>8.3</td>\n",
       "      <td>E</td>\n",
       "    </tr>\n",
       "    <tr>\n",
       "      <th>3</th>\n",
       "      <td>Wii Sports Resort</td>\n",
       "      <td>Wii</td>\n",
       "      <td>2009.0</td>\n",
       "      <td>Sports</td>\n",
       "      <td>15.61</td>\n",
       "      <td>10.93</td>\n",
       "      <td>3.28</td>\n",
       "      <td>2.95</td>\n",
       "      <td>80.0</td>\n",
       "      <td>8</td>\n",
       "      <td>E</td>\n",
       "    </tr>\n",
       "    <tr>\n",
       "      <th>4</th>\n",
       "      <td>Pokemon Red/Pokemon Blue</td>\n",
       "      <td>GB</td>\n",
       "      <td>1996.0</td>\n",
       "      <td>Role-Playing</td>\n",
       "      <td>11.27</td>\n",
       "      <td>8.89</td>\n",
       "      <td>10.22</td>\n",
       "      <td>1.00</td>\n",
       "      <td>NaN</td>\n",
       "      <td>NaN</td>\n",
       "      <td>NaN</td>\n",
       "    </tr>\n",
       "    <tr>\n",
       "      <th>5</th>\n",
       "      <td>Tetris</td>\n",
       "      <td>GB</td>\n",
       "      <td>1989.0</td>\n",
       "      <td>Puzzle</td>\n",
       "      <td>23.20</td>\n",
       "      <td>2.26</td>\n",
       "      <td>4.22</td>\n",
       "      <td>0.58</td>\n",
       "      <td>NaN</td>\n",
       "      <td>NaN</td>\n",
       "      <td>NaN</td>\n",
       "    </tr>\n",
       "    <tr>\n",
       "      <th>6</th>\n",
       "      <td>New Super Mario Bros.</td>\n",
       "      <td>DS</td>\n",
       "      <td>2006.0</td>\n",
       "      <td>Platform</td>\n",
       "      <td>11.28</td>\n",
       "      <td>9.14</td>\n",
       "      <td>6.50</td>\n",
       "      <td>2.88</td>\n",
       "      <td>89.0</td>\n",
       "      <td>8.5</td>\n",
       "      <td>E</td>\n",
       "    </tr>\n",
       "    <tr>\n",
       "      <th>7</th>\n",
       "      <td>Wii Play</td>\n",
       "      <td>Wii</td>\n",
       "      <td>2006.0</td>\n",
       "      <td>Misc</td>\n",
       "      <td>13.96</td>\n",
       "      <td>9.18</td>\n",
       "      <td>2.93</td>\n",
       "      <td>2.84</td>\n",
       "      <td>58.0</td>\n",
       "      <td>6.6</td>\n",
       "      <td>E</td>\n",
       "    </tr>\n",
       "    <tr>\n",
       "      <th>8</th>\n",
       "      <td>New Super Mario Bros. Wii</td>\n",
       "      <td>Wii</td>\n",
       "      <td>2009.0</td>\n",
       "      <td>Platform</td>\n",
       "      <td>14.44</td>\n",
       "      <td>6.94</td>\n",
       "      <td>4.70</td>\n",
       "      <td>2.24</td>\n",
       "      <td>87.0</td>\n",
       "      <td>8.4</td>\n",
       "      <td>E</td>\n",
       "    </tr>\n",
       "    <tr>\n",
       "      <th>9</th>\n",
       "      <td>Duck Hunt</td>\n",
       "      <td>NES</td>\n",
       "      <td>1984.0</td>\n",
       "      <td>Shooter</td>\n",
       "      <td>26.93</td>\n",
       "      <td>0.63</td>\n",
       "      <td>0.28</td>\n",
       "      <td>0.47</td>\n",
       "      <td>NaN</td>\n",
       "      <td>NaN</td>\n",
       "      <td>NaN</td>\n",
       "    </tr>\n",
       "    <tr>\n",
       "      <th>10</th>\n",
       "      <td>Nintendogs</td>\n",
       "      <td>DS</td>\n",
       "      <td>2005.0</td>\n",
       "      <td>Simulation</td>\n",
       "      <td>9.05</td>\n",
       "      <td>10.95</td>\n",
       "      <td>1.93</td>\n",
       "      <td>2.74</td>\n",
       "      <td>NaN</td>\n",
       "      <td>NaN</td>\n",
       "      <td>NaN</td>\n",
       "    </tr>\n",
       "    <tr>\n",
       "      <th>11</th>\n",
       "      <td>Mario Kart DS</td>\n",
       "      <td>DS</td>\n",
       "      <td>2005.0</td>\n",
       "      <td>Racing</td>\n",
       "      <td>9.71</td>\n",
       "      <td>7.47</td>\n",
       "      <td>4.13</td>\n",
       "      <td>1.90</td>\n",
       "      <td>91.0</td>\n",
       "      <td>8.6</td>\n",
       "      <td>E</td>\n",
       "    </tr>\n",
       "    <tr>\n",
       "      <th>12</th>\n",
       "      <td>Pokemon Gold/Pokemon Silver</td>\n",
       "      <td>GB</td>\n",
       "      <td>1999.0</td>\n",
       "      <td>Role-Playing</td>\n",
       "      <td>9.00</td>\n",
       "      <td>6.18</td>\n",
       "      <td>7.20</td>\n",
       "      <td>0.71</td>\n",
       "      <td>NaN</td>\n",
       "      <td>NaN</td>\n",
       "      <td>NaN</td>\n",
       "    </tr>\n",
       "    <tr>\n",
       "      <th>13</th>\n",
       "      <td>Wii Fit</td>\n",
       "      <td>Wii</td>\n",
       "      <td>2007.0</td>\n",
       "      <td>Sports</td>\n",
       "      <td>8.92</td>\n",
       "      <td>8.03</td>\n",
       "      <td>3.60</td>\n",
       "      <td>2.15</td>\n",
       "      <td>80.0</td>\n",
       "      <td>7.7</td>\n",
       "      <td>E</td>\n",
       "    </tr>\n",
       "    <tr>\n",
       "      <th>14</th>\n",
       "      <td>Kinect Adventures!</td>\n",
       "      <td>X360</td>\n",
       "      <td>2010.0</td>\n",
       "      <td>Misc</td>\n",
       "      <td>15.00</td>\n",
       "      <td>4.89</td>\n",
       "      <td>0.24</td>\n",
       "      <td>1.69</td>\n",
       "      <td>61.0</td>\n",
       "      <td>6.3</td>\n",
       "      <td>E</td>\n",
       "    </tr>\n",
       "    <tr>\n",
       "      <th>15</th>\n",
       "      <td>Wii Fit Plus</td>\n",
       "      <td>Wii</td>\n",
       "      <td>2009.0</td>\n",
       "      <td>Sports</td>\n",
       "      <td>9.01</td>\n",
       "      <td>8.49</td>\n",
       "      <td>2.53</td>\n",
       "      <td>1.77</td>\n",
       "      <td>80.0</td>\n",
       "      <td>7.4</td>\n",
       "      <td>E</td>\n",
       "    </tr>\n",
       "    <tr>\n",
       "      <th>16</th>\n",
       "      <td>Grand Theft Auto V</td>\n",
       "      <td>PS3</td>\n",
       "      <td>2013.0</td>\n",
       "      <td>Action</td>\n",
       "      <td>7.02</td>\n",
       "      <td>9.09</td>\n",
       "      <td>0.98</td>\n",
       "      <td>3.96</td>\n",
       "      <td>97.0</td>\n",
       "      <td>8.2</td>\n",
       "      <td>M</td>\n",
       "    </tr>\n",
       "    <tr>\n",
       "      <th>17</th>\n",
       "      <td>Grand Theft Auto: San Andreas</td>\n",
       "      <td>PS2</td>\n",
       "      <td>2004.0</td>\n",
       "      <td>Action</td>\n",
       "      <td>9.43</td>\n",
       "      <td>0.40</td>\n",
       "      <td>0.41</td>\n",
       "      <td>10.57</td>\n",
       "      <td>95.0</td>\n",
       "      <td>9</td>\n",
       "      <td>M</td>\n",
       "    </tr>\n",
       "    <tr>\n",
       "      <th>18</th>\n",
       "      <td>Super Mario World</td>\n",
       "      <td>SNES</td>\n",
       "      <td>1990.0</td>\n",
       "      <td>Platform</td>\n",
       "      <td>12.78</td>\n",
       "      <td>3.75</td>\n",
       "      <td>3.54</td>\n",
       "      <td>0.55</td>\n",
       "      <td>NaN</td>\n",
       "      <td>NaN</td>\n",
       "      <td>NaN</td>\n",
       "    </tr>\n",
       "    <tr>\n",
       "      <th>19</th>\n",
       "      <td>Brain Age: Train Your Brain in Minutes a Day</td>\n",
       "      <td>DS</td>\n",
       "      <td>2005.0</td>\n",
       "      <td>Misc</td>\n",
       "      <td>4.74</td>\n",
       "      <td>9.20</td>\n",
       "      <td>4.16</td>\n",
       "      <td>2.04</td>\n",
       "      <td>77.0</td>\n",
       "      <td>7.9</td>\n",
       "      <td>E</td>\n",
       "    </tr>\n",
       "  </tbody>\n",
       "</table>\n",
       "</div>"
      ],
      "text/plain": [
       "                                            Name Platform  Year_of_Release  \\\n",
       "0                                     Wii Sports      Wii           2006.0   \n",
       "1                              Super Mario Bros.      NES           1985.0   \n",
       "2                                 Mario Kart Wii      Wii           2008.0   \n",
       "3                              Wii Sports Resort      Wii           2009.0   \n",
       "4                       Pokemon Red/Pokemon Blue       GB           1996.0   \n",
       "5                                         Tetris       GB           1989.0   \n",
       "6                          New Super Mario Bros.       DS           2006.0   \n",
       "7                                       Wii Play      Wii           2006.0   \n",
       "8                      New Super Mario Bros. Wii      Wii           2009.0   \n",
       "9                                      Duck Hunt      NES           1984.0   \n",
       "10                                    Nintendogs       DS           2005.0   \n",
       "11                                 Mario Kart DS       DS           2005.0   \n",
       "12                   Pokemon Gold/Pokemon Silver       GB           1999.0   \n",
       "13                                       Wii Fit      Wii           2007.0   \n",
       "14                            Kinect Adventures!     X360           2010.0   \n",
       "15                                  Wii Fit Plus      Wii           2009.0   \n",
       "16                            Grand Theft Auto V      PS3           2013.0   \n",
       "17                 Grand Theft Auto: San Andreas      PS2           2004.0   \n",
       "18                             Super Mario World     SNES           1990.0   \n",
       "19  Brain Age: Train Your Brain in Minutes a Day       DS           2005.0   \n",
       "\n",
       "           Genre  NA_sales  EU_sales  JP_sales  Other_sales  Critic_Score  \\\n",
       "0         Sports     41.36     28.96      3.77         8.45          76.0   \n",
       "1       Platform     29.08      3.58      6.81         0.77           NaN   \n",
       "2         Racing     15.68     12.76      3.79         3.29          82.0   \n",
       "3         Sports     15.61     10.93      3.28         2.95          80.0   \n",
       "4   Role-Playing     11.27      8.89     10.22         1.00           NaN   \n",
       "5         Puzzle     23.20      2.26      4.22         0.58           NaN   \n",
       "6       Platform     11.28      9.14      6.50         2.88          89.0   \n",
       "7           Misc     13.96      9.18      2.93         2.84          58.0   \n",
       "8       Platform     14.44      6.94      4.70         2.24          87.0   \n",
       "9        Shooter     26.93      0.63      0.28         0.47           NaN   \n",
       "10    Simulation      9.05     10.95      1.93         2.74           NaN   \n",
       "11        Racing      9.71      7.47      4.13         1.90          91.0   \n",
       "12  Role-Playing      9.00      6.18      7.20         0.71           NaN   \n",
       "13        Sports      8.92      8.03      3.60         2.15          80.0   \n",
       "14          Misc     15.00      4.89      0.24         1.69          61.0   \n",
       "15        Sports      9.01      8.49      2.53         1.77          80.0   \n",
       "16        Action      7.02      9.09      0.98         3.96          97.0   \n",
       "17        Action      9.43      0.40      0.41        10.57          95.0   \n",
       "18      Platform     12.78      3.75      3.54         0.55           NaN   \n",
       "19          Misc      4.74      9.20      4.16         2.04          77.0   \n",
       "\n",
       "   User_Score Rating  \n",
       "0           8      E  \n",
       "1         NaN    NaN  \n",
       "2         8.3      E  \n",
       "3           8      E  \n",
       "4         NaN    NaN  \n",
       "5         NaN    NaN  \n",
       "6         8.5      E  \n",
       "7         6.6      E  \n",
       "8         8.4      E  \n",
       "9         NaN    NaN  \n",
       "10        NaN    NaN  \n",
       "11        8.6      E  \n",
       "12        NaN    NaN  \n",
       "13        7.7      E  \n",
       "14        6.3      E  \n",
       "15        7.4      E  \n",
       "16        8.2      M  \n",
       "17          9      M  \n",
       "18        NaN    NaN  \n",
       "19        7.9      E  "
      ]
     },
     "execution_count": 4,
     "metadata": {},
     "output_type": "execute_result"
    }
   ],
   "source": [
    "data.head(20)"
   ]
  },
  {
   "cell_type": "code",
   "execution_count": 5,
   "metadata": {},
   "outputs": [
    {
     "name": "stdout",
     "output_type": "stream",
     "text": [
      "<class 'pandas.core.frame.DataFrame'>\n",
      "RangeIndex: 16715 entries, 0 to 16714\n",
      "Data columns (total 11 columns):\n",
      " #   Column           Non-Null Count  Dtype  \n",
      "---  ------           --------------  -----  \n",
      " 0   Name             16713 non-null  object \n",
      " 1   Platform         16715 non-null  object \n",
      " 2   Year_of_Release  16446 non-null  float64\n",
      " 3   Genre            16713 non-null  object \n",
      " 4   NA_sales         16715 non-null  float64\n",
      " 5   EU_sales         16715 non-null  float64\n",
      " 6   JP_sales         16715 non-null  float64\n",
      " 7   Other_sales      16715 non-null  float64\n",
      " 8   Critic_Score     8137 non-null   float64\n",
      " 9   User_Score       10014 non-null  object \n",
      " 10  Rating           9949 non-null   object \n",
      "dtypes: float64(6), object(5)\n",
      "memory usage: 1.4+ MB\n"
     ]
    }
   ],
   "source": [
    "data.info()"
   ]
  },
  {
   "cell_type": "code",
   "execution_count": 6,
   "metadata": {},
   "outputs": [
    {
     "data": {
      "text/plain": [
       "0"
      ]
     },
     "execution_count": 6,
     "metadata": {},
     "output_type": "execute_result"
    }
   ],
   "source": [
    "data.duplicated().sum()"
   ]
  },
  {
   "cell_type": "code",
   "execution_count": 7,
   "metadata": {},
   "outputs": [
    {
     "data": {
      "text/plain": [
       "Name                  2\n",
       "Platform              0\n",
       "Year_of_Release     269\n",
       "Genre                 2\n",
       "NA_sales              0\n",
       "EU_sales              0\n",
       "JP_sales              0\n",
       "Other_sales           0\n",
       "Critic_Score       8578\n",
       "User_Score         6701\n",
       "Rating             6766\n",
       "dtype: int64"
      ]
     },
     "execution_count": 7,
     "metadata": {},
     "output_type": "execute_result"
    }
   ],
   "source": [
    "data.isna().sum()"
   ]
  },
  {
   "cell_type": "markdown",
   "metadata": {},
   "source": [
    "\n",
    "**Вывод по изучению общей информации:**\n",
    "\n",
    "    Необходимо привести к правильному типу столбец : Year of Release\n",
    "    Также нужно привести к нижнему регистру названия столбцов нашей таблицы\n",
    "    Имеются пустые значения в столбцах rating, user_score, critic_score. \n",
    "    Дубликатов не имеется\n"
   ]
  },
  {
   "cell_type": "markdown",
   "metadata": {},
   "source": [
    "**Шаг 2. Подготовка данных**\n",
    "\n",
    "**2.1. Замена названия столбцов**"
   ]
  },
  {
   "cell_type": "markdown",
   "metadata": {},
   "source": [
    "\n",
    "        Заменим названия столбцов (приведем к нижнему регистру);\n",
    "        Преобразуем данные в нужные типы. Опишем, в каких столбцах заменили тип данных и почему;\n",
    "        Обработаем пропуски при необходимости:\n",
    "        Объясним, почему заполнили пропуски определённым образом или почему не стали это делать;\n",
    "        Опишем причины, которые могли привести к пропускам;\n",
    "        Обратим внимание на аббревиатуру 'tbd' в столбцах с рейтингом. Отдельно разберем это значение и опишем, как его обработать;\n",
    "        Посчитаем суммарные продажи во всех регионах и запишем их в отдельный столбец."
   ]
  },
  {
   "cell_type": "code",
   "execution_count": 8,
   "metadata": {},
   "outputs": [
    {
     "data": {
      "text/html": [
       "<div>\n",
       "<style scoped>\n",
       "    .dataframe tbody tr th:only-of-type {\n",
       "        vertical-align: middle;\n",
       "    }\n",
       "\n",
       "    .dataframe tbody tr th {\n",
       "        vertical-align: top;\n",
       "    }\n",
       "\n",
       "    .dataframe thead th {\n",
       "        text-align: right;\n",
       "    }\n",
       "</style>\n",
       "<table border=\"1\" class=\"dataframe\">\n",
       "  <thead>\n",
       "    <tr style=\"text-align: right;\">\n",
       "      <th></th>\n",
       "      <th>name</th>\n",
       "      <th>platform</th>\n",
       "      <th>year_of_release</th>\n",
       "      <th>genre</th>\n",
       "      <th>na_sales</th>\n",
       "      <th>eu_sales</th>\n",
       "      <th>jp_sales</th>\n",
       "      <th>other_sales</th>\n",
       "      <th>critic_score</th>\n",
       "      <th>user_score</th>\n",
       "      <th>rating</th>\n",
       "    </tr>\n",
       "  </thead>\n",
       "  <tbody>\n",
       "    <tr>\n",
       "      <th>0</th>\n",
       "      <td>Wii Sports</td>\n",
       "      <td>Wii</td>\n",
       "      <td>2006.0</td>\n",
       "      <td>Sports</td>\n",
       "      <td>41.36</td>\n",
       "      <td>28.96</td>\n",
       "      <td>3.77</td>\n",
       "      <td>8.45</td>\n",
       "      <td>76.0</td>\n",
       "      <td>8</td>\n",
       "      <td>E</td>\n",
       "    </tr>\n",
       "    <tr>\n",
       "      <th>1</th>\n",
       "      <td>Super Mario Bros.</td>\n",
       "      <td>NES</td>\n",
       "      <td>1985.0</td>\n",
       "      <td>Platform</td>\n",
       "      <td>29.08</td>\n",
       "      <td>3.58</td>\n",
       "      <td>6.81</td>\n",
       "      <td>0.77</td>\n",
       "      <td>NaN</td>\n",
       "      <td>NaN</td>\n",
       "      <td>NaN</td>\n",
       "    </tr>\n",
       "    <tr>\n",
       "      <th>2</th>\n",
       "      <td>Mario Kart Wii</td>\n",
       "      <td>Wii</td>\n",
       "      <td>2008.0</td>\n",
       "      <td>Racing</td>\n",
       "      <td>15.68</td>\n",
       "      <td>12.76</td>\n",
       "      <td>3.79</td>\n",
       "      <td>3.29</td>\n",
       "      <td>82.0</td>\n",
       "      <td>8.3</td>\n",
       "      <td>E</td>\n",
       "    </tr>\n",
       "    <tr>\n",
       "      <th>3</th>\n",
       "      <td>Wii Sports Resort</td>\n",
       "      <td>Wii</td>\n",
       "      <td>2009.0</td>\n",
       "      <td>Sports</td>\n",
       "      <td>15.61</td>\n",
       "      <td>10.93</td>\n",
       "      <td>3.28</td>\n",
       "      <td>2.95</td>\n",
       "      <td>80.0</td>\n",
       "      <td>8</td>\n",
       "      <td>E</td>\n",
       "    </tr>\n",
       "    <tr>\n",
       "      <th>4</th>\n",
       "      <td>Pokemon Red/Pokemon Blue</td>\n",
       "      <td>GB</td>\n",
       "      <td>1996.0</td>\n",
       "      <td>Role-Playing</td>\n",
       "      <td>11.27</td>\n",
       "      <td>8.89</td>\n",
       "      <td>10.22</td>\n",
       "      <td>1.00</td>\n",
       "      <td>NaN</td>\n",
       "      <td>NaN</td>\n",
       "      <td>NaN</td>\n",
       "    </tr>\n",
       "  </tbody>\n",
       "</table>\n",
       "</div>"
      ],
      "text/plain": [
       "                       name platform  year_of_release         genre  na_sales  \\\n",
       "0                Wii Sports      Wii           2006.0        Sports     41.36   \n",
       "1         Super Mario Bros.      NES           1985.0      Platform     29.08   \n",
       "2            Mario Kart Wii      Wii           2008.0        Racing     15.68   \n",
       "3         Wii Sports Resort      Wii           2009.0        Sports     15.61   \n",
       "4  Pokemon Red/Pokemon Blue       GB           1996.0  Role-Playing     11.27   \n",
       "\n",
       "   eu_sales  jp_sales  other_sales  critic_score user_score rating  \n",
       "0     28.96      3.77         8.45          76.0          8      E  \n",
       "1      3.58      6.81         0.77           NaN        NaN    NaN  \n",
       "2     12.76      3.79         3.29          82.0        8.3      E  \n",
       "3     10.93      3.28         2.95          80.0          8      E  \n",
       "4      8.89     10.22         1.00           NaN        NaN    NaN  "
      ]
     },
     "execution_count": 8,
     "metadata": {},
     "output_type": "execute_result"
    }
   ],
   "source": [
    "#data = data.rename(columns={'Name': 'name', 'Platform':'platform', 'Year_of_Release' : 'year_of_release', 'Genre' : 'genre', 'NA_sales': 'na_sales', 'EU_sales' : 'eu_sales', 'JP_sales' : 'jp_sales', 'Other_sales' : 'other_sales', 'Critic_Score':'critic_score', 'User_Score':'user_score', 'Rating':'rating'})  \n",
    "data.columns = data.columns.str.lower()\n",
    "data.head(5)"
   ]
  },
  {
   "cell_type": "code",
   "execution_count": 9,
   "metadata": {},
   "outputs": [
    {
     "data": {
      "image/png": "[encoded data removed]",
      "text/plain": [
       "<Figure size 576x720 with 6 Axes>"
      ]
     },
     "metadata": {
      "needs_background": "light"
     },
     "output_type": "display_data"
    }
   ],
   "source": [
    "data.hist(figsize=(8, 10))\n",
    "\n",
    "plt.show()"
   ]
  },
  {
   "cell_type": "markdown",
   "metadata": {},
   "source": [
    "**2.2. Преобразование типов данных**"
   ]
  },
  {
   "cell_type": "code",
   "execution_count": 10,
   "metadata": {},
   "outputs": [
    {
     "data": {
      "text/plain": [
       "0        2006\n",
       "1        1985\n",
       "2        2008\n",
       "3        2009\n",
       "4        1996\n",
       "         ... \n",
       "16710    2016\n",
       "16711    2006\n",
       "16712    2016\n",
       "16713    2003\n",
       "16714    2016\n",
       "Name: year_of_release, Length: 16715, dtype: Int64"
      ]
     },
     "execution_count": 10,
     "metadata": {},
     "output_type": "execute_result"
    }
   ],
   "source": [
    "data['year_of_release'].describe()\n",
    "data['year_of_release'].astype('Int64')\n",
    " #Удобнее использовать занчение года, как целое число"
   ]
  },
  {
   "cell_type": "code",
   "execution_count": 11,
   "metadata": {},
   "outputs": [
    {
     "data": {
      "text/plain": [
       "0          76\n",
       "1        <NA>\n",
       "2          82\n",
       "3          80\n",
       "4        <NA>\n",
       "         ... \n",
       "16710    <NA>\n",
       "16711    <NA>\n",
       "16712    <NA>\n",
       "16713    <NA>\n",
       "16714    <NA>\n",
       "Name: critic_score, Length: 16715, dtype: Int64"
      ]
     },
     "execution_count": 11,
     "metadata": {},
     "output_type": "execute_result"
    }
   ],
   "source": [
    "data['critic_score'].describe()\n",
    "data['critic_score'].unique()\n",
    "data['critic_score'].astype('Int64') "
   ]
  },
  {
   "cell_type": "code",
   "execution_count": 12,
   "metadata": {},
   "outputs": [
    {
     "data": {
      "image/png": "[encoded data removed]",
      "text/plain": [
       "<Figure size 1296x360 with 1 Axes>"
      ]
     },
     "metadata": {},
     "output_type": "display_data"
    }
   ],
   "source": [
    "data['user_score'].describe() \n",
    "sns.set()\n",
    "(data['user_score']\n",
    " .value_counts()\n",
    " .sort_index(ascending=False)\n",
    " .plot(kind='bar' ,figsize=(18,5))\n",
    " .set(title='Количественное распределение user_score')\n",
    ")\n",
    "plt.show()"
   ]
  },
  {
   "cell_type": "code",
   "execution_count": 13,
   "metadata": {},
   "outputs": [
    {
     "data": {
      "text/plain": [
       "array(['8', nan, '8.3', '8.5', '6.6', '8.4', '8.6', '7.7', '6.3', '7.4',\n",
       "       '8.2', '9', '7.9', '8.1', '8.7', '7.1', '3.4', '5.3', '4.8', '3.2',\n",
       "       '8.9', '6.4', '7.8', '7.5', '2.6', '7.2', '9.2', '7', '7.3', '4.3',\n",
       "       '7.6', '5.7', '5', '9.1', '6.5', 'tbd', '8.8', '6.9', '9.4', '6.8',\n",
       "       '6.1', '6.7', '5.4', '4', '4.9', '4.5', '9.3', '6.2', '4.2', '6',\n",
       "       '3.7', '4.1', '5.8', '5.6', '5.5', '4.4', '4.6', '5.9', '3.9',\n",
       "       '3.1', '2.9', '5.2', '3.3', '4.7', '5.1', '3.5', '2.5', '1.9', '3',\n",
       "       '2.7', '2.2', '2', '9.5', '2.1', '3.6', '2.8', '1.8', '3.8', '0',\n",
       "       '1.6', '9.6', '2.4', '1.7', '1.1', '0.3', '1.5', '0.7', '1.2',\n",
       "       '2.3', '0.5', '1.3', '0.2', '0.6', '1.4', '0.9', '1', '9.7'],\n",
       "      dtype=object)"
      ]
     },
     "execution_count": 13,
     "metadata": {},
     "output_type": "execute_result"
    }
   ],
   "source": [
    "data['user_score'].unique()"
   ]
  },
  {
   "cell_type": "code",
   "execution_count": 14,
   "metadata": {},
   "outputs": [
    {
     "data": {
      "text/html": [
       "<div>\n",
       "<style scoped>\n",
       "    .dataframe tbody tr th:only-of-type {\n",
       "        vertical-align: middle;\n",
       "    }\n",
       "\n",
       "    .dataframe tbody tr th {\n",
       "        vertical-align: top;\n",
       "    }\n",
       "\n",
       "    .dataframe thead th {\n",
       "        text-align: right;\n",
       "    }\n",
       "</style>\n",
       "<table border=\"1\" class=\"dataframe\">\n",
       "  <thead>\n",
       "    <tr style=\"text-align: right;\">\n",
       "      <th></th>\n",
       "      <th>name</th>\n",
       "      <th>platform</th>\n",
       "      <th>year_of_release</th>\n",
       "      <th>genre</th>\n",
       "      <th>na_sales</th>\n",
       "      <th>eu_sales</th>\n",
       "      <th>jp_sales</th>\n",
       "      <th>other_sales</th>\n",
       "      <th>critic_score</th>\n",
       "      <th>user_score</th>\n",
       "      <th>rating</th>\n",
       "    </tr>\n",
       "  </thead>\n",
       "  <tbody>\n",
       "    <tr>\n",
       "      <th>2835</th>\n",
       "      <td>My Little Pony: Pinkie Pie's Party</td>\n",
       "      <td>DS</td>\n",
       "      <td>2008.0</td>\n",
       "      <td>Adventure</td>\n",
       "      <td>0.66</td>\n",
       "      <td>0.0</td>\n",
       "      <td>0.0</td>\n",
       "      <td>0.06</td>\n",
       "      <td>NaN</td>\n",
       "      <td>0</td>\n",
       "      <td>E</td>\n",
       "    </tr>\n",
       "  </tbody>\n",
       "</table>\n",
       "</div>"
      ],
      "text/plain": [
       "                                    name platform  year_of_release      genre  \\\n",
       "2835  My Little Pony: Pinkie Pie's Party       DS           2008.0  Adventure   \n",
       "\n",
       "      na_sales  eu_sales  jp_sales  other_sales  critic_score user_score  \\\n",
       "2835      0.66       0.0       0.0         0.06           NaN          0   \n",
       "\n",
       "     rating  \n",
       "2835      E  "
      ]
     },
     "execution_count": 14,
     "metadata": {},
     "output_type": "execute_result"
    }
   ],
   "source": [
    "data[data['user_score'] == 'tbd']\n",
    "data[data['user_score'] == '0']"
   ]
  },
  {
   "cell_type": "code",
   "execution_count": 15,
   "metadata": {},
   "outputs": [
    {
     "data": {
      "text/plain": [
       "count    7590.000000\n",
       "mean        7.125046\n",
       "std         1.500006\n",
       "min         0.000000\n",
       "25%         6.400000\n",
       "50%         7.500000\n",
       "75%         8.200000\n",
       "max         9.700000\n",
       "Name: user_score, dtype: float64"
      ]
     },
     "execution_count": 15,
     "metadata": {},
     "output_type": "execute_result"
    }
   ],
   "source": [
    "data['user_score'] = pd.to_numeric(data['user_score'], errors='coerce')\n",
    "data['user_score'].describe() "
   ]
  },
  {
   "cell_type": "markdown",
   "metadata": {},
   "source": [
    "**2.3. Обработка пропусков**"
   ]
  },
  {
   "cell_type": "code",
   "execution_count": 16,
   "metadata": {},
   "outputs": [
    {
     "data": {
      "text/plain": [
       "name                  2\n",
       "platform              0\n",
       "year_of_release     269\n",
       "genre                 2\n",
       "na_sales              0\n",
       "eu_sales              0\n",
       "jp_sales              0\n",
       "other_sales           0\n",
       "critic_score       8578\n",
       "user_score         9125\n",
       "rating             6766\n",
       "dtype: int64"
      ]
     },
     "execution_count": 16,
     "metadata": {},
     "output_type": "execute_result"
    }
   ],
   "source": [
    "data.isna().sum()"
   ]
  },
  {
   "cell_type": "code",
   "execution_count": 17,
   "metadata": {},
   "outputs": [
    {
     "name": "stdout",
     "output_type": "stream",
     "text": [
      "<class 'pandas.core.frame.DataFrame'>\n",
      "RangeIndex: 16713 entries, 0 to 16712\n",
      "Data columns (total 11 columns):\n",
      " #   Column           Non-Null Count  Dtype  \n",
      "---  ------           --------------  -----  \n",
      " 0   name             16713 non-null  object \n",
      " 1   platform         16713 non-null  object \n",
      " 2   year_of_release  16444 non-null  float64\n",
      " 3   genre            16713 non-null  object \n",
      " 4   na_sales         16713 non-null  float64\n",
      " 5   eu_sales         16713 non-null  float64\n",
      " 6   jp_sales         16713 non-null  float64\n",
      " 7   other_sales      16713 non-null  float64\n",
      " 8   critic_score     8137 non-null   float64\n",
      " 9   user_score       7590 non-null   float64\n",
      " 10  rating           9949 non-null   object \n",
      "dtypes: float64(7), object(4)\n",
      "memory usage: 1.4+ MB\n"
     ]
    }
   ],
   "source": [
    "data['name'].value_counts()\n",
    "data = data.dropna(subset=['name']).reset_index(drop=True) \n",
    "\n",
    "#удалим две строки без имени\n",
    "data.info()"
   ]
  },
  {
   "cell_type": "code",
   "execution_count": 18,
   "metadata": {},
   "outputs": [
    {
     "name": "stdout",
     "output_type": "stream",
     "text": [
      "<class 'pandas.core.frame.DataFrame'>\n",
      "RangeIndex: 16444 entries, 0 to 16443\n",
      "Data columns (total 11 columns):\n",
      " #   Column           Non-Null Count  Dtype  \n",
      "---  ------           --------------  -----  \n",
      " 0   name             16444 non-null  object \n",
      " 1   platform         16444 non-null  object \n",
      " 2   year_of_release  16444 non-null  float64\n",
      " 3   genre            16444 non-null  object \n",
      " 4   na_sales         16444 non-null  float64\n",
      " 5   eu_sales         16444 non-null  float64\n",
      " 6   jp_sales         16444 non-null  float64\n",
      " 7   other_sales      16444 non-null  float64\n",
      " 8   critic_score     7983 non-null   float64\n",
      " 9   user_score       7463 non-null   float64\n",
      " 10  rating           9768 non-null   object \n",
      "dtypes: float64(7), object(4)\n",
      "memory usage: 1.4+ MB\n"
     ]
    }
   ],
   "source": [
    "data['year_of_release'].value_counts()\n",
    "data['year_of_release'].unique()\n",
    "data['year_of_release'].describe()\n",
    "data = data.dropna(subset=['year_of_release']).reset_index(drop=True) \n",
    "data.info()\n",
    "#удаляем строки, где нет данных по году"
   ]
  },
  {
   "cell_type": "code",
   "execution_count": 19,
   "metadata": {},
   "outputs": [
    {
     "data": {
      "image/png": "[encoded data removed]",
      "text/plain": [
       "<Figure size 432x288 with 1 Axes>"
      ]
     },
     "metadata": {},
     "output_type": "display_data"
    }
   ],
   "source": [
    "data['critic_score'].hist(bins=10, range=(0, 100))\n",
    "plt.title('Изучение оценки критиков')\n",
    "plt.xlabel('Оценка')\n",
    "plt.ylabel('Количество значений')\n",
    "plt.show()"
   ]
  },
  {
   "cell_type": "code",
   "execution_count": 20,
   "metadata": {},
   "outputs": [
    {
     "data": {
      "text/plain": [
       "count    7983.000000\n",
       "mean       68.994363\n",
       "std        13.920060\n",
       "min        13.000000\n",
       "25%        60.000000\n",
       "50%        71.000000\n",
       "75%        79.000000\n",
       "max        98.000000\n",
       "Name: critic_score, dtype: float64"
      ]
     },
     "execution_count": 20,
     "metadata": {},
     "output_type": "execute_result"
    }
   ],
   "source": [
    "#data['critic_score'].value_counts()\n",
    "data['critic_score'].unique()\n",
    "data['critic_score'].describe()\n"
   ]
  },
  {
   "cell_type": "code",
   "execution_count": 21,
   "metadata": {},
   "outputs": [
    {
     "data": {
      "image/png": "[encoded data removed]",
      "text/plain": [
       "<Figure size 432x288 with 1 Axes>"
      ]
     },
     "metadata": {},
     "output_type": "display_data"
    }
   ],
   "source": [
    "data['critic_score'].hist(bins=10, range=(0, 100))\n",
    "plt.title('Изучение оценки критиков')\n",
    "plt.xlabel('Оценка')\n",
    "plt.ylabel('Количество значений')\n",
    "plt.show()"
   ]
  },
  {
   "cell_type": "code",
   "execution_count": 22,
   "metadata": {},
   "outputs": [
    {
     "data": {
      "text/plain": [
       "count    7463.000000\n",
       "mean        7.126330\n",
       "std         1.499447\n",
       "min         0.000000\n",
       "25%         6.400000\n",
       "50%         7.500000\n",
       "75%         8.200000\n",
       "max         9.700000\n",
       "Name: user_score, dtype: float64"
      ]
     },
     "execution_count": 22,
     "metadata": {},
     "output_type": "execute_result"
    }
   ],
   "source": [
    "data['user_score'].value_counts()\n",
    "data['user_score'].unique()\n",
    "data['user_score'].describe()\n"
   ]
  },
  {
   "cell_type": "code",
   "execution_count": 23,
   "metadata": {},
   "outputs": [
    {
     "data": {
      "image/png": "[encoded data removed]",
      "text/plain": [
       "<Figure size 1296x360 with 1 Axes>"
      ]
     },
     "metadata": {},
     "output_type": "display_data"
    }
   ],
   "source": [
    "sns.set()\n",
    "(data['user_score']\n",
    " .value_counts()\n",
    " .sort_index(ascending=False)\n",
    " .plot(kind='bar' ,figsize=(18,5))\n",
    " .set(title='Количественное распределение user_score')\n",
    ")\n",
    "plt.show()"
   ]
  },
  {
   "cell_type": "code",
   "execution_count": 24,
   "metadata": {},
   "outputs": [],
   "source": [
    "#data['user_score'] = data['user_score'].replace('tbd', np.nan, regex=True)\n",
    "#избавились от nan и tdb\n"
   ]
  },
  {
   "cell_type": "code",
   "execution_count": 25,
   "metadata": {},
   "outputs": [
    {
     "data": {
      "text/plain": [
       "dtype('float64')"
      ]
     },
     "execution_count": 25,
     "metadata": {},
     "output_type": "execute_result"
    }
   ],
   "source": [
    "data['user_score'] = data['user_score'].astype(float)\n",
    "#df['user_score'].dtype\n",
    "data['user_score'].dtype"
   ]
  },
  {
   "cell_type": "code",
   "execution_count": 26,
   "metadata": {},
   "outputs": [
    {
     "data": {
      "text/plain": [
       "name                  0\n",
       "platform              0\n",
       "year_of_release       0\n",
       "genre                 0\n",
       "na_sales              0\n",
       "eu_sales              0\n",
       "jp_sales              0\n",
       "other_sales           0\n",
       "critic_score       8461\n",
       "user_score         8981\n",
       "rating             6676\n",
       "dtype: int64"
      ]
     },
     "execution_count": 26,
     "metadata": {},
     "output_type": "execute_result"
    }
   ],
   "source": [
    "data.isna().sum()"
   ]
  },
  {
   "cell_type": "code",
   "execution_count": 27,
   "metadata": {},
   "outputs": [
    {
     "data": {
      "text/plain": [
       "array(['E', 'miss', 'M', 'T', 'E10+', 'K-A', 'AO', 'EC', 'RP'],\n",
       "      dtype=object)"
      ]
     },
     "execution_count": 27,
     "metadata": {},
     "output_type": "execute_result"
    }
   ],
   "source": [
    "data['rating'].value_counts()\n",
    "data['rating'].unique()\n",
    "data['rating'].fillna('miss', inplace=True)\n",
    "data['rating'].unique()\n"
   ]
  },
  {
   "cell_type": "markdown",
   "metadata": {},
   "source": [
    "**Вывод**\n",
    "\n",
    "Данные из столбцов name и year_of_release были удалены, так как неопределенных значений было менее 5%. Для работы в дальнейшем будут необходимы данные о годах и имени. \n",
    "\n",
    "Аббревиатура tbd значит to be determined, to be done. То есть, данные были нарочно не заполнены, так как не определились с рейтингом. В столбце user_score значения tbd были заменены на Nan. В остальных столбцах данные остаются в прежнем виде.\n",
    "\n",
    "Возможные причины пропусков: 1) не указаны какие-нибудь сведения из-за не хватки информации 2) в самой системе какие-либо не поладки, дала сбой 3) в некоторых средах есть автозаоплнение, оно не сработало\n",
    "\n",
    "Аббревиатура 'tdb', скорее всего, являются 0, то есть пропуском значения. Возможно, в дальнейшем исследовании его надо будет удалить. Всё зависит от постановки задачи далее."
   ]
  },
  {
   "cell_type": "code",
   "execution_count": 28,
   "metadata": {},
   "outputs": [
    {
     "data": {
      "text/html": [
       "<div>\n",
       "<style scoped>\n",
       "    .dataframe tbody tr th:only-of-type {\n",
       "        vertical-align: middle;\n",
       "    }\n",
       "\n",
       "    .dataframe tbody tr th {\n",
       "        vertical-align: top;\n",
       "    }\n",
       "\n",
       "    .dataframe thead th {\n",
       "        text-align: right;\n",
       "    }\n",
       "</style>\n",
       "<table border=\"1\" class=\"dataframe\">\n",
       "  <thead>\n",
       "    <tr style=\"text-align: right;\">\n",
       "      <th></th>\n",
       "      <th>name</th>\n",
       "      <th>platform</th>\n",
       "      <th>year_of_release</th>\n",
       "      <th>genre</th>\n",
       "      <th>na_sales</th>\n",
       "      <th>eu_sales</th>\n",
       "      <th>jp_sales</th>\n",
       "      <th>other_sales</th>\n",
       "      <th>critic_score</th>\n",
       "      <th>user_score</th>\n",
       "      <th>rating</th>\n",
       "      <th>total_sales</th>\n",
       "    </tr>\n",
       "  </thead>\n",
       "  <tbody>\n",
       "    <tr>\n",
       "      <th>0</th>\n",
       "      <td>Wii Sports</td>\n",
       "      <td>Wii</td>\n",
       "      <td>2006.0</td>\n",
       "      <td>Sports</td>\n",
       "      <td>41.36</td>\n",
       "      <td>28.96</td>\n",
       "      <td>3.77</td>\n",
       "      <td>8.45</td>\n",
       "      <td>76.0</td>\n",
       "      <td>8.0</td>\n",
       "      <td>E</td>\n",
       "      <td>82.54</td>\n",
       "    </tr>\n",
       "    <tr>\n",
       "      <th>1</th>\n",
       "      <td>Super Mario Bros.</td>\n",
       "      <td>NES</td>\n",
       "      <td>1985.0</td>\n",
       "      <td>Platform</td>\n",
       "      <td>29.08</td>\n",
       "      <td>3.58</td>\n",
       "      <td>6.81</td>\n",
       "      <td>0.77</td>\n",
       "      <td>NaN</td>\n",
       "      <td>NaN</td>\n",
       "      <td>miss</td>\n",
       "      <td>40.24</td>\n",
       "    </tr>\n",
       "    <tr>\n",
       "      <th>2</th>\n",
       "      <td>Mario Kart Wii</td>\n",
       "      <td>Wii</td>\n",
       "      <td>2008.0</td>\n",
       "      <td>Racing</td>\n",
       "      <td>15.68</td>\n",
       "      <td>12.76</td>\n",
       "      <td>3.79</td>\n",
       "      <td>3.29</td>\n",
       "      <td>82.0</td>\n",
       "      <td>8.3</td>\n",
       "      <td>E</td>\n",
       "      <td>35.52</td>\n",
       "    </tr>\n",
       "    <tr>\n",
       "      <th>3</th>\n",
       "      <td>Wii Sports Resort</td>\n",
       "      <td>Wii</td>\n",
       "      <td>2009.0</td>\n",
       "      <td>Sports</td>\n",
       "      <td>15.61</td>\n",
       "      <td>10.93</td>\n",
       "      <td>3.28</td>\n",
       "      <td>2.95</td>\n",
       "      <td>80.0</td>\n",
       "      <td>8.0</td>\n",
       "      <td>E</td>\n",
       "      <td>32.77</td>\n",
       "    </tr>\n",
       "    <tr>\n",
       "      <th>4</th>\n",
       "      <td>Pokemon Red/Pokemon Blue</td>\n",
       "      <td>GB</td>\n",
       "      <td>1996.0</td>\n",
       "      <td>Role-Playing</td>\n",
       "      <td>11.27</td>\n",
       "      <td>8.89</td>\n",
       "      <td>10.22</td>\n",
       "      <td>1.00</td>\n",
       "      <td>NaN</td>\n",
       "      <td>NaN</td>\n",
       "      <td>miss</td>\n",
       "      <td>31.38</td>\n",
       "    </tr>\n",
       "  </tbody>\n",
       "</table>\n",
       "</div>"
      ],
      "text/plain": [
       "                       name platform  year_of_release         genre  na_sales  \\\n",
       "0                Wii Sports      Wii           2006.0        Sports     41.36   \n",
       "1         Super Mario Bros.      NES           1985.0      Platform     29.08   \n",
       "2            Mario Kart Wii      Wii           2008.0        Racing     15.68   \n",
       "3         Wii Sports Resort      Wii           2009.0        Sports     15.61   \n",
       "4  Pokemon Red/Pokemon Blue       GB           1996.0  Role-Playing     11.27   \n",
       "\n",
       "   eu_sales  jp_sales  other_sales  critic_score  user_score rating  \\\n",
       "0     28.96      3.77         8.45          76.0         8.0      E   \n",
       "1      3.58      6.81         0.77           NaN         NaN   miss   \n",
       "2     12.76      3.79         3.29          82.0         8.3      E   \n",
       "3     10.93      3.28         2.95          80.0         8.0      E   \n",
       "4      8.89     10.22         1.00           NaN         NaN   miss   \n",
       "\n",
       "   total_sales  \n",
       "0        82.54  \n",
       "1        40.24  \n",
       "2        35.52  \n",
       "3        32.77  \n",
       "4        31.38  "
      ]
     },
     "execution_count": 28,
     "metadata": {},
     "output_type": "execute_result"
    }
   ],
   "source": [
    "data['total_sales'] = data['na_sales'] + data['eu_sales'] + data['jp_sales'] + data['other_sales']\n",
    "data.head(5)"
   ]
  },
  {
   "cell_type": "markdown",
   "metadata": {},
   "source": [
    "**Шаг 3. Проведение исследовательского анализа данных**"
   ]
  },
  {
   "cell_type": "markdown",
   "metadata": {},
   "source": [
    "**3.1. Сколько игр выпускалось в разные годы.**"
   ]
  },
  {
   "cell_type": "code",
   "execution_count": 29,
   "metadata": {},
   "outputs": [
    {
     "data": {
      "image/png": "[encoded data removed]",
      "text/plain": [
       "<Figure size 864x432 with 1 Axes>"
      ]
     },
     "metadata": {},
     "output_type": "display_data"
    }
   ],
   "source": [
    "data_games_period = data.pivot_table(index='year_of_release', values='name', aggfunc='count')\n",
    "data_games_period\n",
    "plt.figure(figsize=(12,6))\n",
    "sns.lineplot(data=data_games_period)\n",
    "plt.title(\"Количество игр выпускаемые в разные года\")\n",
    "plt.xlabel(\"Год выпуска\")\n",
    "plt.ylabel(\"Количество выпущенных игр\")\n",
    "plt.show()\n",
    "#Начиная с 2000 годов стало выпускаться больше игр, данные до 2006 года, в зависимости от задачи, можно опустить. "
   ]
  },
  {
   "cell_type": "markdown",
   "metadata": {},
   "source": [
    "**3.2. Как менялись продажи по платформам**"
   ]
  },
  {
   "cell_type": "code",
   "execution_count": 30,
   "metadata": {},
   "outputs": [
    {
     "data": {
      "image/png": "[encoded data removed]",
      "text/plain": [
       "<Figure size 1080x360 with 1 Axes>"
      ]
     },
     "metadata": {},
     "output_type": "display_data"
    }
   ],
   "source": [
    "data_platforms = data.pivot_table(index='platform', values='total_sales', aggfunc='sum').sort_values(by='total_sales', ascending=False)\n",
    "data_platforms\n",
    "plt.figure(figsize=(15,5))\n",
    "sns.barplot(x=data_platforms.index,y=data_platforms['total_sales'])\n",
    "plt.title(\"Продажи по платформам за весь период\")\n",
    "plt.xlabel(\"Название платформы\")\n",
    "plt.ylabel(\"Количество продаж\")\n",
    "plt.show()\n",
    "#Первые 6 платформ имеют наибольшие суммарные продажи"
   ]
  },
  {
   "cell_type": "markdown",
   "metadata": {},
   "source": [
    "Посмотрим, как менялись продажи по платформам. Выберем платформы с наибольшими суммарными продажами и построим распределение по годам. За какой характерный срок появляются новые и исчезают старые платформы."
   ]
  },
  {
   "cell_type": "code",
   "execution_count": 31,
   "metadata": {},
   "outputs": [
    {
     "data": {
      "text/html": [
       "<div>\n",
       "<style scoped>\n",
       "    .dataframe tbody tr th:only-of-type {\n",
       "        vertical-align: middle;\n",
       "    }\n",
       "\n",
       "    .dataframe tbody tr th {\n",
       "        vertical-align: top;\n",
       "    }\n",
       "\n",
       "    .dataframe thead th {\n",
       "        text-align: right;\n",
       "    }\n",
       "</style>\n",
       "<table border=\"1\" class=\"dataframe\">\n",
       "  <thead>\n",
       "    <tr style=\"text-align: right;\">\n",
       "      <th></th>\n",
       "      <th>platform</th>\n",
       "      <th>total_sales</th>\n",
       "    </tr>\n",
       "  </thead>\n",
       "  <tbody>\n",
       "    <tr>\n",
       "      <th>0</th>\n",
       "      <td>PS2</td>\n",
       "      <td>1233.56</td>\n",
       "    </tr>\n",
       "    <tr>\n",
       "      <th>1</th>\n",
       "      <td>X360</td>\n",
       "      <td>961.24</td>\n",
       "    </tr>\n",
       "    <tr>\n",
       "      <th>2</th>\n",
       "      <td>PS3</td>\n",
       "      <td>931.34</td>\n",
       "    </tr>\n",
       "    <tr>\n",
       "      <th>3</th>\n",
       "      <td>Wii</td>\n",
       "      <td>891.18</td>\n",
       "    </tr>\n",
       "    <tr>\n",
       "      <th>4</th>\n",
       "      <td>DS</td>\n",
       "      <td>802.78</td>\n",
       "    </tr>\n",
       "    <tr>\n",
       "      <th>5</th>\n",
       "      <td>PS</td>\n",
       "      <td>727.58</td>\n",
       "    </tr>\n",
       "  </tbody>\n",
       "</table>\n",
       "</div>"
      ],
      "text/plain": [
       "  platform  total_sales\n",
       "0      PS2      1233.56\n",
       "1     X360       961.24\n",
       "2      PS3       931.34\n",
       "3      Wii       891.18\n",
       "4       DS       802.78\n",
       "5       PS       727.58"
      ]
     },
     "execution_count": 31,
     "metadata": {},
     "output_type": "execute_result"
    }
   ],
   "source": [
    "\n",
    "data_platforms = data.pivot_table(index='platform', values='total_sales', aggfunc='sum').sort_values(by='total_sales', ascending=False).head(6)\n",
    "\n",
    "\n",
    "data_platforms = data_platforms.reset_index().rename_axis(None, axis=1)\n",
    "data_platforms"
   ]
  },
  {
   "cell_type": "code",
   "execution_count": 32,
   "metadata": {},
   "outputs": [
    {
     "data": {
      "image/png": "[encoded data removed]",
      "text/plain": [
       "<Figure size 1080x360 with 1 Axes>"
      ]
     },
     "metadata": {},
     "output_type": "display_data"
    },
    {
     "data": {
      "text/plain": [
       "count    31.000000\n",
       "mean      7.677419\n",
       "std       5.081910\n",
       "min       1.000000\n",
       "25%       4.000000\n",
       "50%       7.000000\n",
       "75%      11.000000\n",
       "max      26.000000\n",
       "Name: year_of_release, dtype: float64"
      ]
     },
     "execution_count": 32,
     "metadata": {},
     "output_type": "execute_result"
    }
   ],
   "source": [
    "year_of_life = (data.loc[:,['year_of_release', 'platform']]\n",
    "        .drop_duplicates()\n",
    "        .pivot_table(index=['platform'], values='year_of_release', aggfunc='count'))\n",
    "\n",
    "plt.figure(figsize=(15,5))\n",
    "sns.barplot(x=year_of_life.index, y='year_of_release', data = year_of_life) #, ax=axis[0,0])\n",
    "plt.title(\"Срок жизни платформ\")\n",
    "plt.xlabel(\"Название платформы\")\n",
    "plt.ylabel(\"Количество лет\")\n",
    "plt.show()\n",
    "\n",
    "\n",
    "year_of_life.year_of_release.describe() #Период полураспада платформы 7 лет."
   ]
  },
  {
   "cell_type": "markdown",
   "metadata": {},
   "source": [
    "**Вывод** Посмотрели, как менялись продажи по платформам. Выберали платформы с наибольшими суммарными продажами и построили распределение по годам. Характерный срок появлявления новых и исчезновение старых платформ -7 лет."
   ]
  },
  {
   "cell_type": "markdown",
   "metadata": {},
   "source": [
    "**3.3. Исследование актуального периода**"
   ]
  },
  {
   "cell_type": "markdown",
   "metadata": {},
   "source": [
    "**Задача** Взяли данные за соответствующий актуальный период - 2 года. \n",
    "Не будем учитывать в работе данные за предыдущие годы."
   ]
  },
  {
   "cell_type": "code",
   "execution_count": 33,
   "metadata": {},
   "outputs": [
    {
     "name": "stdout",
     "output_type": "stream",
     "text": [
      "                 total_sales\n",
      "year_of_release             \n",
      "2016.0                129.94\n",
      "2015.0                267.98\n"
     ]
    },
    {
     "data": {
      "image/png": "[encoded data removed]",
      "text/plain": [
       "<Figure size 1296x432 with 1 Axes>"
      ]
     },
     "metadata": {},
     "output_type": "display_data"
    },
    {
     "name": "stdout",
     "output_type": "stream",
     "text": [
      "                          total_sales\n",
      "platform year_of_release             \n",
      "3DS      2015.0                 27.78\n",
      "         2016.0                 15.14\n",
      "PC       2015.0                  8.52\n",
      "         2016.0                  5.25\n",
      "PS3      2015.0                 16.82\n",
      "         2016.0                  3.60\n",
      "PS4      2015.0                118.90\n",
      "         2016.0                 69.25\n",
      "PSP      2015.0                  0.12\n",
      "PSV      2015.0                  6.25\n",
      "         2016.0                  4.25\n",
      "Wii      2015.0                  1.14\n",
      "         2016.0                  0.18\n",
      "WiiU     2015.0                 16.35\n",
      "         2016.0                  4.60\n",
      "X360     2015.0                 11.96\n",
      "         2016.0                  1.52\n",
      "XOne     2015.0                 60.14\n",
      "         2016.0                 26.15\n"
     ]
    },
    {
     "data": {
      "text/html": [
       "<div>\n",
       "<style scoped>\n",
       "    .dataframe tbody tr th:only-of-type {\n",
       "        vertical-align: middle;\n",
       "    }\n",
       "\n",
       "    .dataframe tbody tr th {\n",
       "        vertical-align: top;\n",
       "    }\n",
       "\n",
       "    .dataframe thead th {\n",
       "        text-align: right;\n",
       "    }\n",
       "</style>\n",
       "<table border=\"1\" class=\"dataframe\">\n",
       "  <thead>\n",
       "    <tr style=\"text-align: right;\">\n",
       "      <th></th>\n",
       "      <th>total_sales</th>\n",
       "    </tr>\n",
       "    <tr>\n",
       "      <th>platform</th>\n",
       "      <th></th>\n",
       "    </tr>\n",
       "  </thead>\n",
       "  <tbody>\n",
       "    <tr>\n",
       "      <th>PS4</th>\n",
       "      <td>188.15</td>\n",
       "    </tr>\n",
       "    <tr>\n",
       "      <th>XOne</th>\n",
       "      <td>86.29</td>\n",
       "    </tr>\n",
       "    <tr>\n",
       "      <th>3DS</th>\n",
       "      <td>42.92</td>\n",
       "    </tr>\n",
       "    <tr>\n",
       "      <th>WiiU</th>\n",
       "      <td>20.95</td>\n",
       "    </tr>\n",
       "    <tr>\n",
       "      <th>PS3</th>\n",
       "      <td>20.42</td>\n",
       "    </tr>\n",
       "    <tr>\n",
       "      <th>PC</th>\n",
       "      <td>13.77</td>\n",
       "    </tr>\n",
       "    <tr>\n",
       "      <th>X360</th>\n",
       "      <td>13.48</td>\n",
       "    </tr>\n",
       "    <tr>\n",
       "      <th>PSV</th>\n",
       "      <td>10.50</td>\n",
       "    </tr>\n",
       "    <tr>\n",
       "      <th>Wii</th>\n",
       "      <td>1.32</td>\n",
       "    </tr>\n",
       "    <tr>\n",
       "      <th>PSP</th>\n",
       "      <td>0.12</td>\n",
       "    </tr>\n",
       "  </tbody>\n",
       "</table>\n",
       "</div>"
      ],
      "text/plain": [
       "          total_sales\n",
       "platform             \n",
       "PS4            188.15\n",
       "XOne            86.29\n",
       "3DS             42.92\n",
       "WiiU            20.95\n",
       "PS3             20.42\n",
       "PC              13.77\n",
       "X360            13.48\n",
       "PSV             10.50\n",
       "Wii              1.32\n",
       "PSP              0.12"
      ]
     },
     "execution_count": 33,
     "metadata": {},
     "output_type": "execute_result"
    }
   ],
   "source": [
    "#изучим данные на последние 2 года\n",
    "data_2_years = data.pivot_table(index='year_of_release', values='total_sales', aggfunc='sum').sort_values(by='year_of_release', ascending=False)\n",
    "print(data_2_years.head(2))\n",
    "data.hist('year_of_release', bins=30, figsize=(18, 6), grid=True)\n",
    "plt.title('Изучение публикаций по годам')\n",
    "plt.xlabel('Год')\n",
    "plt.ylabel('Количество значений')\n",
    "plt.show()\n",
    "#sns.scatterplot(x=\"year_of_release\", y=\"total_sales\"\\\n",
    " #               ,hue=\"year_of_release\"\\\n",
    "  #              ,size=\"year_of_release\"\\\n",
    "   #             ,data=data[data['year_of_release'] >= 2014]\\\n",
    "    #            ,sizes=(20, 30));\n",
    "\n",
    "actual_data_games_sales = data.query('year_of_release > 2014')\n",
    "\n",
    "best_sales_platform = pd.pivot_table(actual_data_games_sales, index=['platform','year_of_release'], \n",
    "                                     values='total_sales', aggfunc = 'sum')\n",
    "print(best_sales_platform)\n",
    "best_sales_platform = pd.pivot_table(actual_data_games_sales, index='platform', \n",
    "                                     values='total_sales', aggfunc = 'sum')\n",
    "best_sales_platform.sort_values('total_sales', ascending=False)"
   ]
  },
  {
   "cell_type": "code",
   "execution_count": 34,
   "metadata": {},
   "outputs": [
    {
     "name": "stdout",
     "output_type": "stream",
     "text": [
      "     index                                           name platform  \\\n",
      "0     1387                                Mortal Kombat X     XOne   \n",
      "1     1389                        Rise of the Tomb Raider     XOne   \n",
      "2     1425                                 Gears of War 4     XOne   \n",
      "3     1441                Tom Clancy's Rainbow Six: Siege     XOne   \n",
      "4     1452                                  Yokai Watch 3      3DS   \n",
      "..     ...                                            ...      ...   \n",
      "837  16389                               Prison Architect     XOne   \n",
      "838  16401  Metal Gear Solid V: The Definitive Experience     XOne   \n",
      "839  16406               Aikatsu Stars! My Special Appeal      3DS   \n",
      "840  16420                   Dynasty Warriors: Eiketsuden      PS3   \n",
      "841  16439                  Samurai Warriors: Sanada Maru      PS3   \n",
      "\n",
      "     year_of_release      genre  na_sales  eu_sales  jp_sales  other_sales  \\\n",
      "0             2015.0   Fighting      1.03      0.21      0.00         0.14   \n",
      "1             2015.0  Adventure      0.55      0.70      0.02         0.11   \n",
      "2             2016.0    Shooter      0.78      0.44      0.00         0.12   \n",
      "3             2015.0    Shooter      0.77      0.45      0.00         0.12   \n",
      "4             2016.0     Action      0.00      0.00      1.33         0.00   \n",
      "..               ...        ...       ...       ...       ...          ...   \n",
      "837           2016.0     Action      0.01      0.00      0.00         0.00   \n",
      "838           2016.0     Action      0.01      0.00      0.00         0.00   \n",
      "839           2016.0     Action      0.00      0.00      0.01         0.00   \n",
      "840           2016.0     Action      0.00      0.00      0.01         0.00   \n",
      "841           2016.0     Action      0.00      0.00      0.01         0.00   \n",
      "\n",
      "     critic_score  user_score rating  total_sales  \n",
      "0            86.0         7.3      M         1.38  \n",
      "1            86.0         8.0      M         1.38  \n",
      "2            84.0         6.2      M         1.34  \n",
      "3            74.0         6.9      M         1.34  \n",
      "4             NaN         NaN   miss         1.33  \n",
      "..            ...         ...    ...          ...  \n",
      "837          74.0         6.7   miss         0.01  \n",
      "838           NaN         NaN      M         0.01  \n",
      "839           NaN         NaN   miss         0.01  \n",
      "840           NaN         NaN   miss         0.01  \n",
      "841           NaN         NaN   miss         0.01  \n",
      "\n",
      "[842 rows x 13 columns]\n"
     ]
    },
    {
     "data": {
      "text/html": [
       "<div>\n",
       "<style scoped>\n",
       "    .dataframe tbody tr th:only-of-type {\n",
       "        vertical-align: middle;\n",
       "    }\n",
       "\n",
       "    .dataframe tbody tr th {\n",
       "        vertical-align: top;\n",
       "    }\n",
       "\n",
       "    .dataframe thead th {\n",
       "        text-align: right;\n",
       "    }\n",
       "</style>\n",
       "<table border=\"1\" class=\"dataframe\">\n",
       "  <thead>\n",
       "    <tr style=\"text-align: right;\">\n",
       "      <th></th>\n",
       "      <th>total_sales</th>\n",
       "    </tr>\n",
       "    <tr>\n",
       "      <th>platform</th>\n",
       "      <th></th>\n",
       "    </tr>\n",
       "  </thead>\n",
       "  <tbody>\n",
       "    <tr>\n",
       "      <th>PS4</th>\n",
       "      <td>58.79</td>\n",
       "    </tr>\n",
       "    <tr>\n",
       "      <th>XOne</th>\n",
       "      <td>42.46</td>\n",
       "    </tr>\n",
       "    <tr>\n",
       "      <th>3DS</th>\n",
       "      <td>23.11</td>\n",
       "    </tr>\n",
       "    <tr>\n",
       "      <th>PS3</th>\n",
       "      <td>16.03</td>\n",
       "    </tr>\n",
       "    <tr>\n",
       "      <th>PC</th>\n",
       "      <td>13.77</td>\n",
       "    </tr>\n",
       "    <tr>\n",
       "      <th>WiiU</th>\n",
       "      <td>11.72</td>\n",
       "    </tr>\n",
       "    <tr>\n",
       "      <th>X360</th>\n",
       "      <td>10.21</td>\n",
       "    </tr>\n",
       "  </tbody>\n",
       "</table>\n",
       "</div>"
      ],
      "text/plain": [
       "          total_sales\n",
       "platform             \n",
       "PS4             58.79\n",
       "XOne            42.46\n",
       "3DS             23.11\n",
       "PS3             16.03\n",
       "PC              13.77\n",
       "WiiU            11.72\n",
       "X360            10.21"
      ]
     },
     "execution_count": 34,
     "metadata": {},
     "output_type": "execute_result"
    }
   ],
   "source": [
    "#list = ['PS2','X360','PS3','Wii','DS', 'PSP'] best_sales_platform\n",
    "top_platforms = data[data['platform'].isin(['PS4','XOne','3DS','WiiU','PS3', 'PC', 'X360'])] \n",
    "top_platforms = top_platforms[top_platforms['total_sales']<1.4]\n",
    "top_platforms = top_platforms[top_platforms['year_of_release']>2014]\n",
    "\n",
    "top_platforms['total_sales'].describe()\n",
    "top_platforms = top_platforms.reset_index().rename_axis(None, axis=1)\n",
    "print(top_platforms)\n",
    "\n",
    "best_sales_platform_2 = pd.pivot_table(top_platforms, index='platform', \n",
    "                                     values='total_sales', aggfunc = 'sum')\n",
    "best_sales_platform_2.sort_values('total_sales', ascending=False)"
   ]
  },
  {
   "cell_type": "markdown",
   "metadata": {},
   "source": [
    "**Вывод** Взяли данные за соответствующий актуальный период - c 2014 года. \n",
    "Не стали учитывать в работе данные за предыдущие годы. По графикам наблюдается спад продаж."
   ]
  },
  {
   "cell_type": "markdown",
   "metadata": {},
   "source": [
    "**Задача** Выберите несколько потенциально прибыльных платформ.\n",
    "Постройте график «ящик с усами» по глобальным продажам игр в разбивке по платформам. Опишите результат."
   ]
  },
  {
   "cell_type": "code",
   "execution_count": 35,
   "metadata": {},
   "outputs": [
    {
     "data": {
      "image/png": "[encoded data removed]",
      "text/plain": [
       "<Figure size 864x432 with 1 Axes>"
      ]
     },
     "metadata": {},
     "output_type": "display_data"
    }
   ],
   "source": [
    "plt.figure(figsize=(12,6))\n",
    "sns.boxplot(data=top_platforms,  x='platform', y='total_sales')\n",
    "plt.title('Ящик с усами', fontsize=15)\n",
    "plt.xlabel('Платформа', fontsize=12)\n",
    "plt.ylabel('Продажи',fontsize=12)\n",
    "plt.show()"
   ]
  },
  {
   "cell_type": "code",
   "execution_count": 36,
   "metadata": {},
   "outputs": [
    {
     "data": {
      "text/plain": [
       "count    167.000000\n",
       "mean       0.516707\n",
       "std        0.965940\n",
       "min        0.010000\n",
       "25%        0.035000\n",
       "50%        0.130000\n",
       "75%        0.555000\n",
       "max        7.390000\n",
       "Name: total_sales, dtype: float64"
      ]
     },
     "execution_count": 36,
     "metadata": {},
     "output_type": "execute_result"
    }
   ],
   "source": [
    "XOne_actual = actual_data_games_sales.query('platform ==\"XOne\"')\n",
    "XOne_actual['total_sales'].describe()"
   ]
  },
  {
   "cell_type": "code",
   "execution_count": 37,
   "metadata": {},
   "outputs": [
    {
     "data": {
      "text/plain": [
       "count    132.000000\n",
       "mean       0.325152\n",
       "std        0.798620\n",
       "min        0.010000\n",
       "25%        0.030000\n",
       "50%        0.090000\n",
       "75%        0.232500\n",
       "max        7.140000\n",
       "Name: total_sales, dtype: float64"
      ]
     },
     "execution_count": 37,
     "metadata": {},
     "output_type": "execute_result"
    }
   ],
   "source": [
    "_3DS_actual = actual_data_games_sales.query('platform ==\"3DS\"')\n",
    "_3DS_actual['total_sales'].describe()\n",
    "#"
   ]
  },
  {
   "cell_type": "code",
   "execution_count": 38,
   "metadata": {},
   "outputs": [
    {
     "data": {
      "text/plain": [
       "count    301.000000\n",
       "mean       0.625083\n",
       "std        1.457063\n",
       "min        0.010000\n",
       "25%        0.050000\n",
       "50%        0.120000\n",
       "75%        0.420000\n",
       "max       14.630000\n",
       "Name: total_sales, dtype: float64"
      ]
     },
     "execution_count": 38,
     "metadata": {},
     "output_type": "execute_result"
    }
   ],
   "source": [
    "PS4_actual = actual_data_games_sales.query('platform ==\"PS4\"')\n",
    "PS4_actual['total_sales'].describe()\n",
    "#"
   ]
  },
  {
   "cell_type": "code",
   "execution_count": 39,
   "metadata": {},
   "outputs": [
    {
     "data": {
      "text/plain": [
       "count    42.00000\n",
       "mean      0.49881\n",
       "std       0.85024\n",
       "min       0.01000\n",
       "25%       0.05000\n",
       "50%       0.21500\n",
       "75%       0.51750\n",
       "max       4.44000\n",
       "Name: total_sales, dtype: float64"
      ]
     },
     "execution_count": 39,
     "metadata": {},
     "output_type": "execute_result"
    }
   ],
   "source": [
    "WiiU_actual = actual_data_games_sales.query('platform ==\"WiiU\"')\n",
    "WiiU_actual['total_sales'].describe()"
   ]
  },
  {
   "cell_type": "code",
   "execution_count": 40,
   "metadata": {},
   "outputs": [
    {
     "data": {
      "text/plain": [
       "count    104.000000\n",
       "mean       0.132404\n",
       "std        0.209449\n",
       "min        0.010000\n",
       "25%        0.020000\n",
       "50%        0.050000\n",
       "75%        0.142500\n",
       "max        1.280000\n",
       "Name: total_sales, dtype: float64"
      ]
     },
     "execution_count": 40,
     "metadata": {},
     "output_type": "execute_result"
    }
   ],
   "source": [
    "PC_actual = actual_data_games_sales.query('platform ==\"PC\"')\n",
    "PC_actual['total_sales'].describe()"
   ]
  },
  {
   "cell_type": "code",
   "execution_count": 41,
   "metadata": {},
   "outputs": [
    {
     "data": {
      "text/plain": [
       "count    48.000000\n",
       "mean      0.280833\n",
       "std       0.381207\n",
       "min       0.010000\n",
       "25%       0.040000\n",
       "50%       0.110000\n",
       "75%       0.352500\n",
       "max       1.700000\n",
       "Name: total_sales, dtype: float64"
      ]
     },
     "execution_count": 41,
     "metadata": {},
     "output_type": "execute_result"
    }
   ],
   "source": [
    "X360_actual = actual_data_games_sales.query('platform ==\"X360\"')\n",
    "X360_actual['total_sales'].describe()"
   ]
  },
  {
   "cell_type": "code",
   "execution_count": 42,
   "metadata": {},
   "outputs": [
    {
     "data": {
      "text/plain": [
       "count    111.000000\n",
       "mean       0.183964\n",
       "std        0.342696\n",
       "min        0.010000\n",
       "25%        0.020000\n",
       "50%        0.060000\n",
       "75%        0.160000\n",
       "max        2.700000\n",
       "Name: total_sales, dtype: float64"
      ]
     },
     "execution_count": 42,
     "metadata": {},
     "output_type": "execute_result"
    }
   ],
   "source": [
    "PS3_actual = actual_data_games_sales.query('platform ==\"PS3\"')\n",
    "PS3_actual['total_sales'].describe()\n",
    "#"
   ]
  },
  {
   "cell_type": "markdown",
   "metadata": {},
   "source": [
    "**Вывод** Наиболее востребованные платформы: PS3, XOne, WiiU, PS4, 3DS. \n",
    "\n",
    "Для PS4, PS3 и 3DS видна положительная тенденция к росту продаж. Средняя больше 3го квантиля, это значит на эти платформы делаются более популярные и продаваемые игры, чем на других платформах. Можно ожидать положительные тенденции в 2017 году.\n"
   ]
  },
  {
   "cell_type": "markdown",
   "metadata": {},
   "source": [
    "**Задача**  Посмотрим, как влияют на продажи внутри одной популярной платформы отзывы пользователей и критиков. Построим диаграмму рассеяния и посчитаем корреляцию между отзывами и продажами.\n",
    "Соотнесите выводы с продажами игр на других платформах."
   ]
  },
  {
   "cell_type": "code",
   "execution_count": 43,
   "metadata": {},
   "outputs": [
    {
     "data": {
      "text/plain": [
       "-0.031957110204556376"
      ]
     },
     "execution_count": 43,
     "metadata": {},
     "output_type": "execute_result"
    }
   ],
   "source": [
    "PS4 = data[data['platform']=='PS4']\n",
    "PS4['user_score'].corr(PS4['total_sales'])\n"
   ]
  },
  {
   "cell_type": "code",
   "execution_count": 44,
   "metadata": {},
   "outputs": [
    {
     "data": {
      "image/png": "[encoded data removed]",
      "text/plain": [
       "<Figure size 864x432 with 1 Axes>"
      ]
     },
     "metadata": {},
     "output_type": "display_data"
    }
   ],
   "source": [
    "plt.figure(figsize=(12,6))\n",
    "sns.scatterplot(x='user_score', y='total_sales', data=PS4)\n",
    "plt.title('Диаграмма рассеяния')\n",
    "plt.show()"
   ]
  },
  {
   "cell_type": "code",
   "execution_count": 45,
   "metadata": {},
   "outputs": [
    {
     "data": {
      "text/plain": [
       "0.40656790206178095"
      ]
     },
     "execution_count": 45,
     "metadata": {},
     "output_type": "execute_result"
    }
   ],
   "source": [
    "PS4['critic_score'].corr(PS4['total_sales'])"
   ]
  },
  {
   "cell_type": "code",
   "execution_count": 46,
   "metadata": {},
   "outputs": [
    {
     "data": {
      "image/png": "[encoded data removed]",
      "text/plain": [
       "<Figure size 864x432 with 1 Axes>"
      ]
     },
     "metadata": {},
     "output_type": "display_data"
    }
   ],
   "source": [
    "plt.figure(figsize=(12,6))\n",
    "sns.scatterplot(x='critic_score', y='total_sales', data=PS4)\n",
    "plt.title('Диаграмма рассеяния')\n",
    "plt.show()"
   ]
  },
  {
   "cell_type": "code",
   "execution_count": 47,
   "metadata": {},
   "outputs": [
    {
     "data": {
      "text/html": [
       "<div>\n",
       "<style scoped>\n",
       "    .dataframe tbody tr th:only-of-type {\n",
       "        vertical-align: middle;\n",
       "    }\n",
       "\n",
       "    .dataframe tbody tr th {\n",
       "        vertical-align: top;\n",
       "    }\n",
       "\n",
       "    .dataframe thead th {\n",
       "        text-align: right;\n",
       "    }\n",
       "</style>\n",
       "<table border=\"1\" class=\"dataframe\">\n",
       "  <thead>\n",
       "    <tr style=\"text-align: right;\">\n",
       "      <th></th>\n",
       "      <th>total_sales</th>\n",
       "      <th>critic_score</th>\n",
       "      <th>user_score</th>\n",
       "    </tr>\n",
       "  </thead>\n",
       "  <tbody>\n",
       "    <tr>\n",
       "      <th>total_sales</th>\n",
       "      <td>1.000000</td>\n",
       "      <td>0.392849</td>\n",
       "      <td>-0.059738</td>\n",
       "    </tr>\n",
       "    <tr>\n",
       "      <th>critic_score</th>\n",
       "      <td>0.392849</td>\n",
       "      <td>1.000000</td>\n",
       "      <td>0.533330</td>\n",
       "    </tr>\n",
       "    <tr>\n",
       "      <th>user_score</th>\n",
       "      <td>-0.059738</td>\n",
       "      <td>0.533330</td>\n",
       "      <td>1.000000</td>\n",
       "    </tr>\n",
       "  </tbody>\n",
       "</table>\n",
       "</div>"
      ],
      "text/plain": [
       "              total_sales  critic_score  user_score\n",
       "total_sales      1.000000      0.392849   -0.059738\n",
       "critic_score     0.392849      1.000000    0.533330\n",
       "user_score      -0.059738      0.533330    1.000000"
      ]
     },
     "execution_count": 47,
     "metadata": {},
     "output_type": "execute_result"
    }
   ],
   "source": [
    "PS4_sales_ratings = PS4_actual.loc[:,['total_sales', 'critic_score', 'user_score']]\n",
    "PS4_sales_ratings.corr()"
   ]
  },
  {
   "cell_type": "markdown",
   "metadata": {},
   "source": [
    "**Вывод**  Для платформы PS4 есть прямая корреляция между прибылью и рейтингом критиков. Обратная корреляция по игрокам \n",
    "не носит сильного смысла. Но на мнение игроков влияет рейтинг - чем выше ценит игру критик, тем выше оценит ее игрок."
   ]
  },
  {
   "cell_type": "code",
   "execution_count": 48,
   "metadata": {},
   "outputs": [
    {
     "data": {
      "image/png": "[encoded data removed]",
      "text/plain": [
       "<Figure size 432x288 with 1 Axes>"
      ]
     },
     "metadata": {},
     "output_type": "display_data"
    }
   ],
   "source": [
    "temp_games = (data[(data['year_of_release'] >= 2010)])\n",
    "#print(temp_games)\n",
    "data = temp_games[(temp_games['year_of_release'].isin([2010, 2011, 2012, 2013, 2014, 2015, 2016]))]\n",
    "\n",
    "ax = sns.scatterplot(y='total_sales', x='platform', hue='critic_score', size = 'user_score'\\\n",
    "                 ,data = temp_games[(temp_games['year_of_release'].isin([2012,2013,2014,2015,2016]))\\\n",
    "                                    &(temp_games['user_score'] > 0)\\\n",
    "                                    &(temp_games['critic_score'] > 0)\\\n",
    "                       ],\\\n",
    "                     sizes=(30,200)\\\n",
    "                )\n",
    "#plt.show()"
   ]
  },
  {
   "cell_type": "code",
   "execution_count": 49,
   "metadata": {},
   "outputs": [
    {
     "data": {
      "image/png": "[encoded data removed]",
      "text/plain": [
       "<Figure size 1296x432 with 1 Axes>"
      ]
     },
     "metadata": {},
     "output_type": "display_data"
    }
   ],
   "source": [
    "#Изменения за последние три года\n",
    "temp_games_2 = (data[(data['year_of_release'] > 2014)])\n",
    "#print(temp_games)\n",
    "data = temp_games_2[(temp_games_2['year_of_release'].isin([2015, 2016]))]\n",
    "\n",
    "plt.figure(figsize=(18,6))\n",
    "ax = sns.barplot(y='critic_score', x='platform',\\\n",
    "                 hue='year_of_release',\\\n",
    "                 data = temp_games_2\\\n",
    "                ).set(title='Диаграмма зависимости отзывов критиков')"
   ]
  },
  {
   "cell_type": "code",
   "execution_count": 50,
   "metadata": {},
   "outputs": [
    {
     "data": {
      "image/png": "[encoded data removed]",
      "text/plain": [
       "<Figure size 936x432 with 1 Axes>"
      ]
     },
     "metadata": {},
     "output_type": "display_data"
    }
   ],
   "source": [
    "#Изменения за последние два года\n",
    "plt.figure(figsize=(13,6))\n",
    "ax = sns.barplot(y='user_score', x='platform',\\\n",
    "                 hue='year_of_release',\\\n",
    "                 data = temp_games_2\\\n",
    "                ).set(title='Диаграмма зависимости отзывов пользователей')"
   ]
  },
  {
   "cell_type": "code",
   "execution_count": 51,
   "metadata": {},
   "outputs": [
    {
     "data": {
      "image/png": "[encoded data removed]",
      "text/plain": [
       "<Figure size 936x432 with 1 Axes>"
      ]
     },
     "metadata": {},
     "output_type": "display_data"
    }
   ],
   "source": [
    "#Изменения за последние два года\n",
    "plt.figure(figsize=(13,6))\n",
    "ax = sns.barplot(y='total_sales', x='platform',\\\n",
    "                 hue='year_of_release',\\\n",
    "                 data = temp_games_2\\\n",
    "                ).set(title='Диаграмма зависимости общих продаж')"
   ]
  },
  {
   "cell_type": "markdown",
   "metadata": {},
   "source": [
    "**Вывод** Посмотрели, как влияют на продажи внутри одной популярной платформы отзывы пользователей и критиков. Построили диаграмму рассеяния и посчитали корреляцию между отзывами и продажами. Влияние оценок критиков на продажи PS4 больше, чем пользователей. Для платформы PS4 есть прямая корреляция между прибылью и рейтингом критиков. Обратная корреляция по игрокам не носит сильного смысла. Но на мнение игроков влияет рейтинг - чем выше ценит игру критик, тем выше оценит ее игрок.\n",
    "\n",
    "Общий тренд всех игровых платформ - падение, т.е. ежегодное падение общей выручки, не зависимо от оценок.\n"
   ]
  },
  {
   "cell_type": "code",
   "execution_count": 52,
   "metadata": {},
   "outputs": [
    {
     "data": {
      "image/png": "[encoded data removed]",
      "text/plain": [
       "<Figure size 936x432 with 1 Axes>"
      ]
     },
     "metadata": {},
     "output_type": "display_data"
    },
    {
     "data": {
      "text/html": [
       "<div>\n",
       "<style scoped>\n",
       "    .dataframe tbody tr th:only-of-type {\n",
       "        vertical-align: middle;\n",
       "    }\n",
       "\n",
       "    .dataframe tbody tr th {\n",
       "        vertical-align: top;\n",
       "    }\n",
       "\n",
       "    .dataframe thead th {\n",
       "        text-align: right;\n",
       "    }\n",
       "</style>\n",
       "<table border=\"1\" class=\"dataframe\">\n",
       "  <thead>\n",
       "    <tr style=\"text-align: right;\">\n",
       "      <th></th>\n",
       "      <th>total_sales</th>\n",
       "    </tr>\n",
       "    <tr>\n",
       "      <th>genre</th>\n",
       "      <th></th>\n",
       "    </tr>\n",
       "  </thead>\n",
       "  <tbody>\n",
       "    <tr>\n",
       "      <th>Shooter</th>\n",
       "      <td>105.73</td>\n",
       "    </tr>\n",
       "    <tr>\n",
       "      <th>Action</th>\n",
       "      <td>102.13</td>\n",
       "    </tr>\n",
       "    <tr>\n",
       "      <th>Sports</th>\n",
       "      <td>64.33</td>\n",
       "    </tr>\n",
       "    <tr>\n",
       "      <th>Role-Playing</th>\n",
       "      <td>55.82</td>\n",
       "    </tr>\n",
       "    <tr>\n",
       "      <th>Misc</th>\n",
       "      <td>14.17</td>\n",
       "    </tr>\n",
       "    <tr>\n",
       "      <th>Fighting</th>\n",
       "      <td>12.37</td>\n",
       "    </tr>\n",
       "    <tr>\n",
       "      <th>Adventure</th>\n",
       "      <td>11.98</td>\n",
       "    </tr>\n",
       "    <tr>\n",
       "      <th>Racing</th>\n",
       "      <td>10.86</td>\n",
       "    </tr>\n",
       "    <tr>\n",
       "      <th>Platform</th>\n",
       "      <td>9.28</td>\n",
       "    </tr>\n",
       "    <tr>\n",
       "      <th>Simulation</th>\n",
       "      <td>7.55</td>\n",
       "    </tr>\n",
       "    <tr>\n",
       "      <th>Strategy</th>\n",
       "      <td>2.98</td>\n",
       "    </tr>\n",
       "    <tr>\n",
       "      <th>Puzzle</th>\n",
       "      <td>0.72</td>\n",
       "    </tr>\n",
       "  </tbody>\n",
       "</table>\n",
       "</div>"
      ],
      "text/plain": [
       "              total_sales\n",
       "genre                    \n",
       "Shooter            105.73\n",
       "Action             102.13\n",
       "Sports              64.33\n",
       "Role-Playing        55.82\n",
       "Misc                14.17\n",
       "Fighting            12.37\n",
       "Adventure           11.98\n",
       "Racing              10.86\n",
       "Platform             9.28\n",
       "Simulation           7.55\n",
       "Strategy             2.98\n",
       "Puzzle               0.72"
      ]
     },
     "execution_count": 52,
     "metadata": {},
     "output_type": "execute_result"
    }
   ],
   "source": [
    "data_genre = data.groupby('genre')['total_sales'].sum().sort_values()\n",
    "#pivot_table\n",
    "data_genre\n",
    "plt.figure(figsize=(13,6))\n",
    "sns.barplot(x=data_genre.index, y=data_genre, color='blue').set(title='Диаграмма зависимости прибыли от жанра игры') \n",
    "plt.xlabel(\"Название жанра\")\n",
    "plt.ylabel(\"Количество продаж\")\n",
    "plt.show()\n",
    "\n",
    "genre_pivot = pd.pivot_table(actual_data_games_sales, index='genre', values='total_sales', aggfunc='sum')\n",
    "genre_pivot.sort_values('total_sales', ascending=False)"
   ]
  },
  {
   "cell_type": "markdown",
   "metadata": {},
   "source": [
    "**Вывод** Многие игры исчезли к 2000м годам и по скольку изменились критерии, которыми характеризуются игры, данные можно опустить и в исследованиях использовать массив за последний актуальный период.\n",
    "\n",
    "Наиболее востребованные платформы: PS3, XOne, WiiU, PS4, 3DS.  Срок жизни платформы около 7 лет.\n",
    "\n",
    "Для PS3, PS4 и 3DS видна положительная тенденция к росту продаж. Среднее больше 3го квантиля, это значит на эти платформы делаются более популярные и продаваемые игры, чем на других платформах. Можно ожидать положительные тенденции в 2017 году.\n",
    "\n",
    "Посмотрели, как влияют на продажи внутри одной популярной платформы отзывы пользователей и критиков. Построили диаграмму рассеяния и посчитали корреляцию между отзывами и продажами. Влияние оценок критиков на продажи PS3 больше, чем пользователей.\n",
    "\n",
    "Общий тренд всех игровых платформ - падение, т.е. ежегодное падение общей выручки, не зависимо от оценок.\n",
    "\n",
    "\n",
    "Самые продаваемые игры в жанре - action и shooter, самые низкие продажи у puzzle и strategy."
   ]
  },
  {
   "cell_type": "markdown",
   "metadata": {},
   "source": [
    "**Шаг 4. Портрет пользователя каждого региона**"
   ]
  },
  {
   "cell_type": "markdown",
   "metadata": {},
   "source": [
    "**4.1. Самые популярные платформы для NA, EU, JP.**"
   ]
  },
  {
   "cell_type": "code",
   "execution_count": 53,
   "metadata": {
    "scrolled": false
   },
   "outputs": [
    {
     "name": "stdout",
     "output_type": "stream",
     "text": [
      "          na_sales\n",
      "platform          \n",
      "PS4          63.86\n",
      "XOne         50.30\n",
      "3DS          10.31\n",
      "WiiU          8.86\n",
      "X360          8.05\n",
      "PS3           5.66\n",
      "PC            3.72\n",
      "PSV           0.54\n",
      "Wii           0.49\n"
     ]
    },
    {
     "data": {
      "image/png": "[encoded data removed]",
      "text/plain": [
       "<Figure size 432x288 with 1 Axes>"
      ]
     },
     "metadata": {},
     "output_type": "display_data"
    },
    {
     "name": "stdout",
     "output_type": "stream",
     "text": [
      "          eu_sales\n",
      "platform          \n",
      "PS4          83.54\n",
      "XOne         28.10\n",
      "PC            9.10\n",
      "3DS           7.39\n",
      "PS3           7.30\n",
      "WiiU          6.49\n",
      "X360          4.21\n",
      "PSV           1.08\n",
      "Wii           0.73\n"
     ]
    },
    {
     "data": {
      "image/png": "[encoded data removed]",
      "text/plain": [
       "<Figure size 432x288 with 1 Axes>"
      ]
     },
     "metadata": {},
     "output_type": "display_data"
    },
    {
     "name": "stdout",
     "output_type": "stream",
     "text": [
      "          jp_sales\n",
      "platform          \n",
      "3DS          23.55\n",
      "PS4          12.05\n",
      "PSV           8.41\n",
      "PS3           4.97\n",
      "WiiU          4.12\n",
      "XOne          0.18\n",
      "PSP           0.12\n"
     ]
    },
    {
     "data": {
      "image/png": "[encoded data removed]",
      "text/plain": [
       "<Figure size 432x288 with 1 Axes>"
      ]
     },
     "metadata": {},
     "output_type": "display_data"
    }
   ],
   "source": [
    "\n",
    "na_actual = actual_data_games_sales.query('na_sales > 0')\n",
    "na_pivot_table = pd.pivot_table(na_actual, index='platform', values='na_sales',\n",
    "                                        aggfunc='sum').sort_values('na_sales', ascending=False)\n",
    "print(na_pivot_table)\n",
    "\n",
    "na = data.groupby('platform')['na_sales'].sum().sort_values(ascending=False).head(5)\n",
    "sns.barplot(x=na.index, y=na, color='green').set(title='Диаграмма долей продаж для Северной Америке NA')\n",
    "plt.xlabel(\"Платформа\")\n",
    "plt.ylabel(\"Количество продаж по NA\")\n",
    "plt.show()\n",
    "\n",
    "eu_actual = actual_data_games_sales.query('eu_sales > 0')\n",
    "eu_pivot_table = pd.pivot_table(eu_actual, index='platform', values='eu_sales',\n",
    "                                        aggfunc='sum').sort_values('eu_sales', ascending=False)\n",
    "print(eu_pivot_table)\n",
    "\n",
    "eu = data.groupby('platform')['eu_sales'].sum().sort_values(ascending=False).head(5)\n",
    "sns.barplot(x=eu.index, y=eu, color='blue').set(title='Диаграмма долей продаж для Европы EU')\n",
    "plt.xlabel(\"Платформа\")\n",
    "plt.ylabel(\"Количество продаж в Европе\")\n",
    "plt.show()\n",
    "\n",
    "jp_actual = actual_data_games_sales.query('jp_sales > 0')\n",
    "jp_pivot_table = pd.pivot_table(jp_actual, index='platform', values='jp_sales',\n",
    "                                        aggfunc='sum').sort_values('jp_sales', ascending=False)\n",
    "print(jp_pivot_table)\n",
    "\n",
    "jp = data.groupby('platform')['jp_sales'].sum().sort_values(ascending=False).head(5)\n",
    "sns.barplot(x=jp.index, y=jp, color='red').set(title='Диаграмма долей продаж для Японии JP')\n",
    "plt.xlabel(\"Платформа\")\n",
    "plt.ylabel(\"Количество продаж в Японии\")\n",
    "plt.show()\n"
   ]
  },
  {
   "cell_type": "markdown",
   "metadata": {},
   "source": [
    "**Вывод** Рейтинг платформ:\n",
    "\n",
    "    Топ 5 по Северной Америке: PS4, XOne, 3DS, WiiU и  X360\n",
    "    Топ 5 по Европейскому региону: PS4, XOne, PC, 3DS и PS3\n",
    "    Топ 5 по Японии: 3DS, PS4, PSV, PS3 и WiiU\n"
   ]
  },
  {
   "cell_type": "markdown",
   "metadata": {},
   "source": [
    "**4.2. Самые популярные жанры (топ-5)**"
   ]
  },
  {
   "cell_type": "code",
   "execution_count": 68,
   "metadata": {},
   "outputs": [
    {
     "name": "stdout",
     "output_type": "stream",
     "text": [
      "              na_sales\n",
      "genre                 \n",
      "Shooter          48.18\n",
      "Action           33.68\n",
      "Sports           26.31\n",
      "Role-Playing     19.82\n",
      "Misc              5.58\n"
     ]
    },
    {
     "data": {
      "image/png": "[encoded data removed]",
      "text/plain": [
       "<Figure size 432x288 with 1 Axes>"
      ]
     },
     "metadata": {},
     "output_type": "display_data"
    },
    {
     "name": "stdout",
     "output_type": "stream",
     "text": [
      "              eu_sales\n",
      "genre                 \n",
      "Shooter          40.28\n",
      "Action           34.82\n",
      "Sports           27.82\n",
      "Role-Playing     17.21\n",
      "Racing            6.52\n"
     ]
    },
    {
     "data": {
      "image/png": "[encoded data removed]",
      "text/plain": [
       "<Figure size 432x288 with 1 Axes>"
      ]
     },
     "metadata": {},
     "output_type": "display_data"
    },
    {
     "name": "stdout",
     "output_type": "stream",
     "text": [
      "              jp_sales\n",
      "genre                 \n",
      "Action           23.05\n",
      "Role-Playing     13.41\n",
      "Shooter           3.79\n",
      "Misc              3.19\n",
      "Adventure         2.22\n"
     ]
    },
    {
     "data": {
      "image/png": "[encoded data removed]",
      "text/plain": [
       "<Figure size 432x288 with 1 Axes>"
      ]
     },
     "metadata": {},
     "output_type": "display_data"
    }
   ],
   "source": [
    "#genre_na = data.pivot_table(\n",
    " #   index='genre', values='na_sales', aggfunc='sum').sort_values(by='na_sales', ascending=False).head(5)\n",
    "#genre_na = genre_na.reset_index().rename_axis(None, axis=1)\n",
    "#print(genre_na)\n",
    "na_actual_genre = actual_data_games_sales.query('na_sales > 0')\n",
    "na_pivot_table_genre = pd.pivot_table(na_actual_genre, index='genre', values='na_sales',\n",
    "                                        aggfunc='sum').sort_values('na_sales', ascending=False).head(5)\n",
    "na_genre = data.groupby('genre')['na_sales'].sum().sort_values(ascending=False).head(5)\n",
    "print(na_pivot_table_genre)\n",
    "sns.barplot(x=na_genre.index, y=na_genre, color='red').set(title='Диаграмма долей продаж для Америки')\n",
    "plt.xlabel(\"Жанр игры\")\n",
    "plt.ylabel(\"Количество продаж в Америке\")\n",
    "plt.show()\n",
    "\n",
    "eu_actual_genre = actual_data_games_sales.query('eu_sales > 0')\n",
    "eu_pivot_table_genre = pd.pivot_table(eu_actual_genre, index='genre', values='eu_sales',\n",
    "                                        aggfunc='sum').sort_values('eu_sales', ascending=False).head(5)\n",
    "eu_genre = data.groupby('genre')['eu_sales'].sum().sort_values(ascending=False).head(5)\n",
    "print(eu_pivot_table_genre)\n",
    "sns.barplot(x=eu_genre.index, y=eu_genre, color='red').set(title='Диаграмма долей продаж для Европы')\n",
    "plt.xlabel(\"Жанр игры\")\n",
    "plt.ylabel(\"Количество продаж в Европе\")\n",
    "plt.show()\n",
    "\n",
    "jp_actual_genre = actual_data_games_sales.query('jp_sales > 0')\n",
    "jp_pivot_table_genre = pd.pivot_table(jp_actual_genre, index='genre', values='jp_sales',\n",
    "                                        aggfunc='sum').sort_values('jp_sales', ascending=False).head(5)\n",
    "jp_genre = data.groupby('genre')['jp_sales'].sum().sort_values(ascending=False).head(5)\n",
    "print(jp_pivot_table_genre)\n",
    "sns.barplot(x=jp_genre.index, y=jp_genre, color='red').set(title='Диаграмма долей продаж для Японии')\n",
    "plt.xlabel(\"Жанр игры\")\n",
    "plt.ylabel(\"Количество продаж в Японии\")\n",
    "plt.show()"
   ]
  },
  {
   "cell_type": "markdown",
   "metadata": {},
   "source": [
    "**Вывод.** Рейтинг жанров:\n",
    "\n",
    "    Топ 5 по Северной Америке: Shooter, Action, Sports, Role-Playing и Misc\n",
    "    Топ 5 по Европейскому региону: Shooter, Action, Sports, Role-Playing и Racing\n",
    "    Топ 5 по Японии: Action, Role-Playing, Shooter, Misc и Adventure   \n",
    "    Американские и европейские игроки имеют схожите тенденции по жанрам в целом. Японские отличаются от них большим вкладом в игры с глубоким смыслом. Вне зависимости от региона всегда будут популярны игры экшен, т.к. многие поколения выросли на этом жанре, и шутеры, т.к. это имитация боевых действий.\n"
   ]
  },
  {
   "cell_type": "markdown",
   "metadata": {},
   "source": [
    "**4.3. Влияние рейтинга ESRB на продажи в регионах.**"
   ]
  },
  {
   "cell_type": "code",
   "execution_count": 69,
   "metadata": {
    "scrolled": true
   },
   "outputs": [
    {
     "name": "stdout",
     "output_type": "stream",
     "text": [
      "rating\n",
      "miss    32.89\n",
      "T        7.70\n",
      "E        5.25\n",
      "M        4.29\n",
      "E10+     3.27\n",
      "Name: jp_sales, dtype: float64\n"
     ]
    },
    {
     "data": {
      "image/png": "[encoded data removed]",
      "text/plain": [
       "<Figure size 432x288 with 1 Axes>"
      ]
     },
     "metadata": {},
     "output_type": "display_data"
    },
    {
     "name": "stdout",
     "output_type": "stream",
     "text": [
      "\n",
      "rating\n",
      "M       45.54\n",
      "miss    35.71\n",
      "E       34.83\n",
      "T       20.32\n",
      "E10+    11.54\n",
      "Name: eu_sales, dtype: float64\n"
     ]
    },
    {
     "data": {
      "image/png": "[encoded data removed]",
      "text/plain": [
       "<Figure size 432x288 with 1 Axes>"
      ]
     },
     "metadata": {},
     "output_type": "display_data"
    },
    {
     "name": "stdout",
     "output_type": "stream",
     "text": [
      "\n",
      "rating\n",
      "M       47.03\n",
      "miss    37.44\n",
      "E       26.59\n",
      "T       22.86\n",
      "E10+    17.87\n",
      "Name: na_sales, dtype: float64\n"
     ]
    },
    {
     "data": {
      "image/png": "[encoded data removed]",
      "text/plain": [
       "<Figure size 432x288 with 1 Axes>"
      ]
     },
     "metadata": {},
     "output_type": "display_data"
    }
   ],
   "source": [
    "\n",
    "\n",
    "jp_rating = data.groupby('rating')['jp_sales'].sum().sort_values(ascending=False).head(5)\n",
    "print(jp_rating)\n",
    "sns.barplot(x=jp_rating.index, y=jp_rating, color='red').set(title='Диаграмма зависимости рейтинга на продажи в Японии') \n",
    "plt.xlabel(\"Рейтинг\")\n",
    "plt.ylabel(\"Количество продаж в Японии\")\n",
    "plt.show()\n",
    "print()\n",
    "eu_rating = data.groupby('rating')['eu_sales'].sum().sort_values(ascending=False).head(5)\n",
    "print(eu_rating)\n",
    "sns.barplot(x=eu_rating.index, y=eu_rating, color='blue').set(title='Диаграмма зависимости рейтинга на продажи в Европе') \n",
    "plt.xlabel(\"Рейтинг\")\n",
    "plt.ylabel(\"Количество продаж в Европе\")\n",
    "plt.show()\n",
    "print()\n",
    "na_rating = data.groupby('rating')['na_sales'].sum().sort_values(ascending=False).head(5)\n",
    "print(na_rating)\n",
    "sns.barplot(x=na_rating.index, y=na_rating, color='green').set(title='Диаграмма зависимости рейтинга на продажи в NA') \n",
    "plt.xlabel(\"Рейтинг\")\n",
    "plt.ylabel(\"Количество продаж в Америке\")\n",
    "plt.show()\n"
   ]
  },
  {
   "cell_type": "code",
   "execution_count": 70,
   "metadata": {},
   "outputs": [
    {
     "name": "stdout",
     "output_type": "stream",
     "text": [
      "        jp_sales\n",
      "rating          \n",
      "miss       32.89\n",
      "T           7.70\n",
      "E           5.25\n",
      "M           4.29\n",
      "E10+        3.27\n"
     ]
    },
    {
     "data": {
      "image/png": "[encoded data removed]",
      "text/plain": [
       "<Figure size 432x288 with 1 Axes>"
      ]
     },
     "metadata": {},
     "output_type": "display_data"
    }
   ],
   "source": [
    "\n",
    "#actual_data_rating = data.query('rating != miss')\n",
    "\n",
    "actual_data_games_sales = data.query('year_of_release > 2014')\n",
    "#actual_data_games_sales.info()\n",
    "jp_actual_data_games_sales = actual_data_games_sales.query('jp_sales > 0')\n",
    "#jp_actual_data_games_sales.info()\n",
    "jp_rating_pivot_table = pd.pivot_table(jp_actual_data_games_sales, index='rating', values='jp_sales',\n",
    "                                        aggfunc='sum').sort_values('jp_sales', ascending=False)\n",
    "print(jp_rating_pivot_table)\n",
    "\n",
    "(data[(data['rating'].isin(['M', 'E', 'T', 'E10+']))]\n",
    " .pivot_table(index=['rating'], values='jp_sales', aggfunc='sum')\n",
    " .unstack()\n",
    " .plot(kind='bar')\n",
    ");"
   ]
  },
  {
   "cell_type": "code",
   "execution_count": 71,
   "metadata": {},
   "outputs": [
    {
     "name": "stdout",
     "output_type": "stream",
     "text": [
      "        eu_sales\n",
      "rating          \n",
      "M          45.54\n",
      "miss       35.71\n",
      "E          34.83\n",
      "T          20.32\n",
      "E10+       11.54\n"
     ]
    },
    {
     "data": {
      "image/png": "[encoded data removed]",
      "text/plain": [
       "<Figure size 432x288 with 1 Axes>"
      ]
     },
     "metadata": {},
     "output_type": "display_data"
    }
   ],
   "source": [
    "actual_data_games_sales = data.query('year_of_release > 2014')\n",
    "eu_actual_data_games_sales = actual_data_games_sales.query('eu_sales > 0')\n",
    "#eu_actual_data_games_sales.info()\n",
    "eu_rating_pivot_table = pd.pivot_table(eu_actual_data_games_sales, index='rating', values='eu_sales',\n",
    "                                        aggfunc='sum').sort_values('eu_sales', ascending=False)\n",
    "print(eu_rating_pivot_table)\n",
    "(data[(data['rating'].isin(['M', 'E', 'T', 'E10+', 'RP']))]\n",
    " .pivot_table(index=['rating'], values='eu_sales', aggfunc='sum')\n",
    " .unstack()\n",
    " .plot(kind='bar')\n",
    ");"
   ]
  },
  {
   "cell_type": "code",
   "execution_count": 72,
   "metadata": {},
   "outputs": [
    {
     "name": "stdout",
     "output_type": "stream",
     "text": [
      "        na_sales\n",
      "rating          \n",
      "M          47.03\n",
      "miss       37.44\n",
      "E          26.59\n",
      "T          22.86\n",
      "E10+       17.87\n"
     ]
    },
    {
     "data": {
      "image/png": "[encoded data removed]",
      "text/plain": [
       "<Figure size 432x288 with 1 Axes>"
      ]
     },
     "metadata": {},
     "output_type": "display_data"
    }
   ],
   "source": [
    "actual_data_games_sales = data.query('year_of_release > 2014')\n",
    "na_actual_data_games_sales = actual_data_games_sales.query('na_sales > 0')\n",
    "#na_actual_data_games_sales.info()\n",
    "na_rating_pivot_table = pd.pivot_table(na_actual_data_games_sales, index='rating', values='na_sales',\n",
    "                                        aggfunc='sum').sort_values('na_sales', ascending=False)\n",
    "print(na_rating_pivot_table)\n",
    "\n",
    "(data[(data['rating'].isin(['M', 'E', 'T', 'E10+', 'EC']))]\n",
    " .pivot_table(index=['rating'], values='na_sales', aggfunc='sum')\n",
    " .unstack()\n",
    " .plot(kind='bar')\n",
    ");"
   ]
  },
  {
   "cell_type": "markdown",
   "metadata": {},
   "source": [
    "**Вывод** Рейтинг возраста влияет по каждому региону.\n",
    "\n",
    "В Америке и Европе схожие ситуации - в первую очередь популярны игры с возрастным рейтингом 17+, следующий рейтинг - для всех. Это означает, что эти рынки ориентированы на взрослых пользователей.\n",
    "\n",
    "В Японии лидириуют игры с возрастным рейтингом  13+. Компании хотят распространить свое влияние на молодежь.\n",
    "\n"
   ]
  },
  {
   "cell_type": "markdown",
   "metadata": {},
   "source": [
    "**Шаг 5. Проверка гипотез**"
   ]
  },
  {
   "cell_type": "markdown",
   "metadata": {},
   "source": [
    "**5.1. Средние пользовательские рейтинги платформ Xbox One и PC одинаковые**"
   ]
  },
  {
   "cell_type": "markdown",
   "metadata": {},
   "source": [
    "**Гипотезы**\n",
    "\n",
    "Нулевая гипотеза H₀: Средние пользовательские рейтинги платформ Xbox One и PC одинаковые;\n",
    "\n",
    "Альтернативная гипотеза H₁: Средние пользовательские рейтинги платформ Xbox One и PC различаются\n"
   ]
  },
  {
   "cell_type": "code",
   "execution_count": 74,
   "metadata": {},
   "outputs": [
    {
     "data": {
      "text/plain": [
       "array([6.4, 6.2, 7.5, 4.4, 5.5, 3.1, 6.1, 8.2, 6.9, 7.9, 6.6, 7.3, 8. ,\n",
       "       9.2, 7.8, 8.4, 5.9, 5.1, 5.2, 7.4, 5.6, 7. , 7.7, 6.7, 4.6, 5.7,\n",
       "       6.8, 8.1, 6. , 8.6, 7.2, 8.5, 4.3, 5.8, 5.3, 4. , 8.3, 4.1, 8.7,\n",
       "       2.1, 7.6, 6.3, 4.9, 7.1, 8.9, 1.6, 4.2, 8.8])"
      ]
     },
     "execution_count": 74,
     "metadata": {},
     "output_type": "execute_result"
    }
   ],
   "source": [
    "xone = actual_data_games_sales[(actual_data_games_sales['platform']=='XOne')]['user_score'].dropna()\n",
    "pc = actual_data_games_sales[(actual_data_games_sales['platform']=='PC')]['user_score'].dropna()\n",
    "xone.mean() #Средний рейтинг для платформ XOne\n",
    "pc.mean() #Средний рейтинг для платформ PC\n",
    "xone.describe()\n",
    "xone.unique()"
   ]
  },
  {
   "cell_type": "code",
   "execution_count": null,
   "metadata": {},
   "outputs": [],
   "source": [
    "#actual_data_games_sales\n"
   ]
  },
  {
   "cell_type": "code",
   "execution_count": 76,
   "metadata": {},
   "outputs": [
    {
     "name": "stdout",
     "output_type": "stream",
     "text": [
      "p-значение: 0.2946308864003345\n",
      "Не получилось отвергнуть нулевую гипотезу\n"
     ]
    }
   ],
   "source": [
    "#Проверка гипотезы\n",
    "alpha = 0.05\n",
    "results = st.ttest_ind(\n",
    "    xone.dropna(), \n",
    "    pc.dropna(),\n",
    "    equal_var=False)\n",
    "print('p-значение:', results.pvalue)\n",
    "if results.pvalue < alpha:\n",
    "    print(\"Отвергаем нулевую гипотезу\")\n",
    "else:\n",
    "    print(\"Не получилось отвергнуть нулевую гипотезу\") "
   ]
  },
  {
   "cell_type": "markdown",
   "metadata": {},
   "source": [
    "**Вывод** 5.1. Средние пользовательские рейтинги платформ Xbox One и PC одинаковые.\n",
    "\n",
    "При проверке первой гипотезы, мы получили результат: \"Не получилось отвергнуть нулевую гипотезу\". Следовательно, у нас есть вероятности получить одинаковые средние рейнтинги по двум платформам."
   ]
  },
  {
   "cell_type": "markdown",
   "metadata": {},
   "source": [
    "**5.2. Средние пользовательские рейтинги жанров Action и Sports**"
   ]
  },
  {
   "cell_type": "markdown",
   "metadata": {},
   "source": [
    "**Гипотезы**\n",
    "\n",
    "Нулевая гипотеза H₀: Средние пользовательские рейтинги жанров Action и Sports одинаковые\n",
    "\n",
    "Альтернативная гипотеза H₁: Средние пользовательские рейтинги жанров Action и Sports разные\n"
   ]
  },
  {
   "cell_type": "code",
   "execution_count": 77,
   "metadata": {},
   "outputs": [
    {
     "data": {
      "text/plain": [
       "array([8.1, 7.6, 8.2, 6.8, 8.6, 9. , 6.3, 7.9, 6.5, 5.1, 4.5, 6.6, 6.1,\n",
       "       7.8, 8.4, 8.7, 7. , 6.4, 7.1, 7.4, 7.3, 7.5, 6.7, 7.2, 7.7, 4.6,\n",
       "       3.7, 5.6, 8. , 5.4, 6.9, 4.2, 5.7, 3.3, 4.3, 5.5, 8.5, 5.9, 3.2,\n",
       "       8.8, 4.8, 5.3, 2.5, 6. , 5.2, 4.9, 3.4, 5.8, 8.3, 2. , 2.8, 3.1,\n",
       "       2.3])"
      ]
     },
     "execution_count": 77,
     "metadata": {},
     "output_type": "execute_result"
    }
   ],
   "source": [
    "\n",
    "action_gen = actual_data_games_sales[(actual_data_games_sales['genre']=='Action')]['user_score'].dropna()\n",
    "sports_gen = actual_data_games_sales[(actual_data_games_sales['genre']=='Sports')]['user_score'].dropna() \n",
    "action_gen.mean()\n",
    "sports_gen.mean()\n",
    "sports_gen.describe()\n",
    "action_gen.unique()"
   ]
  },
  {
   "cell_type": "code",
   "execution_count": 79,
   "metadata": {},
   "outputs": [
    {
     "name": "stdout",
     "output_type": "stream",
     "text": [
      "p-значение: 5.97163549920592e-10\n",
      "Отвергаем нулевую гипотезу\n"
     ]
    }
   ],
   "source": [
    "#Проверка гипотезы\n",
    "alpha = 0.05\n",
    "results = st.ttest_ind(\n",
    "    action_gen.dropna(), \n",
    "    sports_gen.dropna(),\n",
    "    equal_var=False)\n",
    "print('p-значение:', results.pvalue)\n",
    "if results.pvalue < alpha:\n",
    "    print(\"Отвергаем нулевую гипотезу\")\n",
    "else:\n",
    "    print(\"Не получилось отвергнуть нулевую гипотезу\") "
   ]
  },
  {
   "cell_type": "markdown",
   "metadata": {},
   "source": [
    "**Вывод** 5.2. Средние пользовательские рейтинги жанров Action и Sports\n",
    "\n",
    "Во втором случае, Отвергаем нулевую гипотезу. То есть, нет вероятности получить одинаковые рейтинги двух жанров."
   ]
  },
  {
   "cell_type": "markdown",
   "metadata": {},
   "source": [
    "**Общий вывод**\n",
    "\n",
    "**2. Подготовка и обработка данных**\n",
    "\n",
    "Были заменены названия столбцов (приведены к нижнему регистру);\n",
    "    \n",
    "Обработаны пропуски и посчитаны суммарные продажи во всех регионах и записаны в отдельный столбец.\n",
    "   \n",
    "Данные из столбцов name и year_of_release были удалены, так как неопределенных значений было менее 5%. Для работы в дальнейшем будут необходимы данные о годах и имени.\n",
    "\n",
    "Аббревиатура tbd значит to be determined, to be done. То есть, данные были нарочно не заполнены, так как не определились с рейтингом. В столбце user_score значения tbd были заменены на Nan. В остальных столбцах данные остаются в прежнем виде.\n",
    "\n",
    "Возможные причины пропусков: 1) не указаны какие-нибудь сведения из-за не хватки информации 2) в самой системе какие-либо не поладки, дала сбой 3) в некоторых средах есть автозаоплнение, оно не сработало\n",
    "\n",
    "\n",
    "**3. Исследовательский анализ**\n",
    "\n",
    "Многие игры исчезли к 2000м годам и по скольку изменились критерии, которыми характеризуются игры, данные можно опустить и в исследованиях использовать массив за последний актуальный период.\n",
    "\n",
    "Наиболее востребованные платформы: PS3, XOne, WiiU, PS4, 3DS. Срок жизни платформы около 7 лет.\n",
    "\n",
    "Для PS3, PS4 и 3DS видна положительная тенденция к росту продаж. Среднее больше 3го квантиля, это значит на эти платформы делаются более популярные и продаваемые игры, чем на других платформах. Можно ожидать положительные тенденции в 2017 году.\n",
    "\n",
    "Посмотрели, как влияют на продажи внутри одной популярной платформы отзывы пользователей и критиков. Построили диаграмму рассеяния и посчитали корреляцию между отзывами и продажами. Влияние оценок критиков на продажи PS4 больше, чем пользователей. Для платформы PS4 есть прямая корреляция между прибылью и рейтингом критиков. Обратная корреляция по игрокам не носит сильного смысла. Но на мнение игроков влияет рейтинг - чем выше ценит игру критик, тем выше оценит ее игрок.\n",
    "\n",
    "Общий тренд всех игровых платформ - падение, т.е. ежегодное падение общей выручки, не зависимо от оценок.\n",
    "\n",
    "Самые продаваемые игры в жанре - action и shooter, самые низкие продажи у puzzle и strategy.\n",
    "\n",
    "**4. Портрет пользователя каждого региона**\n",
    "\n",
    "Рейтинг платформ по регионам:\n",
    "\n",
    "Топ 5 по Северной Америке: PS4, XOne, 3DS, WiiU и  X360\n",
    "Топ 5 по Европейскому региону: PS4, XOne, PC, 3DS и PS3\n",
    "Топ 5 по Японии: 3DS, PS4, PSV, PS3 и WiiU\n",
    "\n",
    "Самые популярные жанры Action и Sports, входят в тройку лидеров на всех рынках. В Японии на первом месте RPG игры, а у остальных регионов этот жанр не вошёл даже в пятерку.\n",
    "\n",
    "Рейтинг возраста влияет по каждому региону.\n",
    "В Америке и Европе схожие ситуации - в первую очередь популярны игры с возрастным рейтингом 17+. Это означает, что эти рынки ориентированы на взрослых пользователей.\n",
    "\n",
    "В Японии лидириуют игры с возрастным рейтингом для всех. Компании хотят распространить свое влияние на все поколения.\n",
    "\n",
    "**5. Проверка гипотез**\n",
    "\n",
    "5.1. Средние пользовательские рейтинги платформ Xbox One и PC одинаковые.\n",
    "\n",
    "При проверке первой гипотезы, мы получили результат: \"Не получилось отвергнуть нулевую гипотезу\". Следовательно, у нас есть вероятности получить одинаковые средние рейнтинги по двум платформам.\n",
    "\n",
    "\n",
    "5.2. Средние пользовательские рейтинги жанров Action и Sports\n",
    "\n",
    "Во втором случае, Отвергаем нулевую гипотезу. То есть, нет вероятности получить одинаковые рейтинги двух жанров.\n",
    "\n",
    "-Нулевая и альтернативные гипотезы сформулированы согласно поставленной задачи. H₀ всегда формулируется так, чтобы использовать знак равенства. Альтернативная гипотеза H₁ - это утверждение, которое принимается верным, если отбрасывается H₀.\n"
   ]
  }
 ],
 "metadata": {
  "ExecuteTimeLog": [
   {
    "duration": 1331,
    "start_time": "2022-10-03T09:06:14.227Z"
   },
   {
    "duration": 166,
    "start_time": "2022-10-03T09:07:02.512Z"
   },
   {
    "duration": 91,
    "start_time": "2022-10-03T09:08:23.911Z"
   },
   {
    "duration": 18,
    "start_time": "2022-10-03T09:08:50.347Z"
   },
   {
    "duration": 12,
    "start_time": "2022-10-03T09:12:17.895Z"
   },
   {
    "duration": 22,
    "start_time": "2022-10-03T09:20:43.585Z"
   },
   {
    "duration": 1284,
    "start_time": "2022-10-03T09:20:52.963Z"
   },
   {
    "duration": 41,
    "start_time": "2022-10-03T09:29:20.723Z"
   },
   {
    "duration": 3,
    "start_time": "2022-10-03T09:29:33.001Z"
   },
   {
    "duration": 54,
    "start_time": "2022-10-03T09:29:33.006Z"
   },
   {
    "duration": 14,
    "start_time": "2022-10-03T09:29:33.061Z"
   },
   {
    "duration": 39,
    "start_time": "2022-10-03T09:29:33.077Z"
   },
   {
    "duration": 41,
    "start_time": "2022-10-03T09:30:00.371Z"
   },
   {
    "duration": 15,
    "start_time": "2022-10-03T09:32:12.926Z"
   },
   {
    "duration": 4,
    "start_time": "2022-10-03T09:32:26.264Z"
   },
   {
    "duration": 16,
    "start_time": "2022-10-03T09:33:16.116Z"
   },
   {
    "duration": 13,
    "start_time": "2022-10-03T09:33:28.368Z"
   },
   {
    "duration": 17,
    "start_time": "2022-10-03T09:33:46.225Z"
   },
   {
    "duration": 16,
    "start_time": "2022-10-03T09:33:52.017Z"
   },
   {
    "duration": 11,
    "start_time": "2022-10-03T09:41:46.511Z"
   },
   {
    "duration": 10,
    "start_time": "2022-10-03T09:41:55.325Z"
   },
   {
    "duration": 15,
    "start_time": "2022-10-03T09:42:53.255Z"
   },
   {
    "duration": 9,
    "start_time": "2022-10-03T09:44:23.064Z"
   },
   {
    "duration": 13,
    "start_time": "2022-10-03T09:45:12.581Z"
   },
   {
    "duration": 11,
    "start_time": "2022-10-03T09:46:10.780Z"
   },
   {
    "duration": 13,
    "start_time": "2022-10-03T09:47:11.839Z"
   },
   {
    "duration": 20,
    "start_time": "2022-10-03T09:48:19.230Z"
   },
   {
    "duration": 20,
    "start_time": "2022-10-03T09:49:24.235Z"
   },
   {
    "duration": 23,
    "start_time": "2022-10-03T09:50:47.225Z"
   },
   {
    "duration": 23,
    "start_time": "2022-10-03T09:53:01.583Z"
   },
   {
    "duration": 780,
    "start_time": "2022-10-03T09:53:05.307Z"
   },
   {
    "duration": 642,
    "start_time": "2022-10-03T09:53:54.458Z"
   },
   {
    "duration": 686,
    "start_time": "2022-10-03T09:54:01.036Z"
   },
   {
    "duration": 587,
    "start_time": "2022-10-03T09:54:06.414Z"
   },
   {
    "duration": 10,
    "start_time": "2022-10-03T09:55:55.964Z"
   },
   {
    "duration": 10,
    "start_time": "2022-10-03T09:56:24.439Z"
   },
   {
    "duration": 22,
    "start_time": "2022-10-03T09:56:41.901Z"
   },
   {
    "duration": 22,
    "start_time": "2022-10-03T09:57:05.640Z"
   },
   {
    "duration": 13,
    "start_time": "2022-10-03T10:00:38.685Z"
   },
   {
    "duration": 968,
    "start_time": "2022-10-03T10:00:59.230Z"
   },
   {
    "duration": 12,
    "start_time": "2022-10-03T10:04:21.265Z"
   },
   {
    "duration": 10,
    "start_time": "2022-10-03T10:04:35.856Z"
   },
   {
    "duration": 15,
    "start_time": "2022-10-03T10:05:58.536Z"
   },
   {
    "duration": 9,
    "start_time": "2022-10-03T10:06:16.327Z"
   },
   {
    "duration": 14,
    "start_time": "2022-10-03T10:15:43.706Z"
   },
   {
    "duration": 12,
    "start_time": "2022-10-03T10:35:01.615Z"
   },
   {
    "duration": 12,
    "start_time": "2022-10-03T10:36:26.797Z"
   },
   {
    "duration": 8,
    "start_time": "2022-10-03T10:38:52.414Z"
   },
   {
    "duration": 14,
    "start_time": "2022-10-03T10:44:01.395Z"
   },
   {
    "duration": 18,
    "start_time": "2022-10-03T10:46:21.508Z"
   },
   {
    "duration": 17,
    "start_time": "2022-10-03T10:47:15.411Z"
   },
   {
    "duration": 23,
    "start_time": "2022-10-03T10:47:32.134Z"
   },
   {
    "duration": 6,
    "start_time": "2022-10-03T10:52:25.065Z"
   },
   {
    "duration": 10,
    "start_time": "2022-10-03T10:53:52.853Z"
   },
   {
    "duration": 17,
    "start_time": "2022-10-03T10:58:03.588Z"
   },
   {
    "duration": 19,
    "start_time": "2022-10-03T10:58:22.899Z"
   },
   {
    "duration": 24,
    "start_time": "2022-10-03T11:00:26.156Z"
   },
   {
    "duration": 21,
    "start_time": "2022-10-03T11:00:35.172Z"
   },
   {
    "duration": 22,
    "start_time": "2022-10-03T11:01:12.774Z"
   },
   {
    "duration": 8,
    "start_time": "2022-10-03T11:01:41.509Z"
   },
   {
    "duration": 7,
    "start_time": "2022-10-03T11:03:58.264Z"
   },
   {
    "duration": 6,
    "start_time": "2022-10-03T11:04:10.402Z"
   },
   {
    "duration": 10,
    "start_time": "2022-10-03T11:05:42.067Z"
   },
   {
    "duration": 32,
    "start_time": "2022-10-03T11:06:15.158Z"
   },
   {
    "duration": 9,
    "start_time": "2022-10-03T11:06:38.421Z"
   },
   {
    "duration": 10,
    "start_time": "2022-10-03T11:07:09.529Z"
   },
   {
    "duration": 10,
    "start_time": "2022-10-03T11:07:14.155Z"
   },
   {
    "duration": 8,
    "start_time": "2022-10-03T11:07:47.508Z"
   },
   {
    "duration": 10,
    "start_time": "2022-10-03T11:08:09.148Z"
   },
   {
    "duration": 12,
    "start_time": "2022-10-03T11:08:22.717Z"
   },
   {
    "duration": 10,
    "start_time": "2022-10-03T11:08:34.703Z"
   },
   {
    "duration": 20,
    "start_time": "2022-10-03T11:08:55.432Z"
   },
   {
    "duration": 10,
    "start_time": "2022-10-03T11:09:19.215Z"
   },
   {
    "duration": 18,
    "start_time": "2022-10-03T11:09:33.336Z"
   },
   {
    "duration": 13,
    "start_time": "2022-10-03T11:09:55.385Z"
   },
   {
    "duration": 8,
    "start_time": "2022-10-03T11:10:43.452Z"
   },
   {
    "duration": 6,
    "start_time": "2022-10-03T12:13:43.867Z"
   },
   {
    "duration": 10,
    "start_time": "2022-10-03T12:15:02.190Z"
   },
   {
    "duration": 11,
    "start_time": "2022-10-03T12:17:10.294Z"
   },
   {
    "duration": 2747,
    "start_time": "2022-10-03T12:17:24.144Z"
   },
   {
    "duration": 2930,
    "start_time": "2022-10-03T12:18:55.930Z"
   },
   {
    "duration": 2883,
    "start_time": "2022-10-03T12:19:22.392Z"
   },
   {
    "duration": 11,
    "start_time": "2022-10-03T12:20:50.949Z"
   },
   {
    "duration": 9,
    "start_time": "2022-10-03T12:21:15.525Z"
   },
   {
    "duration": 12,
    "start_time": "2022-10-03T12:21:45.733Z"
   },
   {
    "duration": 2868,
    "start_time": "2022-10-03T12:23:36.551Z"
   },
   {
    "duration": 15,
    "start_time": "2022-10-03T12:26:46.570Z"
   },
   {
    "duration": 3008,
    "start_time": "2022-10-03T12:26:56.306Z"
   },
   {
    "duration": 3,
    "start_time": "2022-10-03T12:27:06.521Z"
   },
   {
    "duration": 59,
    "start_time": "2022-10-03T12:27:06.526Z"
   },
   {
    "duration": 19,
    "start_time": "2022-10-03T12:27:06.587Z"
   },
   {
    "duration": 17,
    "start_time": "2022-10-03T12:27:06.608Z"
   },
   {
    "duration": 25,
    "start_time": "2022-10-03T12:27:06.627Z"
   },
   {
    "duration": 16,
    "start_time": "2022-10-03T12:27:06.653Z"
   },
   {
    "duration": 884,
    "start_time": "2022-10-03T12:27:06.670Z"
   },
   {
    "duration": 10,
    "start_time": "2022-10-03T12:27:07.556Z"
   },
   {
    "duration": 9,
    "start_time": "2022-10-03T12:27:07.567Z"
   },
   {
    "duration": 2905,
    "start_time": "2022-10-03T12:27:07.577Z"
   },
   {
    "duration": 9,
    "start_time": "2022-10-03T12:27:10.483Z"
   },
   {
    "duration": 23,
    "start_time": "2022-10-03T12:27:10.494Z"
   },
   {
    "duration": 42,
    "start_time": "2022-10-03T12:27:10.519Z"
   },
   {
    "duration": 10,
    "start_time": "2022-10-03T12:27:10.564Z"
   },
   {
    "duration": 12,
    "start_time": "2022-10-03T12:27:10.576Z"
   },
   {
    "duration": 2870,
    "start_time": "2022-10-03T12:27:10.589Z"
   },
   {
    "duration": 7,
    "start_time": "2022-10-03T12:27:13.461Z"
   },
   {
    "duration": 2924,
    "start_time": "2022-10-03T12:28:23.943Z"
   },
   {
    "duration": 5,
    "start_time": "2022-10-03T12:28:45.467Z"
   },
   {
    "duration": 5,
    "start_time": "2022-10-03T12:33:08.428Z"
   },
   {
    "duration": 7,
    "start_time": "2022-10-03T12:33:46.521Z"
   },
   {
    "duration": 12,
    "start_time": "2022-10-03T12:34:36.490Z"
   },
   {
    "duration": 15,
    "start_time": "2022-10-03T12:34:42.002Z"
   },
   {
    "duration": 8,
    "start_time": "2022-10-03T12:34:53.156Z"
   },
   {
    "duration": 16,
    "start_time": "2022-10-03T12:40:22.119Z"
   },
   {
    "duration": 25,
    "start_time": "2022-10-03T12:40:40.923Z"
   },
   {
    "duration": 11,
    "start_time": "2022-10-03T12:41:03.842Z"
   },
   {
    "duration": 14,
    "start_time": "2022-10-03T12:41:17.859Z"
   },
   {
    "duration": 22,
    "start_time": "2022-10-03T12:41:34.056Z"
   },
   {
    "duration": 16,
    "start_time": "2022-10-03T12:42:46.164Z"
   },
   {
    "duration": 24,
    "start_time": "2022-10-03T12:43:06.467Z"
   },
   {
    "duration": 1142,
    "start_time": "2022-10-03T12:47:16.118Z"
   },
   {
    "duration": 18,
    "start_time": "2022-10-03T12:47:52.201Z"
   },
   {
    "duration": 13,
    "start_time": "2022-10-03T12:48:19.707Z"
   },
   {
    "duration": 11,
    "start_time": "2022-10-03T12:51:46.877Z"
   },
   {
    "duration": 2942,
    "start_time": "2022-10-03T12:52:21.070Z"
   },
   {
    "duration": 2945,
    "start_time": "2022-10-03T12:52:52.279Z"
   },
   {
    "duration": 2926,
    "start_time": "2022-10-03T12:53:07.329Z"
   },
   {
    "duration": 2767,
    "start_time": "2022-10-03T12:54:53.352Z"
   },
   {
    "duration": 18,
    "start_time": "2022-10-03T12:55:15.152Z"
   },
   {
    "duration": 10,
    "start_time": "2022-10-03T12:55:34.759Z"
   },
   {
    "duration": 6,
    "start_time": "2022-10-03T12:57:55.779Z"
   },
   {
    "duration": 68,
    "start_time": "2022-10-03T12:58:11.686Z"
   },
   {
    "duration": 13,
    "start_time": "2022-10-03T12:58:23.085Z"
   },
   {
    "duration": 148,
    "start_time": "2022-10-03T13:06:40.551Z"
   },
   {
    "duration": 339,
    "start_time": "2022-10-03T13:07:47.006Z"
   },
   {
    "duration": 6,
    "start_time": "2022-10-03T13:08:10.039Z"
   },
   {
    "duration": 5,
    "start_time": "2022-10-03T13:08:18.991Z"
   },
   {
    "duration": 9,
    "start_time": "2022-10-03T13:08:28.008Z"
   },
   {
    "duration": 27,
    "start_time": "2022-10-03T13:09:48.889Z"
   },
   {
    "duration": 152,
    "start_time": "2022-10-03T13:10:09.529Z"
   },
   {
    "duration": 22,
    "start_time": "2022-10-03T13:13:03.363Z"
   },
   {
    "duration": 154,
    "start_time": "2022-10-03T13:13:15.805Z"
   },
   {
    "duration": 8,
    "start_time": "2022-10-03T13:13:28.809Z"
   },
   {
    "duration": 160,
    "start_time": "2022-10-03T13:13:33.077Z"
   },
   {
    "duration": 10,
    "start_time": "2022-10-03T13:13:45.917Z"
   },
   {
    "duration": 166,
    "start_time": "2022-10-03T13:13:50.749Z"
   },
   {
    "duration": 3,
    "start_time": "2022-10-03T13:13:56.491Z"
   },
   {
    "duration": 57,
    "start_time": "2022-10-03T13:13:56.496Z"
   },
   {
    "duration": 23,
    "start_time": "2022-10-03T13:13:56.556Z"
   },
   {
    "duration": 9,
    "start_time": "2022-10-03T13:13:56.581Z"
   },
   {
    "duration": 14,
    "start_time": "2022-10-03T13:13:56.593Z"
   },
   {
    "duration": 41,
    "start_time": "2022-10-03T13:13:56.609Z"
   },
   {
    "duration": 770,
    "start_time": "2022-10-03T13:13:56.652Z"
   },
   {
    "duration": 21,
    "start_time": "2022-10-03T13:13:57.424Z"
   },
   {
    "duration": 15,
    "start_time": "2022-10-03T13:13:57.449Z"
   },
   {
    "duration": 2837,
    "start_time": "2022-10-03T13:13:57.466Z"
   },
   {
    "duration": 5,
    "start_time": "2022-10-03T13:14:00.307Z"
   },
   {
    "duration": 33,
    "start_time": "2022-10-03T13:14:00.313Z"
   },
   {
    "duration": 14,
    "start_time": "2022-10-03T13:14:00.348Z"
   },
   {
    "duration": 13,
    "start_time": "2022-10-03T13:14:00.364Z"
   },
   {
    "duration": 25,
    "start_time": "2022-10-03T13:14:00.379Z"
   },
   {
    "duration": 47,
    "start_time": "2022-10-03T13:14:00.406Z"
   },
   {
    "duration": 174,
    "start_time": "2022-10-03T13:14:00.455Z"
   },
   {
    "duration": 16,
    "start_time": "2022-10-03T13:14:00.631Z"
   },
   {
    "duration": 159,
    "start_time": "2022-10-03T13:14:00.649Z"
   },
   {
    "duration": 11,
    "start_time": "2022-10-03T13:14:00.810Z"
   },
   {
    "duration": 2872,
    "start_time": "2022-10-03T13:14:00.823Z"
   },
   {
    "duration": 7,
    "start_time": "2022-10-03T13:14:03.697Z"
   },
   {
    "duration": 30,
    "start_time": "2022-10-03T13:14:03.706Z"
   },
   {
    "duration": 16,
    "start_time": "2022-10-03T13:14:03.737Z"
   },
   {
    "duration": 77,
    "start_time": "2022-10-03T13:21:52.921Z"
   },
   {
    "duration": 17,
    "start_time": "2022-10-03T13:22:47.710Z"
   },
   {
    "duration": 19,
    "start_time": "2022-10-03T13:28:53.514Z"
   },
   {
    "duration": 29,
    "start_time": "2022-10-03T13:30:06.519Z"
   },
   {
    "duration": 15,
    "start_time": "2022-10-03T13:33:03.241Z"
   },
   {
    "duration": 19,
    "start_time": "2022-10-03T13:33:16.170Z"
   },
   {
    "duration": 1235,
    "start_time": "2022-10-03T13:34:39.653Z"
   },
   {
    "duration": 18,
    "start_time": "2022-10-03T13:35:56.117Z"
   },
   {
    "duration": 255,
    "start_time": "2022-10-03T13:36:30.153Z"
   },
   {
    "duration": 293,
    "start_time": "2022-10-03T13:36:41.492Z"
   },
   {
    "duration": 275,
    "start_time": "2022-10-03T13:38:47.578Z"
   },
   {
    "duration": 23,
    "start_time": "2022-10-03T13:41:29.990Z"
   },
   {
    "duration": 81,
    "start_time": "2022-10-03T13:51:22.209Z"
   },
   {
    "duration": 49,
    "start_time": "2022-10-03T13:51:37.771Z"
   },
   {
    "duration": 15,
    "start_time": "2022-10-03T13:52:34.545Z"
   },
   {
    "duration": 16,
    "start_time": "2022-10-03T13:53:06.271Z"
   },
   {
    "duration": 225,
    "start_time": "2022-10-03T13:54:04.971Z"
   },
   {
    "duration": 172,
    "start_time": "2022-10-03T14:00:43.203Z"
   },
   {
    "duration": 360,
    "start_time": "2022-10-03T14:02:02.564Z"
   },
   {
    "duration": 360,
    "start_time": "2022-10-03T14:02:16.717Z"
   },
   {
    "duration": 393,
    "start_time": "2022-10-03T14:02:40.431Z"
   },
   {
    "duration": 372,
    "start_time": "2022-10-03T14:07:35.633Z"
   },
   {
    "duration": 16,
    "start_time": "2022-10-03T14:08:04.442Z"
   },
   {
    "duration": 14,
    "start_time": "2022-10-03T14:29:26.489Z"
   },
   {
    "duration": 14,
    "start_time": "2022-10-03T14:29:38.033Z"
   },
   {
    "duration": 16,
    "start_time": "2022-10-03T14:31:42.095Z"
   },
   {
    "duration": 18,
    "start_time": "2022-10-03T14:32:15.700Z"
   },
   {
    "duration": 13,
    "start_time": "2022-10-03T14:36:50.428Z"
   },
   {
    "duration": 62,
    "start_time": "2022-10-04T07:16:14.572Z"
   },
   {
    "duration": 54,
    "start_time": "2022-10-04T07:17:23.276Z"
   },
   {
    "duration": 47,
    "start_time": "2022-10-04T07:18:05.328Z"
   },
   {
    "duration": 1256,
    "start_time": "2022-10-04T07:18:13.043Z"
   },
   {
    "duration": 115,
    "start_time": "2022-10-04T07:18:14.301Z"
   },
   {
    "duration": 34,
    "start_time": "2022-10-04T07:18:14.417Z"
   },
   {
    "duration": 7,
    "start_time": "2022-10-04T07:18:14.454Z"
   },
   {
    "duration": 22,
    "start_time": "2022-10-04T07:18:14.463Z"
   },
   {
    "duration": 38,
    "start_time": "2022-10-04T07:18:14.487Z"
   },
   {
    "duration": 584,
    "start_time": "2022-10-04T07:18:14.527Z"
   },
   {
    "duration": 9,
    "start_time": "2022-10-04T07:18:15.112Z"
   },
   {
    "duration": 8,
    "start_time": "2022-10-04T07:18:15.123Z"
   },
   {
    "duration": 2405,
    "start_time": "2022-10-04T07:18:15.133Z"
   },
   {
    "duration": 5,
    "start_time": "2022-10-04T07:18:17.539Z"
   },
   {
    "duration": 16,
    "start_time": "2022-10-04T07:18:17.545Z"
   },
   {
    "duration": 12,
    "start_time": "2022-10-04T07:18:17.563Z"
   },
   {
    "duration": 6,
    "start_time": "2022-10-04T07:18:17.576Z"
   },
   {
    "duration": 39,
    "start_time": "2022-10-04T07:18:17.584Z"
   },
   {
    "duration": 17,
    "start_time": "2022-10-04T07:18:17.624Z"
   },
   {
    "duration": 154,
    "start_time": "2022-10-04T07:18:17.642Z"
   },
   {
    "duration": 14,
    "start_time": "2022-10-04T07:18:17.797Z"
   },
   {
    "duration": 144,
    "start_time": "2022-10-04T07:18:17.812Z"
   },
   {
    "duration": 8,
    "start_time": "2022-10-04T07:18:17.958Z"
   },
   {
    "duration": 2349,
    "start_time": "2022-10-04T07:18:17.968Z"
   },
   {
    "duration": 6,
    "start_time": "2022-10-04T07:18:20.318Z"
   },
   {
    "duration": 11,
    "start_time": "2022-10-04T07:18:20.325Z"
   },
   {
    "duration": 5,
    "start_time": "2022-10-04T07:18:20.337Z"
   },
   {
    "duration": 15,
    "start_time": "2022-10-04T07:18:20.344Z"
   },
   {
    "duration": 238,
    "start_time": "2022-10-04T07:18:20.360Z"
   },
   {
    "duration": 325,
    "start_time": "2022-10-04T07:18:20.599Z"
   },
   {
    "duration": 12,
    "start_time": "2022-10-04T07:18:20.927Z"
   },
   {
    "duration": 596,
    "start_time": "2022-10-04T07:18:20.941Z"
   },
   {
    "duration": 19,
    "start_time": "2022-10-04T07:18:51.199Z"
   },
   {
    "duration": 12,
    "start_time": "2022-10-04T07:19:14.910Z"
   },
   {
    "duration": 12,
    "start_time": "2022-10-04T07:20:34.984Z"
   },
   {
    "duration": 13,
    "start_time": "2022-10-04T07:24:13.020Z"
   },
   {
    "duration": 13,
    "start_time": "2022-10-04T07:24:41.921Z"
   },
   {
    "duration": 16,
    "start_time": "2022-10-04T07:24:56.487Z"
   },
   {
    "duration": 13,
    "start_time": "2022-10-04T07:25:27.557Z"
   },
   {
    "duration": 17,
    "start_time": "2022-10-04T07:27:42.103Z"
   },
   {
    "duration": 2,
    "start_time": "2022-10-04T07:34:15.174Z"
   },
   {
    "duration": 54,
    "start_time": "2022-10-04T07:34:15.178Z"
   },
   {
    "duration": 18,
    "start_time": "2022-10-04T07:34:15.234Z"
   },
   {
    "duration": 7,
    "start_time": "2022-10-04T07:34:15.254Z"
   },
   {
    "duration": 17,
    "start_time": "2022-10-04T07:34:15.262Z"
   },
   {
    "duration": 32,
    "start_time": "2022-10-04T07:34:15.280Z"
   },
   {
    "duration": 620,
    "start_time": "2022-10-04T07:34:15.313Z"
   },
   {
    "duration": 9,
    "start_time": "2022-10-04T07:34:15.935Z"
   },
   {
    "duration": 14,
    "start_time": "2022-10-04T07:34:15.946Z"
   },
   {
    "duration": 2410,
    "start_time": "2022-10-04T07:34:15.961Z"
   },
   {
    "duration": 5,
    "start_time": "2022-10-04T07:34:18.372Z"
   },
   {
    "duration": 15,
    "start_time": "2022-10-04T07:34:18.378Z"
   },
   {
    "duration": 22,
    "start_time": "2022-10-04T07:34:18.394Z"
   },
   {
    "duration": 7,
    "start_time": "2022-10-04T07:34:18.417Z"
   },
   {
    "duration": 18,
    "start_time": "2022-10-04T07:34:18.425Z"
   },
   {
    "duration": 17,
    "start_time": "2022-10-04T07:34:18.445Z"
   },
   {
    "duration": 165,
    "start_time": "2022-10-04T07:34:18.463Z"
   },
   {
    "duration": 8,
    "start_time": "2022-10-04T07:34:18.630Z"
   },
   {
    "duration": 152,
    "start_time": "2022-10-04T07:34:18.639Z"
   },
   {
    "duration": 16,
    "start_time": "2022-10-04T07:34:18.793Z"
   },
   {
    "duration": 2318,
    "start_time": "2022-10-04T07:34:18.811Z"
   },
   {
    "duration": 6,
    "start_time": "2022-10-04T07:34:21.130Z"
   },
   {
    "duration": 8,
    "start_time": "2022-10-04T07:34:21.137Z"
   },
   {
    "duration": 6,
    "start_time": "2022-10-04T07:34:21.148Z"
   },
   {
    "duration": 18,
    "start_time": "2022-10-04T07:34:21.155Z"
   },
   {
    "duration": 241,
    "start_time": "2022-10-04T07:34:21.174Z"
   },
   {
    "duration": 328,
    "start_time": "2022-10-04T07:34:21.417Z"
   },
   {
    "duration": 13,
    "start_time": "2022-10-04T07:34:21.746Z"
   },
   {
    "duration": 12,
    "start_time": "2022-10-04T07:34:21.760Z"
   },
   {
    "duration": 29,
    "start_time": "2022-10-04T07:36:06.481Z"
   },
   {
    "duration": 202,
    "start_time": "2022-10-04T07:36:49.554Z"
   },
   {
    "duration": 232,
    "start_time": "2022-10-04T07:37:49.907Z"
   },
   {
    "duration": 17,
    "start_time": "2022-10-04T07:39:28.969Z"
   },
   {
    "duration": 3,
    "start_time": "2022-10-04T07:39:42.461Z"
   },
   {
    "duration": 51,
    "start_time": "2022-10-04T07:39:42.466Z"
   },
   {
    "duration": 17,
    "start_time": "2022-10-04T07:39:42.519Z"
   },
   {
    "duration": 6,
    "start_time": "2022-10-04T07:39:42.537Z"
   },
   {
    "duration": 15,
    "start_time": "2022-10-04T07:39:42.544Z"
   },
   {
    "duration": 12,
    "start_time": "2022-10-04T07:39:42.561Z"
   },
   {
    "duration": 646,
    "start_time": "2022-10-04T07:39:42.575Z"
   },
   {
    "duration": 9,
    "start_time": "2022-10-04T07:39:43.222Z"
   },
   {
    "duration": 9,
    "start_time": "2022-10-04T07:39:43.232Z"
   },
   {
    "duration": 2393,
    "start_time": "2022-10-04T07:39:43.243Z"
   },
   {
    "duration": 5,
    "start_time": "2022-10-04T07:39:45.638Z"
   },
   {
    "duration": 15,
    "start_time": "2022-10-04T07:39:45.644Z"
   },
   {
    "duration": 16,
    "start_time": "2022-10-04T07:39:45.660Z"
   },
   {
    "duration": 7,
    "start_time": "2022-10-04T07:39:45.677Z"
   },
   {
    "duration": 36,
    "start_time": "2022-10-04T07:39:45.686Z"
   },
   {
    "duration": 16,
    "start_time": "2022-10-04T07:39:45.724Z"
   },
   {
    "duration": 151,
    "start_time": "2022-10-04T07:39:45.742Z"
   },
   {
    "duration": 15,
    "start_time": "2022-10-04T07:39:45.895Z"
   },
   {
    "duration": 152,
    "start_time": "2022-10-04T07:39:45.911Z"
   },
   {
    "duration": 8,
    "start_time": "2022-10-04T07:39:46.065Z"
   },
   {
    "duration": 2507,
    "start_time": "2022-10-04T07:39:46.075Z"
   },
   {
    "duration": 6,
    "start_time": "2022-10-04T07:39:48.583Z"
   },
   {
    "duration": 8,
    "start_time": "2022-10-04T07:39:48.591Z"
   },
   {
    "duration": 6,
    "start_time": "2022-10-04T07:39:48.609Z"
   },
   {
    "duration": 16,
    "start_time": "2022-10-04T07:39:48.616Z"
   },
   {
    "duration": 232,
    "start_time": "2022-10-04T07:39:48.633Z"
   },
   {
    "duration": 333,
    "start_time": "2022-10-04T07:39:48.866Z"
   },
   {
    "duration": 15,
    "start_time": "2022-10-04T07:39:49.202Z"
   },
   {
    "duration": 16,
    "start_time": "2022-10-04T07:39:49.218Z"
   },
   {
    "duration": 26,
    "start_time": "2022-10-04T07:40:58.233Z"
   },
   {
    "duration": 19,
    "start_time": "2022-10-04T07:41:09.414Z"
   },
   {
    "duration": 170,
    "start_time": "2022-10-04T08:05:27.738Z"
   },
   {
    "duration": 346,
    "start_time": "2022-10-04T08:05:50.344Z"
   },
   {
    "duration": 154,
    "start_time": "2022-10-04T08:06:00.285Z"
   },
   {
    "duration": 159,
    "start_time": "2022-10-04T08:06:19.986Z"
   },
   {
    "duration": 771,
    "start_time": "2022-10-04T08:06:28.760Z"
   },
   {
    "duration": 790,
    "start_time": "2022-10-04T08:06:59.433Z"
   },
   {
    "duration": 151,
    "start_time": "2022-10-04T08:07:33.602Z"
   },
   {
    "duration": 421,
    "start_time": "2022-10-04T08:08:31.505Z"
   },
   {
    "duration": 464,
    "start_time": "2022-10-04T08:08:46.238Z"
   },
   {
    "duration": 455,
    "start_time": "2022-10-04T08:09:19.126Z"
   },
   {
    "duration": 454,
    "start_time": "2022-10-04T08:11:19.415Z"
   },
   {
    "duration": 444,
    "start_time": "2022-10-04T08:12:19.954Z"
   },
   {
    "duration": 498,
    "start_time": "2022-10-04T08:12:28.088Z"
   },
   {
    "duration": 415,
    "start_time": "2022-10-04T08:12:41.598Z"
   },
   {
    "duration": 602,
    "start_time": "2022-10-04T08:17:59.982Z"
   },
   {
    "duration": 696,
    "start_time": "2022-10-04T08:18:18.589Z"
   },
   {
    "duration": 633,
    "start_time": "2022-10-04T08:18:29.741Z"
   },
   {
    "duration": 615,
    "start_time": "2022-10-04T08:19:22.304Z"
   },
   {
    "duration": 224,
    "start_time": "2022-10-04T08:20:17.610Z"
   },
   {
    "duration": 385,
    "start_time": "2022-10-04T08:21:51.195Z"
   },
   {
    "duration": 88,
    "start_time": "2022-10-04T08:22:38.212Z"
   },
   {
    "duration": 2210,
    "start_time": "2022-10-04T08:23:21.054Z"
   },
   {
    "duration": 694,
    "start_time": "2022-10-04T08:24:51.447Z"
   },
   {
    "duration": 646,
    "start_time": "2022-10-04T08:28:32.755Z"
   },
   {
    "duration": 956,
    "start_time": "2022-10-04T08:28:58.321Z"
   },
   {
    "duration": 6,
    "start_time": "2022-10-04T08:38:13.115Z"
   },
   {
    "duration": 33,
    "start_time": "2022-10-04T08:38:13.181Z"
   },
   {
    "duration": 27,
    "start_time": "2022-10-04T08:38:13.250Z"
   },
   {
    "duration": 8,
    "start_time": "2022-10-04T08:38:13.321Z"
   },
   {
    "duration": 11,
    "start_time": "2022-10-04T08:38:13.972Z"
   },
   {
    "duration": 12,
    "start_time": "2022-10-04T08:38:14.027Z"
   },
   {
    "duration": 624,
    "start_time": "2022-10-04T08:38:14.732Z"
   },
   {
    "duration": 8,
    "start_time": "2022-10-04T08:38:17.726Z"
   },
   {
    "duration": 8,
    "start_time": "2022-10-04T08:38:17.753Z"
   },
   {
    "duration": 2341,
    "start_time": "2022-10-04T08:38:20.125Z"
   },
   {
    "duration": 20,
    "start_time": "2022-10-04T08:38:22.489Z"
   },
   {
    "duration": 9,
    "start_time": "2022-10-04T08:38:22.528Z"
   },
   {
    "duration": 8,
    "start_time": "2022-10-04T08:38:22.581Z"
   },
   {
    "duration": 7,
    "start_time": "2022-10-04T08:38:22.634Z"
   },
   {
    "duration": 17,
    "start_time": "2022-10-04T08:38:22.823Z"
   },
   {
    "duration": 17,
    "start_time": "2022-10-04T08:38:22.868Z"
   },
   {
    "duration": 143,
    "start_time": "2022-10-04T08:38:23.203Z"
   },
   {
    "duration": 12,
    "start_time": "2022-10-04T08:38:23.365Z"
   },
   {
    "duration": 147,
    "start_time": "2022-10-04T08:38:25.938Z"
   },
   {
    "duration": 12,
    "start_time": "2022-10-04T08:38:26.118Z"
   },
   {
    "duration": 0,
    "start_time": "2022-10-04T08:38:26.163Z"
   },
   {
    "duration": 0,
    "start_time": "2022-10-04T08:38:26.165Z"
   },
   {
    "duration": 0,
    "start_time": "2022-10-04T08:38:26.167Z"
   },
   {
    "duration": 0,
    "start_time": "2022-10-04T08:38:26.170Z"
   },
   {
    "duration": 0,
    "start_time": "2022-10-04T08:38:26.173Z"
   },
   {
    "duration": 0,
    "start_time": "2022-10-04T08:38:26.209Z"
   },
   {
    "duration": 0,
    "start_time": "2022-10-04T08:38:26.212Z"
   },
   {
    "duration": 0,
    "start_time": "2022-10-04T08:38:26.216Z"
   },
   {
    "duration": 0,
    "start_time": "2022-10-04T08:38:26.219Z"
   },
   {
    "duration": 0,
    "start_time": "2022-10-04T08:38:26.223Z"
   },
   {
    "duration": 18,
    "start_time": "2022-10-04T08:38:43.375Z"
   },
   {
    "duration": 17,
    "start_time": "2022-10-04T08:39:32.923Z"
   },
   {
    "duration": 6,
    "start_time": "2022-10-04T08:39:42.665Z"
   },
   {
    "duration": 8,
    "start_time": "2022-10-04T08:39:45.441Z"
   },
   {
    "duration": 7,
    "start_time": "2022-10-04T08:39:48.649Z"
   },
   {
    "duration": 16,
    "start_time": "2022-10-04T08:39:53.192Z"
   },
   {
    "duration": 221,
    "start_time": "2022-10-04T08:40:03.178Z"
   },
   {
    "duration": 324,
    "start_time": "2022-10-04T08:40:12.820Z"
   },
   {
    "duration": 14,
    "start_time": "2022-10-04T08:40:19.273Z"
   },
   {
    "duration": 622,
    "start_time": "2022-10-04T08:40:23.242Z"
   },
   {
    "duration": 0,
    "start_time": "2022-10-04T08:54:58.416Z"
   },
   {
    "duration": 0,
    "start_time": "2022-10-04T08:54:58.416Z"
   },
   {
    "duration": 0,
    "start_time": "2022-10-04T08:54:58.417Z"
   },
   {
    "duration": 0,
    "start_time": "2022-10-04T08:54:58.418Z"
   },
   {
    "duration": 0,
    "start_time": "2022-10-04T08:54:58.419Z"
   },
   {
    "duration": 0,
    "start_time": "2022-10-04T08:54:58.420Z"
   },
   {
    "duration": 0,
    "start_time": "2022-10-04T08:54:58.421Z"
   },
   {
    "duration": 0,
    "start_time": "2022-10-04T08:54:58.421Z"
   },
   {
    "duration": 0,
    "start_time": "2022-10-04T08:54:58.422Z"
   },
   {
    "duration": 0,
    "start_time": "2022-10-04T08:54:58.423Z"
   },
   {
    "duration": 0,
    "start_time": "2022-10-04T08:54:58.424Z"
   },
   {
    "duration": 0,
    "start_time": "2022-10-04T08:54:58.425Z"
   },
   {
    "duration": 0,
    "start_time": "2022-10-04T08:54:58.425Z"
   },
   {
    "duration": 0,
    "start_time": "2022-10-04T08:54:58.426Z"
   },
   {
    "duration": 0,
    "start_time": "2022-10-04T08:54:58.427Z"
   },
   {
    "duration": 0,
    "start_time": "2022-10-04T08:54:58.428Z"
   },
   {
    "duration": 0,
    "start_time": "2022-10-04T08:54:58.429Z"
   },
   {
    "duration": 0,
    "start_time": "2022-10-04T08:54:58.429Z"
   },
   {
    "duration": 0,
    "start_time": "2022-10-04T08:54:58.430Z"
   },
   {
    "duration": 0,
    "start_time": "2022-10-04T08:54:58.431Z"
   },
   {
    "duration": 0,
    "start_time": "2022-10-04T08:54:58.432Z"
   },
   {
    "duration": 0,
    "start_time": "2022-10-04T08:54:58.433Z"
   },
   {
    "duration": 0,
    "start_time": "2022-10-04T08:54:58.434Z"
   },
   {
    "duration": 0,
    "start_time": "2022-10-04T08:54:58.435Z"
   },
   {
    "duration": 0,
    "start_time": "2022-10-04T08:54:58.435Z"
   },
   {
    "duration": 0,
    "start_time": "2022-10-04T08:54:58.436Z"
   },
   {
    "duration": 0,
    "start_time": "2022-10-04T08:54:58.437Z"
   },
   {
    "duration": 0,
    "start_time": "2022-10-04T08:54:58.438Z"
   },
   {
    "duration": 0,
    "start_time": "2022-10-04T08:54:58.439Z"
   },
   {
    "duration": 0,
    "start_time": "2022-10-04T08:54:58.440Z"
   },
   {
    "duration": 1321,
    "start_time": "2022-10-04T11:16:34.714Z"
   },
   {
    "duration": 108,
    "start_time": "2022-10-04T11:16:36.037Z"
   },
   {
    "duration": 27,
    "start_time": "2022-10-04T11:16:36.147Z"
   },
   {
    "duration": 7,
    "start_time": "2022-10-04T11:16:36.181Z"
   },
   {
    "duration": 25,
    "start_time": "2022-10-04T11:16:36.189Z"
   },
   {
    "duration": 37,
    "start_time": "2022-10-04T11:16:36.216Z"
   },
   {
    "duration": 648,
    "start_time": "2022-10-04T11:16:36.255Z"
   },
   {
    "duration": 10,
    "start_time": "2022-10-04T11:16:36.904Z"
   },
   {
    "duration": 23,
    "start_time": "2022-10-04T11:16:36.915Z"
   },
   {
    "duration": 2831,
    "start_time": "2022-10-04T11:16:36.941Z"
   },
   {
    "duration": 6,
    "start_time": "2022-10-04T11:16:39.775Z"
   },
   {
    "duration": 18,
    "start_time": "2022-10-04T11:16:39.782Z"
   },
   {
    "duration": 12,
    "start_time": "2022-10-04T11:16:39.801Z"
   },
   {
    "duration": 32,
    "start_time": "2022-10-04T11:16:39.814Z"
   },
   {
    "duration": 27,
    "start_time": "2022-10-04T11:16:39.847Z"
   },
   {
    "duration": 18,
    "start_time": "2022-10-04T11:16:39.876Z"
   },
   {
    "duration": 174,
    "start_time": "2022-10-04T11:16:39.895Z"
   },
   {
    "duration": 9,
    "start_time": "2022-10-04T11:16:40.071Z"
   },
   {
    "duration": 159,
    "start_time": "2022-10-04T11:16:40.082Z"
   },
   {
    "duration": 11,
    "start_time": "2022-10-04T11:16:40.243Z"
   },
   {
    "duration": 2814,
    "start_time": "2022-10-04T11:16:40.255Z"
   },
   {
    "duration": 7,
    "start_time": "2022-10-04T11:16:43.070Z"
   },
   {
    "duration": 10,
    "start_time": "2022-10-04T11:16:43.078Z"
   },
   {
    "duration": 7,
    "start_time": "2022-10-04T11:16:43.089Z"
   },
   {
    "duration": 17,
    "start_time": "2022-10-04T11:16:43.098Z"
   },
   {
    "duration": 230,
    "start_time": "2022-10-04T11:16:43.144Z"
   },
   {
    "duration": 378,
    "start_time": "2022-10-04T11:16:43.375Z"
   },
   {
    "duration": 12,
    "start_time": "2022-10-04T11:16:43.756Z"
   },
   {
    "duration": 714,
    "start_time": "2022-10-04T11:16:43.769Z"
   },
   {
    "duration": 328673,
    "start_time": "2022-10-04T11:16:44.485Z"
   },
   {
    "duration": 14,
    "start_time": "2022-10-04T11:25:02.747Z"
   },
   {
    "duration": 17,
    "start_time": "2022-10-04T11:25:46.409Z"
   },
   {
    "duration": 13,
    "start_time": "2022-10-04T11:26:01.796Z"
   },
   {
    "duration": 14,
    "start_time": "2022-10-04T11:26:31.393Z"
   },
   {
    "duration": 114,
    "start_time": "2022-10-04T11:27:04.610Z"
   },
   {
    "duration": 12,
    "start_time": "2022-10-04T11:27:47.069Z"
   },
   {
    "duration": 18,
    "start_time": "2022-10-04T11:28:53.809Z"
   },
   {
    "duration": 20,
    "start_time": "2022-10-04T11:29:11.047Z"
   },
   {
    "duration": 25,
    "start_time": "2022-10-04T11:29:41.445Z"
   },
   {
    "duration": 22,
    "start_time": "2022-10-04T11:33:16.323Z"
   },
   {
    "duration": 14,
    "start_time": "2022-10-04T11:46:27.625Z"
   },
   {
    "duration": 35,
    "start_time": "2022-10-04T11:46:36.622Z"
   },
   {
    "duration": 17,
    "start_time": "2022-10-04T11:48:57.045Z"
   },
   {
    "duration": 12,
    "start_time": "2022-10-04T11:54:01.184Z"
   },
   {
    "duration": 15,
    "start_time": "2022-10-04T11:54:40.474Z"
   },
   {
    "duration": 255,
    "start_time": "2022-10-04T11:55:07.284Z"
   },
   {
    "duration": 16,
    "start_time": "2022-10-04T11:56:36.586Z"
   },
   {
    "duration": 1253,
    "start_time": "2022-10-04T11:56:39.659Z"
   },
   {
    "duration": 1150,
    "start_time": "2022-10-04T11:57:00.058Z"
   },
   {
    "duration": 315,
    "start_time": "2022-10-04T11:57:21.346Z"
   },
   {
    "duration": 234,
    "start_time": "2022-10-04T11:59:05.180Z"
   },
   {
    "duration": 231,
    "start_time": "2022-10-04T12:00:23.539Z"
   },
   {
    "duration": 17,
    "start_time": "2022-10-04T12:03:48.033Z"
   },
   {
    "duration": 246,
    "start_time": "2022-10-04T12:04:14.333Z"
   },
   {
    "duration": 14,
    "start_time": "2022-10-04T12:04:19.729Z"
   },
   {
    "duration": 10,
    "start_time": "2022-10-04T12:04:36.518Z"
   },
   {
    "duration": 8,
    "start_time": "2022-10-04T12:06:02.646Z"
   },
   {
    "duration": 24,
    "start_time": "2022-10-04T12:07:35.821Z"
   },
   {
    "duration": 12,
    "start_time": "2022-10-04T12:07:47.784Z"
   },
   {
    "duration": 16,
    "start_time": "2022-10-04T12:09:48.794Z"
   },
   {
    "duration": 749,
    "start_time": "2022-10-04T12:22:48.930Z"
   },
   {
    "duration": 32,
    "start_time": "2022-10-04T12:23:27.321Z"
   },
   {
    "duration": 16,
    "start_time": "2022-10-04T12:23:46.274Z"
   },
   {
    "duration": 17,
    "start_time": "2022-10-04T12:30:05.600Z"
   },
   {
    "duration": 13,
    "start_time": "2022-10-04T12:40:50.716Z"
   },
   {
    "duration": 15,
    "start_time": "2022-10-04T12:42:20.716Z"
   },
   {
    "duration": 14,
    "start_time": "2022-10-04T12:42:48.470Z"
   },
   {
    "duration": 14,
    "start_time": "2022-10-04T12:45:02.802Z"
   },
   {
    "duration": 58,
    "start_time": "2022-10-04T12:58:13.546Z"
   },
   {
    "duration": 1297,
    "start_time": "2022-10-04T12:58:31.529Z"
   },
   {
    "duration": 118,
    "start_time": "2022-10-04T12:58:32.828Z"
   },
   {
    "duration": 25,
    "start_time": "2022-10-04T12:58:32.948Z"
   },
   {
    "duration": 5,
    "start_time": "2022-10-04T12:58:32.975Z"
   },
   {
    "duration": 22,
    "start_time": "2022-10-04T12:58:32.982Z"
   },
   {
    "duration": 20,
    "start_time": "2022-10-04T12:58:33.005Z"
   },
   {
    "duration": 656,
    "start_time": "2022-10-04T12:58:33.026Z"
   },
   {
    "duration": 10,
    "start_time": "2022-10-04T12:58:33.684Z"
   },
   {
    "duration": 10,
    "start_time": "2022-10-04T12:58:33.695Z"
   },
   {
    "duration": 3090,
    "start_time": "2022-10-04T12:58:33.706Z"
   },
   {
    "duration": 5,
    "start_time": "2022-10-04T12:58:36.798Z"
   },
   {
    "duration": 22,
    "start_time": "2022-10-04T12:58:36.805Z"
   },
   {
    "duration": 25,
    "start_time": "2022-10-04T12:58:36.833Z"
   },
   {
    "duration": 9,
    "start_time": "2022-10-04T12:58:36.861Z"
   },
   {
    "duration": 28,
    "start_time": "2022-10-04T12:58:36.871Z"
   },
   {
    "duration": 18,
    "start_time": "2022-10-04T12:58:36.901Z"
   },
   {
    "duration": 166,
    "start_time": "2022-10-04T12:58:36.944Z"
   },
   {
    "duration": 8,
    "start_time": "2022-10-04T12:58:37.112Z"
   },
   {
    "duration": 168,
    "start_time": "2022-10-04T12:58:37.122Z"
   },
   {
    "duration": 9,
    "start_time": "2022-10-04T12:58:37.292Z"
   },
   {
    "duration": 3074,
    "start_time": "2022-10-04T12:58:37.303Z"
   },
   {
    "duration": 7,
    "start_time": "2022-10-04T12:58:40.378Z"
   },
   {
    "duration": 12,
    "start_time": "2022-10-04T12:58:40.386Z"
   },
   {
    "duration": 7,
    "start_time": "2022-10-04T12:58:40.400Z"
   },
   {
    "duration": 42,
    "start_time": "2022-10-04T12:58:40.409Z"
   },
   {
    "duration": 246,
    "start_time": "2022-10-04T12:58:40.452Z"
   },
   {
    "duration": 390,
    "start_time": "2022-10-04T12:58:40.699Z"
   },
   {
    "duration": 17,
    "start_time": "2022-10-04T12:58:41.091Z"
   },
   {
    "duration": 37,
    "start_time": "2022-10-04T12:58:41.109Z"
   },
   {
    "duration": 759,
    "start_time": "2022-10-04T12:58:41.148Z"
   },
   {
    "duration": 68,
    "start_time": "2022-10-04T12:59:12.078Z"
   },
   {
    "duration": 1423,
    "start_time": "2022-10-04T12:59:20.046Z"
   },
   {
    "duration": 108,
    "start_time": "2022-10-04T12:59:21.471Z"
   },
   {
    "duration": 24,
    "start_time": "2022-10-04T12:59:21.581Z"
   },
   {
    "duration": 4,
    "start_time": "2022-10-04T12:59:21.607Z"
   },
   {
    "duration": 37,
    "start_time": "2022-10-04T12:59:21.613Z"
   },
   {
    "duration": 16,
    "start_time": "2022-10-04T12:59:21.652Z"
   },
   {
    "duration": 651,
    "start_time": "2022-10-04T12:59:21.669Z"
   },
   {
    "duration": 22,
    "start_time": "2022-10-04T12:59:22.322Z"
   },
   {
    "duration": 14,
    "start_time": "2022-10-04T12:59:22.346Z"
   },
   {
    "duration": 2908,
    "start_time": "2022-10-04T12:59:22.361Z"
   },
   {
    "duration": 5,
    "start_time": "2022-10-04T12:59:25.271Z"
   },
   {
    "duration": 20,
    "start_time": "2022-10-04T12:59:25.277Z"
   },
   {
    "duration": 12,
    "start_time": "2022-10-04T12:59:25.298Z"
   },
   {
    "duration": 33,
    "start_time": "2022-10-04T12:59:25.313Z"
   },
   {
    "duration": 22,
    "start_time": "2022-10-04T12:59:25.349Z"
   },
   {
    "duration": 18,
    "start_time": "2022-10-04T12:59:25.373Z"
   },
   {
    "duration": 192,
    "start_time": "2022-10-04T12:59:25.392Z"
   },
   {
    "duration": 9,
    "start_time": "2022-10-04T12:59:25.585Z"
   },
   {
    "duration": 178,
    "start_time": "2022-10-04T12:59:25.596Z"
   },
   {
    "duration": 9,
    "start_time": "2022-10-04T12:59:25.775Z"
   },
   {
    "duration": 3071,
    "start_time": "2022-10-04T12:59:25.785Z"
   },
   {
    "duration": 8,
    "start_time": "2022-10-04T12:59:28.858Z"
   },
   {
    "duration": 14,
    "start_time": "2022-10-04T12:59:28.867Z"
   },
   {
    "duration": 8,
    "start_time": "2022-10-04T12:59:28.882Z"
   },
   {
    "duration": 19,
    "start_time": "2022-10-04T12:59:28.892Z"
   },
   {
    "duration": 266,
    "start_time": "2022-10-04T12:59:28.912Z"
   },
   {
    "duration": 389,
    "start_time": "2022-10-04T12:59:29.180Z"
   },
   {
    "duration": 16,
    "start_time": "2022-10-04T12:59:29.571Z"
   },
   {
    "duration": 14,
    "start_time": "2022-10-04T12:59:29.589Z"
   },
   {
    "duration": 783,
    "start_time": "2022-10-04T12:59:29.605Z"
   },
   {
    "duration": 65,
    "start_time": "2022-10-04T13:01:43.729Z"
   },
   {
    "duration": 7,
    "start_time": "2022-10-04T13:02:41.258Z"
   },
   {
    "duration": 8,
    "start_time": "2022-10-04T13:02:59.467Z"
   },
   {
    "duration": 8,
    "start_time": "2022-10-04T13:03:04.059Z"
   },
   {
    "duration": 1318,
    "start_time": "2022-10-04T13:03:07.155Z"
   },
   {
    "duration": 3,
    "start_time": "2022-10-04T13:03:10.798Z"
   },
   {
    "duration": 103,
    "start_time": "2022-10-04T13:03:10.803Z"
   },
   {
    "duration": 24,
    "start_time": "2022-10-04T13:03:10.907Z"
   },
   {
    "duration": 15,
    "start_time": "2022-10-04T13:03:10.933Z"
   },
   {
    "duration": 14,
    "start_time": "2022-10-04T13:03:10.952Z"
   },
   {
    "duration": 14,
    "start_time": "2022-10-04T13:03:10.968Z"
   },
   {
    "duration": 665,
    "start_time": "2022-10-04T13:03:10.984Z"
   },
   {
    "duration": 10,
    "start_time": "2022-10-04T13:03:11.651Z"
   },
   {
    "duration": 11,
    "start_time": "2022-10-04T13:03:11.663Z"
   },
   {
    "duration": 2847,
    "start_time": "2022-10-04T13:03:11.675Z"
   },
   {
    "duration": 5,
    "start_time": "2022-10-04T13:03:14.523Z"
   },
   {
    "duration": 21,
    "start_time": "2022-10-04T13:03:14.535Z"
   },
   {
    "duration": 13,
    "start_time": "2022-10-04T13:03:14.559Z"
   },
   {
    "duration": 8,
    "start_time": "2022-10-04T13:03:14.574Z"
   },
   {
    "duration": 20,
    "start_time": "2022-10-04T13:03:14.584Z"
   },
   {
    "duration": 53,
    "start_time": "2022-10-04T13:03:14.606Z"
   },
   {
    "duration": 162,
    "start_time": "2022-10-04T13:03:14.661Z"
   },
   {
    "duration": 20,
    "start_time": "2022-10-04T13:03:14.825Z"
   },
   {
    "duration": 172,
    "start_time": "2022-10-04T13:03:14.848Z"
   },
   {
    "duration": 24,
    "start_time": "2022-10-04T13:03:15.022Z"
   },
   {
    "duration": 3008,
    "start_time": "2022-10-04T13:03:15.049Z"
   },
   {
    "duration": 8,
    "start_time": "2022-10-04T13:03:18.058Z"
   },
   {
    "duration": 31,
    "start_time": "2022-10-04T13:03:18.068Z"
   },
   {
    "duration": 38,
    "start_time": "2022-10-04T13:03:18.101Z"
   },
   {
    "duration": 47,
    "start_time": "2022-10-04T13:03:18.140Z"
   },
   {
    "duration": 264,
    "start_time": "2022-10-04T13:03:18.189Z"
   },
   {
    "duration": 395,
    "start_time": "2022-10-04T13:03:18.455Z"
   },
   {
    "duration": 15,
    "start_time": "2022-10-04T13:03:18.851Z"
   },
   {
    "duration": 13,
    "start_time": "2022-10-04T13:03:18.868Z"
   },
   {
    "duration": 771,
    "start_time": "2022-10-04T13:03:18.882Z"
   },
   {
    "duration": 69,
    "start_time": "2022-10-04T13:03:19.654Z"
   },
   {
    "duration": 739,
    "start_time": "2022-10-04T13:06:38.409Z"
   },
   {
    "duration": 575,
    "start_time": "2022-10-04T13:10:31.405Z"
   },
   {
    "duration": 26,
    "start_time": "2022-10-04T13:11:04.963Z"
   },
   {
    "duration": 24,
    "start_time": "2022-10-04T13:11:11.272Z"
   },
   {
    "duration": 26,
    "start_time": "2022-10-04T13:11:25.500Z"
   },
   {
    "duration": 14,
    "start_time": "2022-10-04T13:13:05.982Z"
   },
   {
    "duration": 8,
    "start_time": "2022-10-04T13:19:41.382Z"
   },
   {
    "duration": 19,
    "start_time": "2022-10-04T13:20:02.853Z"
   },
   {
    "duration": 10,
    "start_time": "2022-10-04T13:20:11.207Z"
   },
   {
    "duration": 9,
    "start_time": "2022-10-04T13:20:19.509Z"
   },
   {
    "duration": 7,
    "start_time": "2022-10-04T13:21:02.659Z"
   },
   {
    "duration": 9,
    "start_time": "2022-10-04T13:23:02.553Z"
   },
   {
    "duration": 2,
    "start_time": "2022-10-04T13:23:57.880Z"
   },
   {
    "duration": 24,
    "start_time": "2022-10-04T13:25:06.765Z"
   },
   {
    "duration": 4,
    "start_time": "2022-10-04T13:25:15.697Z"
   },
   {
    "duration": 14,
    "start_time": "2022-10-04T13:26:21.483Z"
   },
   {
    "duration": 8,
    "start_time": "2022-10-04T13:27:31.057Z"
   },
   {
    "duration": 15,
    "start_time": "2022-10-04T13:45:50.962Z"
   },
   {
    "duration": 10,
    "start_time": "2022-10-04T13:46:24.263Z"
   },
   {
    "duration": 9,
    "start_time": "2022-10-04T13:46:39.399Z"
   },
   {
    "duration": 5,
    "start_time": "2022-10-04T13:46:52.529Z"
   },
   {
    "duration": 11,
    "start_time": "2022-10-04T13:47:08.330Z"
   },
   {
    "duration": 658,
    "start_time": "2022-10-04T13:50:29.527Z"
   },
   {
    "duration": 26,
    "start_time": "2022-10-04T13:51:46.805Z"
   },
   {
    "duration": 29,
    "start_time": "2022-10-04T13:52:12.182Z"
   },
   {
    "duration": 580,
    "start_time": "2022-10-04T13:52:29.770Z"
   },
   {
    "duration": 19,
    "start_time": "2022-10-04T13:53:14.248Z"
   },
   {
    "duration": 544,
    "start_time": "2022-10-04T13:53:34.759Z"
   },
   {
    "duration": 683,
    "start_time": "2022-10-04T13:54:23.092Z"
   },
   {
    "duration": 193,
    "start_time": "2022-10-04T13:56:38.483Z"
   },
   {
    "duration": 211,
    "start_time": "2022-10-04T13:56:44.194Z"
   },
   {
    "duration": 221,
    "start_time": "2022-10-04T13:57:13.251Z"
   },
   {
    "duration": 252,
    "start_time": "2022-10-04T13:57:36.046Z"
   },
   {
    "duration": 233,
    "start_time": "2022-10-04T14:01:16.776Z"
   },
   {
    "duration": 9,
    "start_time": "2022-10-04T14:10:58.292Z"
   },
   {
    "duration": 7,
    "start_time": "2022-10-04T14:13:06.613Z"
   },
   {
    "duration": 7,
    "start_time": "2022-10-04T14:13:10.234Z"
   },
   {
    "duration": 330,
    "start_time": "2022-10-04T14:13:31.933Z"
   },
   {
    "duration": 321,
    "start_time": "2022-10-04T14:14:16.053Z"
   },
   {
    "duration": 348,
    "start_time": "2022-10-04T14:16:14.612Z"
   },
   {
    "duration": 617,
    "start_time": "2022-10-04T14:17:10.281Z"
   },
   {
    "duration": 7,
    "start_time": "2022-10-04T14:19:21.860Z"
   },
   {
    "duration": 154,
    "start_time": "2022-10-04T14:20:14.678Z"
   },
   {
    "duration": 159,
    "start_time": "2022-10-04T14:20:35.600Z"
   },
   {
    "duration": 160,
    "start_time": "2022-10-04T14:21:06.854Z"
   },
   {
    "duration": 163,
    "start_time": "2022-10-04T14:22:01.360Z"
   },
   {
    "duration": 162,
    "start_time": "2022-10-04T14:22:08.966Z"
   },
   {
    "duration": 158,
    "start_time": "2022-10-04T14:23:14.723Z"
   },
   {
    "duration": 5,
    "start_time": "2022-10-04T14:23:29.039Z"
   },
   {
    "duration": 46,
    "start_time": "2022-10-05T06:53:10.285Z"
   },
   {
    "duration": 1330,
    "start_time": "2022-10-05T06:53:14.614Z"
   },
   {
    "duration": 104,
    "start_time": "2022-10-05T06:53:15.946Z"
   },
   {
    "duration": 24,
    "start_time": "2022-10-05T06:53:16.052Z"
   },
   {
    "duration": 24,
    "start_time": "2022-10-05T06:53:16.078Z"
   },
   {
    "duration": 34,
    "start_time": "2022-10-05T06:53:16.104Z"
   },
   {
    "duration": 25,
    "start_time": "2022-10-05T06:53:16.140Z"
   },
   {
    "duration": 682,
    "start_time": "2022-10-05T06:53:16.166Z"
   },
   {
    "duration": 9,
    "start_time": "2022-10-05T06:53:16.850Z"
   },
   {
    "duration": 13,
    "start_time": "2022-10-05T06:53:16.861Z"
   },
   {
    "duration": 2763,
    "start_time": "2022-10-05T06:53:16.876Z"
   },
   {
    "duration": 6,
    "start_time": "2022-10-05T06:53:19.640Z"
   },
   {
    "duration": 17,
    "start_time": "2022-10-05T06:53:19.648Z"
   },
   {
    "duration": 15,
    "start_time": "2022-10-05T06:53:19.666Z"
   },
   {
    "duration": 10,
    "start_time": "2022-10-05T06:53:19.684Z"
   },
   {
    "duration": 55,
    "start_time": "2022-10-05T06:53:19.696Z"
   },
   {
    "duration": 23,
    "start_time": "2022-10-05T06:53:19.754Z"
   },
   {
    "duration": 167,
    "start_time": "2022-10-05T06:53:19.779Z"
   },
   {
    "duration": 10,
    "start_time": "2022-10-05T06:53:19.947Z"
   },
   {
    "duration": 160,
    "start_time": "2022-10-05T06:53:19.958Z"
   },
   {
    "duration": 14,
    "start_time": "2022-10-05T06:53:20.120Z"
   },
   {
    "duration": 2764,
    "start_time": "2022-10-05T06:53:20.136Z"
   },
   {
    "duration": 3,
    "start_time": "2022-10-05T06:53:22.902Z"
   },
   {
    "duration": 8,
    "start_time": "2022-10-05T06:53:22.907Z"
   },
   {
    "duration": 20,
    "start_time": "2022-10-05T06:53:22.916Z"
   },
   {
    "duration": 7,
    "start_time": "2022-10-05T06:53:22.938Z"
   },
   {
    "duration": 30,
    "start_time": "2022-10-05T06:53:22.947Z"
   },
   {
    "duration": 268,
    "start_time": "2022-10-05T06:53:22.979Z"
   },
   {
    "duration": 359,
    "start_time": "2022-10-05T06:53:23.249Z"
   },
   {
    "duration": 15,
    "start_time": "2022-10-05T06:53:23.609Z"
   },
   {
    "duration": 18,
    "start_time": "2022-10-05T06:53:23.634Z"
   },
   {
    "duration": 685,
    "start_time": "2022-10-05T06:53:23.654Z"
   },
   {
    "duration": 11,
    "start_time": "2022-10-05T06:53:24.340Z"
   },
   {
    "duration": 213,
    "start_time": "2022-10-05T06:53:24.353Z"
   },
   {
    "duration": 8,
    "start_time": "2022-10-05T06:53:24.567Z"
   },
   {
    "duration": 178,
    "start_time": "2022-10-05T06:53:24.577Z"
   },
   {
    "duration": 5,
    "start_time": "2022-10-05T06:53:24.757Z"
   },
   {
    "duration": 173,
    "start_time": "2022-10-05T06:53:24.764Z"
   },
   {
    "duration": 7,
    "start_time": "2022-10-05T06:53:24.938Z"
   },
   {
    "duration": 262,
    "start_time": "2022-10-05T06:55:24.316Z"
   },
   {
    "duration": 282,
    "start_time": "2022-10-05T06:59:35.557Z"
   },
   {
    "duration": 223,
    "start_time": "2022-10-05T07:00:18.569Z"
   },
   {
    "duration": 215,
    "start_time": "2022-10-05T07:00:23.427Z"
   },
   {
    "duration": 227,
    "start_time": "2022-10-05T07:01:07.314Z"
   },
   {
    "duration": 262,
    "start_time": "2022-10-05T07:01:22.697Z"
   },
   {
    "duration": 204,
    "start_time": "2022-10-05T07:01:30.994Z"
   },
   {
    "duration": 194,
    "start_time": "2022-10-05T07:03:28.796Z"
   },
   {
    "duration": 212,
    "start_time": "2022-10-05T07:03:40.070Z"
   },
   {
    "duration": 261,
    "start_time": "2022-10-05T07:04:24.084Z"
   },
   {
    "duration": 14,
    "start_time": "2022-10-05T07:21:12.959Z"
   },
   {
    "duration": 12,
    "start_time": "2022-10-05T07:21:37.016Z"
   },
   {
    "duration": 220,
    "start_time": "2022-10-05T07:21:52.298Z"
   },
   {
    "duration": 375,
    "start_time": "2022-10-05T07:22:09.515Z"
   },
   {
    "duration": 243,
    "start_time": "2022-10-05T07:24:34.795Z"
   },
   {
    "duration": 261,
    "start_time": "2022-10-05T07:24:44.429Z"
   },
   {
    "duration": 290,
    "start_time": "2022-10-05T07:25:46.303Z"
   },
   {
    "duration": 265,
    "start_time": "2022-10-05T07:26:13.256Z"
   },
   {
    "duration": 239,
    "start_time": "2022-10-05T07:26:20.293Z"
   },
   {
    "duration": 194,
    "start_time": "2022-10-05T07:27:07.552Z"
   },
   {
    "duration": 702,
    "start_time": "2022-10-05T07:31:33.512Z"
   },
   {
    "duration": 658,
    "start_time": "2022-10-05T07:32:24.308Z"
   },
   {
    "duration": 662,
    "start_time": "2022-10-05T07:35:25.114Z"
   },
   {
    "duration": 469,
    "start_time": "2022-10-05T07:35:45.734Z"
   },
   {
    "duration": 556,
    "start_time": "2022-10-05T07:36:15.548Z"
   },
   {
    "duration": 724,
    "start_time": "2022-10-05T07:37:34.782Z"
   },
   {
    "duration": 31,
    "start_time": "2022-10-05T07:40:39.865Z"
   },
   {
    "duration": 13,
    "start_time": "2022-10-05T07:42:12.342Z"
   },
   {
    "duration": 13,
    "start_time": "2022-10-05T07:42:17.727Z"
   },
   {
    "duration": 14,
    "start_time": "2022-10-05T07:42:36.607Z"
   },
   {
    "duration": 21,
    "start_time": "2022-10-05T07:42:45.169Z"
   },
   {
    "duration": 20,
    "start_time": "2022-10-05T07:44:20.507Z"
   },
   {
    "duration": 39,
    "start_time": "2022-10-05T07:45:05.349Z"
   },
   {
    "duration": 34,
    "start_time": "2022-10-05T07:45:21.132Z"
   },
   {
    "duration": 19,
    "start_time": "2022-10-05T07:45:28.779Z"
   },
   {
    "duration": 21,
    "start_time": "2022-10-05T07:45:36.648Z"
   },
   {
    "duration": 29,
    "start_time": "2022-10-05T07:46:09.660Z"
   },
   {
    "duration": 17,
    "start_time": "2022-10-05T07:46:28.676Z"
   },
   {
    "duration": 27,
    "start_time": "2022-10-05T07:46:50.148Z"
   },
   {
    "duration": 17,
    "start_time": "2022-10-05T07:47:42.270Z"
   },
   {
    "duration": 22,
    "start_time": "2022-10-05T07:48:26.958Z"
   },
   {
    "duration": 18,
    "start_time": "2022-10-05T07:48:59.470Z"
   },
   {
    "duration": 18,
    "start_time": "2022-10-05T07:49:16.657Z"
   },
   {
    "duration": 26,
    "start_time": "2022-10-05T07:49:38.057Z"
   },
   {
    "duration": 18,
    "start_time": "2022-10-05T07:50:39.258Z"
   },
   {
    "duration": 27,
    "start_time": "2022-10-05T07:52:09.130Z"
   },
   {
    "duration": 1350,
    "start_time": "2022-10-05T07:52:33.142Z"
   },
   {
    "duration": 26,
    "start_time": "2022-10-05T07:54:18.086Z"
   },
   {
    "duration": 17,
    "start_time": "2022-10-05T07:55:17.167Z"
   },
   {
    "duration": 18,
    "start_time": "2022-10-05T07:55:27.175Z"
   },
   {
    "duration": 23,
    "start_time": "2022-10-05T07:56:03.407Z"
   },
   {
    "duration": 635,
    "start_time": "2022-10-05T07:57:29.402Z"
   },
   {
    "duration": 3,
    "start_time": "2022-10-05T07:57:51.730Z"
   },
   {
    "duration": 62,
    "start_time": "2022-10-05T07:57:51.736Z"
   },
   {
    "duration": 19,
    "start_time": "2022-10-05T07:57:51.800Z"
   },
   {
    "duration": 7,
    "start_time": "2022-10-05T07:57:51.821Z"
   },
   {
    "duration": 22,
    "start_time": "2022-10-05T07:57:51.830Z"
   },
   {
    "duration": 15,
    "start_time": "2022-10-05T07:57:51.856Z"
   },
   {
    "duration": 905,
    "start_time": "2022-10-05T07:57:51.873Z"
   },
   {
    "duration": 10,
    "start_time": "2022-10-05T07:57:52.780Z"
   },
   {
    "duration": 10,
    "start_time": "2022-10-05T07:57:52.792Z"
   },
   {
    "duration": 3030,
    "start_time": "2022-10-05T07:57:52.803Z"
   },
   {
    "duration": 9,
    "start_time": "2022-10-05T07:57:55.840Z"
   },
   {
    "duration": 32,
    "start_time": "2022-10-05T07:57:55.851Z"
   },
   {
    "duration": 16,
    "start_time": "2022-10-05T07:57:55.884Z"
   },
   {
    "duration": 9,
    "start_time": "2022-10-05T07:57:55.901Z"
   },
   {
    "duration": 43,
    "start_time": "2022-10-05T07:57:55.912Z"
   },
   {
    "duration": 26,
    "start_time": "2022-10-05T07:57:55.956Z"
   },
   {
    "duration": 192,
    "start_time": "2022-10-05T07:57:55.984Z"
   },
   {
    "duration": 17,
    "start_time": "2022-10-05T07:57:56.178Z"
   },
   {
    "duration": 264,
    "start_time": "2022-10-05T07:57:56.197Z"
   },
   {
    "duration": 13,
    "start_time": "2022-10-05T07:57:56.464Z"
   },
   {
    "duration": 2876,
    "start_time": "2022-10-05T07:57:56.480Z"
   },
   {
    "duration": 5,
    "start_time": "2022-10-05T07:57:59.357Z"
   },
   {
    "duration": 9,
    "start_time": "2022-10-05T07:57:59.363Z"
   },
   {
    "duration": 14,
    "start_time": "2022-10-05T07:57:59.373Z"
   },
   {
    "duration": 8,
    "start_time": "2022-10-05T07:57:59.388Z"
   },
   {
    "duration": 20,
    "start_time": "2022-10-05T07:57:59.397Z"
   },
   {
    "duration": 275,
    "start_time": "2022-10-05T07:57:59.433Z"
   },
   {
    "duration": 591,
    "start_time": "2022-10-05T07:57:59.710Z"
   },
   {
    "duration": 15,
    "start_time": "2022-10-05T07:58:00.304Z"
   },
   {
    "duration": 36,
    "start_time": "2022-10-05T07:58:00.321Z"
   },
   {
    "duration": 785,
    "start_time": "2022-10-05T07:58:00.359Z"
   },
   {
    "duration": 19,
    "start_time": "2022-10-05T07:58:01.147Z"
   },
   {
    "duration": 230,
    "start_time": "2022-10-05T07:58:01.167Z"
   },
   {
    "duration": 8,
    "start_time": "2022-10-05T07:58:01.399Z"
   },
   {
    "duration": 190,
    "start_time": "2022-10-05T07:58:01.409Z"
   },
   {
    "duration": 7,
    "start_time": "2022-10-05T07:58:01.601Z"
   },
   {
    "duration": 215,
    "start_time": "2022-10-05T07:58:01.610Z"
   },
   {
    "duration": 253,
    "start_time": "2022-10-05T07:58:01.827Z"
   },
   {
    "duration": 634,
    "start_time": "2022-10-05T07:58:02.081Z"
   },
   {
    "duration": 97,
    "start_time": "2022-10-05T07:59:57.198Z"
   },
   {
    "duration": 1305,
    "start_time": "2022-10-05T08:00:13.668Z"
   },
   {
    "duration": 708,
    "start_time": "2022-10-05T08:01:46.813Z"
   },
   {
    "duration": 840,
    "start_time": "2022-10-05T08:01:57.577Z"
   },
   {
    "duration": 712,
    "start_time": "2022-10-05T08:02:27.735Z"
   },
   {
    "duration": 725,
    "start_time": "2022-10-05T08:02:48.033Z"
   },
   {
    "duration": 17,
    "start_time": "2022-10-05T08:06:15.974Z"
   },
   {
    "duration": 16,
    "start_time": "2022-10-05T08:06:27.766Z"
   },
   {
    "duration": 23,
    "start_time": "2022-10-05T08:07:12.030Z"
   },
   {
    "duration": 25,
    "start_time": "2022-10-05T08:07:39.575Z"
   },
   {
    "duration": 22,
    "start_time": "2022-10-05T08:07:56.799Z"
   },
   {
    "duration": 20,
    "start_time": "2022-10-05T08:08:22.559Z"
   },
   {
    "duration": 18,
    "start_time": "2022-10-05T08:09:07.416Z"
   },
   {
    "duration": 12,
    "start_time": "2022-10-05T08:10:57.222Z"
   },
   {
    "duration": 9,
    "start_time": "2022-10-05T08:11:06.565Z"
   },
   {
    "duration": 22,
    "start_time": "2022-10-05T08:11:16.295Z"
   },
   {
    "duration": 15,
    "start_time": "2022-10-05T08:11:35.181Z"
   },
   {
    "duration": 17,
    "start_time": "2022-10-05T08:11:51.692Z"
   },
   {
    "duration": 22,
    "start_time": "2022-10-05T08:12:07.838Z"
   },
   {
    "duration": 18,
    "start_time": "2022-10-05T08:12:34.924Z"
   },
   {
    "duration": 18,
    "start_time": "2022-10-05T08:12:50.829Z"
   },
   {
    "duration": 18,
    "start_time": "2022-10-05T08:13:08.913Z"
   },
   {
    "duration": 17,
    "start_time": "2022-10-05T08:13:39.103Z"
   },
   {
    "duration": 27,
    "start_time": "2022-10-05T08:14:14.127Z"
   },
   {
    "duration": 17,
    "start_time": "2022-10-05T08:14:24.497Z"
   },
   {
    "duration": 18,
    "start_time": "2022-10-05T08:14:44.104Z"
   },
   {
    "duration": 32,
    "start_time": "2022-10-05T08:14:56.226Z"
   },
   {
    "duration": 20,
    "start_time": "2022-10-05T08:15:09.280Z"
   },
   {
    "duration": 17,
    "start_time": "2022-10-05T08:15:15.086Z"
   },
   {
    "duration": 21,
    "start_time": "2022-10-05T08:15:20.067Z"
   },
   {
    "duration": 22,
    "start_time": "2022-10-05T08:15:24.729Z"
   },
   {
    "duration": 25,
    "start_time": "2022-10-05T08:18:29.860Z"
   },
   {
    "duration": 29,
    "start_time": "2022-10-05T08:18:56.788Z"
   },
   {
    "duration": 24,
    "start_time": "2022-10-05T08:19:36.062Z"
   },
   {
    "duration": 8,
    "start_time": "2022-10-05T08:22:04.912Z"
   },
   {
    "duration": 9,
    "start_time": "2022-10-05T08:22:20.071Z"
   },
   {
    "duration": 9,
    "start_time": "2022-10-05T08:22:41.385Z"
   },
   {
    "duration": 8,
    "start_time": "2022-10-05T08:22:52.687Z"
   },
   {
    "duration": 8,
    "start_time": "2022-10-05T08:23:13.053Z"
   },
   {
    "duration": 20,
    "start_time": "2022-10-05T08:25:51.847Z"
   },
   {
    "duration": 17,
    "start_time": "2022-10-05T08:26:05.693Z"
   },
   {
    "duration": 22,
    "start_time": "2022-10-05T08:27:15.763Z"
   },
   {
    "duration": 18,
    "start_time": "2022-10-05T08:27:25.097Z"
   },
   {
    "duration": 22,
    "start_time": "2022-10-05T08:27:33.802Z"
   },
   {
    "duration": 22,
    "start_time": "2022-10-05T08:27:44.010Z"
   },
   {
    "duration": 25,
    "start_time": "2022-10-05T08:28:07.305Z"
   },
   {
    "duration": 28,
    "start_time": "2022-10-05T08:29:10.445Z"
   },
   {
    "duration": 25,
    "start_time": "2022-10-05T08:30:01.412Z"
   },
   {
    "duration": 5,
    "start_time": "2022-10-05T08:30:59.133Z"
   },
   {
    "duration": 12,
    "start_time": "2022-10-05T08:31:06.142Z"
   },
   {
    "duration": 10,
    "start_time": "2022-10-05T08:31:33.606Z"
   },
   {
    "duration": 12,
    "start_time": "2022-10-05T08:31:50.047Z"
   },
   {
    "duration": 14,
    "start_time": "2022-10-05T08:32:25.133Z"
   },
   {
    "duration": 8,
    "start_time": "2022-10-05T08:32:49.312Z"
   },
   {
    "duration": 14,
    "start_time": "2022-10-05T08:33:08.848Z"
   },
   {
    "duration": 26,
    "start_time": "2022-10-05T08:36:41.236Z"
   },
   {
    "duration": 173,
    "start_time": "2022-10-05T08:37:25.227Z"
   },
   {
    "duration": 718,
    "start_time": "2022-10-05T08:43:42.421Z"
   },
   {
    "duration": 639,
    "start_time": "2022-10-05T08:54:36.671Z"
   },
   {
    "duration": 9,
    "start_time": "2022-10-05T08:58:38.916Z"
   },
   {
    "duration": 19,
    "start_time": "2022-10-05T08:58:53.156Z"
   },
   {
    "duration": 16,
    "start_time": "2022-10-05T08:59:10.309Z"
   },
   {
    "duration": 16,
    "start_time": "2022-10-05T09:00:20.704Z"
   },
   {
    "duration": 16,
    "start_time": "2022-10-05T09:00:45.094Z"
   },
   {
    "duration": 39,
    "start_time": "2022-10-05T09:06:04.054Z"
   },
   {
    "duration": 7,
    "start_time": "2022-10-05T09:12:41.876Z"
   },
   {
    "duration": 15,
    "start_time": "2022-10-05T09:14:42.308Z"
   },
   {
    "duration": 17,
    "start_time": "2022-10-05T09:15:14.558Z"
   },
   {
    "duration": 1204,
    "start_time": "2022-10-05T09:17:06.409Z"
   },
   {
    "duration": 158,
    "start_time": "2022-10-05T09:17:28.496Z"
   },
   {
    "duration": 1027,
    "start_time": "2022-10-05T09:17:47.345Z"
   },
   {
    "duration": 410,
    "start_time": "2022-10-05T09:18:54.832Z"
   },
   {
    "duration": 12,
    "start_time": "2022-10-05T09:29:30.187Z"
   },
   {
    "duration": 834,
    "start_time": "2022-10-05T09:29:42.956Z"
   },
   {
    "duration": 4120,
    "start_time": "2022-10-05T09:31:07.297Z"
   },
   {
    "duration": 4254,
    "start_time": "2022-10-05T09:31:54.564Z"
   },
   {
    "duration": 3887,
    "start_time": "2022-10-05T09:34:01.321Z"
   },
   {
    "duration": 4601,
    "start_time": "2022-10-05T09:34:17.628Z"
   },
   {
    "duration": 4045,
    "start_time": "2022-10-05T09:34:31.528Z"
   },
   {
    "duration": 4292,
    "start_time": "2022-10-05T09:36:52.962Z"
   },
   {
    "duration": 6892,
    "start_time": "2022-10-05T09:37:38.710Z"
   },
   {
    "duration": 6910,
    "start_time": "2022-10-05T09:38:26.035Z"
   },
   {
    "duration": 616,
    "start_time": "2022-10-05T09:38:49.908Z"
   },
   {
    "duration": 630,
    "start_time": "2022-10-05T09:39:08.277Z"
   },
   {
    "duration": 4168,
    "start_time": "2022-10-05T09:39:23.525Z"
   },
   {
    "duration": 7135,
    "start_time": "2022-10-05T09:40:01.750Z"
   },
   {
    "duration": 3737,
    "start_time": "2022-10-05T09:41:22.661Z"
   },
   {
    "duration": 7029,
    "start_time": "2022-10-05T09:42:03.034Z"
   },
   {
    "duration": 7005,
    "start_time": "2022-10-05T09:42:25.697Z"
   },
   {
    "duration": 322,
    "start_time": "2022-10-05T09:42:54.393Z"
   },
   {
    "duration": 15,
    "start_time": "2022-10-05T09:51:49.859Z"
   },
   {
    "duration": 23,
    "start_time": "2022-10-05T09:53:56.827Z"
   },
   {
    "duration": 15,
    "start_time": "2022-10-05T09:54:11.992Z"
   },
   {
    "duration": 17,
    "start_time": "2022-10-05T09:55:15.284Z"
   },
   {
    "duration": 22,
    "start_time": "2022-10-05T09:56:19.895Z"
   },
   {
    "duration": 170,
    "start_time": "2022-10-05T09:57:35.094Z"
   },
   {
    "duration": 548,
    "start_time": "2022-10-05T10:02:41.138Z"
   },
   {
    "duration": 518,
    "start_time": "2022-10-05T10:04:15.805Z"
   },
   {
    "duration": 774,
    "start_time": "2022-10-05T10:05:25.683Z"
   },
   {
    "duration": 484,
    "start_time": "2022-10-05T10:05:37.673Z"
   },
   {
    "duration": 67,
    "start_time": "2022-10-05T11:50:00.723Z"
   },
   {
    "duration": 50,
    "start_time": "2022-10-05T11:50:47.148Z"
   },
   {
    "duration": 49,
    "start_time": "2022-10-05T11:51:23.375Z"
   },
   {
    "duration": 44,
    "start_time": "2022-10-05T11:51:27.149Z"
   },
   {
    "duration": 6,
    "start_time": "2022-10-05T11:51:45.781Z"
   },
   {
    "duration": 1346,
    "start_time": "2022-10-05T11:51:50.016Z"
   },
   {
    "duration": 93,
    "start_time": "2022-10-05T11:51:51.364Z"
   },
   {
    "duration": 26,
    "start_time": "2022-10-05T11:51:51.459Z"
   },
   {
    "duration": 5,
    "start_time": "2022-10-05T11:51:51.487Z"
   },
   {
    "duration": 44,
    "start_time": "2022-10-05T11:51:51.494Z"
   },
   {
    "duration": 26,
    "start_time": "2022-10-05T11:51:51.540Z"
   },
   {
    "duration": 655,
    "start_time": "2022-10-05T11:51:51.568Z"
   },
   {
    "duration": 10,
    "start_time": "2022-10-05T11:51:52.226Z"
   },
   {
    "duration": 20,
    "start_time": "2022-10-05T11:51:52.238Z"
   },
   {
    "duration": 3035,
    "start_time": "2022-10-05T11:51:52.261Z"
   },
   {
    "duration": 6,
    "start_time": "2022-10-05T11:51:55.297Z"
   },
   {
    "duration": 25,
    "start_time": "2022-10-05T11:51:55.304Z"
   },
   {
    "duration": 14,
    "start_time": "2022-10-05T11:51:55.331Z"
   },
   {
    "duration": 9,
    "start_time": "2022-10-05T11:51:55.347Z"
   },
   {
    "duration": 23,
    "start_time": "2022-10-05T11:51:55.358Z"
   },
   {
    "duration": 50,
    "start_time": "2022-10-05T11:51:55.383Z"
   },
   {
    "duration": 179,
    "start_time": "2022-10-05T11:51:55.435Z"
   },
   {
    "duration": 12,
    "start_time": "2022-10-05T11:51:55.616Z"
   },
   {
    "duration": 183,
    "start_time": "2022-10-05T11:51:55.630Z"
   },
   {
    "duration": 15,
    "start_time": "2022-10-05T11:51:55.815Z"
   },
   {
    "duration": 3002,
    "start_time": "2022-10-05T11:51:55.832Z"
   },
   {
    "duration": 4,
    "start_time": "2022-10-05T11:51:58.836Z"
   },
   {
    "duration": 40,
    "start_time": "2022-10-05T11:51:58.841Z"
   },
   {
    "duration": 22,
    "start_time": "2022-10-05T11:51:58.883Z"
   },
   {
    "duration": 24,
    "start_time": "2022-10-05T11:51:58.907Z"
   },
   {
    "duration": 48,
    "start_time": "2022-10-05T11:51:58.934Z"
   },
   {
    "duration": 280,
    "start_time": "2022-10-05T11:51:58.984Z"
   },
   {
    "duration": 402,
    "start_time": "2022-10-05T11:51:59.267Z"
   },
   {
    "duration": 17,
    "start_time": "2022-10-05T11:51:59.670Z"
   },
   {
    "duration": 33,
    "start_time": "2022-10-05T11:51:59.689Z"
   },
   {
    "duration": 783,
    "start_time": "2022-10-05T11:51:59.724Z"
   },
   {
    "duration": 19,
    "start_time": "2022-10-05T11:52:00.509Z"
   },
   {
    "duration": 249,
    "start_time": "2022-10-05T11:52:00.530Z"
   },
   {
    "duration": 9,
    "start_time": "2022-10-05T11:52:00.782Z"
   },
   {
    "duration": 205,
    "start_time": "2022-10-05T11:52:00.794Z"
   },
   {
    "duration": 7,
    "start_time": "2022-10-05T11:52:01.001Z"
   },
   {
    "duration": 187,
    "start_time": "2022-10-05T11:52:01.021Z"
   },
   {
    "duration": 341,
    "start_time": "2022-10-05T11:52:01.210Z"
   },
   {
    "duration": 652,
    "start_time": "2022-10-05T11:52:01.553Z"
   },
   {
    "duration": 23,
    "start_time": "2022-10-05T11:52:02.207Z"
   },
   {
    "duration": 6757,
    "start_time": "2022-10-05T11:52:02.232Z"
   },
   {
    "duration": 516,
    "start_time": "2022-10-05T11:52:08.991Z"
   },
   {
    "duration": 49,
    "start_time": "2022-10-05T11:52:09.509Z"
   },
   {
    "duration": 0,
    "start_time": "2022-10-05T11:52:09.559Z"
   },
   {
    "duration": 13,
    "start_time": "2022-10-05T11:52:15.852Z"
   },
   {
    "duration": 7,
    "start_time": "2022-10-05T11:52:42.204Z"
   },
   {
    "duration": 6,
    "start_time": "2022-10-05T11:53:03.804Z"
   },
   {
    "duration": 5,
    "start_time": "2022-10-05T11:53:15.351Z"
   },
   {
    "duration": 51,
    "start_time": "2022-10-05T11:53:38.720Z"
   },
   {
    "duration": 7,
    "start_time": "2022-10-05T11:53:52.888Z"
   },
   {
    "duration": 28,
    "start_time": "2022-10-05T11:54:09.087Z"
   },
   {
    "duration": 7,
    "start_time": "2022-10-05T11:54:21.971Z"
   },
   {
    "duration": 9,
    "start_time": "2022-10-05T11:55:27.410Z"
   },
   {
    "duration": 11,
    "start_time": "2022-10-05T11:55:35.164Z"
   },
   {
    "duration": 12,
    "start_time": "2022-10-05T11:56:07.139Z"
   },
   {
    "duration": 3079,
    "start_time": "2022-10-05T11:57:23.138Z"
   },
   {
    "duration": 9,
    "start_time": "2022-10-05T11:58:27.901Z"
   },
   {
    "duration": 9,
    "start_time": "2022-10-05T11:58:52.957Z"
   },
   {
    "duration": 2,
    "start_time": "2022-10-05T12:00:23.354Z"
   },
   {
    "duration": 11,
    "start_time": "2022-10-05T12:09:55.063Z"
   },
   {
    "duration": 4,
    "start_time": "2022-10-05T12:38:37.434Z"
   },
   {
    "duration": 53,
    "start_time": "2022-10-05T12:38:37.441Z"
   },
   {
    "duration": 23,
    "start_time": "2022-10-05T12:38:37.496Z"
   },
   {
    "duration": 9,
    "start_time": "2022-10-05T12:38:37.521Z"
   },
   {
    "duration": 119,
    "start_time": "2022-10-05T12:38:37.532Z"
   },
   {
    "duration": 15,
    "start_time": "2022-10-05T12:38:37.653Z"
   },
   {
    "duration": 801,
    "start_time": "2022-10-05T12:38:37.669Z"
   },
   {
    "duration": 12,
    "start_time": "2022-10-05T12:38:38.472Z"
   },
   {
    "duration": 12,
    "start_time": "2022-10-05T12:38:38.486Z"
   },
   {
    "duration": 3132,
    "start_time": "2022-10-05T12:38:38.520Z"
   },
   {
    "duration": 6,
    "start_time": "2022-10-05T12:38:41.654Z"
   },
   {
    "duration": 26,
    "start_time": "2022-10-05T12:38:41.663Z"
   },
   {
    "duration": 34,
    "start_time": "2022-10-05T12:38:41.691Z"
   },
   {
    "duration": 13,
    "start_time": "2022-10-05T12:38:41.727Z"
   },
   {
    "duration": 26,
    "start_time": "2022-10-05T12:38:41.743Z"
   },
   {
    "duration": 24,
    "start_time": "2022-10-05T12:38:41.771Z"
   },
   {
    "duration": 183,
    "start_time": "2022-10-05T12:38:41.822Z"
   },
   {
    "duration": 19,
    "start_time": "2022-10-05T12:38:42.007Z"
   },
   {
    "duration": 194,
    "start_time": "2022-10-05T12:38:42.028Z"
   },
   {
    "duration": 10,
    "start_time": "2022-10-05T12:38:42.224Z"
   },
   {
    "duration": 3137,
    "start_time": "2022-10-05T12:38:42.235Z"
   },
   {
    "duration": 4,
    "start_time": "2022-10-05T12:38:45.374Z"
   },
   {
    "duration": 17,
    "start_time": "2022-10-05T12:38:45.380Z"
   },
   {
    "duration": 11,
    "start_time": "2022-10-05T12:38:45.401Z"
   },
   {
    "duration": 7,
    "start_time": "2022-10-05T12:38:45.421Z"
   },
   {
    "duration": 28,
    "start_time": "2022-10-05T12:38:45.430Z"
   },
   {
    "duration": 393,
    "start_time": "2022-10-05T12:38:45.461Z"
   },
   {
    "duration": 432,
    "start_time": "2022-10-05T12:38:45.856Z"
   },
   {
    "duration": 18,
    "start_time": "2022-10-05T12:38:46.290Z"
   },
   {
    "duration": 25,
    "start_time": "2022-10-05T12:38:46.310Z"
   },
   {
    "duration": 796,
    "start_time": "2022-10-05T12:38:46.336Z"
   },
   {
    "duration": 13,
    "start_time": "2022-10-05T12:38:47.134Z"
   },
   {
    "duration": 249,
    "start_time": "2022-10-05T12:38:47.149Z"
   },
   {
    "duration": 19,
    "start_time": "2022-10-05T12:38:47.401Z"
   },
   {
    "duration": 201,
    "start_time": "2022-10-05T12:38:47.422Z"
   },
   {
    "duration": 5,
    "start_time": "2022-10-05T12:38:47.625Z"
   },
   {
    "duration": 229,
    "start_time": "2022-10-05T12:38:47.632Z"
   },
   {
    "duration": 269,
    "start_time": "2022-10-05T12:38:47.864Z"
   },
   {
    "duration": 798,
    "start_time": "2022-10-05T12:38:48.135Z"
   },
   {
    "duration": 22,
    "start_time": "2022-10-05T12:38:48.935Z"
   },
   {
    "duration": 6921,
    "start_time": "2022-10-05T12:38:48.959Z"
   },
   {
    "duration": 489,
    "start_time": "2022-10-05T12:38:55.882Z"
   },
   {
    "duration": 10,
    "start_time": "2022-10-05T12:38:56.373Z"
   },
   {
    "duration": 19,
    "start_time": "2022-10-05T12:38:56.385Z"
   },
   {
    "duration": 6,
    "start_time": "2022-10-05T12:39:43.264Z"
   },
   {
    "duration": 11,
    "start_time": "2022-10-05T12:40:23.740Z"
   },
   {
    "duration": 8,
    "start_time": "2022-10-05T12:40:35.023Z"
   },
   {
    "duration": 6,
    "start_time": "2022-10-05T12:40:46.276Z"
   },
   {
    "duration": 5,
    "start_time": "2022-10-05T12:46:10.390Z"
   },
   {
    "duration": 7,
    "start_time": "2022-10-05T12:46:34.259Z"
   },
   {
    "duration": 7,
    "start_time": "2022-10-05T12:47:21.083Z"
   },
   {
    "duration": 11,
    "start_time": "2022-10-05T12:52:29.859Z"
   },
   {
    "duration": 8,
    "start_time": "2022-10-05T12:53:10.898Z"
   },
   {
    "duration": 9,
    "start_time": "2022-10-05T12:53:25.605Z"
   },
   {
    "duration": 9,
    "start_time": "2022-10-05T12:53:30.628Z"
   },
   {
    "duration": 9,
    "start_time": "2022-10-05T12:54:23.428Z"
   },
   {
    "duration": 7,
    "start_time": "2022-10-05T12:56:57.174Z"
   },
   {
    "duration": 15,
    "start_time": "2022-10-05T12:57:28.528Z"
   },
   {
    "duration": 15,
    "start_time": "2022-10-05T12:57:40.186Z"
   },
   {
    "duration": 15,
    "start_time": "2022-10-05T12:57:44.641Z"
   },
   {
    "duration": 12,
    "start_time": "2022-10-05T12:57:53.728Z"
   },
   {
    "duration": 12,
    "start_time": "2022-10-05T12:58:00.200Z"
   },
   {
    "duration": 9,
    "start_time": "2022-10-05T12:59:08.883Z"
   },
   {
    "duration": 8,
    "start_time": "2022-10-05T13:00:13.781Z"
   },
   {
    "duration": 6,
    "start_time": "2022-10-05T13:18:24.303Z"
   },
   {
    "duration": 47,
    "start_time": "2022-10-05T17:48:44.471Z"
   },
   {
    "duration": 1388,
    "start_time": "2022-10-05T17:48:53.260Z"
   },
   {
    "duration": 95,
    "start_time": "2022-10-05T17:48:54.650Z"
   },
   {
    "duration": 26,
    "start_time": "2022-10-05T17:48:54.746Z"
   },
   {
    "duration": 5,
    "start_time": "2022-10-05T17:48:54.774Z"
   },
   {
    "duration": 24,
    "start_time": "2022-10-05T17:48:54.781Z"
   },
   {
    "duration": 20,
    "start_time": "2022-10-05T17:48:54.808Z"
   },
   {
    "duration": 666,
    "start_time": "2022-10-05T17:48:54.829Z"
   },
   {
    "duration": 10,
    "start_time": "2022-10-05T17:48:55.497Z"
   },
   {
    "duration": 11,
    "start_time": "2022-10-05T17:48:55.521Z"
   },
   {
    "duration": 2999,
    "start_time": "2022-10-05T17:48:55.535Z"
   },
   {
    "duration": 5,
    "start_time": "2022-10-05T17:48:58.536Z"
   },
   {
    "duration": 22,
    "start_time": "2022-10-05T17:48:58.544Z"
   },
   {
    "duration": 16,
    "start_time": "2022-10-05T17:48:58.568Z"
   },
   {
    "duration": 8,
    "start_time": "2022-10-05T17:48:58.586Z"
   },
   {
    "duration": 48,
    "start_time": "2022-10-05T17:48:58.596Z"
   },
   {
    "duration": 22,
    "start_time": "2022-10-05T17:48:58.645Z"
   },
   {
    "duration": 206,
    "start_time": "2022-10-05T17:48:58.669Z"
   },
   {
    "duration": 12,
    "start_time": "2022-10-05T17:48:58.878Z"
   },
   {
    "duration": 313,
    "start_time": "2022-10-05T17:48:58.892Z"
   },
   {
    "duration": 17,
    "start_time": "2022-10-05T17:48:59.207Z"
   },
   {
    "duration": 2996,
    "start_time": "2022-10-05T17:48:59.226Z"
   },
   {
    "duration": 4,
    "start_time": "2022-10-05T17:49:02.224Z"
   },
   {
    "duration": 27,
    "start_time": "2022-10-05T17:49:02.229Z"
   },
   {
    "duration": 33,
    "start_time": "2022-10-05T17:49:02.258Z"
   },
   {
    "duration": 17,
    "start_time": "2022-10-05T17:49:02.292Z"
   },
   {
    "duration": 44,
    "start_time": "2022-10-05T17:49:02.311Z"
   },
   {
    "duration": 264,
    "start_time": "2022-10-05T17:49:02.357Z"
   },
   {
    "duration": 412,
    "start_time": "2022-10-05T17:49:02.626Z"
   },
   {
    "duration": 18,
    "start_time": "2022-10-05T17:49:03.040Z"
   },
   {
    "duration": 17,
    "start_time": "2022-10-05T17:49:03.060Z"
   },
   {
    "duration": 767,
    "start_time": "2022-10-05T17:49:03.079Z"
   },
   {
    "duration": 13,
    "start_time": "2022-10-05T17:49:03.848Z"
   },
   {
    "duration": 249,
    "start_time": "2022-10-05T17:49:03.863Z"
   },
   {
    "duration": 13,
    "start_time": "2022-10-05T17:49:04.113Z"
   },
   {
    "duration": 201,
    "start_time": "2022-10-05T17:49:04.127Z"
   },
   {
    "duration": 6,
    "start_time": "2022-10-05T17:49:04.331Z"
   },
   {
    "duration": 284,
    "start_time": "2022-10-05T17:49:04.338Z"
   },
   {
    "duration": 259,
    "start_time": "2022-10-05T17:49:04.625Z"
   },
   {
    "duration": 645,
    "start_time": "2022-10-05T17:49:04.887Z"
   },
   {
    "duration": 15,
    "start_time": "2022-10-05T17:49:05.534Z"
   },
   {
    "duration": 6815,
    "start_time": "2022-10-05T17:49:05.550Z"
   },
   {
    "duration": 586,
    "start_time": "2022-10-05T17:49:12.366Z"
   },
   {
    "duration": 9,
    "start_time": "2022-10-05T17:49:12.954Z"
   },
   {
    "duration": 17,
    "start_time": "2022-10-05T17:49:12.965Z"
   },
   {
    "duration": 17,
    "start_time": "2022-10-05T17:49:12.983Z"
   },
   {
    "duration": 8,
    "start_time": "2022-10-05T17:49:13.002Z"
   },
   {
    "duration": 16,
    "start_time": "2022-10-05T17:49:25.820Z"
   },
   {
    "duration": 14,
    "start_time": "2022-10-05T17:49:38.581Z"
   },
   {
    "duration": 15,
    "start_time": "2022-10-05T17:56:12.771Z"
   },
   {
    "duration": 8,
    "start_time": "2022-10-05T17:56:32.187Z"
   },
   {
    "duration": 16,
    "start_time": "2022-10-05T17:59:10.625Z"
   },
   {
    "duration": 23,
    "start_time": "2022-10-05T18:01:24.749Z"
   },
   {
    "duration": 22,
    "start_time": "2022-10-05T18:01:33.274Z"
   },
   {
    "duration": 9,
    "start_time": "2022-10-05T18:11:27.587Z"
   },
   {
    "duration": 571,
    "start_time": "2022-10-05T18:26:54.354Z"
   },
   {
    "duration": 381,
    "start_time": "2022-10-05T18:27:11.040Z"
   },
   {
    "duration": 593,
    "start_time": "2022-10-05T18:27:24.361Z"
   },
   {
    "duration": 373,
    "start_time": "2022-10-05T18:27:39.129Z"
   },
   {
    "duration": 501,
    "start_time": "2022-10-05T18:30:57.396Z"
   },
   {
    "duration": 594,
    "start_time": "2022-10-05T18:33:01.095Z"
   },
   {
    "duration": 591,
    "start_time": "2022-10-05T18:33:45.117Z"
   },
   {
    "duration": 707,
    "start_time": "2022-10-05T18:34:34.435Z"
   },
   {
    "duration": 562,
    "start_time": "2022-10-05T18:34:56.672Z"
   },
   {
    "duration": 13,
    "start_time": "2022-10-05T18:39:05.699Z"
   },
   {
    "duration": 293,
    "start_time": "2022-10-05T18:39:08.787Z"
   },
   {
    "duration": 781,
    "start_time": "2022-10-05T18:47:30.661Z"
   },
   {
    "duration": 16,
    "start_time": "2022-10-05T18:47:42.869Z"
   },
   {
    "duration": 232,
    "start_time": "2022-10-05T18:47:47.454Z"
   },
   {
    "duration": 48,
    "start_time": "2022-10-06T07:11:02.078Z"
   },
   {
    "duration": 1297,
    "start_time": "2022-10-06T07:13:59.315Z"
   },
   {
    "duration": 189,
    "start_time": "2022-10-06T07:14:00.614Z"
   },
   {
    "duration": 26,
    "start_time": "2022-10-06T07:14:00.805Z"
   },
   {
    "duration": 20,
    "start_time": "2022-10-06T07:14:00.833Z"
   },
   {
    "duration": 16,
    "start_time": "2022-10-06T07:14:00.854Z"
   },
   {
    "duration": 26,
    "start_time": "2022-10-06T07:14:00.872Z"
   },
   {
    "duration": 15,
    "start_time": "2022-10-06T07:14:00.900Z"
   },
   {
    "duration": 612,
    "start_time": "2022-10-06T07:14:00.916Z"
   },
   {
    "duration": 10,
    "start_time": "2022-10-06T07:14:01.529Z"
   },
   {
    "duration": 22,
    "start_time": "2022-10-06T07:14:01.542Z"
   },
   {
    "duration": 2688,
    "start_time": "2022-10-06T07:14:01.565Z"
   },
   {
    "duration": 5,
    "start_time": "2022-10-06T07:14:04.255Z"
   },
   {
    "duration": 15,
    "start_time": "2022-10-06T07:14:04.262Z"
   },
   {
    "duration": 26,
    "start_time": "2022-10-06T07:14:04.279Z"
   },
   {
    "duration": 8,
    "start_time": "2022-10-06T07:14:04.306Z"
   },
   {
    "duration": 28,
    "start_time": "2022-10-06T07:14:04.315Z"
   },
   {
    "duration": 19,
    "start_time": "2022-10-06T07:14:04.345Z"
   },
   {
    "duration": 155,
    "start_time": "2022-10-06T07:14:04.395Z"
   },
   {
    "duration": 9,
    "start_time": "2022-10-06T07:14:04.552Z"
   },
   {
    "duration": 167,
    "start_time": "2022-10-06T07:14:04.563Z"
   },
   {
    "duration": 9,
    "start_time": "2022-10-06T07:14:04.732Z"
   },
   {
    "duration": 2829,
    "start_time": "2022-10-06T07:14:04.743Z"
   },
   {
    "duration": 2,
    "start_time": "2022-10-06T07:14:07.574Z"
   },
   {
    "duration": 8,
    "start_time": "2022-10-06T07:14:07.577Z"
   },
   {
    "duration": 15,
    "start_time": "2022-10-06T07:14:07.586Z"
   },
   {
    "duration": 9,
    "start_time": "2022-10-06T07:14:07.603Z"
   },
   {
    "duration": 22,
    "start_time": "2022-10-06T07:14:07.613Z"
   },
   {
    "duration": 258,
    "start_time": "2022-10-06T07:14:07.639Z"
   },
   {
    "duration": 383,
    "start_time": "2022-10-06T07:14:07.899Z"
   },
   {
    "duration": 20,
    "start_time": "2022-10-06T07:14:08.284Z"
   },
   {
    "duration": 334,
    "start_time": "2022-10-06T07:14:08.306Z"
   },
   {
    "duration": 615,
    "start_time": "2022-10-06T07:14:08.642Z"
   },
   {
    "duration": 12,
    "start_time": "2022-10-06T07:14:09.258Z"
   },
   {
    "duration": 207,
    "start_time": "2022-10-06T07:14:09.271Z"
   },
   {
    "duration": 17,
    "start_time": "2022-10-06T07:14:09.480Z"
   },
   {
    "duration": 253,
    "start_time": "2022-10-06T07:14:09.499Z"
   },
   {
    "duration": 5,
    "start_time": "2022-10-06T07:14:09.753Z"
   },
   {
    "duration": 170,
    "start_time": "2022-10-06T07:14:09.759Z"
   },
   {
    "duration": 216,
    "start_time": "2022-10-06T07:14:09.930Z"
   },
   {
    "duration": 525,
    "start_time": "2022-10-06T07:14:10.148Z"
   },
   {
    "duration": 21,
    "start_time": "2022-10-06T07:14:10.674Z"
   },
   {
    "duration": 6043,
    "start_time": "2022-10-06T07:14:10.696Z"
   },
   {
    "duration": 515,
    "start_time": "2022-10-06T07:14:16.741Z"
   },
   {
    "duration": 9,
    "start_time": "2022-10-06T07:14:17.258Z"
   },
   {
    "duration": 11,
    "start_time": "2022-10-06T07:14:17.268Z"
   },
   {
    "duration": 24,
    "start_time": "2022-10-06T07:14:17.280Z"
   },
   {
    "duration": 6,
    "start_time": "2022-10-06T07:14:17.305Z"
   },
   {
    "duration": 227,
    "start_time": "2022-10-06T07:17:06.630Z"
   },
   {
    "duration": 69,
    "start_time": "2022-10-06T07:25:39.467Z"
   },
   {
    "duration": 166,
    "start_time": "2022-10-06T07:26:13.335Z"
   },
   {
    "duration": 177,
    "start_time": "2022-10-06T07:28:07.961Z"
   },
   {
    "duration": 189,
    "start_time": "2022-10-06T07:36:58.006Z"
   },
   {
    "duration": 165,
    "start_time": "2022-10-06T07:37:21.457Z"
   },
   {
    "duration": 207,
    "start_time": "2022-10-06T07:37:56.603Z"
   },
   {
    "duration": 164,
    "start_time": "2022-10-06T07:39:12.006Z"
   },
   {
    "duration": 167,
    "start_time": "2022-10-06T07:39:32.323Z"
   },
   {
    "duration": 216,
    "start_time": "2022-10-06T07:43:32.112Z"
   },
   {
    "duration": 289,
    "start_time": "2022-10-06T07:43:57.784Z"
   },
   {
    "duration": 222,
    "start_time": "2022-10-06T07:44:07.065Z"
   },
   {
    "duration": 215,
    "start_time": "2022-10-06T07:44:17.522Z"
   },
   {
    "duration": 177,
    "start_time": "2022-10-06T07:45:40.778Z"
   },
   {
    "duration": 178,
    "start_time": "2022-10-06T07:46:18.067Z"
   },
   {
    "duration": 187,
    "start_time": "2022-10-06T07:46:59.460Z"
   },
   {
    "duration": 167,
    "start_time": "2022-10-06T07:49:28.870Z"
   },
   {
    "duration": 328,
    "start_time": "2022-10-06T07:50:42.872Z"
   },
   {
    "duration": 320,
    "start_time": "2022-10-06T07:51:36.001Z"
   },
   {
    "duration": 391,
    "start_time": "2022-10-06T07:52:18.370Z"
   },
   {
    "duration": 347,
    "start_time": "2022-10-06T07:53:59.777Z"
   },
   {
    "duration": 420,
    "start_time": "2022-10-06T07:55:42.141Z"
   },
   {
    "duration": 390,
    "start_time": "2022-10-06T07:56:11.489Z"
   },
   {
    "duration": 358,
    "start_time": "2022-10-06T07:56:16.818Z"
   },
   {
    "duration": 202,
    "start_time": "2022-10-06T07:56:22.476Z"
   },
   {
    "duration": 664,
    "start_time": "2022-10-06T07:56:32.292Z"
   },
   {
    "duration": 585,
    "start_time": "2022-10-06T07:56:59.293Z"
   },
   {
    "duration": 662,
    "start_time": "2022-10-06T07:57:06.406Z"
   },
   {
    "duration": 14,
    "start_time": "2022-10-06T07:57:17.358Z"
   },
   {
    "duration": 644,
    "start_time": "2022-10-06T07:57:25.967Z"
   },
   {
    "duration": 476,
    "start_time": "2022-10-06T07:57:54.681Z"
   },
   {
    "duration": 137,
    "start_time": "2022-10-06T08:01:17.538Z"
   },
   {
    "duration": 521,
    "start_time": "2022-10-06T08:04:33.319Z"
   },
   {
    "duration": 482,
    "start_time": "2022-10-06T08:05:17.641Z"
   },
   {
    "duration": 476,
    "start_time": "2022-10-06T08:05:30.313Z"
   },
   {
    "duration": 455,
    "start_time": "2022-10-06T08:05:37.173Z"
   },
   {
    "duration": 465,
    "start_time": "2022-10-06T08:05:45.792Z"
   },
   {
    "duration": 133,
    "start_time": "2022-10-06T08:08:29.459Z"
   },
   {
    "duration": 90,
    "start_time": "2022-10-06T08:08:40.579Z"
   },
   {
    "duration": 735,
    "start_time": "2022-10-06T08:09:19.184Z"
   },
   {
    "duration": 359,
    "start_time": "2022-10-06T08:10:24.036Z"
   },
   {
    "duration": 362,
    "start_time": "2022-10-06T08:13:05.962Z"
   },
   {
    "duration": 565,
    "start_time": "2022-10-06T08:13:27.986Z"
   },
   {
    "duration": 506,
    "start_time": "2022-10-06T08:16:08.118Z"
   },
   {
    "duration": 649,
    "start_time": "2022-10-06T08:17:10.256Z"
   },
   {
    "duration": 7,
    "start_time": "2022-10-06T08:28:48.442Z"
   },
   {
    "duration": 8,
    "start_time": "2022-10-06T08:29:11.487Z"
   },
   {
    "duration": 13,
    "start_time": "2022-10-06T08:31:44.500Z"
   },
   {
    "duration": 1902,
    "start_time": "2022-10-06T08:33:37.932Z"
   },
   {
    "duration": 936,
    "start_time": "2022-10-06T08:33:55.387Z"
   },
   {
    "duration": 992,
    "start_time": "2022-10-06T08:35:01.884Z"
   },
   {
    "duration": 1096,
    "start_time": "2022-10-06T08:35:48.110Z"
   },
   {
    "duration": 86,
    "start_time": "2022-10-06T08:37:07.822Z"
   },
   {
    "duration": 838,
    "start_time": "2022-10-06T08:37:26.230Z"
   },
   {
    "duration": 1017,
    "start_time": "2022-10-06T08:39:10.172Z"
   },
   {
    "duration": 221,
    "start_time": "2022-10-06T08:41:03.700Z"
   },
   {
    "duration": 218,
    "start_time": "2022-10-06T08:55:48.703Z"
   },
   {
    "duration": 8552,
    "start_time": "2022-10-06T08:57:58.745Z"
   },
   {
    "duration": 8776,
    "start_time": "2022-10-06T08:58:08.710Z"
   },
   {
    "duration": 137,
    "start_time": "2022-10-06T09:03:10.388Z"
   },
   {
    "duration": 200,
    "start_time": "2022-10-06T09:03:46.682Z"
   },
   {
    "duration": 11,
    "start_time": "2022-10-06T09:05:55.855Z"
   },
   {
    "duration": 414,
    "start_time": "2022-10-06T09:06:02.262Z"
   },
   {
    "duration": 16,
    "start_time": "2022-10-06T09:06:05.760Z"
   },
   {
    "duration": 14,
    "start_time": "2022-10-06T09:12:55.936Z"
   },
   {
    "duration": 17,
    "start_time": "2022-10-06T09:14:02.816Z"
   },
   {
    "duration": 14,
    "start_time": "2022-10-06T09:15:10.541Z"
   },
   {
    "duration": 15,
    "start_time": "2022-10-06T09:15:17.113Z"
   },
   {
    "duration": 17,
    "start_time": "2022-10-06T09:15:34.832Z"
   },
   {
    "duration": 1002,
    "start_time": "2022-10-06T09:15:49.056Z"
   },
   {
    "duration": 1050,
    "start_time": "2022-10-06T09:16:29.349Z"
   },
   {
    "duration": 931,
    "start_time": "2022-10-06T09:17:02.664Z"
   },
   {
    "duration": 992,
    "start_time": "2022-10-06T09:17:12.897Z"
   },
   {
    "duration": 7,
    "start_time": "2022-10-06T09:25:01.692Z"
   },
   {
    "duration": 909,
    "start_time": "2022-10-06T09:25:04.754Z"
   },
   {
    "duration": 1204,
    "start_time": "2022-10-06T09:25:09.514Z"
   },
   {
    "duration": 1019,
    "start_time": "2022-10-06T09:25:15.541Z"
   },
   {
    "duration": 1099,
    "start_time": "2022-10-06T09:26:37.512Z"
   },
   {
    "duration": 15,
    "start_time": "2022-10-06T09:41:43.070Z"
   },
   {
    "duration": 1049,
    "start_time": "2022-10-06T09:42:01.974Z"
   },
   {
    "duration": 722,
    "start_time": "2022-10-06T09:52:05.870Z"
   },
   {
    "duration": 164,
    "start_time": "2022-10-06T09:54:52.418Z"
   },
   {
    "duration": 1623,
    "start_time": "2022-10-06T09:58:02.751Z"
   },
   {
    "duration": 1312,
    "start_time": "2022-10-06T09:58:42.829Z"
   },
   {
    "duration": 1550,
    "start_time": "2022-10-06T10:00:47.129Z"
   },
   {
    "duration": 1403,
    "start_time": "2022-10-06T10:02:35.360Z"
   },
   {
    "duration": 1558,
    "start_time": "2022-10-06T10:03:25.592Z"
   },
   {
    "duration": 1668,
    "start_time": "2022-10-06T10:13:15.256Z"
   },
   {
    "duration": 159,
    "start_time": "2022-10-06T10:18:31.860Z"
   },
   {
    "duration": 283,
    "start_time": "2022-10-06T10:18:39.725Z"
   },
   {
    "duration": 275,
    "start_time": "2022-10-06T10:19:12.252Z"
   },
   {
    "duration": 7,
    "start_time": "2022-10-06T10:20:44.037Z"
   },
   {
    "duration": 910,
    "start_time": "2022-10-06T10:20:47.588Z"
   },
   {
    "duration": 375,
    "start_time": "2022-10-06T10:21:00.189Z"
   },
   {
    "duration": 3,
    "start_time": "2022-10-06T10:21:47.677Z"
   },
   {
    "duration": 50,
    "start_time": "2022-10-06T10:21:47.682Z"
   },
   {
    "duration": 20,
    "start_time": "2022-10-06T10:21:47.734Z"
   },
   {
    "duration": 22,
    "start_time": "2022-10-06T10:21:47.756Z"
   },
   {
    "duration": 25,
    "start_time": "2022-10-06T10:21:47.780Z"
   },
   {
    "duration": 9,
    "start_time": "2022-10-06T10:21:47.807Z"
   },
   {
    "duration": 19,
    "start_time": "2022-10-06T10:21:47.818Z"
   },
   {
    "duration": 820,
    "start_time": "2022-10-06T10:21:47.838Z"
   },
   {
    "duration": 11,
    "start_time": "2022-10-06T10:21:48.660Z"
   },
   {
    "duration": 28,
    "start_time": "2022-10-06T10:21:48.673Z"
   },
   {
    "duration": 2925,
    "start_time": "2022-10-06T10:21:48.705Z"
   },
   {
    "duration": 5,
    "start_time": "2022-10-06T10:21:51.632Z"
   },
   {
    "duration": 18,
    "start_time": "2022-10-06T10:21:51.639Z"
   },
   {
    "duration": 18,
    "start_time": "2022-10-06T10:21:51.659Z"
   },
   {
    "duration": 10,
    "start_time": "2022-10-06T10:21:51.694Z"
   },
   {
    "duration": 25,
    "start_time": "2022-10-06T10:21:51.705Z"
   },
   {
    "duration": 21,
    "start_time": "2022-10-06T10:21:51.732Z"
   },
   {
    "duration": 193,
    "start_time": "2022-10-06T10:21:51.755Z"
   },
   {
    "duration": 11,
    "start_time": "2022-10-06T10:21:51.950Z"
   },
   {
    "duration": 178,
    "start_time": "2022-10-06T10:21:51.962Z"
   },
   {
    "duration": 11,
    "start_time": "2022-10-06T10:21:52.141Z"
   },
   {
    "duration": 2969,
    "start_time": "2022-10-06T10:21:52.153Z"
   },
   {
    "duration": 3,
    "start_time": "2022-10-06T10:21:55.123Z"
   },
   {
    "duration": 10,
    "start_time": "2022-10-06T10:21:55.127Z"
   },
   {
    "duration": 12,
    "start_time": "2022-10-06T10:21:55.138Z"
   },
   {
    "duration": 9,
    "start_time": "2022-10-06T10:21:55.152Z"
   },
   {
    "duration": 38,
    "start_time": "2022-10-06T10:21:55.162Z"
   },
   {
    "duration": 284,
    "start_time": "2022-10-06T10:21:55.202Z"
   },
   {
    "duration": 360,
    "start_time": "2022-10-06T10:21:55.494Z"
   },
   {
    "duration": 16,
    "start_time": "2022-10-06T10:21:55.856Z"
   },
   {
    "duration": 369,
    "start_time": "2022-10-06T10:21:55.874Z"
   },
   {
    "duration": 722,
    "start_time": "2022-10-06T10:21:56.244Z"
   },
   {
    "duration": 13,
    "start_time": "2022-10-06T10:21:56.967Z"
   },
   {
    "duration": 228,
    "start_time": "2022-10-06T10:21:56.981Z"
   },
   {
    "duration": 9,
    "start_time": "2022-10-06T10:21:57.210Z"
   },
   {
    "duration": 183,
    "start_time": "2022-10-06T10:21:57.220Z"
   },
   {
    "duration": 5,
    "start_time": "2022-10-06T10:21:57.404Z"
   },
   {
    "duration": 178,
    "start_time": "2022-10-06T10:21:57.411Z"
   },
   {
    "duration": 9,
    "start_time": "2022-10-06T10:21:57.590Z"
   },
   {
    "duration": 1806,
    "start_time": "2022-10-06T10:21:57.601Z"
   },
   {
    "duration": 1941,
    "start_time": "2022-10-06T10:21:59.408Z"
   },
   {
    "duration": 2024,
    "start_time": "2022-10-06T10:22:01.351Z"
   },
   {
    "duration": 230,
    "start_time": "2022-10-06T10:22:03.377Z"
   },
   {
    "duration": 743,
    "start_time": "2022-10-06T10:22:03.609Z"
   },
   {
    "duration": 322,
    "start_time": "2022-10-06T10:22:04.353Z"
   },
   {
    "duration": 23,
    "start_time": "2022-10-06T10:22:04.677Z"
   },
   {
    "duration": 2501,
    "start_time": "2022-10-06T10:22:04.701Z"
   },
   {
    "duration": 473,
    "start_time": "2022-10-06T10:22:07.203Z"
   },
   {
    "duration": 8,
    "start_time": "2022-10-06T10:22:07.677Z"
   },
   {
    "duration": 5,
    "start_time": "2022-10-06T10:22:07.695Z"
   },
   {
    "duration": 13,
    "start_time": "2022-10-06T10:22:07.702Z"
   },
   {
    "duration": 6,
    "start_time": "2022-10-06T10:22:07.717Z"
   },
   {
    "duration": 7,
    "start_time": "2022-10-06T10:24:21.150Z"
   },
   {
    "duration": 7,
    "start_time": "2022-10-06T10:24:22.596Z"
   },
   {
    "duration": 7,
    "start_time": "2022-10-06T10:25:00.779Z"
   },
   {
    "duration": 1015,
    "start_time": "2022-10-06T10:25:04.005Z"
   },
   {
    "duration": 1001,
    "start_time": "2022-10-06T10:25:30.067Z"
   },
   {
    "duration": 6,
    "start_time": "2022-10-06T10:26:00.919Z"
   },
   {
    "duration": 879,
    "start_time": "2022-10-06T10:26:03.883Z"
   },
   {
    "duration": 1002,
    "start_time": "2022-10-06T10:26:20.468Z"
   },
   {
    "duration": 6,
    "start_time": "2022-10-06T10:26:58.871Z"
   },
   {
    "duration": 877,
    "start_time": "2022-10-06T10:27:01.820Z"
   },
   {
    "duration": 6,
    "start_time": "2022-10-06T10:27:27.885Z"
   },
   {
    "duration": 947,
    "start_time": "2022-10-06T10:27:30.389Z"
   },
   {
    "duration": 6,
    "start_time": "2022-10-06T10:27:43.998Z"
   },
   {
    "duration": 972,
    "start_time": "2022-10-06T10:27:46.798Z"
   },
   {
    "duration": 51,
    "start_time": "2022-10-06T11:38:47.892Z"
   },
   {
    "duration": 1247,
    "start_time": "2022-10-06T11:39:01.172Z"
   },
   {
    "duration": 346,
    "start_time": "2022-10-06T11:39:02.421Z"
   },
   {
    "duration": 23,
    "start_time": "2022-10-06T11:39:02.769Z"
   },
   {
    "duration": 17,
    "start_time": "2022-10-06T11:39:02.794Z"
   },
   {
    "duration": 38,
    "start_time": "2022-10-06T11:39:02.813Z"
   },
   {
    "duration": 23,
    "start_time": "2022-10-06T11:39:02.853Z"
   },
   {
    "duration": 42,
    "start_time": "2022-10-06T11:39:02.877Z"
   },
   {
    "duration": 614,
    "start_time": "2022-10-06T11:39:02.920Z"
   },
   {
    "duration": 10,
    "start_time": "2022-10-06T11:39:03.536Z"
   },
   {
    "duration": 40,
    "start_time": "2022-10-06T11:39:03.549Z"
   },
   {
    "duration": 2585,
    "start_time": "2022-10-06T11:39:03.591Z"
   },
   {
    "duration": 6,
    "start_time": "2022-10-06T11:39:06.178Z"
   },
   {
    "duration": 33,
    "start_time": "2022-10-06T11:39:06.185Z"
   },
   {
    "duration": 16,
    "start_time": "2022-10-06T11:39:06.222Z"
   },
   {
    "duration": 12,
    "start_time": "2022-10-06T11:39:06.240Z"
   },
   {
    "duration": 29,
    "start_time": "2022-10-06T11:39:06.253Z"
   },
   {
    "duration": 17,
    "start_time": "2022-10-06T11:39:06.284Z"
   },
   {
    "duration": 168,
    "start_time": "2022-10-06T11:39:06.302Z"
   },
   {
    "duration": 9,
    "start_time": "2022-10-06T11:39:06.472Z"
   },
   {
    "duration": 166,
    "start_time": "2022-10-06T11:39:06.483Z"
   },
   {
    "duration": 11,
    "start_time": "2022-10-06T11:39:06.650Z"
   },
   {
    "duration": 2804,
    "start_time": "2022-10-06T11:39:06.662Z"
   },
   {
    "duration": 2,
    "start_time": "2022-10-06T11:39:09.468Z"
   },
   {
    "duration": 10,
    "start_time": "2022-10-06T11:39:09.471Z"
   },
   {
    "duration": 10,
    "start_time": "2022-10-06T11:39:09.482Z"
   },
   {
    "duration": 28,
    "start_time": "2022-10-06T11:39:09.493Z"
   },
   {
    "duration": 15,
    "start_time": "2022-10-06T11:39:09.523Z"
   },
   {
    "duration": 223,
    "start_time": "2022-10-06T11:39:09.541Z"
   },
   {
    "duration": 332,
    "start_time": "2022-10-06T11:39:09.765Z"
   },
   {
    "duration": 25,
    "start_time": "2022-10-06T11:39:10.098Z"
   },
   {
    "duration": 365,
    "start_time": "2022-10-06T11:39:10.125Z"
   },
   {
    "duration": 621,
    "start_time": "2022-10-06T11:39:10.491Z"
   },
   {
    "duration": 16,
    "start_time": "2022-10-06T11:39:11.114Z"
   },
   {
    "duration": 207,
    "start_time": "2022-10-06T11:39:11.131Z"
   },
   {
    "duration": 8,
    "start_time": "2022-10-06T11:39:11.340Z"
   },
   {
    "duration": 276,
    "start_time": "2022-10-06T11:39:11.350Z"
   },
   {
    "duration": 6,
    "start_time": "2022-10-06T11:39:11.628Z"
   },
   {
    "duration": 193,
    "start_time": "2022-10-06T11:39:11.635Z"
   },
   {
    "duration": 5,
    "start_time": "2022-10-06T11:39:11.830Z"
   },
   {
    "duration": 1412,
    "start_time": "2022-10-06T11:39:11.837Z"
   },
   {
    "duration": 74,
    "start_time": "2022-10-06T11:39:13.251Z"
   },
   {
    "duration": 0,
    "start_time": "2022-10-06T11:39:13.326Z"
   },
   {
    "duration": 0,
    "start_time": "2022-10-06T11:39:13.328Z"
   },
   {
    "duration": 0,
    "start_time": "2022-10-06T11:39:13.329Z"
   },
   {
    "duration": 0,
    "start_time": "2022-10-06T11:39:13.330Z"
   },
   {
    "duration": 0,
    "start_time": "2022-10-06T11:39:13.330Z"
   },
   {
    "duration": 0,
    "start_time": "2022-10-06T11:39:13.332Z"
   },
   {
    "duration": 0,
    "start_time": "2022-10-06T11:39:13.333Z"
   },
   {
    "duration": 0,
    "start_time": "2022-10-06T11:39:13.333Z"
   },
   {
    "duration": 0,
    "start_time": "2022-10-06T11:39:13.334Z"
   },
   {
    "duration": 0,
    "start_time": "2022-10-06T11:39:13.335Z"
   },
   {
    "duration": 0,
    "start_time": "2022-10-06T11:39:13.336Z"
   },
   {
    "duration": 1600,
    "start_time": "2022-10-06T11:44:40.322Z"
   },
   {
    "duration": 1737,
    "start_time": "2022-10-06T11:44:49.511Z"
   },
   {
    "duration": 459,
    "start_time": "2022-10-06T11:46:39.421Z"
   },
   {
    "duration": 551,
    "start_time": "2022-10-06T11:47:46.939Z"
   },
   {
    "duration": 16,
    "start_time": "2022-10-06T11:49:33.725Z"
   },
   {
    "duration": 15,
    "start_time": "2022-10-06T11:49:46.446Z"
   },
   {
    "duration": 687,
    "start_time": "2022-10-06T11:52:44.816Z"
   },
   {
    "duration": 16,
    "start_time": "2022-10-06T11:53:43.667Z"
   },
   {
    "duration": 692,
    "start_time": "2022-10-06T11:54:05.893Z"
   },
   {
    "duration": 743,
    "start_time": "2022-10-06T11:54:26.829Z"
   },
   {
    "duration": 14,
    "start_time": "2022-10-06T11:55:35.513Z"
   },
   {
    "duration": 11,
    "start_time": "2022-10-06T11:56:03.559Z"
   },
   {
    "duration": 16,
    "start_time": "2022-10-06T11:56:25.630Z"
   },
   {
    "duration": 15,
    "start_time": "2022-10-06T11:56:43.262Z"
   },
   {
    "duration": 15,
    "start_time": "2022-10-06T11:57:02.681Z"
   },
   {
    "duration": 17,
    "start_time": "2022-10-06T11:57:20.233Z"
   },
   {
    "duration": 12,
    "start_time": "2022-10-06T11:57:50.497Z"
   },
   {
    "duration": 14,
    "start_time": "2022-10-06T11:58:11.565Z"
   },
   {
    "duration": 4,
    "start_time": "2022-10-06T12:00:55.066Z"
   },
   {
    "duration": 4,
    "start_time": "2022-10-06T12:01:32.169Z"
   },
   {
    "duration": 4,
    "start_time": "2022-10-06T12:03:36.159Z"
   },
   {
    "duration": 3,
    "start_time": "2022-10-06T12:03:46.654Z"
   },
   {
    "duration": 4,
    "start_time": "2022-10-06T12:04:06.171Z"
   },
   {
    "duration": 4,
    "start_time": "2022-10-06T12:04:15.781Z"
   },
   {
    "duration": 3,
    "start_time": "2022-10-06T12:04:50.711Z"
   },
   {
    "duration": 3,
    "start_time": "2022-10-06T12:05:33.314Z"
   },
   {
    "duration": 538,
    "start_time": "2022-10-06T12:23:30.236Z"
   },
   {
    "duration": 1394,
    "start_time": "2022-10-06T12:23:36.720Z"
   },
   {
    "duration": 41,
    "start_time": "2022-10-06T12:24:57.312Z"
   },
   {
    "duration": 11,
    "start_time": "2022-10-06T12:26:45.556Z"
   },
   {
    "duration": 32,
    "start_time": "2022-10-06T12:26:53.812Z"
   },
   {
    "duration": 1923,
    "start_time": "2022-10-06T12:27:13.473Z"
   },
   {
    "duration": 341,
    "start_time": "2022-10-06T12:27:58.172Z"
   },
   {
    "duration": 488,
    "start_time": "2022-10-06T12:28:22.781Z"
   },
   {
    "duration": 1459,
    "start_time": "2022-10-06T12:30:26.824Z"
   },
   {
    "duration": 1623,
    "start_time": "2022-10-06T12:30:36.871Z"
   },
   {
    "duration": 90,
    "start_time": "2022-10-06T12:34:30.116Z"
   },
   {
    "duration": 2773,
    "start_time": "2022-10-06T12:34:39.208Z"
   },
   {
    "duration": 2898,
    "start_time": "2022-10-06T12:36:05.613Z"
   },
   {
    "duration": 2508,
    "start_time": "2022-10-06T12:36:20.972Z"
   },
   {
    "duration": 4,
    "start_time": "2022-10-06T12:37:36.076Z"
   },
   {
    "duration": 68,
    "start_time": "2022-10-06T12:37:36.082Z"
   },
   {
    "duration": 27,
    "start_time": "2022-10-06T12:37:36.152Z"
   },
   {
    "duration": 16,
    "start_time": "2022-10-06T12:37:36.182Z"
   },
   {
    "duration": 58,
    "start_time": "2022-10-06T12:37:36.200Z"
   },
   {
    "duration": 13,
    "start_time": "2022-10-06T12:37:36.260Z"
   },
   {
    "duration": 34,
    "start_time": "2022-10-06T12:37:36.275Z"
   },
   {
    "duration": 804,
    "start_time": "2022-10-06T12:37:36.311Z"
   },
   {
    "duration": 21,
    "start_time": "2022-10-06T12:37:37.117Z"
   },
   {
    "duration": 12,
    "start_time": "2022-10-06T12:37:37.140Z"
   },
   {
    "duration": 2690,
    "start_time": "2022-10-06T12:37:37.153Z"
   },
   {
    "duration": 6,
    "start_time": "2022-10-06T12:37:39.845Z"
   },
   {
    "duration": 50,
    "start_time": "2022-10-06T12:37:39.852Z"
   },
   {
    "duration": 12,
    "start_time": "2022-10-06T12:37:39.903Z"
   },
   {
    "duration": 9,
    "start_time": "2022-10-06T12:37:39.917Z"
   },
   {
    "duration": 35,
    "start_time": "2022-10-06T12:37:39.928Z"
   },
   {
    "duration": 17,
    "start_time": "2022-10-06T12:37:39.965Z"
   },
   {
    "duration": 145,
    "start_time": "2022-10-06T12:37:39.984Z"
   },
   {
    "duration": 17,
    "start_time": "2022-10-06T12:37:40.131Z"
   },
   {
    "duration": 151,
    "start_time": "2022-10-06T12:37:40.149Z"
   },
   {
    "duration": 9,
    "start_time": "2022-10-06T12:37:40.302Z"
   },
   {
    "duration": 2744,
    "start_time": "2022-10-06T12:37:40.321Z"
   },
   {
    "duration": 2,
    "start_time": "2022-10-06T12:37:43.067Z"
   },
   {
    "duration": 9,
    "start_time": "2022-10-06T12:37:43.073Z"
   },
   {
    "duration": 9,
    "start_time": "2022-10-06T12:37:43.084Z"
   },
   {
    "duration": 8,
    "start_time": "2022-10-06T12:37:43.095Z"
   },
   {
    "duration": 24,
    "start_time": "2022-10-06T12:37:43.122Z"
   },
   {
    "duration": 269,
    "start_time": "2022-10-06T12:37:43.148Z"
   },
   {
    "duration": 486,
    "start_time": "2022-10-06T12:37:43.421Z"
   },
   {
    "duration": 30,
    "start_time": "2022-10-06T12:37:43.909Z"
   },
   {
    "duration": 343,
    "start_time": "2022-10-06T12:37:43.940Z"
   },
   {
    "duration": 638,
    "start_time": "2022-10-06T12:37:44.284Z"
   },
   {
    "duration": 37,
    "start_time": "2022-10-06T12:37:44.923Z"
   },
   {
    "duration": 205,
    "start_time": "2022-10-06T12:37:44.962Z"
   },
   {
    "duration": 6,
    "start_time": "2022-10-06T12:37:45.169Z"
   },
   {
    "duration": 184,
    "start_time": "2022-10-06T12:37:45.177Z"
   },
   {
    "duration": 5,
    "start_time": "2022-10-06T12:37:45.363Z"
   },
   {
    "duration": 188,
    "start_time": "2022-10-06T12:37:45.370Z"
   },
   {
    "duration": 6,
    "start_time": "2022-10-06T12:37:45.560Z"
   },
   {
    "duration": 1595,
    "start_time": "2022-10-06T12:37:45.568Z"
   },
   {
    "duration": 1842,
    "start_time": "2022-10-06T12:37:47.164Z"
   },
   {
    "duration": 1756,
    "start_time": "2022-10-06T12:37:49.007Z"
   },
   {
    "duration": 227,
    "start_time": "2022-10-06T12:37:50.764Z"
   },
   {
    "duration": 597,
    "start_time": "2022-10-06T12:37:50.992Z"
   },
   {
    "duration": 606,
    "start_time": "2022-10-06T12:37:51.590Z"
   },
   {
    "duration": 2363,
    "start_time": "2022-10-06T12:37:52.197Z"
   },
   {
    "duration": 0,
    "start_time": "2022-10-06T12:37:54.562Z"
   },
   {
    "duration": 0,
    "start_time": "2022-10-06T12:37:54.564Z"
   },
   {
    "duration": 0,
    "start_time": "2022-10-06T12:37:54.566Z"
   },
   {
    "duration": 0,
    "start_time": "2022-10-06T12:37:54.568Z"
   },
   {
    "duration": 0,
    "start_time": "2022-10-06T12:37:54.569Z"
   },
   {
    "duration": 0,
    "start_time": "2022-10-06T12:37:54.570Z"
   },
   {
    "duration": 0,
    "start_time": "2022-10-06T12:37:54.572Z"
   },
   {
    "duration": 416,
    "start_time": "2022-10-06T12:47:42.774Z"
   },
   {
    "duration": 494,
    "start_time": "2022-10-06T12:47:49.992Z"
   },
   {
    "duration": 17,
    "start_time": "2022-10-06T12:48:10.520Z"
   },
   {
    "duration": 3184,
    "start_time": "2022-10-06T12:48:18.312Z"
   },
   {
    "duration": 3083,
    "start_time": "2022-10-06T12:50:40.534Z"
   },
   {
    "duration": 742,
    "start_time": "2022-10-06T12:51:02.956Z"
   },
   {
    "duration": 25,
    "start_time": "2022-10-06T12:51:14.607Z"
   },
   {
    "duration": 705,
    "start_time": "2022-10-06T12:51:25.141Z"
   },
   {
    "duration": 595,
    "start_time": "2022-10-06T12:51:40.068Z"
   },
   {
    "duration": 684,
    "start_time": "2022-10-06T12:56:21.896Z"
   },
   {
    "duration": 18,
    "start_time": "2022-10-06T12:57:30.524Z"
   },
   {
    "duration": 16,
    "start_time": "2022-10-06T12:57:44.277Z"
   },
   {
    "duration": 724,
    "start_time": "2022-10-06T12:57:54.546Z"
   },
   {
    "duration": 21,
    "start_time": "2022-10-06T12:58:45.445Z"
   },
   {
    "duration": 20,
    "start_time": "2022-10-06T12:58:58.753Z"
   },
   {
    "duration": 18,
    "start_time": "2022-10-06T12:59:18.495Z"
   },
   {
    "duration": 16,
    "start_time": "2022-10-06T12:59:32.040Z"
   },
   {
    "duration": 16,
    "start_time": "2022-10-06T13:03:07.975Z"
   },
   {
    "duration": 18,
    "start_time": "2022-10-06T13:03:12.693Z"
   },
   {
    "duration": 1753,
    "start_time": "2022-10-06T13:03:19.364Z"
   },
   {
    "duration": 661,
    "start_time": "2022-10-06T13:20:10.523Z"
   },
   {
    "duration": 550,
    "start_time": "2022-10-06T13:20:42.096Z"
   },
   {
    "duration": 139,
    "start_time": "2022-10-06T13:31:24.655Z"
   },
   {
    "duration": 696,
    "start_time": "2022-10-06T13:31:37.784Z"
   },
   {
    "duration": 784,
    "start_time": "2022-10-06T13:33:12.470Z"
   },
   {
    "duration": 1041,
    "start_time": "2022-10-06T13:33:34.852Z"
   },
   {
    "duration": 1140,
    "start_time": "2022-10-06T13:33:55.316Z"
   },
   {
    "duration": 324,
    "start_time": "2022-10-06T13:40:21.094Z"
   },
   {
    "duration": 21,
    "start_time": "2022-10-06T13:40:30.659Z"
   },
   {
    "duration": 844,
    "start_time": "2022-10-06T13:59:26.360Z"
   },
   {
    "duration": 903,
    "start_time": "2022-10-06T13:59:52.784Z"
   },
   {
    "duration": 821,
    "start_time": "2022-10-06T14:00:13.252Z"
   },
   {
    "duration": 791,
    "start_time": "2022-10-06T14:00:36.615Z"
   },
   {
    "duration": 751,
    "start_time": "2022-10-06T14:00:45.047Z"
   },
   {
    "duration": 483,
    "start_time": "2022-10-06T14:00:53.378Z"
   },
   {
    "duration": 806,
    "start_time": "2022-10-06T14:01:02.885Z"
   },
   {
    "duration": 298,
    "start_time": "2022-10-06T14:01:24.641Z"
   },
   {
    "duration": 392,
    "start_time": "2022-10-06T14:01:35.159Z"
   },
   {
    "duration": 187,
    "start_time": "2022-10-06T14:04:29.476Z"
   },
   {
    "duration": 3,
    "start_time": "2022-10-06T14:04:54.686Z"
   },
   {
    "duration": 60,
    "start_time": "2022-10-06T14:04:54.691Z"
   },
   {
    "duration": 20,
    "start_time": "2022-10-06T14:04:54.753Z"
   },
   {
    "duration": 15,
    "start_time": "2022-10-06T14:04:54.775Z"
   },
   {
    "duration": 47,
    "start_time": "2022-10-06T14:04:54.793Z"
   },
   {
    "duration": 13,
    "start_time": "2022-10-06T14:04:54.843Z"
   },
   {
    "duration": 31,
    "start_time": "2022-10-06T14:04:54.858Z"
   },
   {
    "duration": 799,
    "start_time": "2022-10-06T14:04:54.891Z"
   },
   {
    "duration": 12,
    "start_time": "2022-10-06T14:04:55.693Z"
   },
   {
    "duration": 31,
    "start_time": "2022-10-06T14:04:55.707Z"
   },
   {
    "duration": 3002,
    "start_time": "2022-10-06T14:04:55.742Z"
   },
   {
    "duration": 5,
    "start_time": "2022-10-06T14:04:58.746Z"
   },
   {
    "duration": 18,
    "start_time": "2022-10-06T14:04:58.753Z"
   },
   {
    "duration": 15,
    "start_time": "2022-10-06T14:04:58.772Z"
   },
   {
    "duration": 19,
    "start_time": "2022-10-06T14:04:58.788Z"
   },
   {
    "duration": 27,
    "start_time": "2022-10-06T14:04:58.821Z"
   },
   {
    "duration": 22,
    "start_time": "2022-10-06T14:04:58.850Z"
   },
   {
    "duration": 168,
    "start_time": "2022-10-06T14:04:58.874Z"
   },
   {
    "duration": 9,
    "start_time": "2022-10-06T14:04:59.043Z"
   },
   {
    "duration": 169,
    "start_time": "2022-10-06T14:04:59.054Z"
   },
   {
    "duration": 13,
    "start_time": "2022-10-06T14:04:59.225Z"
   },
   {
    "duration": 2806,
    "start_time": "2022-10-06T14:04:59.241Z"
   },
   {
    "duration": 2,
    "start_time": "2022-10-06T14:05:02.049Z"
   },
   {
    "duration": 39,
    "start_time": "2022-10-06T14:05:02.053Z"
   },
   {
    "duration": 31,
    "start_time": "2022-10-06T14:05:02.094Z"
   },
   {
    "duration": 26,
    "start_time": "2022-10-06T14:05:02.133Z"
   },
   {
    "duration": 32,
    "start_time": "2022-10-06T14:05:02.160Z"
   },
   {
    "duration": 256,
    "start_time": "2022-10-06T14:05:02.194Z"
   },
   {
    "duration": 356,
    "start_time": "2022-10-06T14:05:02.453Z"
   },
   {
    "duration": 31,
    "start_time": "2022-10-06T14:05:02.810Z"
   },
   {
    "duration": 353,
    "start_time": "2022-10-06T14:05:02.843Z"
   },
   {
    "duration": 698,
    "start_time": "2022-10-06T14:05:03.198Z"
   },
   {
    "duration": 47,
    "start_time": "2022-10-06T14:05:03.898Z"
   },
   {
    "duration": 212,
    "start_time": "2022-10-06T14:05:03.948Z"
   },
   {
    "duration": 8,
    "start_time": "2022-10-06T14:05:04.162Z"
   },
   {
    "duration": 186,
    "start_time": "2022-10-06T14:05:04.172Z"
   },
   {
    "duration": 6,
    "start_time": "2022-10-06T14:05:04.360Z"
   },
   {
    "duration": 278,
    "start_time": "2022-10-06T14:05:04.368Z"
   },
   {
    "duration": 480,
    "start_time": "2022-10-06T14:05:04.648Z"
   },
   {
    "duration": 1564,
    "start_time": "2022-10-06T14:05:05.131Z"
   },
   {
    "duration": 1849,
    "start_time": "2022-10-06T14:05:06.698Z"
   },
   {
    "duration": 1804,
    "start_time": "2022-10-06T14:05:08.548Z"
   },
   {
    "duration": 366,
    "start_time": "2022-10-06T14:05:10.354Z"
   },
   {
    "duration": 620,
    "start_time": "2022-10-06T14:05:10.724Z"
   },
   {
    "duration": 557,
    "start_time": "2022-10-06T14:05:11.346Z"
   },
   {
    "duration": 237,
    "start_time": "2022-10-06T14:05:11.904Z"
   },
   {
    "duration": 1924,
    "start_time": "2022-10-06T14:05:12.143Z"
   },
   {
    "duration": 0,
    "start_time": "2022-10-06T14:05:14.068Z"
   },
   {
    "duration": 0,
    "start_time": "2022-10-06T14:05:14.070Z"
   },
   {
    "duration": 0,
    "start_time": "2022-10-06T14:05:14.071Z"
   },
   {
    "duration": 0,
    "start_time": "2022-10-06T14:05:14.072Z"
   },
   {
    "duration": 0,
    "start_time": "2022-10-06T14:05:14.073Z"
   },
   {
    "duration": 0,
    "start_time": "2022-10-06T14:05:14.074Z"
   },
   {
    "duration": 0,
    "start_time": "2022-10-06T14:05:14.076Z"
   },
   {
    "duration": 0,
    "start_time": "2022-10-06T14:05:14.077Z"
   },
   {
    "duration": 291,
    "start_time": "2022-10-06T14:12:10.414Z"
   },
   {
    "duration": 318,
    "start_time": "2022-10-06T14:13:18.156Z"
   },
   {
    "duration": 3635,
    "start_time": "2022-10-06T14:16:11.267Z"
   },
   {
    "duration": 25,
    "start_time": "2022-10-06T14:16:15.069Z"
   },
   {
    "duration": 17,
    "start_time": "2022-10-06T14:18:07.402Z"
   },
   {
    "duration": 762,
    "start_time": "2022-10-06T14:18:12.248Z"
   },
   {
    "duration": 7,
    "start_time": "2022-10-06T14:21:38.044Z"
   },
   {
    "duration": 544,
    "start_time": "2022-10-06T14:24:03.551Z"
   },
   {
    "duration": 17,
    "start_time": "2022-10-06T14:27:13.049Z"
   },
   {
    "duration": 40,
    "start_time": "2022-10-06T14:28:17.450Z"
   },
   {
    "duration": 189,
    "start_time": "2022-10-06T14:32:22.056Z"
   },
   {
    "duration": 169,
    "start_time": "2022-10-06T14:32:41.096Z"
   },
   {
    "duration": 195,
    "start_time": "2022-10-06T14:32:53.623Z"
   },
   {
    "duration": 160,
    "start_time": "2022-10-06T14:33:31.859Z"
   },
   {
    "duration": 2688,
    "start_time": "2022-10-06T14:35:36.411Z"
   },
   {
    "duration": 150,
    "start_time": "2022-10-06T14:36:30.249Z"
   },
   {
    "duration": 137,
    "start_time": "2022-10-06T14:37:14.252Z"
   },
   {
    "duration": 272,
    "start_time": "2022-10-06T14:37:43.157Z"
   },
   {
    "duration": 625,
    "start_time": "2022-10-06T14:41:55.249Z"
   },
   {
    "duration": 249,
    "start_time": "2022-10-06T14:42:02.652Z"
   },
   {
    "duration": 45,
    "start_time": "2022-10-06T14:42:23.533Z"
   },
   {
    "duration": 264,
    "start_time": "2022-10-06T14:42:29.648Z"
   },
   {
    "duration": 133,
    "start_time": "2022-10-06T14:44:28.395Z"
   },
   {
    "duration": 82,
    "start_time": "2022-10-06T14:45:50.739Z"
   },
   {
    "duration": 82,
    "start_time": "2022-10-06T14:46:17.894Z"
   },
   {
    "duration": 113,
    "start_time": "2022-10-06T14:46:27.243Z"
   },
   {
    "duration": 126,
    "start_time": "2022-10-06T14:46:37.666Z"
   },
   {
    "duration": 19,
    "start_time": "2022-10-06T14:55:53.355Z"
   },
   {
    "duration": 134,
    "start_time": "2022-10-06T14:55:59.641Z"
   },
   {
    "duration": 141,
    "start_time": "2022-10-06T14:56:14.358Z"
   },
   {
    "duration": 209,
    "start_time": "2022-10-06T14:56:47.298Z"
   },
   {
    "duration": 3733,
    "start_time": "2022-10-06T14:57:44.642Z"
   },
   {
    "duration": 3514,
    "start_time": "2022-10-06T14:57:48.770Z"
   },
   {
    "duration": 139,
    "start_time": "2022-10-06T14:58:17.273Z"
   },
   {
    "duration": 99,
    "start_time": "2022-10-06T15:01:01.444Z"
   },
   {
    "duration": 132,
    "start_time": "2022-10-06T15:01:09.250Z"
   },
   {
    "duration": 170,
    "start_time": "2022-10-06T15:10:22.335Z"
   },
   {
    "duration": 162,
    "start_time": "2022-10-06T15:10:58.392Z"
   },
   {
    "duration": 162,
    "start_time": "2022-10-06T15:11:39.857Z"
   },
   {
    "duration": 558,
    "start_time": "2022-10-06T15:18:46.803Z"
   },
   {
    "duration": 485,
    "start_time": "2022-10-06T15:19:23.621Z"
   },
   {
    "duration": 288,
    "start_time": "2022-10-06T15:19:49.624Z"
   },
   {
    "duration": 131,
    "start_time": "2022-10-06T15:20:15.075Z"
   },
   {
    "duration": 166,
    "start_time": "2022-10-06T15:20:20.090Z"
   },
   {
    "duration": 513,
    "start_time": "2022-10-06T15:21:36.277Z"
   },
   {
    "duration": 50,
    "start_time": "2022-10-07T05:24:37.535Z"
   },
   {
    "duration": 1457,
    "start_time": "2022-10-07T05:24:42.433Z"
   },
   {
    "duration": 105,
    "start_time": "2022-10-07T05:24:43.892Z"
   },
   {
    "duration": 25,
    "start_time": "2022-10-07T05:24:43.999Z"
   },
   {
    "duration": 14,
    "start_time": "2022-10-07T05:24:44.025Z"
   },
   {
    "duration": 16,
    "start_time": "2022-10-07T05:24:44.041Z"
   },
   {
    "duration": 19,
    "start_time": "2022-10-07T05:24:44.058Z"
   },
   {
    "duration": 17,
    "start_time": "2022-10-07T05:24:44.079Z"
   },
   {
    "duration": 673,
    "start_time": "2022-10-07T05:24:44.097Z"
   },
   {
    "duration": 10,
    "start_time": "2022-10-07T05:24:44.771Z"
   },
   {
    "duration": 12,
    "start_time": "2022-10-07T05:24:44.784Z"
   },
   {
    "duration": 2910,
    "start_time": "2022-10-07T05:24:44.797Z"
   },
   {
    "duration": 5,
    "start_time": "2022-10-07T05:24:47.709Z"
   },
   {
    "duration": 19,
    "start_time": "2022-10-07T05:24:47.715Z"
   },
   {
    "duration": 27,
    "start_time": "2022-10-07T05:24:47.735Z"
   },
   {
    "duration": 10,
    "start_time": "2022-10-07T05:24:47.764Z"
   },
   {
    "duration": 26,
    "start_time": "2022-10-07T05:24:47.776Z"
   },
   {
    "duration": 19,
    "start_time": "2022-10-07T05:24:47.804Z"
   },
   {
    "duration": 185,
    "start_time": "2022-10-07T05:24:47.825Z"
   },
   {
    "duration": 9,
    "start_time": "2022-10-07T05:24:48.011Z"
   },
   {
    "duration": 176,
    "start_time": "2022-10-07T05:24:48.022Z"
   },
   {
    "duration": 9,
    "start_time": "2022-10-07T05:24:48.200Z"
   },
   {
    "duration": 3005,
    "start_time": "2022-10-07T05:24:48.211Z"
   },
   {
    "duration": 2,
    "start_time": "2022-10-07T05:24:51.218Z"
   },
   {
    "duration": 17,
    "start_time": "2022-10-07T05:24:51.222Z"
   },
   {
    "duration": 19,
    "start_time": "2022-10-07T05:24:51.240Z"
   },
   {
    "duration": 29,
    "start_time": "2022-10-07T05:24:51.260Z"
   },
   {
    "duration": 19,
    "start_time": "2022-10-07T05:24:51.291Z"
   },
   {
    "duration": 271,
    "start_time": "2022-10-07T05:24:51.313Z"
   },
   {
    "duration": 425,
    "start_time": "2022-10-07T05:24:51.586Z"
   },
   {
    "duration": 16,
    "start_time": "2022-10-07T05:24:52.012Z"
   },
   {
    "duration": 411,
    "start_time": "2022-10-07T05:24:52.029Z"
   },
   {
    "duration": 672,
    "start_time": "2022-10-07T05:24:52.442Z"
   },
   {
    "duration": 30,
    "start_time": "2022-10-07T05:24:53.115Z"
   },
   {
    "duration": 225,
    "start_time": "2022-10-07T05:24:53.155Z"
   },
   {
    "duration": 8,
    "start_time": "2022-10-07T05:24:53.382Z"
   },
   {
    "duration": 292,
    "start_time": "2022-10-07T05:24:53.391Z"
   },
   {
    "duration": 6,
    "start_time": "2022-10-07T05:24:53.684Z"
   },
   {
    "duration": 192,
    "start_time": "2022-10-07T05:24:53.691Z"
   },
   {
    "duration": 532,
    "start_time": "2022-10-07T05:24:53.885Z"
   },
   {
    "duration": 1595,
    "start_time": "2022-10-07T05:24:54.419Z"
   },
   {
    "duration": 1714,
    "start_time": "2022-10-07T05:24:56.016Z"
   },
   {
    "duration": 1904,
    "start_time": "2022-10-07T05:24:57.732Z"
   },
   {
    "duration": 242,
    "start_time": "2022-10-07T05:24:59.637Z"
   },
   {
    "duration": 645,
    "start_time": "2022-10-07T05:24:59.881Z"
   },
   {
    "duration": 598,
    "start_time": "2022-10-07T05:25:00.527Z"
   },
   {
    "duration": 281,
    "start_time": "2022-10-07T05:25:01.127Z"
   },
   {
    "duration": 12,
    "start_time": "2022-10-07T05:25:01.410Z"
   },
   {
    "duration": 3395,
    "start_time": "2022-10-07T05:25:01.424Z"
   },
   {
    "duration": 920,
    "start_time": "2022-10-07T05:25:04.821Z"
   },
   {
    "duration": 468,
    "start_time": "2022-10-07T05:25:05.743Z"
   },
   {
    "duration": 169,
    "start_time": "2022-10-07T05:25:06.213Z"
   },
   {
    "duration": 9,
    "start_time": "2022-10-07T05:25:06.384Z"
   },
   {
    "duration": 16,
    "start_time": "2022-10-07T05:25:06.395Z"
   },
   {
    "duration": 14,
    "start_time": "2022-10-07T05:25:06.413Z"
   },
   {
    "duration": 20,
    "start_time": "2022-10-07T05:25:06.429Z"
   },
   {
    "duration": 157,
    "start_time": "2022-10-07T05:26:42.331Z"
   },
   {
    "duration": 218,
    "start_time": "2022-10-07T05:27:18.607Z"
   },
   {
    "duration": 161,
    "start_time": "2022-10-07T05:27:25.166Z"
   },
   {
    "duration": 549,
    "start_time": "2022-10-07T05:30:09.811Z"
   },
   {
    "duration": 621,
    "start_time": "2022-10-07T05:30:22.622Z"
   },
   {
    "duration": 538,
    "start_time": "2022-10-07T05:30:58.796Z"
   },
   {
    "duration": 53,
    "start_time": "2022-10-07T05:32:28.043Z"
   },
   {
    "duration": 57,
    "start_time": "2022-10-07T05:32:38.271Z"
   },
   {
    "duration": 47,
    "start_time": "2022-10-07T05:33:06.834Z"
   },
   {
    "duration": 64,
    "start_time": "2022-10-07T05:33:28.049Z"
   },
   {
    "duration": 73,
    "start_time": "2022-10-07T05:33:45.408Z"
   },
   {
    "duration": 49,
    "start_time": "2022-10-07T05:34:04.060Z"
   },
   {
    "duration": 74,
    "start_time": "2022-10-07T05:34:12.840Z"
   },
   {
    "duration": 45,
    "start_time": "2022-10-07T05:34:22.000Z"
   },
   {
    "duration": 640,
    "start_time": "2022-10-07T05:34:31.273Z"
   },
   {
    "duration": 678,
    "start_time": "2022-10-07T05:35:15.033Z"
   },
   {
    "duration": 612,
    "start_time": "2022-10-07T05:35:21.634Z"
   },
   {
    "duration": 26,
    "start_time": "2022-10-07T05:35:46.746Z"
   },
   {
    "duration": 26,
    "start_time": "2022-10-07T05:36:09.707Z"
   },
   {
    "duration": 558,
    "start_time": "2022-10-07T05:36:23.659Z"
   },
   {
    "duration": 567,
    "start_time": "2022-10-07T05:37:16.387Z"
   },
   {
    "duration": 645,
    "start_time": "2022-10-07T05:37:31.109Z"
   },
   {
    "duration": 125,
    "start_time": "2022-10-07T05:38:26.829Z"
   },
   {
    "duration": 605,
    "start_time": "2022-10-07T05:42:04.128Z"
   },
   {
    "duration": 4,
    "start_time": "2022-10-07T05:42:11.613Z"
   },
   {
    "duration": 94,
    "start_time": "2022-10-07T05:42:11.618Z"
   },
   {
    "duration": 21,
    "start_time": "2022-10-07T05:42:11.714Z"
   },
   {
    "duration": 28,
    "start_time": "2022-10-07T05:42:11.737Z"
   },
   {
    "duration": 41,
    "start_time": "2022-10-07T05:42:11.768Z"
   },
   {
    "duration": 13,
    "start_time": "2022-10-07T05:42:11.811Z"
   },
   {
    "duration": 14,
    "start_time": "2022-10-07T05:42:11.826Z"
   },
   {
    "duration": 742,
    "start_time": "2022-10-07T05:42:11.841Z"
   },
   {
    "duration": 10,
    "start_time": "2022-10-07T05:42:12.584Z"
   },
   {
    "duration": 10,
    "start_time": "2022-10-07T05:42:12.595Z"
   },
   {
    "duration": 2906,
    "start_time": "2022-10-07T05:42:12.607Z"
   },
   {
    "duration": 5,
    "start_time": "2022-10-07T05:42:15.515Z"
   },
   {
    "duration": 38,
    "start_time": "2022-10-07T05:42:15.521Z"
   },
   {
    "duration": 19,
    "start_time": "2022-10-07T05:42:15.565Z"
   },
   {
    "duration": 20,
    "start_time": "2022-10-07T05:42:15.586Z"
   },
   {
    "duration": 27,
    "start_time": "2022-10-07T05:42:15.608Z"
   },
   {
    "duration": 32,
    "start_time": "2022-10-07T05:42:15.637Z"
   },
   {
    "duration": 167,
    "start_time": "2022-10-07T05:42:15.671Z"
   },
   {
    "duration": 28,
    "start_time": "2022-10-07T05:42:15.839Z"
   },
   {
    "duration": 163,
    "start_time": "2022-10-07T05:42:15.869Z"
   },
   {
    "duration": 23,
    "start_time": "2022-10-07T05:42:16.034Z"
   },
   {
    "duration": 2836,
    "start_time": "2022-10-07T05:42:16.059Z"
   },
   {
    "duration": 2,
    "start_time": "2022-10-07T05:42:18.897Z"
   },
   {
    "duration": 9,
    "start_time": "2022-10-07T05:42:18.900Z"
   },
   {
    "duration": 9,
    "start_time": "2022-10-07T05:42:18.910Z"
   },
   {
    "duration": 8,
    "start_time": "2022-10-07T05:42:18.921Z"
   },
   {
    "duration": 45,
    "start_time": "2022-10-07T05:42:18.930Z"
   },
   {
    "duration": 244,
    "start_time": "2022-10-07T05:42:18.977Z"
   },
   {
    "duration": 393,
    "start_time": "2022-10-07T05:42:19.225Z"
   },
   {
    "duration": 16,
    "start_time": "2022-10-07T05:42:19.619Z"
   },
   {
    "duration": 502,
    "start_time": "2022-10-07T05:42:19.637Z"
   },
   {
    "duration": 674,
    "start_time": "2022-10-07T05:42:20.140Z"
   },
   {
    "duration": 48,
    "start_time": "2022-10-07T05:42:20.815Z"
   },
   {
    "duration": 222,
    "start_time": "2022-10-07T05:42:20.867Z"
   },
   {
    "duration": 7,
    "start_time": "2022-10-07T05:42:21.091Z"
   },
   {
    "duration": 192,
    "start_time": "2022-10-07T05:42:21.100Z"
   },
   {
    "duration": 6,
    "start_time": "2022-10-07T05:42:21.294Z"
   },
   {
    "duration": 209,
    "start_time": "2022-10-07T05:42:21.301Z"
   },
   {
    "duration": 588,
    "start_time": "2022-10-07T05:42:21.513Z"
   },
   {
    "duration": 1566,
    "start_time": "2022-10-07T05:42:22.102Z"
   },
   {
    "duration": 1902,
    "start_time": "2022-10-07T05:42:23.670Z"
   },
   {
    "duration": 1903,
    "start_time": "2022-10-07T05:42:25.574Z"
   },
   {
    "duration": 259,
    "start_time": "2022-10-07T05:42:27.478Z"
   },
   {
    "duration": 634,
    "start_time": "2022-10-07T05:42:27.739Z"
   },
   {
    "duration": 551,
    "start_time": "2022-10-07T05:42:28.375Z"
   },
   {
    "duration": 398,
    "start_time": "2022-10-07T05:42:28.928Z"
   },
   {
    "duration": 14,
    "start_time": "2022-10-07T05:42:29.327Z"
   },
   {
    "duration": 3531,
    "start_time": "2022-10-07T05:42:29.354Z"
   },
   {
    "duration": 767,
    "start_time": "2022-10-07T05:42:32.887Z"
   },
   {
    "duration": 492,
    "start_time": "2022-10-07T05:42:33.655Z"
   },
   {
    "duration": 631,
    "start_time": "2022-10-07T05:42:34.149Z"
   },
   {
    "duration": 136,
    "start_time": "2022-10-07T05:42:34.782Z"
   },
   {
    "duration": 8,
    "start_time": "2022-10-07T05:42:34.919Z"
   },
   {
    "duration": 10,
    "start_time": "2022-10-07T05:42:34.928Z"
   },
   {
    "duration": 30,
    "start_time": "2022-10-07T05:42:34.939Z"
   },
   {
    "duration": 8,
    "start_time": "2022-10-07T05:42:34.970Z"
   },
   {
    "duration": 28,
    "start_time": "2022-10-07T05:43:10.305Z"
   },
   {
    "duration": 25,
    "start_time": "2022-10-07T05:43:25.168Z"
   },
   {
    "duration": 10,
    "start_time": "2022-10-07T05:54:24.774Z"
   },
   {
    "duration": 39,
    "start_time": "2022-10-07T05:58:12.077Z"
   },
   {
    "duration": 40,
    "start_time": "2022-10-07T05:58:54.853Z"
   },
   {
    "duration": 9,
    "start_time": "2022-10-07T06:18:53.397Z"
   },
   {
    "duration": 8,
    "start_time": "2022-10-07T06:18:58.511Z"
   },
   {
    "duration": 8,
    "start_time": "2022-10-07T06:19:28.599Z"
   },
   {
    "duration": 37,
    "start_time": "2022-10-07T06:21:03.949Z"
   },
   {
    "duration": 3,
    "start_time": "2022-10-07T06:21:16.630Z"
   },
   {
    "duration": 88,
    "start_time": "2022-10-07T06:21:16.636Z"
   },
   {
    "duration": 22,
    "start_time": "2022-10-07T06:21:16.726Z"
   },
   {
    "duration": 23,
    "start_time": "2022-10-07T06:21:16.750Z"
   },
   {
    "duration": 18,
    "start_time": "2022-10-07T06:21:16.775Z"
   },
   {
    "duration": 11,
    "start_time": "2022-10-07T06:21:16.795Z"
   },
   {
    "duration": 16,
    "start_time": "2022-10-07T06:21:16.809Z"
   },
   {
    "duration": 978,
    "start_time": "2022-10-07T06:21:16.855Z"
   },
   {
    "duration": 20,
    "start_time": "2022-10-07T06:21:17.834Z"
   },
   {
    "duration": 12,
    "start_time": "2022-10-07T06:21:17.856Z"
   },
   {
    "duration": 2975,
    "start_time": "2022-10-07T06:21:17.872Z"
   },
   {
    "duration": 6,
    "start_time": "2022-10-07T06:21:20.854Z"
   },
   {
    "duration": 33,
    "start_time": "2022-10-07T06:21:20.862Z"
   },
   {
    "duration": 31,
    "start_time": "2022-10-07T06:21:20.897Z"
   },
   {
    "duration": 30,
    "start_time": "2022-10-07T06:21:20.930Z"
   },
   {
    "duration": 34,
    "start_time": "2022-10-07T06:21:20.962Z"
   },
   {
    "duration": 23,
    "start_time": "2022-10-07T06:21:20.998Z"
   },
   {
    "duration": 171,
    "start_time": "2022-10-07T06:21:21.023Z"
   },
   {
    "duration": 9,
    "start_time": "2022-10-07T06:21:21.196Z"
   },
   {
    "duration": 179,
    "start_time": "2022-10-07T06:21:21.206Z"
   },
   {
    "duration": 10,
    "start_time": "2022-10-07T06:21:21.386Z"
   },
   {
    "duration": 2981,
    "start_time": "2022-10-07T06:21:21.398Z"
   },
   {
    "duration": 3,
    "start_time": "2022-10-07T06:21:24.380Z"
   },
   {
    "duration": 8,
    "start_time": "2022-10-07T06:21:24.385Z"
   },
   {
    "duration": 14,
    "start_time": "2022-10-07T06:21:24.395Z"
   },
   {
    "duration": 9,
    "start_time": "2022-10-07T06:21:24.411Z"
   },
   {
    "duration": 39,
    "start_time": "2022-10-07T06:21:24.422Z"
   },
   {
    "duration": 294,
    "start_time": "2022-10-07T06:21:24.463Z"
   },
   {
    "duration": 520,
    "start_time": "2022-10-07T06:21:24.761Z"
   },
   {
    "duration": 16,
    "start_time": "2022-10-07T06:21:25.283Z"
   },
   {
    "duration": 433,
    "start_time": "2022-10-07T06:21:25.301Z"
   },
   {
    "duration": 677,
    "start_time": "2022-10-07T06:21:25.736Z"
   },
   {
    "duration": 40,
    "start_time": "2022-10-07T06:21:26.415Z"
   },
   {
    "duration": 245,
    "start_time": "2022-10-07T06:21:26.457Z"
   },
   {
    "duration": 8,
    "start_time": "2022-10-07T06:21:26.704Z"
   },
   {
    "duration": 200,
    "start_time": "2022-10-07T06:21:26.714Z"
   },
   {
    "duration": 6,
    "start_time": "2022-10-07T06:21:26.916Z"
   },
   {
    "duration": 195,
    "start_time": "2022-10-07T06:21:26.923Z"
   },
   {
    "duration": 551,
    "start_time": "2022-10-07T06:21:27.120Z"
   },
   {
    "duration": 1765,
    "start_time": "2022-10-07T06:21:27.673Z"
   },
   {
    "duration": 1782,
    "start_time": "2022-10-07T06:21:29.440Z"
   },
   {
    "duration": 1959,
    "start_time": "2022-10-07T06:21:31.224Z"
   },
   {
    "duration": 254,
    "start_time": "2022-10-07T06:21:33.185Z"
   },
   {
    "duration": 768,
    "start_time": "2022-10-07T06:21:33.441Z"
   },
   {
    "duration": 566,
    "start_time": "2022-10-07T06:21:34.211Z"
   },
   {
    "duration": 301,
    "start_time": "2022-10-07T06:21:34.779Z"
   },
   {
    "duration": 13,
    "start_time": "2022-10-07T06:21:35.081Z"
   },
   {
    "duration": 3479,
    "start_time": "2022-10-07T06:21:35.096Z"
   },
   {
    "duration": 726,
    "start_time": "2022-10-07T06:21:38.578Z"
   },
   {
    "duration": 483,
    "start_time": "2022-10-07T06:21:39.306Z"
   },
   {
    "duration": 29,
    "start_time": "2022-10-07T06:21:39.791Z"
   },
   {
    "duration": 0,
    "start_time": "2022-10-07T06:21:39.822Z"
   },
   {
    "duration": 0,
    "start_time": "2022-10-07T06:21:39.823Z"
   },
   {
    "duration": 0,
    "start_time": "2022-10-07T06:21:39.824Z"
   },
   {
    "duration": 0,
    "start_time": "2022-10-07T06:21:39.825Z"
   },
   {
    "duration": 0,
    "start_time": "2022-10-07T06:21:39.827Z"
   },
   {
    "duration": 32,
    "start_time": "2022-10-07T06:22:07.058Z"
   },
   {
    "duration": 34,
    "start_time": "2022-10-07T06:22:30.764Z"
   },
   {
    "duration": 34,
    "start_time": "2022-10-07T06:23:36.660Z"
   },
   {
    "duration": 30,
    "start_time": "2022-10-07T06:25:32.129Z"
   },
   {
    "duration": 32,
    "start_time": "2022-10-07T06:26:14.088Z"
   },
   {
    "duration": 24,
    "start_time": "2022-10-07T06:28:21.410Z"
   },
   {
    "duration": 10,
    "start_time": "2022-10-07T06:30:16.374Z"
   },
   {
    "duration": 7,
    "start_time": "2022-10-07T06:31:39.594Z"
   },
   {
    "duration": 21,
    "start_time": "2022-10-07T06:38:37.197Z"
   },
   {
    "duration": 175,
    "start_time": "2022-10-07T06:40:49.519Z"
   },
   {
    "duration": 17,
    "start_time": "2022-10-07T06:41:02.986Z"
   },
   {
    "duration": 20,
    "start_time": "2022-10-07T06:41:33.091Z"
   },
   {
    "duration": 19,
    "start_time": "2022-10-07T06:42:14.346Z"
   },
   {
    "duration": 25,
    "start_time": "2022-10-07T06:42:54.260Z"
   },
   {
    "duration": 20,
    "start_time": "2022-10-07T06:43:34.219Z"
   },
   {
    "duration": 20,
    "start_time": "2022-10-07T06:44:07.421Z"
   },
   {
    "duration": 20,
    "start_time": "2022-10-07T06:46:36.014Z"
   },
   {
    "duration": 18,
    "start_time": "2022-10-07T06:48:50.328Z"
   },
   {
    "duration": 332,
    "start_time": "2022-10-07T06:49:13.798Z"
   },
   {
    "duration": 155,
    "start_time": "2022-10-07T06:51:25.868Z"
   },
   {
    "duration": 149,
    "start_time": "2022-10-07T06:55:53.021Z"
   },
   {
    "duration": 163,
    "start_time": "2022-10-07T06:56:36.562Z"
   },
   {
    "duration": 174,
    "start_time": "2022-10-07T06:57:22.056Z"
   },
   {
    "duration": 149,
    "start_time": "2022-10-07T07:03:28.282Z"
   },
   {
    "duration": 219,
    "start_time": "2022-10-07T07:03:41.375Z"
   },
   {
    "duration": 144,
    "start_time": "2022-10-07T07:06:43.962Z"
   },
   {
    "duration": 6,
    "start_time": "2022-10-07T07:12:28.178Z"
   },
   {
    "duration": 6,
    "start_time": "2022-10-07T07:32:36.903Z"
   },
   {
    "duration": 10,
    "start_time": "2022-10-07T07:33:11.829Z"
   },
   {
    "duration": 11,
    "start_time": "2022-10-07T07:33:46.575Z"
   },
   {
    "duration": 13,
    "start_time": "2022-10-07T07:35:36.725Z"
   },
   {
    "duration": 14,
    "start_time": "2022-10-07T07:35:59.300Z"
   },
   {
    "duration": 13,
    "start_time": "2022-10-07T07:36:48.375Z"
   },
   {
    "duration": 14,
    "start_time": "2022-10-07T07:37:03.312Z"
   },
   {
    "duration": 15,
    "start_time": "2022-10-07T07:38:09.948Z"
   },
   {
    "duration": 15,
    "start_time": "2022-10-07T07:38:36.745Z"
   },
   {
    "duration": 11,
    "start_time": "2022-10-07T07:41:19.325Z"
   },
   {
    "duration": 7,
    "start_time": "2022-10-07T07:41:50.254Z"
   },
   {
    "duration": 13,
    "start_time": "2022-10-07T07:43:32.968Z"
   },
   {
    "duration": 13,
    "start_time": "2022-10-07T07:44:12.453Z"
   },
   {
    "duration": 13,
    "start_time": "2022-10-07T07:44:22.408Z"
   },
   {
    "duration": 6,
    "start_time": "2022-10-07T07:44:27.981Z"
   },
   {
    "duration": 13,
    "start_time": "2022-10-07T07:45:25.608Z"
   },
   {
    "duration": 24,
    "start_time": "2022-10-07T07:45:30.062Z"
   },
   {
    "duration": 7,
    "start_time": "2022-10-07T07:46:30.308Z"
   },
   {
    "duration": 6,
    "start_time": "2022-10-07T07:46:36.979Z"
   },
   {
    "duration": 12,
    "start_time": "2022-10-07T07:47:49.869Z"
   },
   {
    "duration": 12,
    "start_time": "2022-10-07T07:48:16.621Z"
   },
   {
    "duration": 6,
    "start_time": "2022-10-07T07:48:27.093Z"
   },
   {
    "duration": 6,
    "start_time": "2022-10-07T07:52:46.098Z"
   },
   {
    "duration": 50,
    "start_time": "2022-10-07T07:53:42.620Z"
   },
   {
    "duration": 83,
    "start_time": "2022-10-09T11:49:22.042Z"
   },
   {
    "duration": 2059,
    "start_time": "2022-10-09T11:49:37.196Z"
   },
   {
    "duration": 231,
    "start_time": "2022-10-09T11:49:39.258Z"
   },
   {
    "duration": 46,
    "start_time": "2022-10-09T11:49:39.492Z"
   },
   {
    "duration": 27,
    "start_time": "2022-10-09T11:49:39.541Z"
   },
   {
    "duration": 46,
    "start_time": "2022-10-09T11:49:39.570Z"
   },
   {
    "duration": 20,
    "start_time": "2022-10-09T11:49:39.619Z"
   },
   {
    "duration": 53,
    "start_time": "2022-10-09T11:49:39.641Z"
   },
   {
    "duration": 1022,
    "start_time": "2022-10-09T11:49:39.697Z"
   },
   {
    "duration": 21,
    "start_time": "2022-10-09T11:49:40.721Z"
   },
   {
    "duration": 115,
    "start_time": "2022-10-09T11:49:40.745Z"
   },
   {
    "duration": 3710,
    "start_time": "2022-10-09T11:49:40.863Z"
   },
   {
    "duration": 13,
    "start_time": "2022-10-09T11:49:44.576Z"
   },
   {
    "duration": 29,
    "start_time": "2022-10-09T11:49:44.591Z"
   },
   {
    "duration": 17,
    "start_time": "2022-10-09T11:49:44.623Z"
   },
   {
    "duration": 12,
    "start_time": "2022-10-09T11:49:44.643Z"
   },
   {
    "duration": 66,
    "start_time": "2022-10-09T11:49:44.657Z"
   },
   {
    "duration": 37,
    "start_time": "2022-10-09T11:49:44.725Z"
   },
   {
    "duration": 230,
    "start_time": "2022-10-09T11:49:44.766Z"
   },
   {
    "duration": 15,
    "start_time": "2022-10-09T11:49:44.999Z"
   },
   {
    "duration": 231,
    "start_time": "2022-10-09T11:49:45.017Z"
   },
   {
    "duration": 15,
    "start_time": "2022-10-09T11:49:45.250Z"
   },
   {
    "duration": 3586,
    "start_time": "2022-10-09T11:49:45.267Z"
   },
   {
    "duration": 3,
    "start_time": "2022-10-09T11:49:48.855Z"
   },
   {
    "duration": 21,
    "start_time": "2022-10-09T11:49:48.860Z"
   },
   {
    "duration": 18,
    "start_time": "2022-10-09T11:49:48.888Z"
   },
   {
    "duration": 15,
    "start_time": "2022-10-09T11:49:48.909Z"
   },
   {
    "duration": 34,
    "start_time": "2022-10-09T11:49:48.927Z"
   },
   {
    "duration": 404,
    "start_time": "2022-10-09T11:49:48.989Z"
   },
   {
    "duration": 617,
    "start_time": "2022-10-09T11:49:49.396Z"
   },
   {
    "duration": 24,
    "start_time": "2022-10-09T11:49:50.016Z"
   },
   {
    "duration": 626,
    "start_time": "2022-10-09T11:49:50.042Z"
   },
   {
    "duration": 866,
    "start_time": "2022-10-09T11:49:50.670Z"
   },
   {
    "duration": 57,
    "start_time": "2022-10-09T11:49:51.538Z"
   },
   {
    "duration": 358,
    "start_time": "2022-10-09T11:49:51.597Z"
   },
   {
    "duration": 11,
    "start_time": "2022-10-09T11:49:51.959Z"
   },
   {
    "duration": 442,
    "start_time": "2022-10-09T11:49:51.973Z"
   },
   {
    "duration": 7,
    "start_time": "2022-10-09T11:49:52.417Z"
   },
   {
    "duration": 248,
    "start_time": "2022-10-09T11:49:52.426Z"
   },
   {
    "duration": 832,
    "start_time": "2022-10-09T11:49:52.676Z"
   },
   {
    "duration": 2437,
    "start_time": "2022-10-09T11:49:53.510Z"
   },
   {
    "duration": 2182,
    "start_time": "2022-10-09T11:49:55.949Z"
   },
   {
    "duration": 2262,
    "start_time": "2022-10-09T11:49:58.133Z"
   },
   {
    "duration": 305,
    "start_time": "2022-10-09T11:50:00.397Z"
   },
   {
    "duration": 882,
    "start_time": "2022-10-09T11:50:00.705Z"
   },
   {
    "duration": 1048,
    "start_time": "2022-10-09T11:50:01.590Z"
   },
   {
    "duration": 494,
    "start_time": "2022-10-09T11:50:02.641Z"
   },
   {
    "duration": 30,
    "start_time": "2022-10-09T11:50:03.138Z"
   },
   {
    "duration": 6237,
    "start_time": "2022-10-09T11:50:03.170Z"
   },
   {
    "duration": 1372,
    "start_time": "2022-10-09T11:50:09.410Z"
   },
   {
    "duration": 646,
    "start_time": "2022-10-09T11:50:10.785Z"
   },
   {
    "duration": 228,
    "start_time": "2022-10-09T11:50:11.436Z"
   },
   {
    "duration": 257,
    "start_time": "2022-10-09T11:50:11.666Z"
   },
   {
    "duration": 265,
    "start_time": "2022-10-09T11:50:11.925Z"
   },
   {
    "duration": 15,
    "start_time": "2022-10-09T11:50:12.192Z"
   },
   {
    "duration": 42,
    "start_time": "2022-10-09T11:50:12.209Z"
   },
   {
    "duration": 43,
    "start_time": "2022-10-09T11:50:12.254Z"
   },
   {
    "duration": 33,
    "start_time": "2022-10-09T11:50:12.300Z"
   },
   {
    "duration": 9,
    "start_time": "2022-10-09T11:50:12.336Z"
   },
   {
    "duration": 350,
    "start_time": "2022-10-09T12:10:29.343Z"
   },
   {
    "duration": 293,
    "start_time": "2022-10-09T12:10:40.975Z"
   },
   {
    "duration": 264,
    "start_time": "2022-10-09T12:11:43.512Z"
   },
   {
    "duration": 181,
    "start_time": "2022-10-09T12:11:57.744Z"
   },
   {
    "duration": 330,
    "start_time": "2022-10-09T12:12:09.777Z"
   },
   {
    "duration": 674,
    "start_time": "2022-10-09T12:15:40.334Z"
   },
   {
    "duration": 614,
    "start_time": "2022-10-09T12:16:35.269Z"
   },
   {
    "duration": 847,
    "start_time": "2022-10-09T12:17:01.192Z"
   },
   {
    "duration": 862,
    "start_time": "2022-10-09T12:27:09.114Z"
   },
   {
    "duration": 658,
    "start_time": "2022-10-09T12:31:00.324Z"
   },
   {
    "duration": 1091,
    "start_time": "2022-10-09T12:33:19.175Z"
   },
   {
    "duration": 884,
    "start_time": "2022-10-09T12:33:41.924Z"
   },
   {
    "duration": 780,
    "start_time": "2022-10-09T12:52:34.431Z"
   },
   {
    "duration": 683,
    "start_time": "2022-10-09T12:53:00.491Z"
   },
   {
    "duration": 331,
    "start_time": "2022-10-09T12:53:36.291Z"
   },
   {
    "duration": 27,
    "start_time": "2022-10-09T12:54:19.551Z"
   },
   {
    "duration": 411,
    "start_time": "2022-10-09T12:54:32.693Z"
   },
   {
    "duration": 305,
    "start_time": "2022-10-09T12:54:52.366Z"
   },
   {
    "duration": 40,
    "start_time": "2022-10-09T12:57:14.663Z"
   },
   {
    "duration": 338,
    "start_time": "2022-10-09T12:58:24.208Z"
   },
   {
    "duration": 316,
    "start_time": "2022-10-09T13:03:33.477Z"
   },
   {
    "duration": 15,
    "start_time": "2022-10-09T13:04:36.926Z"
   },
   {
    "duration": 35,
    "start_time": "2022-10-09T13:05:19.959Z"
   },
   {
    "duration": 23,
    "start_time": "2022-10-09T13:05:43.887Z"
   },
   {
    "duration": 300,
    "start_time": "2022-10-09T13:06:33.752Z"
   },
   {
    "duration": 14,
    "start_time": "2022-10-09T13:07:03.217Z"
   },
   {
    "duration": 21,
    "start_time": "2022-10-09T13:07:12.881Z"
   },
   {
    "duration": 43,
    "start_time": "2022-10-09T13:07:28.307Z"
   },
   {
    "duration": 20,
    "start_time": "2022-10-09T13:07:32.018Z"
   },
   {
    "duration": 4,
    "start_time": "2022-10-09T13:07:37.310Z"
   },
   {
    "duration": 91,
    "start_time": "2022-10-09T13:07:37.317Z"
   },
   {
    "duration": 32,
    "start_time": "2022-10-09T13:07:37.410Z"
   },
   {
    "duration": 49,
    "start_time": "2022-10-09T13:07:37.444Z"
   },
   {
    "duration": 38,
    "start_time": "2022-10-09T13:07:37.496Z"
   },
   {
    "duration": 17,
    "start_time": "2022-10-09T13:07:37.536Z"
   },
   {
    "duration": 47,
    "start_time": "2022-10-09T13:07:37.555Z"
   },
   {
    "duration": 894,
    "start_time": "2022-10-09T13:07:37.609Z"
   },
   {
    "duration": 14,
    "start_time": "2022-10-09T13:07:38.505Z"
   },
   {
    "duration": 25,
    "start_time": "2022-10-09T13:07:38.521Z"
   },
   {
    "duration": 3722,
    "start_time": "2022-10-09T13:07:38.550Z"
   },
   {
    "duration": 8,
    "start_time": "2022-10-09T13:07:42.274Z"
   },
   {
    "duration": 58,
    "start_time": "2022-10-09T13:07:42.297Z"
   },
   {
    "duration": 29,
    "start_time": "2022-10-09T13:07:42.360Z"
   },
   {
    "duration": 48,
    "start_time": "2022-10-09T13:07:42.392Z"
   },
   {
    "duration": 52,
    "start_time": "2022-10-09T13:07:42.443Z"
   },
   {
    "duration": 40,
    "start_time": "2022-10-09T13:07:42.497Z"
   },
   {
    "duration": 236,
    "start_time": "2022-10-09T13:07:42.539Z"
   },
   {
    "duration": 32,
    "start_time": "2022-10-09T13:07:42.776Z"
   },
   {
    "duration": 200,
    "start_time": "2022-10-09T13:07:42.814Z"
   },
   {
    "duration": 14,
    "start_time": "2022-10-09T13:07:43.016Z"
   },
   {
    "duration": 3372,
    "start_time": "2022-10-09T13:07:43.032Z"
   },
   {
    "duration": 5,
    "start_time": "2022-10-09T13:07:46.412Z"
   },
   {
    "duration": 19,
    "start_time": "2022-10-09T13:07:46.419Z"
   },
   {
    "duration": 32,
    "start_time": "2022-10-09T13:07:46.440Z"
   },
   {
    "duration": 24,
    "start_time": "2022-10-09T13:07:46.474Z"
   },
   {
    "duration": 38,
    "start_time": "2022-10-09T13:07:46.500Z"
   },
   {
    "duration": 293,
    "start_time": "2022-10-09T13:07:46.540Z"
   },
   {
    "duration": 450,
    "start_time": "2022-10-09T13:07:46.836Z"
   },
   {
    "duration": 21,
    "start_time": "2022-10-09T13:07:47.289Z"
   },
   {
    "duration": 620,
    "start_time": "2022-10-09T13:07:47.311Z"
   },
   {
    "duration": 328,
    "start_time": "2022-10-09T13:07:47.933Z"
   },
   {
    "duration": 56,
    "start_time": "2022-10-09T13:07:48.263Z"
   },
   {
    "duration": 22,
    "start_time": "2022-10-09T13:07:48.321Z"
   },
   {
    "duration": 0,
    "start_time": "2022-10-09T13:07:48.345Z"
   },
   {
    "duration": 0,
    "start_time": "2022-10-09T13:07:48.347Z"
   },
   {
    "duration": 0,
    "start_time": "2022-10-09T13:07:48.349Z"
   },
   {
    "duration": 0,
    "start_time": "2022-10-09T13:07:48.351Z"
   },
   {
    "duration": 0,
    "start_time": "2022-10-09T13:07:48.352Z"
   },
   {
    "duration": 0,
    "start_time": "2022-10-09T13:07:48.354Z"
   },
   {
    "duration": 0,
    "start_time": "2022-10-09T13:07:48.356Z"
   },
   {
    "duration": 0,
    "start_time": "2022-10-09T13:07:48.357Z"
   },
   {
    "duration": 0,
    "start_time": "2022-10-09T13:07:48.359Z"
   },
   {
    "duration": 0,
    "start_time": "2022-10-09T13:07:48.361Z"
   },
   {
    "duration": 0,
    "start_time": "2022-10-09T13:07:48.362Z"
   },
   {
    "duration": 0,
    "start_time": "2022-10-09T13:07:48.390Z"
   },
   {
    "duration": 0,
    "start_time": "2022-10-09T13:07:48.390Z"
   },
   {
    "duration": 0,
    "start_time": "2022-10-09T13:07:48.391Z"
   },
   {
    "duration": 0,
    "start_time": "2022-10-09T13:07:48.392Z"
   },
   {
    "duration": 0,
    "start_time": "2022-10-09T13:07:48.393Z"
   },
   {
    "duration": 0,
    "start_time": "2022-10-09T13:07:48.393Z"
   },
   {
    "duration": 0,
    "start_time": "2022-10-09T13:07:48.394Z"
   },
   {
    "duration": 0,
    "start_time": "2022-10-09T13:07:48.395Z"
   },
   {
    "duration": 0,
    "start_time": "2022-10-09T13:07:48.396Z"
   },
   {
    "duration": 0,
    "start_time": "2022-10-09T13:07:48.397Z"
   },
   {
    "duration": 0,
    "start_time": "2022-10-09T13:07:48.398Z"
   },
   {
    "duration": 0,
    "start_time": "2022-10-09T13:07:48.398Z"
   },
   {
    "duration": 0,
    "start_time": "2022-10-09T13:07:48.400Z"
   },
   {
    "duration": 15,
    "start_time": "2022-10-09T13:08:10.411Z"
   },
   {
    "duration": 17,
    "start_time": "2022-10-09T13:09:58.210Z"
   },
   {
    "duration": 318,
    "start_time": "2022-10-09T13:13:11.054Z"
   },
   {
    "duration": 16,
    "start_time": "2022-10-09T13:14:40.962Z"
   },
   {
    "duration": 14,
    "start_time": "2022-10-09T13:14:55.234Z"
   },
   {
    "duration": 252,
    "start_time": "2022-10-09T13:15:02.365Z"
   },
   {
    "duration": 345,
    "start_time": "2022-10-09T13:18:13.909Z"
   },
   {
    "duration": 31,
    "start_time": "2022-10-09T13:24:05.189Z"
   },
   {
    "duration": 22,
    "start_time": "2022-10-09T13:25:26.013Z"
   },
   {
    "duration": 24,
    "start_time": "2022-10-09T13:29:51.418Z"
   },
   {
    "duration": 312,
    "start_time": "2022-10-09T13:30:12.756Z"
   },
   {
    "duration": 23,
    "start_time": "2022-10-09T13:30:21.690Z"
   },
   {
    "duration": 19,
    "start_time": "2022-10-09T13:30:54.329Z"
   },
   {
    "duration": 255,
    "start_time": "2022-10-09T13:31:18.054Z"
   },
   {
    "duration": 41,
    "start_time": "2022-10-09T13:31:41.911Z"
   },
   {
    "duration": 36,
    "start_time": "2022-10-09T13:31:52.704Z"
   },
   {
    "duration": 347,
    "start_time": "2022-10-09T13:55:48.103Z"
   },
   {
    "duration": 426,
    "start_time": "2022-10-09T13:56:08.133Z"
   },
   {
    "duration": 308,
    "start_time": "2022-10-09T13:56:58.728Z"
   },
   {
    "duration": 83,
    "start_time": "2022-10-09T13:57:35.820Z"
   },
   {
    "duration": 94,
    "start_time": "2022-10-09T13:57:58.198Z"
   },
   {
    "duration": 48,
    "start_time": "2022-10-09T14:02:40.573Z"
   },
   {
    "duration": 15,
    "start_time": "2022-10-09T14:03:26.963Z"
   },
   {
    "duration": 217,
    "start_time": "2022-10-09T14:04:46.723Z"
   },
   {
    "duration": 33,
    "start_time": "2022-10-09T14:05:26.526Z"
   },
   {
    "duration": 218,
    "start_time": "2022-10-09T14:05:32.213Z"
   },
   {
    "duration": 34,
    "start_time": "2022-10-09T14:05:44.793Z"
   },
   {
    "duration": 234,
    "start_time": "2022-10-09T14:05:49.781Z"
   },
   {
    "duration": 37,
    "start_time": "2022-10-09T14:06:34.165Z"
   },
   {
    "duration": 333,
    "start_time": "2022-10-09T14:10:10.810Z"
   },
   {
    "duration": 327,
    "start_time": "2022-10-09T14:10:23.411Z"
   },
   {
    "duration": 336,
    "start_time": "2022-10-09T14:12:05.294Z"
   },
   {
    "duration": 23,
    "start_time": "2022-10-09T14:14:09.037Z"
   },
   {
    "duration": 231,
    "start_time": "2022-10-09T14:14:30.639Z"
   },
   {
    "duration": 40,
    "start_time": "2022-10-09T14:18:37.401Z"
   },
   {
    "duration": 352,
    "start_time": "2022-10-09T14:18:41.978Z"
   },
   {
    "duration": 40,
    "start_time": "2022-10-09T14:19:13.399Z"
   },
   {
    "duration": 358,
    "start_time": "2022-10-09T14:19:40.516Z"
   },
   {
    "duration": 47,
    "start_time": "2022-10-09T14:21:15.163Z"
   },
   {
    "duration": 227,
    "start_time": "2022-10-09T14:21:23.870Z"
   },
   {
    "duration": 41,
    "start_time": "2022-10-09T14:21:33.862Z"
   },
   {
    "duration": 225,
    "start_time": "2022-10-09T14:21:43.658Z"
   },
   {
    "duration": 33,
    "start_time": "2022-10-09T14:23:10.055Z"
   },
   {
    "duration": 288,
    "start_time": "2022-10-09T14:23:19.645Z"
   },
   {
    "duration": 48,
    "start_time": "2022-10-09T14:24:23.881Z"
   },
   {
    "duration": 321,
    "start_time": "2022-10-09T14:24:32.080Z"
   },
   {
    "duration": 35,
    "start_time": "2022-10-09T14:24:50.128Z"
   },
   {
    "duration": 268,
    "start_time": "2022-10-09T14:24:57.144Z"
   },
   {
    "duration": 298,
    "start_time": "2022-10-09T14:28:48.040Z"
   },
   {
    "duration": 207,
    "start_time": "2022-10-09T14:29:19.244Z"
   },
   {
    "duration": 194,
    "start_time": "2022-10-09T14:29:42.003Z"
   },
   {
    "duration": 10,
    "start_time": "2022-10-09T14:37:28.642Z"
   },
   {
    "duration": 11,
    "start_time": "2022-10-09T14:37:32.457Z"
   },
   {
    "duration": 140,
    "start_time": "2022-10-09T14:38:18.580Z"
   },
   {
    "duration": 10,
    "start_time": "2022-10-09T14:39:22.409Z"
   },
   {
    "duration": 12,
    "start_time": "2022-10-09T14:39:37.273Z"
   },
   {
    "duration": 14,
    "start_time": "2022-10-09T14:40:03.206Z"
   },
   {
    "duration": 16,
    "start_time": "2022-10-09T14:40:11.573Z"
   },
   {
    "duration": 11,
    "start_time": "2022-10-09T14:40:33.758Z"
   },
   {
    "duration": 15,
    "start_time": "2022-10-09T14:40:40.417Z"
   },
   {
    "duration": 11,
    "start_time": "2022-10-09T14:41:15.326Z"
   },
   {
    "duration": 10,
    "start_time": "2022-10-09T14:41:26.552Z"
   },
   {
    "duration": 11,
    "start_time": "2022-10-09T14:41:39.830Z"
   },
   {
    "duration": 16,
    "start_time": "2022-10-09T14:42:09.982Z"
   },
   {
    "duration": 13,
    "start_time": "2022-10-09T14:42:20.525Z"
   },
   {
    "duration": 15,
    "start_time": "2022-10-09T14:42:35.761Z"
   },
   {
    "duration": 14,
    "start_time": "2022-10-09T14:42:42.820Z"
   },
   {
    "duration": 222,
    "start_time": "2022-10-09T14:47:23.533Z"
   },
   {
    "duration": 9,
    "start_time": "2022-10-09T14:47:28.461Z"
   },
   {
    "duration": 251,
    "start_time": "2022-10-09T14:47:31.655Z"
   },
   {
    "duration": 7,
    "start_time": "2022-10-09T14:47:38.560Z"
   },
   {
    "duration": 11,
    "start_time": "2022-10-09T14:48:17.517Z"
   },
   {
    "duration": 15,
    "start_time": "2022-10-09T14:48:33.783Z"
   },
   {
    "duration": 1117,
    "start_time": "2022-10-09T14:49:37.516Z"
   },
   {
    "duration": 1032,
    "start_time": "2022-10-09T14:49:47.529Z"
   },
   {
    "duration": 1337,
    "start_time": "2022-10-09T14:49:53.952Z"
   },
   {
    "duration": 561,
    "start_time": "2022-10-09T14:50:32.957Z"
   },
   {
    "duration": 909,
    "start_time": "2022-10-09T14:50:39.832Z"
   },
   {
    "duration": 722,
    "start_time": "2022-10-09T14:52:55.832Z"
   },
   {
    "duration": 808,
    "start_time": "2022-10-09T14:53:05.148Z"
   },
   {
    "duration": 892,
    "start_time": "2022-10-09T14:53:37.697Z"
   },
   {
    "duration": 756,
    "start_time": "2022-10-09T14:53:44.028Z"
   },
   {
    "duration": 203,
    "start_time": "2022-10-09T14:56:43.349Z"
   },
   {
    "duration": 10,
    "start_time": "2022-10-09T14:59:30.661Z"
   },
   {
    "duration": 25,
    "start_time": "2022-10-09T14:59:41.986Z"
   },
   {
    "duration": 17,
    "start_time": "2022-10-09T15:01:00.916Z"
   },
   {
    "duration": 913,
    "start_time": "2022-10-09T15:01:27.516Z"
   },
   {
    "duration": 11,
    "start_time": "2022-10-09T15:02:14.631Z"
   },
   {
    "duration": 274,
    "start_time": "2022-10-09T15:05:06.002Z"
   },
   {
    "duration": 267,
    "start_time": "2022-10-09T15:05:24.914Z"
   },
   {
    "duration": 259,
    "start_time": "2022-10-09T15:07:46.623Z"
   },
   {
    "duration": 317,
    "start_time": "2022-10-09T15:08:15.245Z"
   },
   {
    "duration": 391,
    "start_time": "2022-10-09T15:08:35.765Z"
   },
   {
    "duration": 307,
    "start_time": "2022-10-09T15:09:30.432Z"
   },
   {
    "duration": 282,
    "start_time": "2022-10-09T15:09:48.327Z"
   },
   {
    "duration": 289,
    "start_time": "2022-10-09T15:09:52.608Z"
   },
   {
    "duration": 315,
    "start_time": "2022-10-09T15:10:00.959Z"
   },
   {
    "duration": 313,
    "start_time": "2022-10-09T15:10:30.159Z"
   },
   {
    "duration": 8,
    "start_time": "2022-10-09T15:17:14.958Z"
   },
   {
    "duration": 41,
    "start_time": "2022-10-09T15:17:44.888Z"
   },
   {
    "duration": 14,
    "start_time": "2022-10-09T15:18:06.552Z"
   },
   {
    "duration": 24,
    "start_time": "2022-10-09T15:18:37.619Z"
   },
   {
    "duration": 6,
    "start_time": "2022-10-09T15:19:00.856Z"
   },
   {
    "duration": 216,
    "start_time": "2022-10-09T15:19:12.785Z"
   },
   {
    "duration": 6,
    "start_time": "2022-10-09T15:19:24.820Z"
   },
   {
    "duration": 229,
    "start_time": "2022-10-09T15:19:32.724Z"
   },
   {
    "duration": 226,
    "start_time": "2022-10-09T15:27:02.511Z"
   },
   {
    "duration": 15,
    "start_time": "2022-10-09T15:27:47.015Z"
   },
   {
    "duration": 13,
    "start_time": "2022-10-09T15:28:09.840Z"
   },
   {
    "duration": 109,
    "start_time": "2022-10-09T15:31:08.726Z"
   },
   {
    "duration": 193,
    "start_time": "2022-10-09T15:33:21.469Z"
   },
   {
    "duration": 233,
    "start_time": "2022-10-09T15:36:07.012Z"
   },
   {
    "duration": 36,
    "start_time": "2022-10-09T15:36:28.673Z"
   },
   {
    "duration": 311,
    "start_time": "2022-10-09T15:36:34.313Z"
   },
   {
    "duration": 732,
    "start_time": "2022-10-09T15:38:32.902Z"
   },
   {
    "duration": 293,
    "start_time": "2022-10-09T15:48:28.328Z"
   },
   {
    "duration": 22,
    "start_time": "2022-10-09T15:52:02.366Z"
   },
   {
    "duration": 717,
    "start_time": "2022-10-09T15:54:48.674Z"
   },
   {
    "duration": 609,
    "start_time": "2022-10-09T15:58:53.022Z"
   },
   {
    "duration": 675,
    "start_time": "2022-10-09T15:59:31.718Z"
   },
   {
    "duration": 44,
    "start_time": "2022-10-10T06:57:40.140Z"
   },
   {
    "duration": 1251,
    "start_time": "2022-10-10T06:57:44.839Z"
   },
   {
    "duration": 183,
    "start_time": "2022-10-10T06:57:46.094Z"
   },
   {
    "duration": 24,
    "start_time": "2022-10-10T06:57:46.278Z"
   },
   {
    "duration": 13,
    "start_time": "2022-10-10T06:57:46.303Z"
   },
   {
    "duration": 14,
    "start_time": "2022-10-10T06:57:46.318Z"
   },
   {
    "duration": 8,
    "start_time": "2022-10-10T06:57:46.333Z"
   },
   {
    "duration": 18,
    "start_time": "2022-10-10T06:57:46.342Z"
   },
   {
    "duration": 658,
    "start_time": "2022-10-10T06:57:46.361Z"
   },
   {
    "duration": 10,
    "start_time": "2022-10-10T06:57:47.021Z"
   },
   {
    "duration": 9,
    "start_time": "2022-10-10T06:57:47.033Z"
   },
   {
    "duration": 2567,
    "start_time": "2022-10-10T06:57:47.044Z"
   },
   {
    "duration": 6,
    "start_time": "2022-10-10T06:57:49.613Z"
   },
   {
    "duration": 15,
    "start_time": "2022-10-10T06:57:49.620Z"
   },
   {
    "duration": 13,
    "start_time": "2022-10-10T06:57:49.638Z"
   },
   {
    "duration": 8,
    "start_time": "2022-10-10T06:57:49.653Z"
   },
   {
    "duration": 54,
    "start_time": "2022-10-10T06:57:49.662Z"
   },
   {
    "duration": 18,
    "start_time": "2022-10-10T06:57:49.717Z"
   },
   {
    "duration": 156,
    "start_time": "2022-10-10T06:57:49.736Z"
   },
   {
    "duration": 8,
    "start_time": "2022-10-10T06:57:49.895Z"
   },
   {
    "duration": 242,
    "start_time": "2022-10-10T06:57:49.905Z"
   },
   {
    "duration": 11,
    "start_time": "2022-10-10T06:57:50.149Z"
   },
   {
    "duration": 2522,
    "start_time": "2022-10-10T06:57:50.162Z"
   },
   {
    "duration": 3,
    "start_time": "2022-10-10T06:57:52.686Z"
   },
   {
    "duration": 5,
    "start_time": "2022-10-10T06:57:52.694Z"
   },
   {
    "duration": 9,
    "start_time": "2022-10-10T06:57:52.701Z"
   },
   {
    "duration": 13,
    "start_time": "2022-10-10T06:57:52.712Z"
   },
   {
    "duration": 16,
    "start_time": "2022-10-10T06:57:52.726Z"
   },
   {
    "duration": 267,
    "start_time": "2022-10-10T06:57:52.744Z"
   },
   {
    "duration": 342,
    "start_time": "2022-10-10T06:57:53.013Z"
   },
   {
    "duration": 15,
    "start_time": "2022-10-10T06:57:53.357Z"
   },
   {
    "duration": 342,
    "start_time": "2022-10-10T06:57:53.373Z"
   },
   {
    "duration": 246,
    "start_time": "2022-10-10T06:57:53.716Z"
   },
   {
    "duration": 45,
    "start_time": "2022-10-10T06:57:53.964Z"
   },
   {
    "duration": 230,
    "start_time": "2022-10-10T06:57:54.011Z"
   },
   {
    "duration": 9,
    "start_time": "2022-10-10T06:57:54.243Z"
   },
   {
    "duration": 13,
    "start_time": "2022-10-10T06:57:54.254Z"
   },
   {
    "duration": 9,
    "start_time": "2022-10-10T06:57:54.269Z"
   },
   {
    "duration": 22,
    "start_time": "2022-10-10T06:57:54.279Z"
   },
   {
    "duration": 13,
    "start_time": "2022-10-10T06:57:54.302Z"
   },
   {
    "duration": 103,
    "start_time": "2022-10-10T06:57:54.316Z"
   },
   {
    "duration": 9,
    "start_time": "2022-10-10T06:57:54.423Z"
   },
   {
    "duration": 8,
    "start_time": "2022-10-10T06:57:54.433Z"
   },
   {
    "duration": 198,
    "start_time": "2022-10-10T06:57:54.442Z"
   },
   {
    "duration": 6,
    "start_time": "2022-10-10T06:57:54.642Z"
   },
   {
    "duration": 203,
    "start_time": "2022-10-10T06:57:54.649Z"
   },
   {
    "duration": 8,
    "start_time": "2022-10-10T06:57:54.854Z"
   },
   {
    "duration": 493,
    "start_time": "2022-10-10T06:57:54.864Z"
   },
   {
    "duration": 479,
    "start_time": "2022-10-10T06:57:55.359Z"
   },
   {
    "duration": 537,
    "start_time": "2022-10-10T06:57:55.840Z"
   },
   {
    "duration": 635,
    "start_time": "2022-10-10T06:57:56.378Z"
   },
   {
    "duration": 221,
    "start_time": "2022-10-10T06:57:57.014Z"
   },
   {
    "duration": 429,
    "start_time": "2022-10-10T06:57:57.237Z"
   },
   {
    "duration": 103,
    "start_time": "2022-10-10T06:57:57.668Z"
   },
   {
    "duration": 0,
    "start_time": "2022-10-10T06:57:57.772Z"
   },
   {
    "duration": 0,
    "start_time": "2022-10-10T06:57:57.773Z"
   },
   {
    "duration": 0,
    "start_time": "2022-10-10T06:57:57.775Z"
   },
   {
    "duration": 0,
    "start_time": "2022-10-10T06:57:57.775Z"
   },
   {
    "duration": 0,
    "start_time": "2022-10-10T06:57:57.777Z"
   },
   {
    "duration": 0,
    "start_time": "2022-10-10T06:57:57.778Z"
   },
   {
    "duration": 0,
    "start_time": "2022-10-10T06:57:57.779Z"
   },
   {
    "duration": 0,
    "start_time": "2022-10-10T06:57:57.780Z"
   },
   {
    "duration": 0,
    "start_time": "2022-10-10T06:57:57.780Z"
   },
   {
    "duration": 0,
    "start_time": "2022-10-10T06:57:57.781Z"
   },
   {
    "duration": 0,
    "start_time": "2022-10-10T06:57:57.782Z"
   },
   {
    "duration": 0,
    "start_time": "2022-10-10T06:57:57.783Z"
   },
   {
    "duration": 12,
    "start_time": "2022-10-10T06:58:15.349Z"
   },
   {
    "duration": 2342,
    "start_time": "2022-10-10T06:58:28.404Z"
   },
   {
    "duration": 435,
    "start_time": "2022-10-10T06:58:48.120Z"
   },
   {
    "duration": 21,
    "start_time": "2022-10-10T07:02:50.864Z"
   },
   {
    "duration": 21,
    "start_time": "2022-10-10T07:03:32.593Z"
   },
   {
    "duration": 21,
    "start_time": "2022-10-10T07:05:14.947Z"
   },
   {
    "duration": 28,
    "start_time": "2022-10-10T07:07:48.643Z"
   },
   {
    "duration": 36,
    "start_time": "2022-10-10T07:09:31.624Z"
   },
   {
    "duration": 167,
    "start_time": "2022-10-10T07:15:17.197Z"
   },
   {
    "duration": 99,
    "start_time": "2022-10-10T07:16:50.419Z"
   },
   {
    "duration": 168,
    "start_time": "2022-10-10T07:17:13.451Z"
   },
   {
    "duration": 453,
    "start_time": "2022-10-10T07:21:18.702Z"
   },
   {
    "duration": 1042,
    "start_time": "2022-10-10T07:22:15.103Z"
   },
   {
    "duration": 574,
    "start_time": "2022-10-10T07:28:25.623Z"
   },
   {
    "duration": 412,
    "start_time": "2022-10-10T07:29:12.509Z"
   },
   {
    "duration": 148,
    "start_time": "2022-10-10T07:29:37.378Z"
   },
   {
    "duration": 141,
    "start_time": "2022-10-10T07:29:50.943Z"
   },
   {
    "duration": 136,
    "start_time": "2022-10-10T07:29:57.028Z"
   },
   {
    "duration": 9,
    "start_time": "2022-10-10T07:36:23.958Z"
   },
   {
    "duration": 10,
    "start_time": "2022-10-10T07:36:34.270Z"
   },
   {
    "duration": 5,
    "start_time": "2022-10-10T07:36:43.185Z"
   },
   {
    "duration": 5,
    "start_time": "2022-10-10T07:37:28.375Z"
   },
   {
    "duration": 12,
    "start_time": "2022-10-10T07:38:48.090Z"
   },
   {
    "duration": 6,
    "start_time": "2022-10-10T07:38:54.026Z"
   },
   {
    "duration": 6,
    "start_time": "2022-10-10T07:39:02.025Z"
   },
   {
    "duration": 136,
    "start_time": "2022-10-10T07:39:47.132Z"
   }
  ],
  "kernelspec": {
   "display_name": "Python 3 (ipykernel)",
   "language": "python",
   "name": "python3"
  },
  "language_info": {
   "codemirror_mode": {
    "name": "ipython",
    "version": 3
   },
   "file_extension": ".py",
   "mimetype": "text/x-python",
   "name": "python",
   "nbconvert_exporter": "python",
   "pygments_lexer": "ipython3",
   "version": "3.9.13"
  },
  "toc": {
   "base_numbering": 1,
   "nav_menu": {},
   "number_sections": true,
   "sideBar": true,
   "skip_h1_title": true,
   "title_cell": "Table of Contents",
   "title_sidebar": "Contents",
   "toc_cell": false,
   "toc_position": {},
   "toc_section_display": true,
   "toc_window_display": false
  }
 },
 "nbformat": 4,
 "nbformat_minor": 2
}
