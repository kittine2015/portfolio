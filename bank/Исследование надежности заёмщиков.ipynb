{
 "cells": [
  {
   "cell_type": "markdown",
   "id": "7a885080",
   "metadata": {
    "deletable": false,
    "editable": false,
    "id": "c81daeeb"
   },
   "source": [
    "# Исследование надежности заемщиков\n"
   ]
  },
  {
   "cell_type": "markdown",
   "id": "27afd2e9",
   "metadata": {
    "deletable": false,
    "editable": false,
    "id": "827c20bf"
   },
   "source": [
    "Во второй части проекта вы выполните шаги 3 и 4. Их вручную проверит ревьюер.\n",
    "Чтобы вам не пришлось писать код заново для шагов 1 и 2, мы добавили авторские решения в ячейки с кодом. \n",
    "\n"
   ]
  },
  {
   "cell_type": "markdown",
   "id": "7f2017a5",
   "metadata": {},
   "source": [
    "   **Описание проекта**\n",
    "    \n",
    "    Заказчик — кредитный отдел банка. Нужно разобраться, влияет ли семейное положение и количество детей клиента на факт погашения кредита в срок. Входные данные от банка — статистика о платёжеспособности клиентов.\n",
    "    Результаты исследования будут учтены при построении модели кредитного скоринга — специальной системы, которая оценивает способность потенциального заёмщика вернуть кредит банку."
   ]
  },
  {
   "cell_type": "markdown",
   "id": "015b07c0",
   "metadata": {},
   "source": [
    "**Описание данных**\n",
    "\n",
    "    children — количество детей в семье\n",
    "    days_employed — общий трудовой стаж в днях\n",
    "    dob_years — возраст клиента в годах\n",
    "    education — уровень образования клиента\n",
    "    education_id — идентификатор уровня образования\n",
    "    family_status — семейное положение\n",
    "    family_status_id — идентификатор семейного положения\n",
    "    gender — пол клиента\n",
    "    income_type — тип занятости\n",
    "    debt — имел ли задолженность по возврату кредитов\n",
    "    total_income — ежемесячный доход\n",
    "    purpose — цель получения кредита"
   ]
  },
  {
   "cell_type": "markdown",
   "id": "f1b340b3",
   "metadata": {
    "deletable": false,
    "editable": false,
    "id": "744d7639"
   },
   "source": [
    "## Откройте таблицу и изучите общую информацию о данных"
   ]
  },
  {
   "cell_type": "markdown",
   "id": "8858bd4e",
   "metadata": {
    "deletable": false,
    "editable": false,
    "id": "e7a14c31"
   },
   "source": [
    "**Задание 1. Импортируйте библиотеку pandas. Считайте данные из csv-файла в датафрейм и сохраните в переменную `data`. Путь к файлу:**\n",
    "\n",
    "`/datasets/data.csv`"
   ]
  },
  {
   "cell_type": "code",
   "execution_count": 90,
   "id": "c4450267",
   "metadata": {
    "deletable": false,
    "id": "7bcf75c9"
   },
   "outputs": [],
   "source": [
    "import pandas as pd\n",
    "\n",
    "try:\n",
    "    data = pd.read_csv('/datasets/data.csv')\n",
    "except:\n",
    "    data = pd.read_csv('https://code.s3.yandex.net/datasets/data.csv')"
   ]
  },
  {
   "cell_type": "markdown",
   "id": "93ca02b7",
   "metadata": {
    "deletable": false,
    "editable": false,
    "id": "b8038fe3"
   },
   "source": [
    "**Задание 2. Выведите первые 20 строчек датафрейма `data` на экран.**"
   ]
  },
  {
   "cell_type": "code",
   "execution_count": 91,
   "id": "b35fea2b",
   "metadata": {
    "deletable": false,
    "id": "2a7cab99",
    "outputId": "1a8f3ef2-d323-4ec2-ddf7-89670b5944c4"
   },
   "outputs": [
    {
     "data": {
      "text/html": [
       "<div>\n",
       "<style scoped>\n",
       "    .dataframe tbody tr th:only-of-type {\n",
       "        vertical-align: middle;\n",
       "    }\n",
       "\n",
       "    .dataframe tbody tr th {\n",
       "        vertical-align: top;\n",
       "    }\n",
       "\n",
       "    .dataframe thead th {\n",
       "        text-align: right;\n",
       "    }\n",
       "</style>\n",
       "<table border=\"1\" class=\"dataframe\">\n",
       "  <thead>\n",
       "    <tr style=\"text-align: right;\">\n",
       "      <th></th>\n",
       "      <th>children</th>\n",
       "      <th>days_employed</th>\n",
       "      <th>dob_years</th>\n",
       "      <th>education</th>\n",
       "      <th>education_id</th>\n",
       "      <th>family_status</th>\n",
       "      <th>family_status_id</th>\n",
       "      <th>gender</th>\n",
       "      <th>income_type</th>\n",
       "      <th>debt</th>\n",
       "      <th>total_income</th>\n",
       "      <th>purpose</th>\n",
       "    </tr>\n",
       "  </thead>\n",
       "  <tbody>\n",
       "    <tr>\n",
       "      <th>0</th>\n",
       "      <td>1</td>\n",
       "      <td>-8437.673028</td>\n",
       "      <td>42</td>\n",
       "      <td>высшее</td>\n",
       "      <td>0</td>\n",
       "      <td>женат / замужем</td>\n",
       "      <td>0</td>\n",
       "      <td>F</td>\n",
       "      <td>сотрудник</td>\n",
       "      <td>0</td>\n",
       "      <td>253875.639453</td>\n",
       "      <td>покупка жилья</td>\n",
       "    </tr>\n",
       "    <tr>\n",
       "      <th>1</th>\n",
       "      <td>1</td>\n",
       "      <td>-4024.803754</td>\n",
       "      <td>36</td>\n",
       "      <td>среднее</td>\n",
       "      <td>1</td>\n",
       "      <td>женат / замужем</td>\n",
       "      <td>0</td>\n",
       "      <td>F</td>\n",
       "      <td>сотрудник</td>\n",
       "      <td>0</td>\n",
       "      <td>112080.014102</td>\n",
       "      <td>приобретение автомобиля</td>\n",
       "    </tr>\n",
       "    <tr>\n",
       "      <th>2</th>\n",
       "      <td>0</td>\n",
       "      <td>-5623.422610</td>\n",
       "      <td>33</td>\n",
       "      <td>Среднее</td>\n",
       "      <td>1</td>\n",
       "      <td>женат / замужем</td>\n",
       "      <td>0</td>\n",
       "      <td>M</td>\n",
       "      <td>сотрудник</td>\n",
       "      <td>0</td>\n",
       "      <td>145885.952297</td>\n",
       "      <td>покупка жилья</td>\n",
       "    </tr>\n",
       "    <tr>\n",
       "      <th>3</th>\n",
       "      <td>3</td>\n",
       "      <td>-4124.747207</td>\n",
       "      <td>32</td>\n",
       "      <td>среднее</td>\n",
       "      <td>1</td>\n",
       "      <td>женат / замужем</td>\n",
       "      <td>0</td>\n",
       "      <td>M</td>\n",
       "      <td>сотрудник</td>\n",
       "      <td>0</td>\n",
       "      <td>267628.550329</td>\n",
       "      <td>дополнительное образование</td>\n",
       "    </tr>\n",
       "    <tr>\n",
       "      <th>4</th>\n",
       "      <td>0</td>\n",
       "      <td>340266.072047</td>\n",
       "      <td>53</td>\n",
       "      <td>среднее</td>\n",
       "      <td>1</td>\n",
       "      <td>гражданский брак</td>\n",
       "      <td>1</td>\n",
       "      <td>F</td>\n",
       "      <td>пенсионер</td>\n",
       "      <td>0</td>\n",
       "      <td>158616.077870</td>\n",
       "      <td>сыграть свадьбу</td>\n",
       "    </tr>\n",
       "    <tr>\n",
       "      <th>5</th>\n",
       "      <td>0</td>\n",
       "      <td>-926.185831</td>\n",
       "      <td>27</td>\n",
       "      <td>высшее</td>\n",
       "      <td>0</td>\n",
       "      <td>гражданский брак</td>\n",
       "      <td>1</td>\n",
       "      <td>M</td>\n",
       "      <td>компаньон</td>\n",
       "      <td>0</td>\n",
       "      <td>255763.565419</td>\n",
       "      <td>покупка жилья</td>\n",
       "    </tr>\n",
       "    <tr>\n",
       "      <th>6</th>\n",
       "      <td>0</td>\n",
       "      <td>-2879.202052</td>\n",
       "      <td>43</td>\n",
       "      <td>высшее</td>\n",
       "      <td>0</td>\n",
       "      <td>женат / замужем</td>\n",
       "      <td>0</td>\n",
       "      <td>F</td>\n",
       "      <td>компаньон</td>\n",
       "      <td>0</td>\n",
       "      <td>240525.971920</td>\n",
       "      <td>операции с жильем</td>\n",
       "    </tr>\n",
       "    <tr>\n",
       "      <th>7</th>\n",
       "      <td>0</td>\n",
       "      <td>-152.779569</td>\n",
       "      <td>50</td>\n",
       "      <td>СРЕДНЕЕ</td>\n",
       "      <td>1</td>\n",
       "      <td>женат / замужем</td>\n",
       "      <td>0</td>\n",
       "      <td>M</td>\n",
       "      <td>сотрудник</td>\n",
       "      <td>0</td>\n",
       "      <td>135823.934197</td>\n",
       "      <td>образование</td>\n",
       "    </tr>\n",
       "    <tr>\n",
       "      <th>8</th>\n",
       "      <td>2</td>\n",
       "      <td>-6929.865299</td>\n",
       "      <td>35</td>\n",
       "      <td>ВЫСШЕЕ</td>\n",
       "      <td>0</td>\n",
       "      <td>гражданский брак</td>\n",
       "      <td>1</td>\n",
       "      <td>F</td>\n",
       "      <td>сотрудник</td>\n",
       "      <td>0</td>\n",
       "      <td>95856.832424</td>\n",
       "      <td>на проведение свадьбы</td>\n",
       "    </tr>\n",
       "    <tr>\n",
       "      <th>9</th>\n",
       "      <td>0</td>\n",
       "      <td>-2188.756445</td>\n",
       "      <td>41</td>\n",
       "      <td>среднее</td>\n",
       "      <td>1</td>\n",
       "      <td>женат / замужем</td>\n",
       "      <td>0</td>\n",
       "      <td>M</td>\n",
       "      <td>сотрудник</td>\n",
       "      <td>0</td>\n",
       "      <td>144425.938277</td>\n",
       "      <td>покупка жилья для семьи</td>\n",
       "    </tr>\n",
       "    <tr>\n",
       "      <th>10</th>\n",
       "      <td>2</td>\n",
       "      <td>-4171.483647</td>\n",
       "      <td>36</td>\n",
       "      <td>высшее</td>\n",
       "      <td>0</td>\n",
       "      <td>женат / замужем</td>\n",
       "      <td>0</td>\n",
       "      <td>M</td>\n",
       "      <td>компаньон</td>\n",
       "      <td>0</td>\n",
       "      <td>113943.491460</td>\n",
       "      <td>покупка недвижимости</td>\n",
       "    </tr>\n",
       "    <tr>\n",
       "      <th>11</th>\n",
       "      <td>0</td>\n",
       "      <td>-792.701887</td>\n",
       "      <td>40</td>\n",
       "      <td>среднее</td>\n",
       "      <td>1</td>\n",
       "      <td>женат / замужем</td>\n",
       "      <td>0</td>\n",
       "      <td>F</td>\n",
       "      <td>сотрудник</td>\n",
       "      <td>0</td>\n",
       "      <td>77069.234271</td>\n",
       "      <td>покупка коммерческой недвижимости</td>\n",
       "    </tr>\n",
       "    <tr>\n",
       "      <th>12</th>\n",
       "      <td>0</td>\n",
       "      <td>NaN</td>\n",
       "      <td>65</td>\n",
       "      <td>среднее</td>\n",
       "      <td>1</td>\n",
       "      <td>гражданский брак</td>\n",
       "      <td>1</td>\n",
       "      <td>M</td>\n",
       "      <td>пенсионер</td>\n",
       "      <td>0</td>\n",
       "      <td>NaN</td>\n",
       "      <td>сыграть свадьбу</td>\n",
       "    </tr>\n",
       "    <tr>\n",
       "      <th>13</th>\n",
       "      <td>0</td>\n",
       "      <td>-1846.641941</td>\n",
       "      <td>54</td>\n",
       "      <td>неоконченное высшее</td>\n",
       "      <td>2</td>\n",
       "      <td>женат / замужем</td>\n",
       "      <td>0</td>\n",
       "      <td>F</td>\n",
       "      <td>сотрудник</td>\n",
       "      <td>0</td>\n",
       "      <td>130458.228857</td>\n",
       "      <td>приобретение автомобиля</td>\n",
       "    </tr>\n",
       "    <tr>\n",
       "      <th>14</th>\n",
       "      <td>0</td>\n",
       "      <td>-1844.956182</td>\n",
       "      <td>56</td>\n",
       "      <td>высшее</td>\n",
       "      <td>0</td>\n",
       "      <td>гражданский брак</td>\n",
       "      <td>1</td>\n",
       "      <td>F</td>\n",
       "      <td>компаньон</td>\n",
       "      <td>1</td>\n",
       "      <td>165127.911772</td>\n",
       "      <td>покупка жилой недвижимости</td>\n",
       "    </tr>\n",
       "    <tr>\n",
       "      <th>15</th>\n",
       "      <td>1</td>\n",
       "      <td>-972.364419</td>\n",
       "      <td>26</td>\n",
       "      <td>среднее</td>\n",
       "      <td>1</td>\n",
       "      <td>женат / замужем</td>\n",
       "      <td>0</td>\n",
       "      <td>F</td>\n",
       "      <td>сотрудник</td>\n",
       "      <td>0</td>\n",
       "      <td>116820.904450</td>\n",
       "      <td>строительство собственной недвижимости</td>\n",
       "    </tr>\n",
       "    <tr>\n",
       "      <th>16</th>\n",
       "      <td>0</td>\n",
       "      <td>-1719.934226</td>\n",
       "      <td>35</td>\n",
       "      <td>среднее</td>\n",
       "      <td>1</td>\n",
       "      <td>женат / замужем</td>\n",
       "      <td>0</td>\n",
       "      <td>F</td>\n",
       "      <td>сотрудник</td>\n",
       "      <td>0</td>\n",
       "      <td>289202.704229</td>\n",
       "      <td>недвижимость</td>\n",
       "    </tr>\n",
       "    <tr>\n",
       "      <th>17</th>\n",
       "      <td>0</td>\n",
       "      <td>-2369.999720</td>\n",
       "      <td>33</td>\n",
       "      <td>высшее</td>\n",
       "      <td>0</td>\n",
       "      <td>гражданский брак</td>\n",
       "      <td>1</td>\n",
       "      <td>M</td>\n",
       "      <td>сотрудник</td>\n",
       "      <td>0</td>\n",
       "      <td>90410.586745</td>\n",
       "      <td>строительство недвижимости</td>\n",
       "    </tr>\n",
       "    <tr>\n",
       "      <th>18</th>\n",
       "      <td>0</td>\n",
       "      <td>400281.136913</td>\n",
       "      <td>53</td>\n",
       "      <td>среднее</td>\n",
       "      <td>1</td>\n",
       "      <td>вдовец / вдова</td>\n",
       "      <td>2</td>\n",
       "      <td>F</td>\n",
       "      <td>пенсионер</td>\n",
       "      <td>0</td>\n",
       "      <td>56823.777243</td>\n",
       "      <td>на покупку подержанного автомобиля</td>\n",
       "    </tr>\n",
       "    <tr>\n",
       "      <th>19</th>\n",
       "      <td>0</td>\n",
       "      <td>-10038.818549</td>\n",
       "      <td>48</td>\n",
       "      <td>СРЕДНЕЕ</td>\n",
       "      <td>1</td>\n",
       "      <td>в разводе</td>\n",
       "      <td>3</td>\n",
       "      <td>F</td>\n",
       "      <td>сотрудник</td>\n",
       "      <td>0</td>\n",
       "      <td>242831.107982</td>\n",
       "      <td>на покупку своего автомобиля</td>\n",
       "    </tr>\n",
       "  </tbody>\n",
       "</table>\n",
       "</div>"
      ],
      "text/plain": [
       "    children  days_employed  dob_years            education  education_id  \\\n",
       "0          1   -8437.673028         42               высшее             0   \n",
       "1          1   -4024.803754         36              среднее             1   \n",
       "2          0   -5623.422610         33              Среднее             1   \n",
       "3          3   -4124.747207         32              среднее             1   \n",
       "4          0  340266.072047         53              среднее             1   \n",
       "5          0    -926.185831         27               высшее             0   \n",
       "6          0   -2879.202052         43               высшее             0   \n",
       "7          0    -152.779569         50              СРЕДНЕЕ             1   \n",
       "8          2   -6929.865299         35               ВЫСШЕЕ             0   \n",
       "9          0   -2188.756445         41              среднее             1   \n",
       "10         2   -4171.483647         36               высшее             0   \n",
       "11         0    -792.701887         40              среднее             1   \n",
       "12         0            NaN         65              среднее             1   \n",
       "13         0   -1846.641941         54  неоконченное высшее             2   \n",
       "14         0   -1844.956182         56               высшее             0   \n",
       "15         1    -972.364419         26              среднее             1   \n",
       "16         0   -1719.934226         35              среднее             1   \n",
       "17         0   -2369.999720         33               высшее             0   \n",
       "18         0  400281.136913         53              среднее             1   \n",
       "19         0  -10038.818549         48              СРЕДНЕЕ             1   \n",
       "\n",
       "       family_status  family_status_id gender income_type  debt  \\\n",
       "0    женат / замужем                 0      F   сотрудник     0   \n",
       "1    женат / замужем                 0      F   сотрудник     0   \n",
       "2    женат / замужем                 0      M   сотрудник     0   \n",
       "3    женат / замужем                 0      M   сотрудник     0   \n",
       "4   гражданский брак                 1      F   пенсионер     0   \n",
       "5   гражданский брак                 1      M   компаньон     0   \n",
       "6    женат / замужем                 0      F   компаньон     0   \n",
       "7    женат / замужем                 0      M   сотрудник     0   \n",
       "8   гражданский брак                 1      F   сотрудник     0   \n",
       "9    женат / замужем                 0      M   сотрудник     0   \n",
       "10   женат / замужем                 0      M   компаньон     0   \n",
       "11   женат / замужем                 0      F   сотрудник     0   \n",
       "12  гражданский брак                 1      M   пенсионер     0   \n",
       "13   женат / замужем                 0      F   сотрудник     0   \n",
       "14  гражданский брак                 1      F   компаньон     1   \n",
       "15   женат / замужем                 0      F   сотрудник     0   \n",
       "16   женат / замужем                 0      F   сотрудник     0   \n",
       "17  гражданский брак                 1      M   сотрудник     0   \n",
       "18    вдовец / вдова                 2      F   пенсионер     0   \n",
       "19         в разводе                 3      F   сотрудник     0   \n",
       "\n",
       "     total_income                                 purpose  \n",
       "0   253875.639453                           покупка жилья  \n",
       "1   112080.014102                 приобретение автомобиля  \n",
       "2   145885.952297                           покупка жилья  \n",
       "3   267628.550329              дополнительное образование  \n",
       "4   158616.077870                         сыграть свадьбу  \n",
       "5   255763.565419                           покупка жилья  \n",
       "6   240525.971920                       операции с жильем  \n",
       "7   135823.934197                             образование  \n",
       "8    95856.832424                   на проведение свадьбы  \n",
       "9   144425.938277                 покупка жилья для семьи  \n",
       "10  113943.491460                    покупка недвижимости  \n",
       "11   77069.234271       покупка коммерческой недвижимости  \n",
       "12            NaN                         сыграть свадьбу  \n",
       "13  130458.228857                 приобретение автомобиля  \n",
       "14  165127.911772              покупка жилой недвижимости  \n",
       "15  116820.904450  строительство собственной недвижимости  \n",
       "16  289202.704229                            недвижимость  \n",
       "17   90410.586745              строительство недвижимости  \n",
       "18   56823.777243      на покупку подержанного автомобиля  \n",
       "19  242831.107982            на покупку своего автомобиля  "
      ]
     },
     "execution_count": 91,
     "metadata": {},
     "output_type": "execute_result"
    }
   ],
   "source": [
    "data.head(20)"
   ]
  },
  {
   "cell_type": "markdown",
   "id": "58dcf131",
   "metadata": {
    "deletable": false,
    "editable": false,
    "id": "1c12e233"
   },
   "source": [
    "**Задание 3. Выведите основную информацию о датафрейме с помощью метода `info()`.**"
   ]
  },
  {
   "cell_type": "code",
   "execution_count": 92,
   "id": "197ba496",
   "metadata": {
    "deletable": false,
    "id": "2b757bca",
    "outputId": "15376089-8dad-46c9-b520-c05248d43158"
   },
   "outputs": [
    {
     "name": "stdout",
     "output_type": "stream",
     "text": [
      "<class 'pandas.core.frame.DataFrame'>\n",
      "RangeIndex: 21525 entries, 0 to 21524\n",
      "Data columns (total 12 columns):\n",
      " #   Column            Non-Null Count  Dtype  \n",
      "---  ------            --------------  -----  \n",
      " 0   children          21525 non-null  int64  \n",
      " 1   days_employed     19351 non-null  float64\n",
      " 2   dob_years         21525 non-null  int64  \n",
      " 3   education         21525 non-null  object \n",
      " 4   education_id      21525 non-null  int64  \n",
      " 5   family_status     21525 non-null  object \n",
      " 6   family_status_id  21525 non-null  int64  \n",
      " 7   gender            21525 non-null  object \n",
      " 8   income_type       21525 non-null  object \n",
      " 9   debt              21525 non-null  int64  \n",
      " 10  total_income      19351 non-null  float64\n",
      " 11  purpose           21525 non-null  object \n",
      "dtypes: float64(2), int64(5), object(5)\n",
      "memory usage: 2.0+ MB\n"
     ]
    }
   ],
   "source": [
    "data.info()"
   ]
  },
  {
   "cell_type": "markdown",
   "id": "4def38ae",
   "metadata": {
    "deletable": false,
    "editable": false,
    "id": "333ec665"
   },
   "source": [
    "## Предобработка данных"
   ]
  },
  {
   "cell_type": "markdown",
   "id": "85081872",
   "metadata": {
    "deletable": false,
    "editable": false,
    "id": "02d92d53"
   },
   "source": [
    "### Удаление пропусков"
   ]
  },
  {
   "cell_type": "markdown",
   "id": "668fc23a",
   "metadata": {
    "deletable": false,
    "editable": false,
    "id": "cd84967c"
   },
   "source": [
    "**Задание 4. Выведите количество пропущенных значений для каждого столбца. Используйте комбинацию двух методов.**"
   ]
  },
  {
   "cell_type": "code",
   "execution_count": 93,
   "id": "8f9e86cf",
   "metadata": {
    "deletable": false,
    "id": "7f9b2309",
    "outputId": "81f4d817-781c-465c-ed15-91ce4446810d"
   },
   "outputs": [
    {
     "data": {
      "text/plain": [
       "children               0\n",
       "days_employed       2174\n",
       "dob_years              0\n",
       "education              0\n",
       "education_id           0\n",
       "family_status          0\n",
       "family_status_id       0\n",
       "gender                 0\n",
       "income_type            0\n",
       "debt                   0\n",
       "total_income        2174\n",
       "purpose                0\n",
       "dtype: int64"
      ]
     },
     "execution_count": 93,
     "metadata": {},
     "output_type": "execute_result"
    }
   ],
   "source": [
    "data.isna().sum()"
   ]
  },
  {
   "cell_type": "markdown",
   "id": "754e70f1",
   "metadata": {
    "deletable": false,
    "editable": false,
    "id": "db86e27b"
   },
   "source": [
    "**Задание 5. В двух столбцах есть пропущенные значения. Один из них — `days_employed`. Пропуски в этом столбце вы обработаете на следующем этапе. Другой столбец с пропущенными значениями — `total_income` — хранит данные о доходах. На сумму дохода сильнее всего влияет тип занятости, поэтому заполнить пропуски в этом столбце нужно медианным значением по каждому типу из столбца `income_type`. Например, у человека с типом занятости `сотрудник` пропуск в столбце `total_income` должен быть заполнен медианным доходом среди всех записей с тем же типом.**"
   ]
  },
  {
   "cell_type": "code",
   "execution_count": 94,
   "id": "202b4a17",
   "metadata": {
    "deletable": false,
    "id": "42006a93"
   },
   "outputs": [],
   "source": [
    "for t in data['income_type'].unique():\n",
    "    data.loc[(data['income_type'] == t) & (data['total_income'].isna()), 'total_income'] = \\\n",
    "    data.loc[(data['income_type'] == t), 'total_income'].median()"
   ]
  },
  {
   "cell_type": "markdown",
   "id": "b85db19e",
   "metadata": {
    "deletable": false,
    "editable": false,
    "id": "89da5ece"
   },
   "source": [
    "### Обработка аномальных значений"
   ]
  },
  {
   "cell_type": "markdown",
   "id": "44c2b0ef",
   "metadata": {
    "deletable": false,
    "editable": false,
    "id": "57964554"
   },
   "source": [
    "**Задание 6. В данных могут встречаться артефакты (аномалии) — значения, которые не отражают действительность и появились по какой-то ошибке. таким артефактом будет отрицательное количество дней трудового стажа в столбце `days_employed`. Для реальных данных это нормально. Обработайте значения в этом столбце: замените все отрицательные значения положительными с помощью метода `abs()`.**"
   ]
  },
  {
   "cell_type": "code",
   "execution_count": 95,
   "id": "c83826be",
   "metadata": {
    "deletable": false,
    "id": "f6f055bf"
   },
   "outputs": [],
   "source": [
    "data['days_employed'] = data['days_employed'].abs()"
   ]
  },
  {
   "cell_type": "markdown",
   "id": "a421a99b",
   "metadata": {
    "deletable": false,
    "editable": false,
    "id": "6107dd2f"
   },
   "source": [
    "**Задание 7. Для каждого типа занятости выведите медианное значение трудового стажа `days_employed` в днях.**"
   ]
  },
  {
   "cell_type": "code",
   "execution_count": 96,
   "id": "7906ab9c",
   "metadata": {
    "deletable": false,
    "id": "85a5faf6",
    "outputId": "801ef80e-522b-4668-f34e-565af7432bcf"
   },
   "outputs": [
    {
     "data": {
      "text/plain": [
       "income_type\n",
       "безработный        366413.652744\n",
       "в декрете            3296.759962\n",
       "госслужащий          2689.368353\n",
       "компаньон            1547.382223\n",
       "пенсионер          365213.306266\n",
       "предприниматель       520.848083\n",
       "сотрудник            1574.202821\n",
       "студент               578.751554\n",
       "Name: days_employed, dtype: float64"
      ]
     },
     "execution_count": 96,
     "metadata": {},
     "output_type": "execute_result"
    }
   ],
   "source": [
    "data.groupby('income_type')['days_employed'].agg('median')"
   ]
  },
  {
   "cell_type": "markdown",
   "id": "dab71b5a",
   "metadata": {
    "deletable": false,
    "editable": false,
    "id": "38d1a030"
   },
   "source": [
    "У двух типов (безработные и пенсионеры) получатся аномально большие значения. Исправить такие значения сложно, поэтому оставьте их как есть. Тем более этот столбец не понадобится вам для исследования."
   ]
  },
  {
   "cell_type": "markdown",
   "id": "274e74e8",
   "metadata": {
    "deletable": false,
    "editable": false,
    "id": "d8a9f147"
   },
   "source": [
    "**Задание 8. Выведите перечень уникальных значений столбца `children`.**"
   ]
  },
  {
   "cell_type": "code",
   "execution_count": 97,
   "id": "8e38f51a",
   "metadata": {
    "deletable": false,
    "id": "ef5056eb",
    "outputId": "6975b15c-7f95-4697-d16d-a0c79b657b03"
   },
   "outputs": [
    {
     "data": {
      "text/plain": [
       "array([ 1,  0,  3,  2, -1,  4, 20,  5])"
      ]
     },
     "execution_count": 97,
     "metadata": {},
     "output_type": "execute_result"
    }
   ],
   "source": [
    "data['children'].unique()"
   ]
  },
  {
   "cell_type": "markdown",
   "id": "d313bfc1",
   "metadata": {
    "deletable": false,
    "editable": false,
    "id": "40b9ebf2"
   },
   "source": [
    "**Задание 9. В столбце `children` есть два аномальных значения. Удалите строки, в которых встречаются такие аномальные значения из датафрейма `data`.**"
   ]
  },
  {
   "cell_type": "code",
   "execution_count": 98,
   "id": "6f90b238",
   "metadata": {
    "deletable": false,
    "id": "3ff9801d"
   },
   "outputs": [],
   "source": [
    "data = data[(data['children'] != -1) & (data['children'] != 20)]"
   ]
  },
  {
   "cell_type": "markdown",
   "id": "1b124a50",
   "metadata": {
    "deletable": false,
    "editable": false,
    "id": "bbc4d0ce"
   },
   "source": [
    "**Задание 10. Ещё раз выведите перечень уникальных значений столбца `children`, чтобы убедиться, что артефакты удалены.**"
   ]
  },
  {
   "cell_type": "code",
   "execution_count": 99,
   "id": "843cf9d0",
   "metadata": {
    "deletable": false,
    "id": "ad4fa8b7",
    "outputId": "b2097101-d49d-44d9-901b-32a65c9463d1"
   },
   "outputs": [
    {
     "data": {
      "text/plain": [
       "array([1, 0, 3, 2, 4, 5])"
      ]
     },
     "execution_count": 99,
     "metadata": {},
     "output_type": "execute_result"
    }
   ],
   "source": [
    "data['children'].unique()"
   ]
  },
  {
   "cell_type": "markdown",
   "id": "1d6f05ec",
   "metadata": {
    "deletable": false,
    "editable": false,
    "id": "75440b63"
   },
   "source": [
    "### Удаление пропусков (продолжение)"
   ]
  },
  {
   "cell_type": "markdown",
   "id": "ee8a4f7f",
   "metadata": {
    "deletable": false,
    "editable": false,
    "id": "f4ea573f"
   },
   "source": [
    "**Задание 11. Заполните пропуски в столбце `days_employed` медианными значениями по каждого типа занятости `income_type`.**"
   ]
  },
  {
   "cell_type": "code",
   "execution_count": 100,
   "id": "28d58b29",
   "metadata": {
    "deletable": false,
    "id": "af6b1a7e"
   },
   "outputs": [],
   "source": [
    "for t in data['income_type'].unique():\n",
    "    data.loc[(data['income_type'] == t) & (data['days_employed'].isna()), 'days_employed'] = \\\n",
    "    data.loc[(data['income_type'] == t), 'days_employed'].median()"
   ]
  },
  {
   "cell_type": "markdown",
   "id": "174922ba",
   "metadata": {
    "deletable": false,
    "editable": false,
    "id": "2753f40d"
   },
   "source": [
    "**Задание 12. Убедитесь, что все пропуски заполнены. Проверьте себя и ещё раз выведите количество пропущенных значений для каждого столбца с помощью двух методов.**"
   ]
  },
  {
   "cell_type": "code",
   "execution_count": 101,
   "id": "e3259baf",
   "metadata": {
    "deletable": false,
    "id": "55f78bc2",
    "outputId": "8da1e4e1-358e-4e87-98c9-f261bce0a7b2"
   },
   "outputs": [
    {
     "data": {
      "text/plain": [
       "children            0\n",
       "days_employed       0\n",
       "dob_years           0\n",
       "education           0\n",
       "education_id        0\n",
       "family_status       0\n",
       "family_status_id    0\n",
       "gender              0\n",
       "income_type         0\n",
       "debt                0\n",
       "total_income        0\n",
       "purpose             0\n",
       "dtype: int64"
      ]
     },
     "execution_count": 101,
     "metadata": {},
     "output_type": "execute_result"
    }
   ],
   "source": [
    "data.isna().sum()"
   ]
  },
  {
   "cell_type": "markdown",
   "id": "135b1602",
   "metadata": {
    "deletable": false,
    "editable": false,
    "id": "ddc81e43"
   },
   "source": [
    "### Изменение типов данных"
   ]
  },
  {
   "cell_type": "markdown",
   "id": "40a619e4",
   "metadata": {
    "deletable": false,
    "editable": false,
    "id": "42d19d24"
   },
   "source": [
    "**Задание 13. Замените вещественный тип данных в столбце `total_income` на целочисленный с помощью метода `astype()`.**"
   ]
  },
  {
   "cell_type": "code",
   "execution_count": 102,
   "id": "a0112d7f",
   "metadata": {
    "deletable": false,
    "id": "920b65ad"
   },
   "outputs": [],
   "source": [
    "data['total_income'] = data['total_income'].astype(int)"
   ]
  },
  {
   "cell_type": "markdown",
   "id": "9abdf011",
   "metadata": {
    "deletable": false,
    "editable": false,
    "id": "80c420ba"
   },
   "source": [
    "### Обработка дубликатов"
   ]
  },
  {
   "cell_type": "markdown",
   "id": "a8131ad0",
   "metadata": {
    "deletable": false,
    "editable": false
   },
   "source": [
    "**Задание 14. Обработайте неявные дубликаты в столбце `education`. В этом столбце есть одни и те же значения, но записанные по-разному: с использованием заглавных и строчных букв. Приведите их к нижнему регистру. Проверьте остальные столбцы.**"
   ]
  },
  {
   "cell_type": "code",
   "execution_count": 103,
   "id": "96c4f1e8",
   "metadata": {
    "deletable": false
   },
   "outputs": [],
   "source": [
    "data['education'] = data['education'].str.lower()"
   ]
  },
  {
   "cell_type": "markdown",
   "id": "33de2384",
   "metadata": {
    "deletable": false,
    "editable": false,
    "id": "dc587695"
   },
   "source": [
    "**Задание 15. Выведите на экран количество строк-дубликатов в данных. Если такие строки присутствуют, удалите их.**"
   ]
  },
  {
   "cell_type": "code",
   "execution_count": 104,
   "id": "72f0bb9e",
   "metadata": {
    "deletable": false,
    "id": "3ee445e4",
    "outputId": "9684deba-1934-42d1-99e1-cda61740f822"
   },
   "outputs": [
    {
     "data": {
      "text/plain": [
       "71"
      ]
     },
     "execution_count": 104,
     "metadata": {},
     "output_type": "execute_result"
    }
   ],
   "source": [
    "data.duplicated().sum()"
   ]
  },
  {
   "cell_type": "code",
   "execution_count": 105,
   "id": "707d5953",
   "metadata": {
    "deletable": false,
    "id": "8575fe05"
   },
   "outputs": [],
   "source": [
    "data = data.drop_duplicates()"
   ]
  },
  {
   "cell_type": "markdown",
   "id": "41f5f31d",
   "metadata": {
    "deletable": false,
    "editable": false,
    "id": "9904cf55"
   },
   "source": [
    "### Категоризация данных"
   ]
  },
  {
   "cell_type": "markdown",
   "id": "aa949337",
   "metadata": {
    "deletable": false,
    "editable": false,
    "id": "72fcc8a2"
   },
   "source": [
    "**Задание 16. На основании диапазонов, указанных ниже, создайте в датафрейме `data` столбец `total_income_category` с категориями:**\n",
    "\n",
    "- 0–30000 — `'E'`;\n",
    "- 30001–50000 — `'D'`;\n",
    "- 50001–200000 — `'C'`;\n",
    "- 200001–1000000 — `'B'`;\n",
    "- 1000001 и выше — `'A'`.\n",
    "\n",
    "\n",
    "**Например, кредитополучателю с доходом 25000 нужно назначить категорию `'E'`, а клиенту, получающему 235000, — `'B'`. Используйте собственную функцию с именем `categorize_income()` и метод `apply()`.**"
   ]
  },
  {
   "cell_type": "code",
   "execution_count": 106,
   "id": "2a2fcbdc",
   "metadata": {
    "deletable": false,
    "id": "e1771346"
   },
   "outputs": [],
   "source": [
    "def categorize_income(income):\n",
    "    try:\n",
    "        if 0 <= income <= 30000:\n",
    "            return 'E'\n",
    "        elif 30001 <= income <= 50000:\n",
    "            return 'D'\n",
    "        elif 50001 <= income <= 200000:\n",
    "            return 'C'\n",
    "        elif 200001 <= income <= 1000000:\n",
    "            return 'B'\n",
    "        elif income >= 1000001:\n",
    "            return 'A'\n",
    "    except:\n",
    "        pass"
   ]
  },
  {
   "cell_type": "code",
   "execution_count": 107,
   "id": "c83304f8",
   "metadata": {
    "deletable": false,
    "id": "d5f3586d"
   },
   "outputs": [],
   "source": [
    "data['total_income_category'] = data['total_income'].apply(categorize_income)"
   ]
  },
  {
   "cell_type": "markdown",
   "id": "741d707d",
   "metadata": {
    "deletable": false,
    "editable": false,
    "id": "dde49b5c"
   },
   "source": [
    "**Задание 17. Выведите на экран перечень уникальных целей взятия кредита из столбца `purpose`.**"
   ]
  },
  {
   "cell_type": "code",
   "execution_count": 108,
   "id": "f15c90ce",
   "metadata": {
    "deletable": false,
    "id": "f67ce9b3",
    "outputId": "673c12d9-7d7e-4ae0-9812-c622c89dd244"
   },
   "outputs": [
    {
     "data": {
      "text/plain": [
       "array(['покупка жилья', 'приобретение автомобиля',\n",
       "       'дополнительное образование', 'сыграть свадьбу',\n",
       "       'операции с жильем', 'образование', 'на проведение свадьбы',\n",
       "       'покупка жилья для семьи', 'покупка недвижимости',\n",
       "       'покупка коммерческой недвижимости', 'покупка жилой недвижимости',\n",
       "       'строительство собственной недвижимости', 'недвижимость',\n",
       "       'строительство недвижимости', 'на покупку подержанного автомобиля',\n",
       "       'на покупку своего автомобиля',\n",
       "       'операции с коммерческой недвижимостью',\n",
       "       'строительство жилой недвижимости', 'жилье',\n",
       "       'операции со своей недвижимостью', 'автомобили',\n",
       "       'заняться образованием', 'сделка с подержанным автомобилем',\n",
       "       'получение образования', 'автомобиль', 'свадьба',\n",
       "       'получение дополнительного образования', 'покупка своего жилья',\n",
       "       'операции с недвижимостью', 'получение высшего образования',\n",
       "       'свой автомобиль', 'сделка с автомобилем',\n",
       "       'профильное образование', 'высшее образование',\n",
       "       'покупка жилья для сдачи', 'на покупку автомобиля', 'ремонт жилью',\n",
       "       'заняться высшим образованием'], dtype=object)"
      ]
     },
     "execution_count": 108,
     "metadata": {},
     "output_type": "execute_result"
    }
   ],
   "source": [
    "data['purpose'].unique()"
   ]
  },
  {
   "cell_type": "markdown",
   "id": "48db5633",
   "metadata": {
    "deletable": false,
    "editable": false,
    "id": "85d0aef0"
   },
   "source": [
    "**Задание 18. Создайте функцию, которая на основании данных из столбца `purpose` сформирует новый столбец `purpose_category`, в который войдут следующие категории:**\n",
    "\n",
    "- `'операции с автомобилем'`,\n",
    "- `'операции с недвижимостью'`,\n",
    "- `'проведение свадьбы'`,\n",
    "- `'получение образования'`.\n",
    "\n",
    "**Например, если в столбце `purpose` находится подстрока `'на покупку автомобиля'`, то в столбце `purpose_category` должна появиться строка `'операции с автомобилем'`.**\n",
    "\n",
    "**Используйте собственную функцию с именем `categorize_purpose()` и метод `apply()`. Изучите данные в столбце `purpose` и определите, какие подстроки помогут вам правильно определить категорию.**"
   ]
  },
  {
   "cell_type": "code",
   "execution_count": 109,
   "id": "7c62746f",
   "metadata": {
    "deletable": false,
    "id": "e149fab4"
   },
   "outputs": [],
   "source": [
    "def categorize_purpose(row):\n",
    "    try:\n",
    "        if 'автом' in row:\n",
    "            return 'операции с автомобилем'\n",
    "        elif 'жил' in row or 'недвиж' in row:\n",
    "            return 'операции с недвижимостью'\n",
    "        elif 'свад' in row:\n",
    "            return 'проведение свадьбы'\n",
    "        elif 'образов' in row:\n",
    "            return 'получение образования'\n",
    "    except:\n",
    "        return 'нет категории'"
   ]
  },
  {
   "cell_type": "code",
   "execution_count": 110,
   "id": "c63d730c",
   "metadata": {
    "deletable": false,
    "id": "bf36e69b"
   },
   "outputs": [],
   "source": [
    "data['purpose_category'] = data['purpose'].apply(categorize_purpose)"
   ]
  },
  {
   "cell_type": "markdown",
   "id": "cedb18cb",
   "metadata": {
    "deletable": false,
    "editable": false,
    "id": "09b242bf"
   },
   "source": [
    "### Шаг 3. Исследуйте данные и ответьте на вопросы"
   ]
  },
  {
   "cell_type": "markdown",
   "id": "e640f0eb",
   "metadata": {
    "deletable": false,
    "editable": false,
    "id": "c5d66278"
   },
   "source": [
    "#### 3.1 Есть ли зависимость между количеством детей и возвратом кредита в срок?"
   ]
  },
  {
   "cell_type": "code",
   "execution_count": 124,
   "id": "f2c6e57a",
   "metadata": {
    "deletable": false,
    "id": "2cacfc4a"
   },
   "outputs": [
    {
     "name": "stdout",
     "output_type": "stream",
     "text": [
      "          count      mean   sum\n",
      "           debt      debt  debt\n",
      "children                       \n",
      "0         14091  0.075438  1063\n",
      "1          4808  0.092346   444\n",
      "2          2052  0.094542   194\n",
      "3           330  0.081818    27\n",
      "4            41  0.097561     4\n",
      "5             9  0.000000     0\n",
      "All       21331  0.081196  1732\n",
      "\n",
      "children\n",
      "0    7.543822\n",
      "1    9.234609\n",
      "2    9.454191\n",
      "3    8.181818\n",
      "4    9.756098\n",
      "5    0.000000\n",
      "Name: debt, dtype: float64\n"
     ]
    }
   ],
   "source": [
    "\n",
    "persantage = data.groupby('children')['debt'].mean()*100\n",
    "chil_pivot = data.pivot_table(index=['children'], values=['debt'], aggfunc=['count', 'mean', 'sum'], margins=True) \n",
    " \n",
    "print(chil_pivot)\n",
    "print()\n",
    "print(persantage)\n",
    "\n",
    "\n",
    " # Ваш код будет здесь. Вы можете создавать новые ячейки. , aggfunc=['count', 'mean', 'sum'], margins=True\n",
    "    #, values='total_income', ['count','sum', 'mean'] values=['total_income'],columns="
   ]
  },
  {
   "cell_type": "code",
   "execution_count": 112,
   "id": "8f312ba0",
   "metadata": {},
   "outputs": [
    {
     "data": {
      "text/plain": [
       "[Text(0.5, 1.0, 'Диаграмма зависимости')]"
      ]
     },
     "execution_count": 112,
     "metadata": {},
     "output_type": "execute_result"
    },
    {
     "data": {
      "image/png": "[encoded data removed]",
      "text/plain": [
       "<Figure size 432x288 with 1 Axes>"
      ]
     },
     "metadata": {
      "needs_background": "light"
     },
     "output_type": "display_data"
    }
   ],
   "source": [
    "import seaborn as sns\n",
    "\n",
    "sns.barplot(x=persantage.index, y=persantage, color='green').set(title='Диаграмма зависимости')\n"
   ]
  },
  {
   "cell_type": "markdown",
   "id": "1796f8c0",
   "metadata": {
    "deletable": false,
    "id": "3a6b99ec"
   },
   "source": [
    "**Вывод:** Да, в данном случае есть зависимость. Люди без детей чаще возвращают кредит в положенные сроки. О людях с пятью детьми судить сложно так, как не достаточно данных."
   ]
  },
  {
   "cell_type": "markdown",
   "id": "580c78b9",
   "metadata": {
    "deletable": false,
    "editable": false,
    "id": "97be82ca"
   },
   "source": [
    "#### 3.2 Есть ли зависимость между семейным положением и возвратом кредита в срок?"
   ]
  },
  {
   "cell_type": "code",
   "execution_count": 125,
   "id": "d90ff2ff",
   "metadata": {
    "deletable": false,
    "id": "dc3f7ee8"
   },
   "outputs": [
    {
     "name": "stdout",
     "output_type": "stream",
     "text": [
      "                       count      mean   sum\n",
      "                        debt      debt  debt\n",
      "family_status                               \n",
      "Не женат / не замужем   2796  0.097639   273\n",
      "в разводе               1189  0.070648    84\n",
      "вдовец / вдова           951  0.066246    63\n",
      "гражданский брак        4134  0.093130   385\n",
      "женат / замужем        12261  0.075606   927\n",
      "All                    21331  0.081196  1732\n",
      "\n",
      "family_status\n",
      "Не женат / не замужем    9.763948\n",
      "в разводе                7.064760\n",
      "вдовец / вдова           6.624606\n",
      "гражданский брак         9.313014\n",
      "женат / замужем          7.560558\n",
      "Name: debt, dtype: float64\n"
     ]
    }
   ],
   "source": [
    "persantage_family_status = data.groupby('family_status')['debt'].mean()*100\n",
    "family_pivot = data.pivot_table(index=['family_status'], values=['debt'], aggfunc=['count', 'mean', 'sum'], margins=True)\n",
    "\n",
    "print(family_pivot)\n",
    "print()\n",
    "print(persantage_family_status)\n",
    "# Ваш код будет здесь. Вы можете создавать новые ячейки total_income"
   ]
  },
  {
   "cell_type": "code",
   "execution_count": 114,
   "id": "09b1ad08",
   "metadata": {},
   "outputs": [
    {
     "data": {
      "text/plain": [
       "[Text(0.5, 1.0, 'Диаграмма зависимости')]"
      ]
     },
     "execution_count": 114,
     "metadata": {},
     "output_type": "execute_result"
    },
    {
     "data": {
      "image/png": "[encoded data removed]",
      "text/plain": [
       "<Figure size 432x288 with 1 Axes>"
      ]
     },
     "metadata": {
      "needs_background": "light"
     },
     "output_type": "display_data"
    }
   ],
   "source": [
    "import seaborn as sns\n",
    "import numpy as np\n",
    "\n",
    "sns.barplot(x=persantage_family_status.index, y=persantage_family_status, color='blue').set(title='Диаграмма зависимости')\n"
   ]
  },
  {
   "cell_type": "markdown",
   "id": "15a27d9f",
   "metadata": {
    "deletable": false,
    "id": "1cef7837"
   },
   "source": [
    "**Вывод:** Да, здесь так же есть зависимость. Овдовевшие люди возвращают долг чаще других в положенные сроки. Также на графике выделаются два класса: те, кто чаще оплачивает долг раньше и группа, кто оплачивает с задержками (не женатые люди и люди, состоящие в гражданском браке)."
   ]
  },
  {
   "cell_type": "markdown",
   "id": "c5bb8700",
   "metadata": {
    "deletable": false,
    "editable": false,
    "id": "1e8b2fca"
   },
   "source": [
    "#### 3.3 Есть ли зависимость между уровнем дохода и возвратом кредита в срок?"
   ]
  },
  {
   "cell_type": "code",
   "execution_count": 129,
   "id": "a3261afc",
   "metadata": {
    "deletable": false,
    "id": "cd7e3720"
   },
   "outputs": [
    {
     "name": "stdout",
     "output_type": "stream",
     "text": [
      "                       count      mean   sum\n",
      "                        debt      debt  debt\n",
      "total_income_category                       \n",
      "A                         25  0.080000     2\n",
      "B                       5014  0.070602   354\n",
      "C                      15921  0.084982  1353\n",
      "D                        349  0.060172    21\n",
      "E                         22  0.090909     2\n",
      "total_income_category\n",
      "A    8.000000\n",
      "B    7.060231\n",
      "C    8.498210\n",
      "D    6.017192\n",
      "E    9.090909\n",
      "Name: debt, dtype: float64\n"
     ]
    }
   ],
   "source": [
    "total_income_category_persantage = data.groupby('total_income_category')['debt'].mean()*100\n",
    "\n",
    "total_income_category_pivot = data.pivot_table(index=['total_income_category'], values=['debt'], aggfunc=['count', 'mean', 'sum'])\n",
    "\n",
    "print(total_income_category_pivot)\n",
    "print(total_income_category_persantage)\n",
    "# Ваш код будет здесь. Вы можете создавать новые ячейки.   "
   ]
  },
  {
   "cell_type": "code",
   "execution_count": 116,
   "id": "22693e35",
   "metadata": {},
   "outputs": [
    {
     "data": {
      "text/plain": [
       "[Text(0.5, 1.0, 'Диаграмма зависимости')]"
      ]
     },
     "execution_count": 116,
     "metadata": {},
     "output_type": "execute_result"
    },
    {
     "data": {
      "image/png": "[encoded data removed]",
      "text/plain": [
       "<Figure size 432x288 with 1 Axes>"
      ]
     },
     "metadata": {
      "needs_background": "light"
     },
     "output_type": "display_data"
    }
   ],
   "source": [
    "import seaborn as sns\n",
    "import numpy as np\n",
    "\n",
    "sns.barplot(x=total_income_category_persantage.index, y=total_income_category_persantage, color='blue').set(title='Диаграмма зависимости')"
   ]
  },
  {
   "cell_type": "markdown",
   "id": "d84cedcc",
   "metadata": {
    "deletable": false,
    "id": "e8593def"
   },
   "source": [
    "**Вывод:** Прослеживается зависимость задолженнойстей от уровня дохода. Как видно на диаграмме, категоия с доходом от 50 до 200 тысяч имеет хорошую выборку и больше всех имеют задолженностей, категории В и D имеют лучший показатель по выплатам. Судить о категориях А и Е сложно, так как выборка не показательна.\n",
    "0–30000 — 'E';\n",
    "30001–50000 — 'D';\n",
    "50001–200000 — 'C';\n",
    "200001–1000000 — 'B';\n",
    "1000001 и выше — 'A "
   ]
  },
  {
   "cell_type": "markdown",
   "id": "9a4a1735",
   "metadata": {
    "deletable": false,
    "editable": false,
    "id": "99ecbd1f"
   },
   "source": [
    "#### 3.4 Как разные цели кредита влияют на его возврат в срок?"
   ]
  },
  {
   "cell_type": "code",
   "execution_count": 117,
   "id": "b5cef60d",
   "metadata": {
    "deletable": false,
    "id": "2b687290"
   },
   "outputs": [
    {
     "data": {
      "text/plain": [
       "purpose_category\n",
       "операции с автомобилем      9.347978\n",
       "операции с недвижимостью    7.255139\n",
       "получение образования       9.252758\n",
       "проведение свадьбы          7.911803\n",
       "Name: debt, dtype: float64"
      ]
     },
     "execution_count": 117,
     "metadata": {},
     "output_type": "execute_result"
    }
   ],
   "source": [
    "data.groupby('purpose_category')['debt'].mean()*100 # Ваш код будет здесь. Вы можете создавать новые ячейки."
   ]
  },
  {
   "cell_type": "markdown",
   "id": "e522f851",
   "metadata": {
    "deletable": false,
    "id": "b4bb2ce6"
   },
   "source": [
    "**Вывод:** Операции, проводимые с недвижимостью имеют наименьший процент задолженности, а кредит на операции с автомобилем - наибольший."
   ]
  },
  {
   "cell_type": "markdown",
   "id": "931689b6",
   "metadata": {
    "deletable": false,
    "editable": false,
    "id": "09c3ac4c"
   },
   "source": [
    "#### 3.5 Приведите возможные причины появления пропусков в исходных данных."
   ]
  },
  {
   "cell_type": "markdown",
   "id": "8a524f13",
   "metadata": {
    "deletable": false,
    "id": "9da2ceda"
   },
   "source": [
    "*Ответ:* -система могла дать сбой\n",
    "-клиент не стал заполнять поле\n",
    "-клиент подумал, что заполнение автоматическое\n"
   ]
  },
  {
   "cell_type": "markdown",
   "id": "22c6e44f",
   "metadata": {
    "deletable": false,
    "editable": false,
    "id": "7b0487d6"
   },
   "source": [
    "#### 3.6 Объясните, почему заполнить пропуски медианным значением — лучшее решение для количественных переменных."
   ]
  },
  {
   "cell_type": "markdown",
   "id": "38dbbd7f",
   "metadata": {
    "deletable": false,
    "id": "7ecf2b8e"
   },
   "source": [
    "*Ответ:* Медиана считает данные более корректо так как, в таблице могут быть сильно выделающиеся значения, что может исказить данные, если считать среднее арифметическое. "
   ]
  },
  {
   "cell_type": "markdown",
   "id": "07956704",
   "metadata": {
    "deletable": false,
    "editable": false,
    "id": "6db5255a"
   },
   "source": [
    "### Шаг 4: общий вывод."
   ]
  },
  {
   "cell_type": "markdown",
   "id": "0184a8cf",
   "metadata": {
    "deletable": false,
    "id": "bad65432"
   },
   "source": [
    "Напишите ваш общий вывод.\n",
    "В ходе исследования были обнаружены следующие закономерности:\n",
    "3.1. Люди без детей чаще возвращают кредит в положенные сроки. А о людях с пятью детьми судить сложно так, как не достаточно данных.\n",
    "3.2. Овдовевшие люди возвращают долг чаще других в положенные сроки.\n",
    "3.3. Прослеживается зависимость задолженнойстей от уровня дохода. Как видно на диаграмме, категоия людей с доходом от 50 до 200 тысяч имеет хорошую выборку и больше всех имеют задолженностей, категории В и D имеют лучший показатель по выплатам. Судить о категориях А и Е сложно, так как выборка не показательна.\n",
    "3.4. Операции, проводимые с недвижимостью имеют наименьший процент задолженности, а кредит на операции с автомобилем - наибольший."
   ]
  }
 ],
 "metadata": {
  "ExecuteTimeLog": [
   {
    "duration": 45,
    "start_time": "2022-09-11T06:03:37.851Z"
   },
   {
    "duration": 5,
    "start_time": "2022-09-11T06:08:25.449Z"
   },
   {
    "duration": 6,
    "start_time": "2022-09-11T06:08:41.268Z"
   },
   {
    "duration": 6,
    "start_time": "2022-09-11T06:09:10.028Z"
   },
   {
    "duration": 6,
    "start_time": "2022-09-11T06:10:32.991Z"
   },
   {
    "duration": 641,
    "start_time": "2022-09-11T06:24:21.327Z"
   },
   {
    "duration": 65,
    "start_time": "2022-09-11T06:25:58.392Z"
   },
   {
    "duration": 21,
    "start_time": "2022-09-11T06:25:58.459Z"
   },
   {
    "duration": 14,
    "start_time": "2022-09-11T06:25:58.481Z"
   },
   {
    "duration": 8,
    "start_time": "2022-09-11T06:25:58.496Z"
   },
   {
    "duration": 32,
    "start_time": "2022-09-11T06:25:58.506Z"
   },
   {
    "duration": 3,
    "start_time": "2022-09-11T06:25:58.540Z"
   },
   {
    "duration": 13,
    "start_time": "2022-09-11T06:25:58.545Z"
   },
   {
    "duration": 20,
    "start_time": "2022-09-11T06:25:58.559Z"
   },
   {
    "duration": 11,
    "start_time": "2022-09-11T06:25:58.580Z"
   },
   {
    "duration": 15,
    "start_time": "2022-09-11T06:25:58.594Z"
   },
   {
    "duration": 32,
    "start_time": "2022-09-11T06:25:58.610Z"
   },
   {
    "duration": 8,
    "start_time": "2022-09-11T06:25:58.643Z"
   },
   {
    "duration": 13,
    "start_time": "2022-09-11T06:25:58.652Z"
   },
   {
    "duration": 17,
    "start_time": "2022-09-11T06:25:58.666Z"
   },
   {
    "duration": 18,
    "start_time": "2022-09-11T06:25:58.684Z"
   },
   {
    "duration": 15,
    "start_time": "2022-09-11T06:25:58.703Z"
   },
   {
    "duration": 4,
    "start_time": "2022-09-11T06:25:58.719Z"
   },
   {
    "duration": 25,
    "start_time": "2022-09-11T06:25:58.724Z"
   },
   {
    "duration": 5,
    "start_time": "2022-09-11T06:25:58.751Z"
   },
   {
    "duration": 8,
    "start_time": "2022-09-11T06:25:58.757Z"
   },
   {
    "duration": 25,
    "start_time": "2022-09-11T06:25:58.766Z"
   },
   {
    "duration": 10,
    "start_time": "2022-09-11T06:25:58.792Z"
   },
   {
    "duration": 17,
    "start_time": "2022-09-11T06:25:58.804Z"
   },
   {
    "duration": 12,
    "start_time": "2022-09-11T06:25:58.822Z"
   },
   {
    "duration": 9,
    "start_time": "2022-09-11T06:25:58.835Z"
   },
   {
    "duration": 6,
    "start_time": "2022-09-11T06:42:45.051Z"
   },
   {
    "duration": 46,
    "start_time": "2022-09-12T09:49:04.942Z"
   },
   {
    "duration": 7,
    "start_time": "2022-09-12T09:49:18.573Z"
   },
   {
    "duration": 6,
    "start_time": "2022-09-12T09:50:53.927Z"
   },
   {
    "duration": 692,
    "start_time": "2022-09-12T09:50:58.306Z"
   },
   {
    "duration": 29,
    "start_time": "2022-09-12T09:50:59.001Z"
   },
   {
    "duration": 14,
    "start_time": "2022-09-12T09:50:59.032Z"
   },
   {
    "duration": 9,
    "start_time": "2022-09-12T09:50:59.048Z"
   },
   {
    "duration": 44,
    "start_time": "2022-09-12T09:50:59.059Z"
   },
   {
    "duration": 4,
    "start_time": "2022-09-12T09:50:59.105Z"
   },
   {
    "duration": 13,
    "start_time": "2022-09-12T09:50:59.110Z"
   },
   {
    "duration": 7,
    "start_time": "2022-09-12T09:50:59.125Z"
   },
   {
    "duration": 23,
    "start_time": "2022-09-12T09:50:59.133Z"
   },
   {
    "duration": 7,
    "start_time": "2022-09-12T09:50:59.159Z"
   },
   {
    "duration": 43,
    "start_time": "2022-09-12T09:50:59.168Z"
   },
   {
    "duration": 8,
    "start_time": "2022-09-12T09:50:59.213Z"
   },
   {
    "duration": 8,
    "start_time": "2022-09-12T09:50:59.223Z"
   },
   {
    "duration": 16,
    "start_time": "2022-09-12T09:50:59.233Z"
   },
   {
    "duration": 36,
    "start_time": "2022-09-12T09:50:59.250Z"
   },
   {
    "duration": 17,
    "start_time": "2022-09-12T09:50:59.288Z"
   },
   {
    "duration": 4,
    "start_time": "2022-09-12T09:50:59.307Z"
   },
   {
    "duration": 22,
    "start_time": "2022-09-12T09:50:59.312Z"
   },
   {
    "duration": 20,
    "start_time": "2022-09-12T09:50:59.336Z"
   },
   {
    "duration": 21,
    "start_time": "2022-09-12T09:50:59.358Z"
   },
   {
    "duration": 26,
    "start_time": "2022-09-12T09:50:59.380Z"
   },
   {
    "duration": 23,
    "start_time": "2022-09-12T09:50:59.407Z"
   },
   {
    "duration": 45,
    "start_time": "2022-09-12T09:50:59.432Z"
   },
   {
    "duration": 0,
    "start_time": "2022-09-12T09:50:59.479Z"
   },
   {
    "duration": 0,
    "start_time": "2022-09-12T09:50:59.480Z"
   },
   {
    "duration": 0,
    "start_time": "2022-09-12T09:50:59.481Z"
   },
   {
    "duration": 66,
    "start_time": "2022-09-12T09:51:41.066Z"
   },
   {
    "duration": 15,
    "start_time": "2022-09-12T09:51:41.134Z"
   },
   {
    "duration": 14,
    "start_time": "2022-09-12T09:51:41.151Z"
   },
   {
    "duration": 9,
    "start_time": "2022-09-12T09:51:41.176Z"
   },
   {
    "duration": 32,
    "start_time": "2022-09-12T09:51:41.186Z"
   },
   {
    "duration": 3,
    "start_time": "2022-09-12T09:51:41.219Z"
   },
   {
    "duration": 9,
    "start_time": "2022-09-12T09:51:41.224Z"
   },
   {
    "duration": 4,
    "start_time": "2022-09-12T09:51:41.235Z"
   },
   {
    "duration": 6,
    "start_time": "2022-09-12T09:51:41.241Z"
   },
   {
    "duration": 5,
    "start_time": "2022-09-12T09:51:41.276Z"
   },
   {
    "duration": 48,
    "start_time": "2022-09-12T09:51:41.283Z"
   },
   {
    "duration": 9,
    "start_time": "2022-09-12T09:51:41.333Z"
   },
   {
    "duration": 4,
    "start_time": "2022-09-12T09:51:41.343Z"
   },
   {
    "duration": 35,
    "start_time": "2022-09-12T09:51:41.348Z"
   },
   {
    "duration": 18,
    "start_time": "2022-09-12T09:51:41.384Z"
   },
   {
    "duration": 16,
    "start_time": "2022-09-12T09:51:41.403Z"
   },
   {
    "duration": 4,
    "start_time": "2022-09-12T09:51:41.420Z"
   },
   {
    "duration": 15,
    "start_time": "2022-09-12T09:51:41.425Z"
   },
   {
    "duration": 5,
    "start_time": "2022-09-12T09:51:41.441Z"
   },
   {
    "duration": 4,
    "start_time": "2022-09-12T09:51:41.447Z"
   },
   {
    "duration": 31,
    "start_time": "2022-09-12T09:51:41.452Z"
   },
   {
    "duration": 8,
    "start_time": "2022-09-12T09:51:41.484Z"
   },
   {
    "duration": 9,
    "start_time": "2022-09-12T09:51:41.493Z"
   },
   {
    "duration": 0,
    "start_time": "2022-09-12T09:51:41.504Z"
   },
   {
    "duration": 0,
    "start_time": "2022-09-12T09:51:41.505Z"
   },
   {
    "duration": 0,
    "start_time": "2022-09-12T09:51:41.506Z"
   },
   {
    "duration": 1003,
    "start_time": "2022-09-12T09:59:45.496Z"
   },
   {
    "duration": 139,
    "start_time": "2022-09-12T10:00:30.805Z"
   },
   {
    "duration": 134,
    "start_time": "2022-09-12T10:00:58.679Z"
   },
   {
    "duration": 161,
    "start_time": "2022-09-12T10:02:11.888Z"
   },
   {
    "duration": 7,
    "start_time": "2022-09-12T10:02:29.537Z"
   },
   {
    "duration": 8,
    "start_time": "2022-09-12T10:03:30.451Z"
   },
   {
    "duration": 9,
    "start_time": "2022-09-12T10:14:11.823Z"
   },
   {
    "duration": 10,
    "start_time": "2022-09-12T10:19:48.174Z"
   },
   {
    "duration": 158,
    "start_time": "2022-09-12T10:22:34.700Z"
   },
   {
    "duration": 434,
    "start_time": "2022-09-12T10:24:50.737Z"
   },
   {
    "duration": 2276,
    "start_time": "2022-09-12T10:27:13.198Z"
   },
   {
    "duration": 43,
    "start_time": "2022-09-12T10:29:20.847Z"
   },
   {
    "duration": 146,
    "start_time": "2022-09-12T10:34:22.637Z"
   },
   {
    "duration": 8,
    "start_time": "2022-09-12T10:35:04.841Z"
   },
   {
    "duration": 7,
    "start_time": "2022-09-12T10:35:25.959Z"
   },
   {
    "duration": 10,
    "start_time": "2022-09-12T10:36:16.674Z"
   },
   {
    "duration": 15,
    "start_time": "2022-09-12T10:45:30.644Z"
   },
   {
    "duration": 9,
    "start_time": "2022-09-12T10:46:40.665Z"
   },
   {
    "duration": 7,
    "start_time": "2022-09-12T10:47:12.887Z"
   },
   {
    "duration": 5,
    "start_time": "2022-09-12T10:47:52.933Z"
   },
   {
    "duration": 6,
    "start_time": "2022-09-12T10:47:57.149Z"
   },
   {
    "duration": 5,
    "start_time": "2022-09-12T10:53:05.858Z"
   },
   {
    "duration": 69,
    "start_time": "2022-09-12T10:55:17.763Z"
   },
   {
    "duration": 17,
    "start_time": "2022-09-12T10:55:17.834Z"
   },
   {
    "duration": 17,
    "start_time": "2022-09-12T10:55:17.853Z"
   },
   {
    "duration": 9,
    "start_time": "2022-09-12T10:55:17.878Z"
   },
   {
    "duration": 32,
    "start_time": "2022-09-12T10:55:17.888Z"
   },
   {
    "duration": 4,
    "start_time": "2022-09-12T10:55:17.921Z"
   },
   {
    "duration": 12,
    "start_time": "2022-09-12T10:55:17.926Z"
   },
   {
    "duration": 4,
    "start_time": "2022-09-12T10:55:17.940Z"
   },
   {
    "duration": 32,
    "start_time": "2022-09-12T10:55:17.946Z"
   },
   {
    "duration": 4,
    "start_time": "2022-09-12T10:55:17.981Z"
   },
   {
    "duration": 44,
    "start_time": "2022-09-12T10:55:17.987Z"
   },
   {
    "duration": 9,
    "start_time": "2022-09-12T10:55:18.032Z"
   },
   {
    "duration": 7,
    "start_time": "2022-09-12T10:55:18.042Z"
   },
   {
    "duration": 22,
    "start_time": "2022-09-12T10:55:18.050Z"
   },
   {
    "duration": 26,
    "start_time": "2022-09-12T10:55:18.073Z"
   },
   {
    "duration": 16,
    "start_time": "2022-09-12T10:55:18.100Z"
   },
   {
    "duration": 3,
    "start_time": "2022-09-12T10:55:18.118Z"
   },
   {
    "duration": 11,
    "start_time": "2022-09-12T10:55:18.123Z"
   },
   {
    "duration": 5,
    "start_time": "2022-09-12T10:55:18.135Z"
   },
   {
    "duration": 4,
    "start_time": "2022-09-12T10:55:18.142Z"
   },
   {
    "duration": 32,
    "start_time": "2022-09-12T10:55:18.148Z"
   },
   {
    "duration": 10,
    "start_time": "2022-09-12T10:55:18.182Z"
   },
   {
    "duration": 6,
    "start_time": "2022-09-12T10:55:18.194Z"
   },
   {
    "duration": 4,
    "start_time": "2022-09-12T10:55:18.201Z"
   },
   {
    "duration": 5,
    "start_time": "2022-09-12T10:55:18.207Z"
   },
   {
    "duration": 8,
    "start_time": "2022-09-12T10:55:38.461Z"
   },
   {
    "duration": 8,
    "start_time": "2022-09-12T10:57:50.400Z"
   },
   {
    "duration": 8,
    "start_time": "2022-09-12T10:58:03.329Z"
   },
   {
    "duration": 8,
    "start_time": "2022-09-12T11:01:46.095Z"
   },
   {
    "duration": 13,
    "start_time": "2022-09-12T11:06:04.016Z"
   },
   {
    "duration": 14,
    "start_time": "2022-09-12T12:22:57.687Z"
   },
   {
    "duration": 9,
    "start_time": "2022-09-12T12:23:51.265Z"
   },
   {
    "duration": 12,
    "start_time": "2022-09-12T12:24:44.898Z"
   },
   {
    "duration": 9,
    "start_time": "2022-09-12T12:25:31.537Z"
   },
   {
    "duration": 4,
    "start_time": "2022-09-12T12:31:48.470Z"
   },
   {
    "duration": 106,
    "start_time": "2022-09-12T12:31:53.902Z"
   },
   {
    "duration": 4,
    "start_time": "2022-09-12T12:32:54.673Z"
   },
   {
    "duration": 8,
    "start_time": "2022-09-12T12:33:17.070Z"
   },
   {
    "duration": 125,
    "start_time": "2022-09-12T12:35:04.351Z"
   },
   {
    "duration": 110,
    "start_time": "2022-09-12T12:35:23.226Z"
   },
   {
    "duration": 136,
    "start_time": "2022-09-12T12:39:56.855Z"
   },
   {
    "duration": 232,
    "start_time": "2022-09-12T12:45:32.783Z"
   },
   {
    "duration": 14,
    "start_time": "2022-09-12T12:49:31.787Z"
   },
   {
    "duration": 114,
    "start_time": "2022-09-12T12:50:05.695Z"
   },
   {
    "duration": 124,
    "start_time": "2022-09-12T12:51:50.165Z"
   },
   {
    "duration": 137,
    "start_time": "2022-09-12T12:53:09.898Z"
   },
   {
    "duration": 128,
    "start_time": "2022-09-12T12:54:18.001Z"
   },
   {
    "duration": 137,
    "start_time": "2022-09-12T12:55:15.690Z"
   },
   {
    "duration": 123,
    "start_time": "2022-09-12T12:55:43.182Z"
   },
   {
    "duration": 14,
    "start_time": "2022-09-12T12:57:18.408Z"
   },
   {
    "duration": 132,
    "start_time": "2022-09-12T12:57:49.676Z"
   },
   {
    "duration": 124,
    "start_time": "2022-09-12T12:58:27.525Z"
   },
   {
    "duration": 155,
    "start_time": "2022-09-12T13:02:55.393Z"
   },
   {
    "duration": 136,
    "start_time": "2022-09-12T13:03:35.382Z"
   },
   {
    "duration": 131,
    "start_time": "2022-09-12T13:04:14.519Z"
   },
   {
    "duration": 9,
    "start_time": "2022-09-12T13:06:51.180Z"
   },
   {
    "duration": 12,
    "start_time": "2022-09-12T13:09:06.986Z"
   },
   {
    "duration": 7,
    "start_time": "2022-09-12T13:09:19.001Z"
   },
   {
    "duration": 12,
    "start_time": "2022-09-12T13:09:22.549Z"
   },
   {
    "duration": 7,
    "start_time": "2022-09-12T13:09:38.525Z"
   },
   {
    "duration": 8,
    "start_time": "2022-09-12T13:10:15.260Z"
   },
   {
    "duration": 131,
    "start_time": "2022-09-12T13:10:26.620Z"
   },
   {
    "duration": 113,
    "start_time": "2022-09-12T13:17:21.284Z"
   },
   {
    "duration": 169,
    "start_time": "2022-09-12T13:18:21.389Z"
   },
   {
    "duration": 123,
    "start_time": "2022-09-12T13:20:24.468Z"
   },
   {
    "duration": 136,
    "start_time": "2022-09-12T13:22:00.834Z"
   },
   {
    "duration": 9,
    "start_time": "2022-09-12T13:32:47.687Z"
   },
   {
    "duration": 9,
    "start_time": "2022-09-12T13:34:04.396Z"
   },
   {
    "duration": 8,
    "start_time": "2022-09-12T13:37:21.937Z"
   },
   {
    "duration": 10,
    "start_time": "2022-09-12T13:40:26.337Z"
   },
   {
    "duration": 90,
    "start_time": "2022-09-12T13:41:08.988Z"
   },
   {
    "duration": 15,
    "start_time": "2022-09-12T13:41:09.080Z"
   },
   {
    "duration": 18,
    "start_time": "2022-09-12T13:41:09.096Z"
   },
   {
    "duration": 20,
    "start_time": "2022-09-12T13:41:09.116Z"
   },
   {
    "duration": 49,
    "start_time": "2022-09-12T13:41:09.138Z"
   },
   {
    "duration": 3,
    "start_time": "2022-09-12T13:41:09.189Z"
   },
   {
    "duration": 10,
    "start_time": "2022-09-12T13:41:09.194Z"
   },
   {
    "duration": 4,
    "start_time": "2022-09-12T13:41:09.206Z"
   },
   {
    "duration": 7,
    "start_time": "2022-09-12T13:41:09.211Z"
   },
   {
    "duration": 5,
    "start_time": "2022-09-12T13:41:09.220Z"
   },
   {
    "duration": 62,
    "start_time": "2022-09-12T13:41:09.227Z"
   },
   {
    "duration": 10,
    "start_time": "2022-09-12T13:41:09.291Z"
   },
   {
    "duration": 5,
    "start_time": "2022-09-12T13:41:09.302Z"
   },
   {
    "duration": 15,
    "start_time": "2022-09-12T13:41:09.310Z"
   },
   {
    "duration": 20,
    "start_time": "2022-09-12T13:41:09.326Z"
   },
   {
    "duration": 45,
    "start_time": "2022-09-12T13:41:09.347Z"
   },
   {
    "duration": 4,
    "start_time": "2022-09-12T13:41:09.393Z"
   },
   {
    "duration": 22,
    "start_time": "2022-09-12T13:41:09.398Z"
   },
   {
    "duration": 9,
    "start_time": "2022-09-12T13:41:09.421Z"
   },
   {
    "duration": 4,
    "start_time": "2022-09-12T13:41:09.432Z"
   },
   {
    "duration": 10,
    "start_time": "2022-09-12T13:41:09.437Z"
   },
   {
    "duration": 28,
    "start_time": "2022-09-12T13:41:09.449Z"
   },
   {
    "duration": 142,
    "start_time": "2022-09-12T13:41:09.479Z"
   },
   {
    "duration": 8,
    "start_time": "2022-09-12T13:41:09.622Z"
   },
   {
    "duration": 146,
    "start_time": "2022-09-12T13:41:09.632Z"
   },
   {
    "duration": 6,
    "start_time": "2022-09-12T13:41:09.779Z"
   },
   {
    "duration": 14,
    "start_time": "2022-09-12T13:41:09.787Z"
   },
   {
    "duration": 0,
    "start_time": "2022-09-12T13:41:09.802Z"
   },
   {
    "duration": 5,
    "start_time": "2022-09-12T13:41:22.140Z"
   },
   {
    "duration": 7,
    "start_time": "2022-09-12T13:42:11.790Z"
   },
   {
    "duration": 10,
    "start_time": "2022-09-12T13:42:15.733Z"
   },
   {
    "duration": 9,
    "start_time": "2022-09-12T13:42:33.184Z"
   },
   {
    "duration": 9,
    "start_time": "2022-09-12T13:44:05.912Z"
   },
   {
    "duration": 9,
    "start_time": "2022-09-12T13:45:46.501Z"
   },
   {
    "duration": 9,
    "start_time": "2022-09-12T13:46:18.708Z"
   },
   {
    "duration": 9,
    "start_time": "2022-09-12T13:46:48.492Z"
   },
   {
    "duration": 10,
    "start_time": "2022-09-12T13:47:23.851Z"
   },
   {
    "duration": 9,
    "start_time": "2022-09-12T13:48:44.684Z"
   },
   {
    "duration": 11,
    "start_time": "2022-09-12T13:50:31.998Z"
   },
   {
    "duration": 9,
    "start_time": "2022-09-12T13:50:54.914Z"
   },
   {
    "duration": 11,
    "start_time": "2022-09-12T13:51:14.832Z"
   },
   {
    "duration": 112,
    "start_time": "2022-09-12T13:51:50.319Z"
   },
   {
    "duration": 89,
    "start_time": "2022-09-12T13:52:46.887Z"
   },
   {
    "duration": 11,
    "start_time": "2022-09-12T13:55:08.682Z"
   },
   {
    "duration": 112,
    "start_time": "2022-09-12T13:56:27.686Z"
   },
   {
    "duration": 9,
    "start_time": "2022-09-12T13:56:50.885Z"
   },
   {
    "duration": 9,
    "start_time": "2022-09-12T13:56:58.022Z"
   },
   {
    "duration": 9,
    "start_time": "2022-09-12T13:57:05.090Z"
   },
   {
    "duration": 9,
    "start_time": "2022-09-12T13:57:12.292Z"
   },
   {
    "duration": 71,
    "start_time": "2022-09-12T13:57:29.160Z"
   },
   {
    "duration": 15,
    "start_time": "2022-09-12T13:57:29.233Z"
   },
   {
    "duration": 17,
    "start_time": "2022-09-12T13:57:29.249Z"
   },
   {
    "duration": 8,
    "start_time": "2022-09-12T13:57:29.276Z"
   },
   {
    "duration": 42,
    "start_time": "2022-09-12T13:57:29.286Z"
   },
   {
    "duration": 4,
    "start_time": "2022-09-12T13:57:29.329Z"
   },
   {
    "duration": 19,
    "start_time": "2022-09-12T13:57:29.334Z"
   },
   {
    "duration": 7,
    "start_time": "2022-09-12T13:57:29.355Z"
   },
   {
    "duration": 16,
    "start_time": "2022-09-12T13:57:29.363Z"
   },
   {
    "duration": 17,
    "start_time": "2022-09-12T13:57:29.381Z"
   },
   {
    "duration": 165,
    "start_time": "2022-09-12T13:57:29.399Z"
   },
   {
    "duration": 11,
    "start_time": "2022-09-12T13:57:29.566Z"
   },
   {
    "duration": 4,
    "start_time": "2022-09-12T13:57:29.579Z"
   },
   {
    "duration": 20,
    "start_time": "2022-09-12T13:57:29.584Z"
   },
   {
    "duration": 38,
    "start_time": "2022-09-12T13:57:29.606Z"
   },
   {
    "duration": 17,
    "start_time": "2022-09-12T13:57:29.646Z"
   },
   {
    "duration": 3,
    "start_time": "2022-09-12T13:57:29.665Z"
   },
   {
    "duration": 12,
    "start_time": "2022-09-12T13:57:29.670Z"
   },
   {
    "duration": 5,
    "start_time": "2022-09-12T13:57:29.684Z"
   },
   {
    "duration": 8,
    "start_time": "2022-09-12T13:57:29.690Z"
   },
   {
    "duration": 13,
    "start_time": "2022-09-12T13:57:29.699Z"
   },
   {
    "duration": 9,
    "start_time": "2022-09-12T13:57:29.713Z"
   },
   {
    "duration": 145,
    "start_time": "2022-09-12T13:57:29.724Z"
   },
   {
    "duration": 13,
    "start_time": "2022-09-12T13:57:29.870Z"
   },
   {
    "duration": 149,
    "start_time": "2022-09-12T13:57:29.884Z"
   },
   {
    "duration": 10,
    "start_time": "2022-09-12T13:57:30.035Z"
   },
   {
    "duration": 129,
    "start_time": "2022-09-12T13:57:30.047Z"
   },
   {
    "duration": 0,
    "start_time": "2022-09-12T13:57:30.178Z"
   },
   {
    "duration": 10,
    "start_time": "2022-09-12T13:58:01.913Z"
   },
   {
    "duration": 9,
    "start_time": "2022-09-12T13:58:12.881Z"
   },
   {
    "duration": 9,
    "start_time": "2022-09-12T13:59:53.052Z"
   },
   {
    "duration": 9,
    "start_time": "2022-09-12T14:00:18.922Z"
   },
   {
    "duration": 120,
    "start_time": "2022-09-12T14:00:50.380Z"
   },
   {
    "duration": 1799,
    "start_time": "2022-09-12T14:02:40.309Z"
   },
   {
    "duration": 9,
    "start_time": "2022-09-12T14:04:48.782Z"
   },
   {
    "duration": 16,
    "start_time": "2022-09-12T14:04:56.324Z"
   },
   {
    "duration": 11,
    "start_time": "2022-09-12T14:06:55.585Z"
   },
   {
    "duration": 112,
    "start_time": "2022-09-12T14:08:14.435Z"
   },
   {
    "duration": 130,
    "start_time": "2022-09-12T14:08:36.364Z"
   },
   {
    "duration": 109,
    "start_time": "2022-09-12T14:12:12.070Z"
   },
   {
    "duration": 9,
    "start_time": "2022-09-12T14:13:37.289Z"
   },
   {
    "duration": 11,
    "start_time": "2022-09-12T14:13:51.779Z"
   },
   {
    "duration": 9,
    "start_time": "2022-09-12T14:14:08.698Z"
   },
   {
    "duration": 115,
    "start_time": "2022-09-12T14:22:59.964Z"
   },
   {
    "duration": 20,
    "start_time": "2022-09-12T14:23:37.128Z"
   },
   {
    "duration": 4,
    "start_time": "2022-09-12T14:24:02.456Z"
   },
   {
    "duration": 4,
    "start_time": "2022-09-12T14:24:46.630Z"
   },
   {
    "duration": 78,
    "start_time": "2022-09-12T14:25:04.712Z"
   },
   {
    "duration": 8,
    "start_time": "2022-09-12T14:27:16.828Z"
   },
   {
    "duration": 762,
    "start_time": "2022-09-13T17:12:55.697Z"
   },
   {
    "duration": 20,
    "start_time": "2022-09-13T17:12:56.460Z"
   },
   {
    "duration": 13,
    "start_time": "2022-09-13T17:12:56.482Z"
   },
   {
    "duration": 9,
    "start_time": "2022-09-13T17:12:56.497Z"
   },
   {
    "duration": 32,
    "start_time": "2022-09-13T17:12:56.507Z"
   },
   {
    "duration": 3,
    "start_time": "2022-09-13T17:12:56.541Z"
   },
   {
    "duration": 10,
    "start_time": "2022-09-13T17:12:56.546Z"
   },
   {
    "duration": 10,
    "start_time": "2022-09-13T17:12:56.558Z"
   },
   {
    "duration": 9,
    "start_time": "2022-09-13T17:12:56.569Z"
   },
   {
    "duration": 7,
    "start_time": "2022-09-13T17:12:56.581Z"
   },
   {
    "duration": 40,
    "start_time": "2022-09-13T17:12:56.590Z"
   },
   {
    "duration": 10,
    "start_time": "2022-09-13T17:12:56.631Z"
   },
   {
    "duration": 14,
    "start_time": "2022-09-13T17:12:56.642Z"
   },
   {
    "duration": 19,
    "start_time": "2022-09-13T17:12:56.657Z"
   },
   {
    "duration": 28,
    "start_time": "2022-09-13T17:12:56.677Z"
   },
   {
    "duration": 15,
    "start_time": "2022-09-13T17:12:56.706Z"
   },
   {
    "duration": 4,
    "start_time": "2022-09-13T17:12:56.722Z"
   },
   {
    "duration": 13,
    "start_time": "2022-09-13T17:12:56.727Z"
   },
   {
    "duration": 11,
    "start_time": "2022-09-13T17:12:56.741Z"
   },
   {
    "duration": 7,
    "start_time": "2022-09-13T17:12:56.753Z"
   },
   {
    "duration": 13,
    "start_time": "2022-09-13T17:12:56.761Z"
   },
   {
    "duration": 7,
    "start_time": "2022-09-13T17:12:56.776Z"
   },
   {
    "duration": 989,
    "start_time": "2022-09-13T17:12:56.784Z"
   },
   {
    "duration": 0,
    "start_time": "2022-09-13T17:12:57.774Z"
   },
   {
    "duration": 0,
    "start_time": "2022-09-13T17:12:57.776Z"
   },
   {
    "duration": 0,
    "start_time": "2022-09-13T17:12:57.777Z"
   },
   {
    "duration": 0,
    "start_time": "2022-09-13T17:12:57.778Z"
   },
   {
    "duration": 0,
    "start_time": "2022-09-13T17:12:57.779Z"
   },
   {
    "duration": 117,
    "start_time": "2022-09-13T17:13:07.954Z"
   },
   {
    "duration": 8,
    "start_time": "2022-09-13T17:13:09.235Z"
   },
   {
    "duration": 9,
    "start_time": "2022-09-13T17:13:09.433Z"
   },
   {
    "duration": 118,
    "start_time": "2022-09-13T17:13:13.902Z"
   },
   {
    "duration": 8,
    "start_time": "2022-09-13T17:13:16.815Z"
   },
   {
    "duration": 69,
    "start_time": "2022-09-13T17:13:17.528Z"
   },
   {
    "duration": 9,
    "start_time": "2022-09-13T17:13:19.217Z"
   },
   {
    "duration": 692,
    "start_time": "2022-09-16T11:18:16.431Z"
   },
   {
    "duration": 24,
    "start_time": "2022-09-16T11:18:17.125Z"
   },
   {
    "duration": 15,
    "start_time": "2022-09-16T11:18:17.152Z"
   },
   {
    "duration": 9,
    "start_time": "2022-09-16T11:18:17.169Z"
   },
   {
    "duration": 58,
    "start_time": "2022-09-16T11:18:17.180Z"
   },
   {
    "duration": 3,
    "start_time": "2022-09-16T11:18:17.240Z"
   },
   {
    "duration": 21,
    "start_time": "2022-09-16T11:18:17.244Z"
   },
   {
    "duration": 5,
    "start_time": "2022-09-16T11:18:17.267Z"
   },
   {
    "duration": 39,
    "start_time": "2022-09-16T11:18:17.274Z"
   },
   {
    "duration": 4,
    "start_time": "2022-09-16T11:18:17.316Z"
   },
   {
    "duration": 29,
    "start_time": "2022-09-16T11:18:17.322Z"
   },
   {
    "duration": 9,
    "start_time": "2022-09-16T11:18:17.353Z"
   },
   {
    "duration": 4,
    "start_time": "2022-09-16T11:18:17.363Z"
   },
   {
    "duration": 49,
    "start_time": "2022-09-16T11:18:17.369Z"
   },
   {
    "duration": 23,
    "start_time": "2022-09-16T11:18:17.420Z"
   },
   {
    "duration": 15,
    "start_time": "2022-09-16T11:18:17.445Z"
   },
   {
    "duration": 3,
    "start_time": "2022-09-16T11:18:17.462Z"
   },
   {
    "duration": 42,
    "start_time": "2022-09-16T11:18:17.467Z"
   },
   {
    "duration": 5,
    "start_time": "2022-09-16T11:18:17.511Z"
   },
   {
    "duration": 5,
    "start_time": "2022-09-16T11:18:17.517Z"
   },
   {
    "duration": 12,
    "start_time": "2022-09-16T11:18:17.523Z"
   },
   {
    "duration": 85,
    "start_time": "2022-09-16T11:18:17.536Z"
   },
   {
    "duration": 0,
    "start_time": "2022-09-16T11:18:17.623Z"
   },
   {
    "duration": 0,
    "start_time": "2022-09-16T11:18:17.624Z"
   },
   {
    "duration": 0,
    "start_time": "2022-09-16T11:18:17.625Z"
   },
   {
    "duration": 0,
    "start_time": "2022-09-16T11:18:17.626Z"
   },
   {
    "duration": 0,
    "start_time": "2022-09-16T11:18:17.626Z"
   },
   {
    "duration": 0,
    "start_time": "2022-09-16T11:18:17.628Z"
   },
   {
    "duration": 19,
    "start_time": "2022-09-16T11:22:09.660Z"
   },
   {
    "duration": 10,
    "start_time": "2022-09-16T11:22:56.498Z"
   },
   {
    "duration": 15,
    "start_time": "2022-09-16T11:23:47.351Z"
   },
   {
    "duration": 12,
    "start_time": "2022-09-16T11:25:16.493Z"
   },
   {
    "duration": 10,
    "start_time": "2022-09-16T11:26:34.623Z"
   },
   {
    "duration": 22,
    "start_time": "2022-09-16T11:31:02.373Z"
   },
   {
    "duration": 19,
    "start_time": "2022-09-16T11:31:09.202Z"
   },
   {
    "duration": 11,
    "start_time": "2022-09-16T11:31:17.732Z"
   },
   {
    "duration": 32,
    "start_time": "2022-09-16T11:31:50.302Z"
   },
   {
    "duration": 18,
    "start_time": "2022-09-16T11:34:37.254Z"
   },
   {
    "duration": 13,
    "start_time": "2022-09-16T11:35:25.129Z"
   },
   {
    "duration": 16,
    "start_time": "2022-09-16T11:37:46.089Z"
   },
   {
    "duration": 18,
    "start_time": "2022-09-16T11:37:58.425Z"
   },
   {
    "duration": 15,
    "start_time": "2022-09-16T11:39:03.906Z"
   },
   {
    "duration": 16,
    "start_time": "2022-09-16T11:39:20.652Z"
   },
   {
    "duration": 17,
    "start_time": "2022-09-16T11:48:42.172Z"
   },
   {
    "duration": 25,
    "start_time": "2022-09-16T11:49:12.892Z"
   },
   {
    "duration": 19,
    "start_time": "2022-09-16T12:08:13.839Z"
   },
   {
    "duration": 19,
    "start_time": "2022-09-16T12:08:39.801Z"
   },
   {
    "duration": 22,
    "start_time": "2022-09-16T12:10:16.352Z"
   },
   {
    "duration": 25,
    "start_time": "2022-09-16T12:11:34.434Z"
   },
   {
    "duration": 15,
    "start_time": "2022-09-16T12:12:00.140Z"
   },
   {
    "duration": 22,
    "start_time": "2022-09-16T12:12:07.961Z"
   },
   {
    "duration": 1005,
    "start_time": "2022-09-16T12:45:45.927Z"
   },
   {
    "duration": 101,
    "start_time": "2022-09-16T12:45:51.894Z"
   },
   {
    "duration": 38,
    "start_time": "2022-09-16T12:45:51.998Z"
   },
   {
    "duration": 29,
    "start_time": "2022-09-16T12:45:52.038Z"
   },
   {
    "duration": 12,
    "start_time": "2022-09-16T12:45:52.069Z"
   },
   {
    "duration": 68,
    "start_time": "2022-09-16T12:45:52.083Z"
   },
   {
    "duration": 4,
    "start_time": "2022-09-16T12:45:52.153Z"
   },
   {
    "duration": 11,
    "start_time": "2022-09-16T12:45:52.159Z"
   },
   {
    "duration": 18,
    "start_time": "2022-09-16T12:45:52.172Z"
   },
   {
    "duration": 25,
    "start_time": "2022-09-16T12:45:52.193Z"
   },
   {
    "duration": 35,
    "start_time": "2022-09-16T12:45:52.222Z"
   },
   {
    "duration": 39,
    "start_time": "2022-09-16T12:45:52.258Z"
   },
   {
    "duration": 14,
    "start_time": "2022-09-16T12:45:52.299Z"
   },
   {
    "duration": 34,
    "start_time": "2022-09-16T12:45:52.315Z"
   },
   {
    "duration": 13,
    "start_time": "2022-09-16T12:45:52.352Z"
   },
   {
    "duration": 28,
    "start_time": "2022-09-16T12:45:52.366Z"
   },
   {
    "duration": 39,
    "start_time": "2022-09-16T12:45:52.396Z"
   },
   {
    "duration": 4,
    "start_time": "2022-09-16T12:45:52.438Z"
   },
   {
    "duration": 31,
    "start_time": "2022-09-16T12:45:52.444Z"
   },
   {
    "duration": 15,
    "start_time": "2022-09-16T12:45:52.480Z"
   },
   {
    "duration": 8,
    "start_time": "2022-09-16T12:45:52.497Z"
   },
   {
    "duration": 46,
    "start_time": "2022-09-16T12:45:52.507Z"
   },
   {
    "duration": 40,
    "start_time": "2022-09-16T12:45:52.555Z"
   },
   {
    "duration": 152,
    "start_time": "2022-09-16T12:45:52.597Z"
   },
   {
    "duration": 7,
    "start_time": "2022-09-16T12:45:52.750Z"
   },
   {
    "duration": 145,
    "start_time": "2022-09-16T12:45:52.759Z"
   },
   {
    "duration": 7,
    "start_time": "2022-09-16T12:45:52.905Z"
   },
   {
    "duration": 105,
    "start_time": "2022-09-16T12:45:52.914Z"
   },
   {
    "duration": 9,
    "start_time": "2022-09-16T12:45:53.029Z"
   },
   {
    "duration": 476,
    "start_time": "2022-09-16T12:54:12.827Z"
   },
   {
    "duration": 54,
    "start_time": "2022-09-16T12:54:56.109Z"
   },
   {
    "duration": 59,
    "start_time": "2022-09-16T12:55:31.297Z"
   },
   {
    "duration": 7,
    "start_time": "2022-09-16T12:56:05.159Z"
   },
   {
    "duration": 17,
    "start_time": "2022-09-16T12:56:28.436Z"
   },
   {
    "duration": 17,
    "start_time": "2022-09-16T12:59:53.978Z"
   },
   {
    "duration": 24,
    "start_time": "2022-09-16T13:01:44.564Z"
   },
   {
    "duration": 16,
    "start_time": "2022-09-16T13:02:23.647Z"
   },
   {
    "duration": 6,
    "start_time": "2022-09-16T13:04:43.125Z"
   },
   {
    "duration": 16,
    "start_time": "2022-09-16T13:05:17.193Z"
   },
   {
    "duration": 12,
    "start_time": "2022-09-16T13:06:54.676Z"
   },
   {
    "duration": 9,
    "start_time": "2022-09-16T13:07:37.371Z"
   },
   {
    "duration": 19,
    "start_time": "2022-09-16T13:08:09.781Z"
   },
   {
    "duration": 726,
    "start_time": "2022-09-16T16:13:23.903Z"
   },
   {
    "duration": 23,
    "start_time": "2022-09-16T16:13:24.631Z"
   },
   {
    "duration": 16,
    "start_time": "2022-09-16T16:13:24.656Z"
   },
   {
    "duration": 20,
    "start_time": "2022-09-16T16:13:24.674Z"
   },
   {
    "duration": 40,
    "start_time": "2022-09-16T16:13:24.696Z"
   },
   {
    "duration": 4,
    "start_time": "2022-09-16T16:13:24.740Z"
   },
   {
    "duration": 22,
    "start_time": "2022-09-16T16:13:24.746Z"
   },
   {
    "duration": 18,
    "start_time": "2022-09-16T16:13:24.770Z"
   },
   {
    "duration": 17,
    "start_time": "2022-09-16T16:13:24.789Z"
   },
   {
    "duration": 6,
    "start_time": "2022-09-16T16:13:24.810Z"
   },
   {
    "duration": 40,
    "start_time": "2022-09-16T16:13:24.817Z"
   },
   {
    "duration": 9,
    "start_time": "2022-09-16T16:13:24.859Z"
   },
   {
    "duration": 3,
    "start_time": "2022-09-16T16:13:24.870Z"
   },
   {
    "duration": 13,
    "start_time": "2022-09-16T16:13:24.875Z"
   },
   {
    "duration": 36,
    "start_time": "2022-09-16T16:13:24.890Z"
   },
   {
    "duration": 18,
    "start_time": "2022-09-16T16:13:24.927Z"
   },
   {
    "duration": 3,
    "start_time": "2022-09-16T16:13:24.947Z"
   },
   {
    "duration": 13,
    "start_time": "2022-09-16T16:13:24.952Z"
   },
   {
    "duration": 7,
    "start_time": "2022-09-16T16:13:24.967Z"
   },
   {
    "duration": 8,
    "start_time": "2022-09-16T16:13:24.975Z"
   },
   {
    "duration": 39,
    "start_time": "2022-09-16T16:13:24.985Z"
   },
   {
    "duration": 22,
    "start_time": "2022-09-16T16:13:25.026Z"
   },
   {
    "duration": 1090,
    "start_time": "2022-09-16T16:13:25.049Z"
   },
   {
    "duration": 8,
    "start_time": "2022-09-16T16:13:26.142Z"
   },
   {
    "duration": 156,
    "start_time": "2022-09-16T16:13:26.152Z"
   },
   {
    "duration": 24,
    "start_time": "2022-09-16T16:13:26.310Z"
   },
   {
    "duration": 104,
    "start_time": "2022-09-16T16:13:26.336Z"
   },
   {
    "duration": 9,
    "start_time": "2022-09-16T16:13:26.444Z"
   },
   {
    "duration": 19,
    "start_time": "2022-09-16T16:26:44.541Z"
   },
   {
    "duration": 22,
    "start_time": "2022-09-16T16:27:41.623Z"
   },
   {
    "duration": 8,
    "start_time": "2022-09-16T16:28:35.030Z"
   },
   {
    "duration": 24,
    "start_time": "2022-09-16T16:29:46.049Z"
   },
   {
    "duration": 100,
    "start_time": "2022-09-16T16:31:39.812Z"
   },
   {
    "duration": 123,
    "start_time": "2022-09-16T16:32:45.402Z"
   },
   {
    "duration": 21,
    "start_time": "2022-09-16T16:33:06.225Z"
   },
   {
    "duration": 19,
    "start_time": "2022-09-16T16:33:27.995Z"
   },
   {
    "duration": 144,
    "start_time": "2022-09-16T16:33:54.982Z"
   },
   {
    "duration": 20,
    "start_time": "2022-09-16T16:37:47.344Z"
   },
   {
    "duration": 20,
    "start_time": "2022-09-16T16:40:32.859Z"
   },
   {
    "duration": 21,
    "start_time": "2022-09-16T16:41:53.870Z"
   },
   {
    "duration": 22,
    "start_time": "2022-09-16T16:42:34.245Z"
   },
   {
    "duration": 30,
    "start_time": "2022-09-16T16:44:02.986Z"
   },
   {
    "duration": 21,
    "start_time": "2022-09-16T16:46:42.043Z"
   },
   {
    "duration": 25,
    "start_time": "2022-09-16T16:54:48.990Z"
   },
   {
    "duration": 19,
    "start_time": "2022-09-16T16:55:34.189Z"
   },
   {
    "duration": 108,
    "start_time": "2022-09-16T16:56:32.404Z"
   },
   {
    "duration": 22,
    "start_time": "2022-09-16T16:56:46.408Z"
   },
   {
    "duration": 20,
    "start_time": "2022-09-16T17:00:05.611Z"
   },
   {
    "duration": 545,
    "start_time": "2022-09-17T12:11:24.457Z"
   },
   {
    "duration": 34,
    "start_time": "2022-09-17T12:11:25.005Z"
   },
   {
    "duration": 38,
    "start_time": "2022-09-17T12:11:25.041Z"
   },
   {
    "duration": 35,
    "start_time": "2022-09-17T12:11:25.081Z"
   },
   {
    "duration": 97,
    "start_time": "2022-09-17T12:11:25.118Z"
   },
   {
    "duration": 4,
    "start_time": "2022-09-17T12:11:25.221Z"
   },
   {
    "duration": 50,
    "start_time": "2022-09-17T12:11:25.226Z"
   },
   {
    "duration": 25,
    "start_time": "2022-09-17T12:11:25.278Z"
   },
   {
    "duration": 35,
    "start_time": "2022-09-17T12:11:25.305Z"
   },
   {
    "duration": 26,
    "start_time": "2022-09-17T12:11:25.344Z"
   },
   {
    "duration": 70,
    "start_time": "2022-09-17T12:11:25.372Z"
   },
   {
    "duration": 16,
    "start_time": "2022-09-17T12:11:25.444Z"
   },
   {
    "duration": 28,
    "start_time": "2022-09-17T12:11:25.463Z"
   },
   {
    "duration": 51,
    "start_time": "2022-09-17T12:11:25.493Z"
   },
   {
    "duration": 54,
    "start_time": "2022-09-17T12:11:25.547Z"
   },
   {
    "duration": 24,
    "start_time": "2022-09-17T12:11:25.603Z"
   },
   {
    "duration": 18,
    "start_time": "2022-09-17T12:11:25.629Z"
   },
   {
    "duration": 32,
    "start_time": "2022-09-17T12:11:25.650Z"
   },
   {
    "duration": 16,
    "start_time": "2022-09-17T12:11:25.684Z"
   },
   {
    "duration": 32,
    "start_time": "2022-09-17T12:11:25.702Z"
   },
   {
    "duration": 41,
    "start_time": "2022-09-17T12:11:25.736Z"
   },
   {
    "duration": 26,
    "start_time": "2022-09-17T12:11:25.778Z"
   },
   {
    "duration": 990,
    "start_time": "2022-09-17T12:11:25.806Z"
   },
   {
    "duration": 29,
    "start_time": "2022-09-17T12:11:26.798Z"
   },
   {
    "duration": 176,
    "start_time": "2022-09-17T12:11:26.828Z"
   },
   {
    "duration": 23,
    "start_time": "2022-09-17T12:11:27.008Z"
   },
   {
    "duration": 158,
    "start_time": "2022-09-17T12:11:27.033Z"
   },
   {
    "duration": 15,
    "start_time": "2022-09-17T12:11:27.194Z"
   },
   {
    "duration": 320,
    "start_time": "2022-09-17T12:23:53.240Z"
   },
   {
    "duration": 44,
    "start_time": "2022-09-17T12:39:02.681Z"
   },
   {
    "duration": 430,
    "start_time": "2022-09-17T12:39:10.082Z"
   },
   {
    "duration": 18,
    "start_time": "2022-09-17T12:39:10.514Z"
   },
   {
    "duration": 12,
    "start_time": "2022-09-17T12:39:10.534Z"
   },
   {
    "duration": 8,
    "start_time": "2022-09-17T12:39:10.547Z"
   },
   {
    "duration": 28,
    "start_time": "2022-09-17T12:39:10.556Z"
   },
   {
    "duration": 2,
    "start_time": "2022-09-17T12:39:10.585Z"
   },
   {
    "duration": 32,
    "start_time": "2022-09-17T12:39:10.589Z"
   },
   {
    "duration": 4,
    "start_time": "2022-09-17T12:39:10.622Z"
   },
   {
    "duration": 7,
    "start_time": "2022-09-17T12:39:10.627Z"
   },
   {
    "duration": 4,
    "start_time": "2022-09-17T12:39:10.636Z"
   },
   {
    "duration": 31,
    "start_time": "2022-09-17T12:39:10.641Z"
   },
   {
    "duration": 8,
    "start_time": "2022-09-17T12:39:10.674Z"
   },
   {
    "duration": 5,
    "start_time": "2022-09-17T12:39:10.683Z"
   },
   {
    "duration": 33,
    "start_time": "2022-09-17T12:39:10.690Z"
   },
   {
    "duration": 17,
    "start_time": "2022-09-17T12:39:10.725Z"
   },
   {
    "duration": 14,
    "start_time": "2022-09-17T12:39:10.743Z"
   },
   {
    "duration": 3,
    "start_time": "2022-09-17T12:39:10.759Z"
   },
   {
    "duration": 11,
    "start_time": "2022-09-17T12:39:10.763Z"
   },
   {
    "duration": 4,
    "start_time": "2022-09-17T12:39:10.775Z"
   },
   {
    "duration": 6,
    "start_time": "2022-09-17T12:39:10.780Z"
   },
   {
    "duration": 13,
    "start_time": "2022-09-17T12:39:10.787Z"
   },
   {
    "duration": 38,
    "start_time": "2022-09-17T12:39:10.822Z"
   },
   {
    "duration": 1028,
    "start_time": "2022-09-17T12:39:10.861Z"
   },
   {
    "duration": 18,
    "start_time": "2022-09-17T12:39:11.891Z"
   },
   {
    "duration": 112,
    "start_time": "2022-09-17T12:39:11.921Z"
   },
   {
    "duration": 17,
    "start_time": "2022-09-17T12:39:12.034Z"
   },
   {
    "duration": 115,
    "start_time": "2022-09-17T12:39:12.052Z"
   },
   {
    "duration": 7,
    "start_time": "2022-09-17T12:39:12.170Z"
   },
   {
    "duration": 20,
    "start_time": "2022-09-17T13:17:53.627Z"
   },
   {
    "duration": 28,
    "start_time": "2022-09-17T13:18:37.385Z"
   },
   {
    "duration": 21,
    "start_time": "2022-09-17T13:19:15.875Z"
   },
   {
    "duration": 211,
    "start_time": "2022-09-17T13:25:12.504Z"
   },
   {
    "duration": 112,
    "start_time": "2022-09-17T13:26:13.907Z"
   },
   {
    "duration": 67,
    "start_time": "2022-09-17T13:26:27.425Z"
   },
   {
    "duration": 14,
    "start_time": "2022-09-17T13:26:27.493Z"
   },
   {
    "duration": 13,
    "start_time": "2022-09-17T13:26:27.508Z"
   },
   {
    "duration": 7,
    "start_time": "2022-09-17T13:26:27.523Z"
   },
   {
    "duration": 28,
    "start_time": "2022-09-17T13:26:27.532Z"
   },
   {
    "duration": 3,
    "start_time": "2022-09-17T13:26:27.562Z"
   },
   {
    "duration": 9,
    "start_time": "2022-09-17T13:26:27.566Z"
   },
   {
    "duration": 4,
    "start_time": "2022-09-17T13:26:27.576Z"
   },
   {
    "duration": 5,
    "start_time": "2022-09-17T13:26:27.581Z"
   },
   {
    "duration": 36,
    "start_time": "2022-09-17T13:26:27.588Z"
   },
   {
    "duration": 32,
    "start_time": "2022-09-17T13:26:27.625Z"
   },
   {
    "duration": 8,
    "start_time": "2022-09-17T13:26:27.658Z"
   },
   {
    "duration": 5,
    "start_time": "2022-09-17T13:26:27.667Z"
   },
   {
    "duration": 16,
    "start_time": "2022-09-17T13:26:27.674Z"
   },
   {
    "duration": 44,
    "start_time": "2022-09-17T13:26:27.692Z"
   },
   {
    "duration": 23,
    "start_time": "2022-09-17T13:26:27.738Z"
   },
   {
    "duration": 4,
    "start_time": "2022-09-17T13:26:27.762Z"
   },
   {
    "duration": 17,
    "start_time": "2022-09-17T13:26:27.768Z"
   },
   {
    "duration": 7,
    "start_time": "2022-09-17T13:26:27.788Z"
   },
   {
    "duration": 26,
    "start_time": "2022-09-17T13:26:27.797Z"
   },
   {
    "duration": 11,
    "start_time": "2022-09-17T13:26:27.825Z"
   },
   {
    "duration": 181,
    "start_time": "2022-09-17T13:26:27.837Z"
   },
   {
    "duration": 0,
    "start_time": "2022-09-17T13:26:28.020Z"
   },
   {
    "duration": 0,
    "start_time": "2022-09-17T13:26:28.021Z"
   },
   {
    "duration": 0,
    "start_time": "2022-09-17T13:26:28.022Z"
   },
   {
    "duration": 0,
    "start_time": "2022-09-17T13:26:28.023Z"
   },
   {
    "duration": 0,
    "start_time": "2022-09-17T13:26:28.024Z"
   },
   {
    "duration": 0,
    "start_time": "2022-09-17T13:26:28.026Z"
   },
   {
    "duration": 438,
    "start_time": "2022-09-17T13:29:15.437Z"
   },
   {
    "duration": 303,
    "start_time": "2022-09-17T13:30:00.947Z"
   },
   {
    "duration": 19,
    "start_time": "2022-09-17T13:30:53.275Z"
   },
   {
    "duration": 30,
    "start_time": "2022-09-17T13:31:25.345Z"
   },
   {
    "duration": 24,
    "start_time": "2022-09-17T13:36:36.260Z"
   },
   {
    "duration": 3,
    "start_time": "2022-09-17T13:37:08.367Z"
   },
   {
    "duration": 43,
    "start_time": "2022-09-17T13:37:18.679Z"
   },
   {
    "duration": 19,
    "start_time": "2022-09-17T13:38:00.182Z"
   },
   {
    "duration": 24,
    "start_time": "2022-09-17T13:39:12.194Z"
   },
   {
    "duration": 37,
    "start_time": "2022-09-17T13:40:09.957Z"
   },
   {
    "duration": 23,
    "start_time": "2022-09-17T13:42:00.223Z"
   },
   {
    "duration": 37,
    "start_time": "2022-09-17T13:45:04.398Z"
   },
   {
    "duration": 104,
    "start_time": "2022-09-17T13:45:16.079Z"
   },
   {
    "duration": 31,
    "start_time": "2022-09-17T13:45:25.704Z"
   },
   {
    "duration": 57,
    "start_time": "2022-09-17T13:49:59.828Z"
   },
   {
    "duration": 27,
    "start_time": "2022-09-17T13:53:36.369Z"
   },
   {
    "duration": 28,
    "start_time": "2022-09-17T13:53:47.543Z"
   },
   {
    "duration": 36,
    "start_time": "2022-09-17T13:55:02.517Z"
   },
   {
    "duration": 35,
    "start_time": "2022-09-17T13:57:14.483Z"
   },
   {
    "duration": 33,
    "start_time": "2022-09-17T13:57:51.934Z"
   },
   {
    "duration": 62,
    "start_time": "2022-09-17T13:58:32.897Z"
   },
   {
    "duration": 87,
    "start_time": "2022-09-17T14:01:06.144Z"
   },
   {
    "duration": 795,
    "start_time": "2022-09-17T19:55:18.702Z"
   },
   {
    "duration": 23,
    "start_time": "2022-09-17T19:55:19.499Z"
   },
   {
    "duration": 21,
    "start_time": "2022-09-17T19:55:19.523Z"
   },
   {
    "duration": 9,
    "start_time": "2022-09-17T19:55:19.546Z"
   },
   {
    "duration": 36,
    "start_time": "2022-09-17T19:55:19.557Z"
   },
   {
    "duration": 3,
    "start_time": "2022-09-17T19:55:19.595Z"
   },
   {
    "duration": 29,
    "start_time": "2022-09-17T19:55:19.600Z"
   },
   {
    "duration": 24,
    "start_time": "2022-09-17T19:55:19.635Z"
   },
   {
    "duration": 7,
    "start_time": "2022-09-17T19:55:19.661Z"
   },
   {
    "duration": 4,
    "start_time": "2022-09-17T19:55:19.672Z"
   },
   {
    "duration": 37,
    "start_time": "2022-09-17T19:55:19.678Z"
   },
   {
    "duration": 13,
    "start_time": "2022-09-17T19:55:19.717Z"
   },
   {
    "duration": 22,
    "start_time": "2022-09-17T19:55:19.731Z"
   },
   {
    "duration": 12,
    "start_time": "2022-09-17T19:55:19.755Z"
   },
   {
    "duration": 21,
    "start_time": "2022-09-17T19:55:19.769Z"
   },
   {
    "duration": 20,
    "start_time": "2022-09-17T19:55:19.792Z"
   },
   {
    "duration": 21,
    "start_time": "2022-09-17T19:55:19.814Z"
   },
   {
    "duration": 30,
    "start_time": "2022-09-17T19:55:19.843Z"
   },
   {
    "duration": 14,
    "start_time": "2022-09-17T19:55:19.876Z"
   },
   {
    "duration": 6,
    "start_time": "2022-09-17T19:55:19.892Z"
   },
   {
    "duration": 14,
    "start_time": "2022-09-17T19:55:19.899Z"
   },
   {
    "duration": 73,
    "start_time": "2022-09-17T19:55:19.915Z"
   },
   {
    "duration": 1155,
    "start_time": "2022-09-17T19:55:19.990Z"
   },
   {
    "duration": 91,
    "start_time": "2022-09-17T19:55:21.147Z"
   },
   {
    "duration": 172,
    "start_time": "2022-09-17T19:55:21.241Z"
   },
   {
    "duration": 28,
    "start_time": "2022-09-17T19:55:21.424Z"
   },
   {
    "duration": 137,
    "start_time": "2022-09-17T19:55:21.455Z"
   },
   {
    "duration": 9,
    "start_time": "2022-09-17T19:55:21.595Z"
   },
   {
    "duration": 70,
    "start_time": "2022-09-17T19:56:33.733Z"
   },
   {
    "duration": 544,
    "start_time": "2022-09-17T19:56:40.708Z"
   },
   {
    "duration": 23,
    "start_time": "2022-09-17T19:56:41.255Z"
   },
   {
    "duration": 16,
    "start_time": "2022-09-17T19:56:41.279Z"
   },
   {
    "duration": 27,
    "start_time": "2022-09-17T19:56:41.297Z"
   },
   {
    "duration": 34,
    "start_time": "2022-09-17T19:56:41.335Z"
   },
   {
    "duration": 3,
    "start_time": "2022-09-17T19:56:41.371Z"
   },
   {
    "duration": 12,
    "start_time": "2022-09-17T19:56:41.376Z"
   },
   {
    "duration": 8,
    "start_time": "2022-09-17T19:56:41.390Z"
   },
   {
    "duration": 11,
    "start_time": "2022-09-17T19:56:41.400Z"
   },
   {
    "duration": 14,
    "start_time": "2022-09-17T19:56:41.430Z"
   },
   {
    "duration": 41,
    "start_time": "2022-09-17T19:56:41.446Z"
   },
   {
    "duration": 11,
    "start_time": "2022-09-17T19:56:41.488Z"
   },
   {
    "duration": 5,
    "start_time": "2022-09-17T19:56:41.500Z"
   },
   {
    "duration": 28,
    "start_time": "2022-09-17T19:56:41.506Z"
   },
   {
    "duration": 22,
    "start_time": "2022-09-17T19:56:41.535Z"
   },
   {
    "duration": 19,
    "start_time": "2022-09-17T19:56:41.559Z"
   },
   {
    "duration": 4,
    "start_time": "2022-09-17T19:56:41.580Z"
   },
   {
    "duration": 15,
    "start_time": "2022-09-17T19:56:41.586Z"
   },
   {
    "duration": 32,
    "start_time": "2022-09-17T19:56:41.603Z"
   },
   {
    "duration": 17,
    "start_time": "2022-09-17T19:56:41.638Z"
   },
   {
    "duration": 29,
    "start_time": "2022-09-17T19:56:41.657Z"
   },
   {
    "duration": 90,
    "start_time": "2022-09-17T19:56:41.688Z"
   },
   {
    "duration": 962,
    "start_time": "2022-09-17T19:56:41.779Z"
   },
   {
    "duration": 87,
    "start_time": "2022-09-17T19:56:42.743Z"
   },
   {
    "duration": 149,
    "start_time": "2022-09-17T19:56:42.834Z"
   },
   {
    "duration": 22,
    "start_time": "2022-09-17T19:56:42.984Z"
   },
   {
    "duration": 145,
    "start_time": "2022-09-17T19:56:43.007Z"
   },
   {
    "duration": 10,
    "start_time": "2022-09-17T19:56:43.155Z"
   },
   {
    "duration": 43,
    "start_time": "2022-09-18T05:01:58.029Z"
   },
   {
    "duration": 664,
    "start_time": "2022-09-18T05:02:07.268Z"
   },
   {
    "duration": 22,
    "start_time": "2022-09-18T05:02:07.935Z"
   },
   {
    "duration": 14,
    "start_time": "2022-09-18T05:02:07.959Z"
   },
   {
    "duration": 9,
    "start_time": "2022-09-18T05:02:07.976Z"
   },
   {
    "duration": 39,
    "start_time": "2022-09-18T05:02:07.987Z"
   },
   {
    "duration": 4,
    "start_time": "2022-09-18T05:02:08.028Z"
   },
   {
    "duration": 8,
    "start_time": "2022-09-18T05:02:08.046Z"
   },
   {
    "duration": 15,
    "start_time": "2022-09-18T05:02:08.056Z"
   },
   {
    "duration": 9,
    "start_time": "2022-09-18T05:02:08.072Z"
   },
   {
    "duration": 3,
    "start_time": "2022-09-18T05:02:08.084Z"
   },
   {
    "duration": 35,
    "start_time": "2022-09-18T05:02:08.089Z"
   },
   {
    "duration": 23,
    "start_time": "2022-09-18T05:02:08.126Z"
   },
   {
    "duration": 3,
    "start_time": "2022-09-18T05:02:08.150Z"
   },
   {
    "duration": 16,
    "start_time": "2022-09-18T05:02:08.154Z"
   },
   {
    "duration": 17,
    "start_time": "2022-09-18T05:02:08.172Z"
   },
   {
    "duration": 15,
    "start_time": "2022-09-18T05:02:08.190Z"
   },
   {
    "duration": 3,
    "start_time": "2022-09-18T05:02:08.207Z"
   },
   {
    "duration": 35,
    "start_time": "2022-09-18T05:02:08.212Z"
   },
   {
    "duration": 6,
    "start_time": "2022-09-18T05:02:08.248Z"
   },
   {
    "duration": 6,
    "start_time": "2022-09-18T05:02:08.256Z"
   },
   {
    "duration": 13,
    "start_time": "2022-09-18T05:02:08.264Z"
   },
   {
    "duration": 72,
    "start_time": "2022-09-18T05:02:08.278Z"
   },
   {
    "duration": 984,
    "start_time": "2022-09-18T05:02:08.351Z"
   },
   {
    "duration": 84,
    "start_time": "2022-09-18T05:02:09.339Z"
   },
   {
    "duration": 129,
    "start_time": "2022-09-18T05:02:09.425Z"
   },
   {
    "duration": 18,
    "start_time": "2022-09-18T05:02:09.555Z"
   },
   {
    "duration": 121,
    "start_time": "2022-09-18T05:02:09.574Z"
   },
   {
    "duration": 8,
    "start_time": "2022-09-18T05:02:09.698Z"
   },
   {
    "duration": 2029,
    "start_time": "2022-09-18T05:03:51.984Z"
   },
   {
    "duration": 58,
    "start_time": "2022-09-18T05:04:40.458Z"
   },
   {
    "duration": 44,
    "start_time": "2022-09-18T05:12:30.309Z"
   },
   {
    "duration": 37,
    "start_time": "2022-09-18T05:18:46.991Z"
   },
   {
    "duration": 189,
    "start_time": "2022-09-18T05:32:34.039Z"
   },
   {
    "duration": 90,
    "start_time": "2022-09-18T05:33:36.156Z"
   },
   {
    "duration": 20,
    "start_time": "2022-09-18T05:33:36.248Z"
   },
   {
    "duration": 28,
    "start_time": "2022-09-18T05:33:36.269Z"
   },
   {
    "duration": 13,
    "start_time": "2022-09-18T05:33:36.301Z"
   },
   {
    "duration": 62,
    "start_time": "2022-09-18T05:33:36.317Z"
   },
   {
    "duration": 4,
    "start_time": "2022-09-18T05:33:36.381Z"
   },
   {
    "duration": 20,
    "start_time": "2022-09-18T05:33:36.387Z"
   },
   {
    "duration": 11,
    "start_time": "2022-09-18T05:33:36.411Z"
   },
   {
    "duration": 12,
    "start_time": "2022-09-18T05:33:36.423Z"
   },
   {
    "duration": 12,
    "start_time": "2022-09-18T05:33:36.438Z"
   },
   {
    "duration": 46,
    "start_time": "2022-09-18T05:33:36.452Z"
   },
   {
    "duration": 9,
    "start_time": "2022-09-18T05:33:36.500Z"
   },
   {
    "duration": 5,
    "start_time": "2022-09-18T05:33:36.510Z"
   },
   {
    "duration": 11,
    "start_time": "2022-09-18T05:33:36.517Z"
   },
   {
    "duration": 28,
    "start_time": "2022-09-18T05:33:36.530Z"
   },
   {
    "duration": 16,
    "start_time": "2022-09-18T05:33:36.560Z"
   },
   {
    "duration": 3,
    "start_time": "2022-09-18T05:33:36.578Z"
   },
   {
    "duration": 13,
    "start_time": "2022-09-18T05:33:36.583Z"
   },
   {
    "duration": 5,
    "start_time": "2022-09-18T05:33:36.598Z"
   },
   {
    "duration": 5,
    "start_time": "2022-09-18T05:33:36.605Z"
   },
   {
    "duration": 38,
    "start_time": "2022-09-18T05:33:36.612Z"
   },
   {
    "duration": 53,
    "start_time": "2022-09-18T05:33:36.652Z"
   },
   {
    "duration": 68,
    "start_time": "2022-09-18T05:33:36.707Z"
   },
   {
    "duration": 0,
    "start_time": "2022-09-18T05:33:36.776Z"
   },
   {
    "duration": 0,
    "start_time": "2022-09-18T05:33:36.778Z"
   },
   {
    "duration": 0,
    "start_time": "2022-09-18T05:33:36.780Z"
   },
   {
    "duration": 0,
    "start_time": "2022-09-18T05:33:36.781Z"
   },
   {
    "duration": 0,
    "start_time": "2022-09-18T05:33:36.782Z"
   },
   {
    "duration": 0,
    "start_time": "2022-09-18T05:33:36.784Z"
   },
   {
    "duration": 85,
    "start_time": "2022-09-18T05:34:27.499Z"
   },
   {
    "duration": 14,
    "start_time": "2022-09-18T05:34:27.586Z"
   },
   {
    "duration": 16,
    "start_time": "2022-09-18T05:34:27.602Z"
   },
   {
    "duration": 27,
    "start_time": "2022-09-18T05:34:27.620Z"
   },
   {
    "duration": 53,
    "start_time": "2022-09-18T05:34:27.648Z"
   },
   {
    "duration": 3,
    "start_time": "2022-09-18T05:34:27.703Z"
   },
   {
    "duration": 12,
    "start_time": "2022-09-18T05:34:27.708Z"
   },
   {
    "duration": 6,
    "start_time": "2022-09-18T05:34:27.721Z"
   },
   {
    "duration": 19,
    "start_time": "2022-09-18T05:34:27.729Z"
   },
   {
    "duration": 5,
    "start_time": "2022-09-18T05:34:27.751Z"
   },
   {
    "duration": 40,
    "start_time": "2022-09-18T05:34:27.758Z"
   },
   {
    "duration": 9,
    "start_time": "2022-09-18T05:34:27.800Z"
   },
   {
    "duration": 4,
    "start_time": "2022-09-18T05:34:27.811Z"
   },
   {
    "duration": 37,
    "start_time": "2022-09-18T05:34:27.816Z"
   },
   {
    "duration": 16,
    "start_time": "2022-09-18T05:34:27.854Z"
   },
   {
    "duration": 16,
    "start_time": "2022-09-18T05:34:27.872Z"
   },
   {
    "duration": 3,
    "start_time": "2022-09-18T05:34:27.889Z"
   },
   {
    "duration": 13,
    "start_time": "2022-09-18T05:34:27.893Z"
   },
   {
    "duration": 9,
    "start_time": "2022-09-18T05:34:27.907Z"
   },
   {
    "duration": 5,
    "start_time": "2022-09-18T05:34:27.917Z"
   },
   {
    "duration": 10,
    "start_time": "2022-09-18T05:34:27.947Z"
   },
   {
    "duration": 45,
    "start_time": "2022-09-18T05:34:27.958Z"
   },
   {
    "duration": 70,
    "start_time": "2022-09-18T05:34:28.005Z"
   },
   {
    "duration": 0,
    "start_time": "2022-09-18T05:34:28.077Z"
   },
   {
    "duration": 0,
    "start_time": "2022-09-18T05:34:28.078Z"
   },
   {
    "duration": 0,
    "start_time": "2022-09-18T05:34:28.079Z"
   },
   {
    "duration": 0,
    "start_time": "2022-09-18T05:34:28.080Z"
   },
   {
    "duration": 0,
    "start_time": "2022-09-18T05:34:28.081Z"
   },
   {
    "duration": 0,
    "start_time": "2022-09-18T05:34:28.082Z"
   },
   {
    "duration": 40,
    "start_time": "2022-09-18T06:50:21.196Z"
   },
   {
    "duration": 46,
    "start_time": "2022-09-18T06:50:34.549Z"
   },
   {
    "duration": 119,
    "start_time": "2022-09-18T06:52:38.150Z"
   },
   {
    "duration": 36,
    "start_time": "2022-09-18T06:59:57.543Z"
   },
   {
    "duration": 57,
    "start_time": "2022-09-18T07:00:20.730Z"
   },
   {
    "duration": 32,
    "start_time": "2022-09-18T07:01:54.601Z"
   },
   {
    "duration": 3685,
    "start_time": "2022-09-18T07:03:18.043Z"
   },
   {
    "duration": 3737,
    "start_time": "2022-09-18T07:03:29.139Z"
   },
   {
    "duration": 70,
    "start_time": "2022-09-18T07:03:33.035Z"
   },
   {
    "duration": 15,
    "start_time": "2022-09-18T07:03:33.106Z"
   },
   {
    "duration": 28,
    "start_time": "2022-09-18T07:03:33.122Z"
   },
   {
    "duration": 11,
    "start_time": "2022-09-18T07:03:33.152Z"
   },
   {
    "duration": 34,
    "start_time": "2022-09-18T07:03:33.164Z"
   },
   {
    "duration": 4,
    "start_time": "2022-09-18T07:03:33.199Z"
   },
   {
    "duration": 12,
    "start_time": "2022-09-18T07:03:33.205Z"
   },
   {
    "duration": 5,
    "start_time": "2022-09-18T07:03:33.247Z"
   },
   {
    "duration": 10,
    "start_time": "2022-09-18T07:03:33.254Z"
   },
   {
    "duration": 7,
    "start_time": "2022-09-18T07:03:33.266Z"
   },
   {
    "duration": 40,
    "start_time": "2022-09-18T07:03:33.275Z"
   },
   {
    "duration": 32,
    "start_time": "2022-09-18T07:03:33.316Z"
   },
   {
    "duration": 6,
    "start_time": "2022-09-18T07:03:33.349Z"
   },
   {
    "duration": 12,
    "start_time": "2022-09-18T07:03:33.357Z"
   },
   {
    "duration": 25,
    "start_time": "2022-09-18T07:03:33.371Z"
   },
   {
    "duration": 46,
    "start_time": "2022-09-18T07:03:33.409Z"
   },
   {
    "duration": 4,
    "start_time": "2022-09-18T07:03:33.456Z"
   },
   {
    "duration": 13,
    "start_time": "2022-09-18T07:03:33.462Z"
   },
   {
    "duration": 11,
    "start_time": "2022-09-18T07:03:33.477Z"
   },
   {
    "duration": 6,
    "start_time": "2022-09-18T07:03:33.490Z"
   },
   {
    "duration": 14,
    "start_time": "2022-09-18T07:03:33.497Z"
   },
   {
    "duration": 3643,
    "start_time": "2022-09-18T07:03:33.513Z"
   },
   {
    "duration": 135,
    "start_time": "2022-09-18T07:03:37.157Z"
   },
   {
    "duration": 92,
    "start_time": "2022-09-18T07:03:37.294Z"
   },
   {
    "duration": 138,
    "start_time": "2022-09-18T07:03:37.389Z"
   },
   {
    "duration": 48,
    "start_time": "2022-09-18T07:03:37.529Z"
   },
   {
    "duration": 248,
    "start_time": "2022-09-18T07:03:37.580Z"
   },
   {
    "duration": 21,
    "start_time": "2022-09-18T07:03:37.829Z"
   },
   {
    "duration": 2882,
    "start_time": "2022-09-18T07:03:52.857Z"
   },
   {
    "duration": 23,
    "start_time": "2022-09-18T07:16:48.555Z"
   },
   {
    "duration": 35,
    "start_time": "2022-09-18T07:17:27.298Z"
   },
   {
    "duration": 14,
    "start_time": "2022-09-18T07:18:37.204Z"
   },
   {
    "duration": 16,
    "start_time": "2022-09-18T07:19:27.893Z"
   },
   {
    "duration": 24,
    "start_time": "2022-09-18T07:19:49.565Z"
   },
   {
    "duration": 36,
    "start_time": "2022-09-18T07:20:05.193Z"
   },
   {
    "duration": 45,
    "start_time": "2022-09-18T07:29:32.033Z"
   },
   {
    "duration": 65,
    "start_time": "2022-09-18T07:30:08.714Z"
   },
   {
    "duration": 12,
    "start_time": "2022-09-18T07:30:11.597Z"
   },
   {
    "duration": 16,
    "start_time": "2022-09-18T07:30:24.447Z"
   },
   {
    "duration": 26,
    "start_time": "2022-09-18T07:31:03.116Z"
   },
   {
    "duration": 65,
    "start_time": "2022-09-18T08:44:49.014Z"
   }
  ],
  "colab": {
   "name": "dpp_template_part2.ipynb",
   "provenance": []
  },
  "kernelspec": {
   "display_name": "Python 3 (ipykernel)",
   "language": "python",
   "name": "python3"
  },
  "language_info": {
   "codemirror_mode": {
    "name": "ipython",
    "version": 3
   },
   "file_extension": ".py",
   "mimetype": "text/x-python",
   "name": "python",
   "nbconvert_exporter": "python",
   "pygments_lexer": "ipython3",
   "version": "3.9.13"
  },
  "toc": {
   "base_numbering": 1,
   "nav_menu": {},
   "number_sections": true,
   "sideBar": true,
   "skip_h1_title": true,
   "title_cell": "Table of Contents",
   "title_sidebar": "Contents",
   "toc_cell": false,
   "toc_position": {},
   "toc_section_display": true,
   "toc_window_display": false
  }
 },
 "nbformat": 4,
 "nbformat_minor": 5
}
