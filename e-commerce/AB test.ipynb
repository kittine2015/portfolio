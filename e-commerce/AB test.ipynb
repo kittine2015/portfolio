{
 "cells": [
  {
   "cell_type": "markdown",
   "metadata": {},
   "source": [
    "**Проверка гипотез по увеличению выручки в интернет-магазине - оценить результаты А/В теста**\n",
    "\n",
    "    Приоритизировать гипотезы для увеличения выручки, запустить A/B-тест и проанализировать результаты.\n",
    "     \n",
    "    \n",
    "   **Данные для первой части**\n",
    "    Файл /datasets/hypothesis.csv. \n",
    "    \n",
    "    Hypothesis — краткое описание гипотезы;\n",
    "    Reach — охват пользователей по 10-балльной шкале;\n",
    "    Impact — влияние на пользователей по 10-балльной шкале;\n",
    "    Confidence — уверенность в гипотезе по 10-балльной шкале;\n",
    "    Efforts — затраты ресурсов на проверку гипотезы по 10-балльной шкале. Чем больше значение Efforts, тем дороже проверка гипотезы.\n",
    "\n",
    "   **Данные для второй части**\n",
    "    Файл /datasets/orders.csv. \n",
    "\n",
    "    transactionId — идентификатор заказа;\n",
    "    visitorId — идентификатор пользователя, совершившего заказ;\n",
    "    date — дата, когда был совершён заказ;\n",
    "    revenue — выручка заказа;\n",
    "    group — группа A/B-теста, в которую попал заказ.\n",
    "\n",
    "   Файл /datasets/visitors.csv. \n",
    "\n",
    "    date — дата;\n",
    "    group — группа A/B-теста;\n",
    "    visitors — количество пользователей в указанную дату в указанной группе A/B-теста\n",
    "    \n",
    "   **Шаги по выполнению проекта**\n",
    "   \n",
    "   **Часть 1. Приоритизация гипотез.**\n",
    "   \n",
    "В файле /datasets/hypothesis.csv 9 гипотез по увеличению выручки интернет-магазина с указанными параметрами Reach, Impact, Confidence, Effort.\n",
    "\n",
    "**Задача**\n",
    "\n",
    "    1.1. Загрузить данные и подготовить их к анализу. Выполнить предобработку.\n",
    "    1.2. Применить фреймворк ICE для приоритизации гипотез. Отсортировать их по убыванию приоритета.\n",
    "    1.3. Применить фреймворк RICE для приоритизации гипотез. Отсортировать их по убыванию приоритета.\n",
    "    1.4. Указать, как изменилась приоритизация гипотез при применении RICE вместо ICE. Объяснить, почему так произошло.\n",
    "\n",
    "   **Часть 2. Анализ A/B-теста**\n",
    "Есть проведенный A/B-тест и получили результаты, которые описаны в файлах /datasets/orders.csv и /datasets/visitors.csv.\n",
    "\n",
    "**Задача**\n",
    "\n",
    "Проанализировать A/B-тест:\n",
    "\n",
    "    2.1. Построить график кумулятивной выручки по группам. Сделать выводы и предположения.\n",
    "    2.2. Построить график кумулятивного среднего чека по группам. Сделать выводы и предположения.\n",
    "    2.3. Построить график относительного изменения кумулятивного среднего чека группы B к группе A. Сделать выводы и предположения.\n",
    "    2.4. Построить график кумулятивного среднего количества заказов по группам. Сделать выводы и предположения.\n",
    "    2.5. Построить график относительного изменения кумулятивного среднего количества заказов группы B к группе A. Сделать выводы и предположения.\n",
    "    2.6. Построить точечный график количества заказов по пользователям. Сделать выводы и предположения.\n",
    "    2.7. Построить 95-й и 99-й перцентили количества заказов на пользователя. Выбрать границу для определения аномальных пользователей.\n",
    "    2.8. Построить точечный график стоимостей заказов. Сделать выводы и предположения.\n",
    "    2.9. Построить 95-й и 99-й перцентили стоимости заказов. Выбрать границу для определения аномальных заказов.\n",
    "    2.10. Построить статистическую значимость различий в среднем количестве заказов между группами по «сырым» данным. Сделать выводы и предположения.\n",
    "    2.11. Посчитать статистическую значимость различий в среднем чеке заказа между группами по «сырым» данным. Сделать выводы и предположения.\n",
    "    2.12. Посчитать статистическую значимость различий в среднем количестве заказов между группами по «очищенным» данным. Сделать выводы и предположения.\n",
    "    2.13. Посчитать статистическую значимость различий в среднем чеке заказа между группами по «очищенным» данным. Сделать выводы и предположения.\n",
    "    2.14. Принять решение по результатам теста и объяснить его. Варианты решений: 1. Остановить тест, зафиксировать победу одной из групп. 2. Остановить тест, зафиксировать отсутствие различий между группами. 3. Продолжить тест."
   ]
  },
  {
   "cell_type": "markdown",
   "metadata": {},
   "source": [
    "**ШАГ 1.Приоритизация гипотез**"
   ]
  },
  {
   "cell_type": "markdown",
   "metadata": {},
   "source": [
    "**1.1 Загрузить данные и подготовить их к анализу. Выполнить предобработку.**"
   ]
  },
  {
   "cell_type": "markdown",
   "metadata": {},
   "source": [
    "**Изучение общей информации таблица hypothesis**"
   ]
  },
  {
   "cell_type": "code",
   "execution_count": 91,
   "metadata": {},
   "outputs": [],
   "source": [
    "import pandas as pd\n",
    "import scipy.stats as stats\n",
    "import numpy as np\n",
    "from datetime import datetime, timedelta\n",
    "from matplotlib import pyplot as plt\n",
    "import math as mth\n",
    "import datetime as dt"
   ]
  },
  {
   "cell_type": "code",
   "execution_count": 92,
   "metadata": {},
   "outputs": [],
   "source": [
    "try:\n",
    "    hypothesis = pd.read_csv('/datasets/hypothesis.csv')\n",
    "except:\n",
    "    hypothesis = pd.read_csv('https://code.s3.yandex.net/datasets/hypothesis.csv')"
   ]
  },
  {
   "cell_type": "code",
   "execution_count": 93,
   "metadata": {},
   "outputs": [
    {
     "data": {
      "text/html": [
       "<div>\n",
       "<style scoped>\n",
       "    .dataframe tbody tr th:only-of-type {\n",
       "        vertical-align: middle;\n",
       "    }\n",
       "\n",
       "    .dataframe tbody tr th {\n",
       "        vertical-align: top;\n",
       "    }\n",
       "\n",
       "    .dataframe thead th {\n",
       "        text-align: right;\n",
       "    }\n",
       "</style>\n",
       "<table border=\"1\" class=\"dataframe\">\n",
       "  <thead>\n",
       "    <tr style=\"text-align: right;\">\n",
       "      <th></th>\n",
       "      <th>Hypothesis</th>\n",
       "      <th>Reach</th>\n",
       "      <th>Impact</th>\n",
       "      <th>Confidence</th>\n",
       "      <th>Efforts</th>\n",
       "    </tr>\n",
       "  </thead>\n",
       "  <tbody>\n",
       "    <tr>\n",
       "      <th>0</th>\n",
       "      <td>Добавить два новых канала привлечения трафика, что позволит привлекать на 30% больше пользователей</td>\n",
       "      <td>3</td>\n",
       "      <td>10</td>\n",
       "      <td>8</td>\n",
       "      <td>6</td>\n",
       "    </tr>\n",
       "    <tr>\n",
       "      <th>1</th>\n",
       "      <td>Запустить собственную службу доставки, что сократит срок доставки заказов</td>\n",
       "      <td>2</td>\n",
       "      <td>5</td>\n",
       "      <td>4</td>\n",
       "      <td>10</td>\n",
       "    </tr>\n",
       "    <tr>\n",
       "      <th>2</th>\n",
       "      <td>Добавить блоки рекомендаций товаров на сайт интернет магазина, чтобы повысить конверсию и средний чек заказа</td>\n",
       "      <td>8</td>\n",
       "      <td>3</td>\n",
       "      <td>7</td>\n",
       "      <td>3</td>\n",
       "    </tr>\n",
       "    <tr>\n",
       "      <th>3</th>\n",
       "      <td>Изменить структура категорий, что увеличит конверсию, т.к. пользователи быстрее найдут нужный товар</td>\n",
       "      <td>8</td>\n",
       "      <td>3</td>\n",
       "      <td>3</td>\n",
       "      <td>8</td>\n",
       "    </tr>\n",
       "    <tr>\n",
       "      <th>4</th>\n",
       "      <td>Изменить цвет фона главной страницы, чтобы увеличить вовлеченность пользователей</td>\n",
       "      <td>3</td>\n",
       "      <td>1</td>\n",
       "      <td>1</td>\n",
       "      <td>1</td>\n",
       "    </tr>\n",
       "    <tr>\n",
       "      <th>5</th>\n",
       "      <td>Добавить страницу отзывов клиентов о магазине, что позволит увеличить количество заказов</td>\n",
       "      <td>3</td>\n",
       "      <td>2</td>\n",
       "      <td>2</td>\n",
       "      <td>3</td>\n",
       "    </tr>\n",
       "    <tr>\n",
       "      <th>6</th>\n",
       "      <td>Показать на главной странице баннеры с актуальными акциями и распродажами, чтобы увеличить конверсию</td>\n",
       "      <td>5</td>\n",
       "      <td>3</td>\n",
       "      <td>8</td>\n",
       "      <td>3</td>\n",
       "    </tr>\n",
       "    <tr>\n",
       "      <th>7</th>\n",
       "      <td>Добавить форму подписки на все основные страницы, чтобы собрать базу клиентов для email-рассылок</td>\n",
       "      <td>10</td>\n",
       "      <td>7</td>\n",
       "      <td>8</td>\n",
       "      <td>5</td>\n",
       "    </tr>\n",
       "    <tr>\n",
       "      <th>8</th>\n",
       "      <td>Запустить акцию, дающую скидку на товар в день рождения</td>\n",
       "      <td>1</td>\n",
       "      <td>9</td>\n",
       "      <td>9</td>\n",
       "      <td>5</td>\n",
       "    </tr>\n",
       "  </tbody>\n",
       "</table>\n",
       "</div>"
      ],
      "text/plain": [
       "                                                                                                     Hypothesis  \\\n",
       "0            Добавить два новых канала привлечения трафика, что позволит привлекать на 30% больше пользователей   \n",
       "1                                     Запустить собственную службу доставки, что сократит срок доставки заказов   \n",
       "2  Добавить блоки рекомендаций товаров на сайт интернет магазина, чтобы повысить конверсию и средний чек заказа   \n",
       "3           Изменить структура категорий, что увеличит конверсию, т.к. пользователи быстрее найдут нужный товар   \n",
       "4                              Изменить цвет фона главной страницы, чтобы увеличить вовлеченность пользователей   \n",
       "5                      Добавить страницу отзывов клиентов о магазине, что позволит увеличить количество заказов   \n",
       "6          Показать на главной странице баннеры с актуальными акциями и распродажами, чтобы увеличить конверсию   \n",
       "7              Добавить форму подписки на все основные страницы, чтобы собрать базу клиентов для email-рассылок   \n",
       "8                                                       Запустить акцию, дающую скидку на товар в день рождения   \n",
       "\n",
       "   Reach  Impact  Confidence  Efforts  \n",
       "0      3      10           8        6  \n",
       "1      2       5           4       10  \n",
       "2      8       3           7        3  \n",
       "3      8       3           3        8  \n",
       "4      3       1           1        1  \n",
       "5      3       2           2        3  \n",
       "6      5       3           8        3  \n",
       "7     10       7           8        5  \n",
       "8      1       9           9        5  "
      ]
     },
     "execution_count": 93,
     "metadata": {},
     "output_type": "execute_result"
    }
   ],
   "source": [
    "hypothesis.head(10)"
   ]
  },
  {
   "cell_type": "code",
   "execution_count": 94,
   "metadata": {},
   "outputs": [
    {
     "name": "stdout",
     "output_type": "stream",
     "text": [
      "<class 'pandas.core.frame.DataFrame'>\n",
      "RangeIndex: 9 entries, 0 to 8\n",
      "Data columns (total 5 columns):\n",
      " #   Column      Non-Null Count  Dtype \n",
      "---  ------      --------------  ----- \n",
      " 0   Hypothesis  9 non-null      object\n",
      " 1   Reach       9 non-null      int64 \n",
      " 2   Impact      9 non-null      int64 \n",
      " 3   Confidence  9 non-null      int64 \n",
      " 4   Efforts     9 non-null      int64 \n",
      "dtypes: int64(4), object(1)\n",
      "memory usage: 488.0+ bytes\n"
     ]
    }
   ],
   "source": [
    "hypothesis.info()"
   ]
  },
  {
   "cell_type": "code",
   "execution_count": 95,
   "metadata": {},
   "outputs": [
    {
     "data": {
      "text/plain": [
       "0"
      ]
     },
     "execution_count": 95,
     "metadata": {},
     "output_type": "execute_result"
    }
   ],
   "source": [
    "hypothesis.duplicated().sum()"
   ]
  },
  {
   "cell_type": "code",
   "execution_count": 96,
   "metadata": {},
   "outputs": [
    {
     "data": {
      "text/plain": [
       "Hypothesis    0\n",
       "Reach         0\n",
       "Impact        0\n",
       "Confidence    0\n",
       "Efforts       0\n",
       "dtype: int64"
      ]
     },
     "execution_count": 96,
     "metadata": {},
     "output_type": "execute_result"
    }
   ],
   "source": [
    "hypothesis.isna().sum()"
   ]
  },
  {
   "cell_type": "markdown",
   "metadata": {},
   "source": [
    "**Вывод**\n",
    "\n",
    "      В таблицах не обнаружено дубликатов и пропущенных значений. Типы данных находятся в соответствии со значениями"
   ]
  },
  {
   "cell_type": "markdown",
   "metadata": {},
   "source": [
    "**Предобработка данных таблица hypothesis**"
   ]
  },
  {
   "cell_type": "markdown",
   "metadata": {},
   "source": [
    "Заменим названия столбцов (приведем к нижнему регистру)"
   ]
  },
  {
   "cell_type": "code",
   "execution_count": 97,
   "metadata": {},
   "outputs": [
    {
     "data": {
      "text/html": [
       "<div>\n",
       "<style scoped>\n",
       "    .dataframe tbody tr th:only-of-type {\n",
       "        vertical-align: middle;\n",
       "    }\n",
       "\n",
       "    .dataframe tbody tr th {\n",
       "        vertical-align: top;\n",
       "    }\n",
       "\n",
       "    .dataframe thead th {\n",
       "        text-align: right;\n",
       "    }\n",
       "</style>\n",
       "<table border=\"1\" class=\"dataframe\">\n",
       "  <thead>\n",
       "    <tr style=\"text-align: right;\">\n",
       "      <th></th>\n",
       "      <th>hypothesis</th>\n",
       "      <th>reach</th>\n",
       "      <th>impact</th>\n",
       "      <th>confidence</th>\n",
       "      <th>efforts</th>\n",
       "    </tr>\n",
       "  </thead>\n",
       "  <tbody>\n",
       "    <tr>\n",
       "      <th>0</th>\n",
       "      <td>Добавить два новых канала привлечения трафика, что позволит привлекать на 30% больше пользователей</td>\n",
       "      <td>3</td>\n",
       "      <td>10</td>\n",
       "      <td>8</td>\n",
       "      <td>6</td>\n",
       "    </tr>\n",
       "    <tr>\n",
       "      <th>1</th>\n",
       "      <td>Запустить собственную службу доставки, что сократит срок доставки заказов</td>\n",
       "      <td>2</td>\n",
       "      <td>5</td>\n",
       "      <td>4</td>\n",
       "      <td>10</td>\n",
       "    </tr>\n",
       "    <tr>\n",
       "      <th>2</th>\n",
       "      <td>Добавить блоки рекомендаций товаров на сайт интернет магазина, чтобы повысить конверсию и средний чек заказа</td>\n",
       "      <td>8</td>\n",
       "      <td>3</td>\n",
       "      <td>7</td>\n",
       "      <td>3</td>\n",
       "    </tr>\n",
       "    <tr>\n",
       "      <th>3</th>\n",
       "      <td>Изменить структура категорий, что увеличит конверсию, т.к. пользователи быстрее найдут нужный товар</td>\n",
       "      <td>8</td>\n",
       "      <td>3</td>\n",
       "      <td>3</td>\n",
       "      <td>8</td>\n",
       "    </tr>\n",
       "    <tr>\n",
       "      <th>4</th>\n",
       "      <td>Изменить цвет фона главной страницы, чтобы увеличить вовлеченность пользователей</td>\n",
       "      <td>3</td>\n",
       "      <td>1</td>\n",
       "      <td>1</td>\n",
       "      <td>1</td>\n",
       "    </tr>\n",
       "  </tbody>\n",
       "</table>\n",
       "</div>"
      ],
      "text/plain": [
       "                                                                                                     hypothesis  \\\n",
       "0            Добавить два новых канала привлечения трафика, что позволит привлекать на 30% больше пользователей   \n",
       "1                                     Запустить собственную службу доставки, что сократит срок доставки заказов   \n",
       "2  Добавить блоки рекомендаций товаров на сайт интернет магазина, чтобы повысить конверсию и средний чек заказа   \n",
       "3           Изменить структура категорий, что увеличит конверсию, т.к. пользователи быстрее найдут нужный товар   \n",
       "4                              Изменить цвет фона главной страницы, чтобы увеличить вовлеченность пользователей   \n",
       "\n",
       "   reach  impact  confidence  efforts  \n",
       "0      3      10           8        6  \n",
       "1      2       5           4       10  \n",
       "2      8       3           7        3  \n",
       "3      8       3           3        8  \n",
       "4      3       1           1        1  "
      ]
     },
     "execution_count": 97,
     "metadata": {},
     "output_type": "execute_result"
    }
   ],
   "source": [
    "hypothesis.columns = hypothesis.columns.str.lower()\n",
    "hypothesis.head()"
   ]
  },
  {
   "cell_type": "markdown",
   "metadata": {},
   "source": [
    "**Вывод** \n",
    "\n",
    "    Заменили названия столбцов. Привели к нижнему регистру."
   ]
  },
  {
   "cell_type": "markdown",
   "metadata": {},
   "source": [
    "**1.2. Применить фреймворк ICE для приоритизации гипотез. Отсортировать их по убыванию приоритета.**"
   ]
  },
  {
   "cell_type": "code",
   "execution_count": 98,
   "metadata": {},
   "outputs": [
    {
     "name": "stdout",
     "output_type": "stream",
     "text": [
      "                                                                                                     hypothesis  \\\n",
      "8                                                       Запустить акцию, дающую скидку на товар в день рождения   \n",
      "0            Добавить два новых канала привлечения трафика, что позволит привлекать на 30% больше пользователей   \n",
      "7              Добавить форму подписки на все основные страницы, чтобы собрать базу клиентов для email-рассылок   \n",
      "6          Показать на главной странице баннеры с актуальными акциями и распродажами, чтобы увеличить конверсию   \n",
      "2  Добавить блоки рекомендаций товаров на сайт интернет магазина, чтобы повысить конверсию и средний чек заказа   \n",
      "1                                     Запустить собственную службу доставки, что сократит срок доставки заказов   \n",
      "5                      Добавить страницу отзывов клиентов о магазине, что позволит увеличить количество заказов   \n",
      "3           Изменить структура категорий, что увеличит конверсию, т.к. пользователи быстрее найдут нужный товар   \n",
      "4                              Изменить цвет фона главной страницы, чтобы увеличить вовлеченность пользователей   \n",
      "\n",
      "   reach  impact  confidence  efforts        ICE  \n",
      "8      1       9           9        5  16.200000  \n",
      "0      3      10           8        6  13.333333  \n",
      "7     10       7           8        5  11.200000  \n",
      "6      5       3           8        3   8.000000  \n",
      "2      8       3           7        3   7.000000  \n",
      "1      2       5           4       10   2.000000  \n",
      "5      3       2           2        3   1.333333  \n",
      "3      8       3           3        8   1.125000  \n",
      "4      3       1           1        1   1.000000  \n"
     ]
    }
   ],
   "source": [
    "hypothesis['ICE'] =  hypothesis['impact']*hypothesis['confidence']/hypothesis['efforts']\n",
    "hypothesis_new = hypothesis.sort_values(by='ICE', ascending=False)\n",
    "pd.options.display.max_colwidth = 120\n",
    "print(hypothesis_new)"
   ]
  },
  {
   "cell_type": "markdown",
   "metadata": {},
   "source": [
    "**1.3. Применить фреймворк RICE для приоритизации гипотез. Отсортировать их по убыванию приоритета.**"
   ]
  },
  {
   "cell_type": "code",
   "execution_count": 99,
   "metadata": {},
   "outputs": [
    {
     "name": "stdout",
     "output_type": "stream",
     "text": [
      "                                                                                                     hypothesis  \\\n",
      "7              Добавить форму подписки на все основные страницы, чтобы собрать базу клиентов для email-рассылок   \n",
      "2  Добавить блоки рекомендаций товаров на сайт интернет магазина, чтобы повысить конверсию и средний чек заказа   \n",
      "0            Добавить два новых канала привлечения трафика, что позволит привлекать на 30% больше пользователей   \n",
      "6          Показать на главной странице баннеры с актуальными акциями и распродажами, чтобы увеличить конверсию   \n",
      "8                                                       Запустить акцию, дающую скидку на товар в день рождения   \n",
      "3           Изменить структура категорий, что увеличит конверсию, т.к. пользователи быстрее найдут нужный товар   \n",
      "1                                     Запустить собственную службу доставки, что сократит срок доставки заказов   \n",
      "5                      Добавить страницу отзывов клиентов о магазине, что позволит увеличить количество заказов   \n",
      "4                              Изменить цвет фона главной страницы, чтобы увеличить вовлеченность пользователей   \n",
      "\n",
      "   reach  impact  confidence  efforts        ICE   RICE  \n",
      "7     10       7           8        5  11.200000  112.0  \n",
      "2      8       3           7        3   7.000000   56.0  \n",
      "0      3      10           8        6  13.333333   40.0  \n",
      "6      5       3           8        3   8.000000   40.0  \n",
      "8      1       9           9        5  16.200000   16.2  \n",
      "3      8       3           3        8   1.125000    9.0  \n",
      "1      2       5           4       10   2.000000    4.0  \n",
      "5      3       2           2        3   1.333333    4.0  \n",
      "4      3       1           1        1   1.000000    3.0  \n"
     ]
    }
   ],
   "source": [
    "hypothesis['RICE'] = (hypothesis['reach']*hypothesis['impact']*hypothesis['confidence'])/hypothesis['efforts']\n",
    "hypothesis_new = hypothesis.sort_values(by='RICE', ascending=False)\n",
    "pd.options.display.max_colwidth = 120\n",
    "print(hypothesis_new)"
   ]
  },
  {
   "cell_type": "markdown",
   "metadata": {},
   "source": [
    "**1.4. Указать, как изменилась приоритизация гипотез при применении RICE вместо ICE. Объяснить, почему так произошло.**"
   ]
  },
  {
   "cell_type": "markdown",
   "metadata": {},
   "source": [
    "\n",
    "    Наиболее перспективные гипотезы по ICE: \n",
    "    8 - Запустить акцию, дающую скидку на товар в день рождения, \n",
    "    0 -  Добавить два новых канала привлечения трафика, что позволит привлекать на 30% больше пользователей, \n",
    "    7 -  Добавить форму подписки на все основные страницы, чтобы собрать базу клиентов для email-рассылок, \n",
    "    6 - Показать на главной странице баннеры с актуальными акциями и распродажами, чтобы увеличить конверсию. \n",
    "    \n",
    "    Наиболее перспективные гипотезы по RICE: \n",
    "    7 - Добавить форму подписки на все основные страницы, чтобы собрать базу клиентов для email-рассылок, \n",
    "    2 - Добавить блоки рекомендаций товаров на сайт интернет магазина, чтобы повысить конверсию и средний чек заказа, \n",
    "    0 - Добавить два новых канала привлечения трафика, что позволит привлекать на 30% больше пользователей, \n",
    "    6 - Показать на главной странице баннеры с актуальными акциями и распродажами, чтобы увеличить конверсию. \n",
    "   \n",
    "    Во втором случае, гипотеза 7 на первом месте, так как парметр reach - 10, то есть наибольший параметр, затрагивающий пользователей. Отличия в приеоритатах продиктованы, тем что в фреймворке RICE мы учитываем - Reach (скольких пользователей затронет изменение, которое мы хотим внести), и в гипотезах 7 и 2 он очень высок (в 7 он =10 - максимальный. А в 2 он =8,то есть тоже высокий, а в лидере ICE - в 8 он минимальный =1). В связи с этим, надо предложить для тестирования гипотезу № 7 и, возможно, №2."
   ]
  },
  {
   "cell_type": "markdown",
   "metadata": {},
   "source": [
    "**Часть 2. Анализ A/B-теста** Есть проведенный A/B-тест и получили результаты, которые описаны в файлах /datasets/orders.csv и /datasets/visitors.csv."
   ]
  },
  {
   "cell_type": "markdown",
   "metadata": {},
   "source": [
    "**Предобработка данных для таблиц visitors и orders**"
   ]
  },
  {
   "cell_type": "markdown",
   "metadata": {},
   "source": [
    "**Изучение общей информации**"
   ]
  },
  {
   "cell_type": "code",
   "execution_count": 100,
   "metadata": {},
   "outputs": [],
   "source": [
    "try:\n",
    "    orders = pd.read_csv('/datasets/orders.csv')\n",
    "except:\n",
    "    orders = pd.read_csv('https://code.s3.yandex.net/datasets/orders.csv')\n",
    "try:\n",
    "    visitors = pd.read_csv('/datasets/visitors.csv')\n",
    "except:\n",
    "    visitors = pd.read_csv('https://code.s3.yandex.net/datasets/visitors.csv')"
   ]
  },
  {
   "cell_type": "code",
   "execution_count": 101,
   "metadata": {},
   "outputs": [
    {
     "data": {
      "text/html": [
       "<div>\n",
       "<style scoped>\n",
       "    .dataframe tbody tr th:only-of-type {\n",
       "        vertical-align: middle;\n",
       "    }\n",
       "\n",
       "    .dataframe tbody tr th {\n",
       "        vertical-align: top;\n",
       "    }\n",
       "\n",
       "    .dataframe thead th {\n",
       "        text-align: right;\n",
       "    }\n",
       "</style>\n",
       "<table border=\"1\" class=\"dataframe\">\n",
       "  <thead>\n",
       "    <tr style=\"text-align: right;\">\n",
       "      <th></th>\n",
       "      <th>transactionId</th>\n",
       "      <th>visitorId</th>\n",
       "      <th>date</th>\n",
       "      <th>revenue</th>\n",
       "      <th>group</th>\n",
       "    </tr>\n",
       "  </thead>\n",
       "  <tbody>\n",
       "    <tr>\n",
       "      <th>0</th>\n",
       "      <td>3667963787</td>\n",
       "      <td>3312258926</td>\n",
       "      <td>2019-08-15</td>\n",
       "      <td>1650</td>\n",
       "      <td>B</td>\n",
       "    </tr>\n",
       "    <tr>\n",
       "      <th>1</th>\n",
       "      <td>2804400009</td>\n",
       "      <td>3642806036</td>\n",
       "      <td>2019-08-15</td>\n",
       "      <td>730</td>\n",
       "      <td>B</td>\n",
       "    </tr>\n",
       "    <tr>\n",
       "      <th>2</th>\n",
       "      <td>2961555356</td>\n",
       "      <td>4069496402</td>\n",
       "      <td>2019-08-15</td>\n",
       "      <td>400</td>\n",
       "      <td>A</td>\n",
       "    </tr>\n",
       "    <tr>\n",
       "      <th>3</th>\n",
       "      <td>3797467345</td>\n",
       "      <td>1196621759</td>\n",
       "      <td>2019-08-15</td>\n",
       "      <td>9759</td>\n",
       "      <td>B</td>\n",
       "    </tr>\n",
       "    <tr>\n",
       "      <th>4</th>\n",
       "      <td>2282983706</td>\n",
       "      <td>2322279887</td>\n",
       "      <td>2019-08-15</td>\n",
       "      <td>2308</td>\n",
       "      <td>B</td>\n",
       "    </tr>\n",
       "  </tbody>\n",
       "</table>\n",
       "</div>"
      ],
      "text/plain": [
       "   transactionId   visitorId        date  revenue group\n",
       "0     3667963787  3312258926  2019-08-15     1650     B\n",
       "1     2804400009  3642806036  2019-08-15      730     B\n",
       "2     2961555356  4069496402  2019-08-15      400     A\n",
       "3     3797467345  1196621759  2019-08-15     9759     B\n",
       "4     2282983706  2322279887  2019-08-15     2308     B"
      ]
     },
     "execution_count": 101,
     "metadata": {},
     "output_type": "execute_result"
    }
   ],
   "source": [
    "orders.head(5)"
   ]
  },
  {
   "cell_type": "code",
   "execution_count": 102,
   "metadata": {},
   "outputs": [
    {
     "data": {
      "text/html": [
       "<div>\n",
       "<style scoped>\n",
       "    .dataframe tbody tr th:only-of-type {\n",
       "        vertical-align: middle;\n",
       "    }\n",
       "\n",
       "    .dataframe tbody tr th {\n",
       "        vertical-align: top;\n",
       "    }\n",
       "\n",
       "    .dataframe thead th {\n",
       "        text-align: right;\n",
       "    }\n",
       "</style>\n",
       "<table border=\"1\" class=\"dataframe\">\n",
       "  <thead>\n",
       "    <tr style=\"text-align: right;\">\n",
       "      <th></th>\n",
       "      <th>date</th>\n",
       "      <th>group</th>\n",
       "      <th>visitors</th>\n",
       "    </tr>\n",
       "  </thead>\n",
       "  <tbody>\n",
       "    <tr>\n",
       "      <th>0</th>\n",
       "      <td>2019-08-01</td>\n",
       "      <td>A</td>\n",
       "      <td>719</td>\n",
       "    </tr>\n",
       "    <tr>\n",
       "      <th>1</th>\n",
       "      <td>2019-08-02</td>\n",
       "      <td>A</td>\n",
       "      <td>619</td>\n",
       "    </tr>\n",
       "    <tr>\n",
       "      <th>2</th>\n",
       "      <td>2019-08-03</td>\n",
       "      <td>A</td>\n",
       "      <td>507</td>\n",
       "    </tr>\n",
       "    <tr>\n",
       "      <th>3</th>\n",
       "      <td>2019-08-04</td>\n",
       "      <td>A</td>\n",
       "      <td>717</td>\n",
       "    </tr>\n",
       "    <tr>\n",
       "      <th>4</th>\n",
       "      <td>2019-08-05</td>\n",
       "      <td>A</td>\n",
       "      <td>756</td>\n",
       "    </tr>\n",
       "  </tbody>\n",
       "</table>\n",
       "</div>"
      ],
      "text/plain": [
       "         date group  visitors\n",
       "0  2019-08-01     A       719\n",
       "1  2019-08-02     A       619\n",
       "2  2019-08-03     A       507\n",
       "3  2019-08-04     A       717\n",
       "4  2019-08-05     A       756"
      ]
     },
     "execution_count": 102,
     "metadata": {},
     "output_type": "execute_result"
    }
   ],
   "source": [
    "visitors.head(5)"
   ]
  },
  {
   "cell_type": "code",
   "execution_count": 103,
   "metadata": {},
   "outputs": [
    {
     "name": "stdout",
     "output_type": "stream",
     "text": [
      "<class 'pandas.core.frame.DataFrame'>\n",
      "RangeIndex: 1197 entries, 0 to 1196\n",
      "Data columns (total 5 columns):\n",
      " #   Column         Non-Null Count  Dtype \n",
      "---  ------         --------------  ----- \n",
      " 0   transactionId  1197 non-null   int64 \n",
      " 1   visitorId      1197 non-null   int64 \n",
      " 2   date           1197 non-null   object\n",
      " 3   revenue        1197 non-null   int64 \n",
      " 4   group          1197 non-null   object\n",
      "dtypes: int64(3), object(2)\n",
      "memory usage: 46.9+ KB\n"
     ]
    }
   ],
   "source": [
    "orders.info()"
   ]
  },
  {
   "cell_type": "code",
   "execution_count": 104,
   "metadata": {},
   "outputs": [
    {
     "name": "stdout",
     "output_type": "stream",
     "text": [
      "<class 'pandas.core.frame.DataFrame'>\n",
      "RangeIndex: 62 entries, 0 to 61\n",
      "Data columns (total 3 columns):\n",
      " #   Column    Non-Null Count  Dtype \n",
      "---  ------    --------------  ----- \n",
      " 0   date      62 non-null     object\n",
      " 1   group     62 non-null     object\n",
      " 2   visitors  62 non-null     int64 \n",
      "dtypes: int64(1), object(2)\n",
      "memory usage: 1.6+ KB\n"
     ]
    }
   ],
   "source": [
    "visitors.info()"
   ]
  },
  {
   "cell_type": "code",
   "execution_count": 105,
   "metadata": {},
   "outputs": [
    {
     "data": {
      "text/plain": [
       "0"
      ]
     },
     "execution_count": 105,
     "metadata": {},
     "output_type": "execute_result"
    }
   ],
   "source": [
    "orders.duplicated().sum()"
   ]
  },
  {
   "cell_type": "code",
   "execution_count": 106,
   "metadata": {},
   "outputs": [
    {
     "data": {
      "text/plain": [
       "0"
      ]
     },
     "execution_count": 106,
     "metadata": {},
     "output_type": "execute_result"
    }
   ],
   "source": [
    "visitors.duplicated().sum()"
   ]
  },
  {
   "cell_type": "code",
   "execution_count": 107,
   "metadata": {},
   "outputs": [
    {
     "data": {
      "text/plain": [
       "transactionId    0\n",
       "visitorId        0\n",
       "date             0\n",
       "revenue          0\n",
       "group            0\n",
       "dtype: int64"
      ]
     },
     "execution_count": 107,
     "metadata": {},
     "output_type": "execute_result"
    }
   ],
   "source": [
    "orders.isna().sum()"
   ]
  },
  {
   "cell_type": "code",
   "execution_count": 108,
   "metadata": {},
   "outputs": [
    {
     "data": {
      "text/plain": [
       "date        0\n",
       "group       0\n",
       "visitors    0\n",
       "dtype: int64"
      ]
     },
     "execution_count": 108,
     "metadata": {},
     "output_type": "execute_result"
    }
   ],
   "source": [
    "visitors.isna().sum()"
   ]
  },
  {
   "cell_type": "markdown",
   "metadata": {},
   "source": [
    "**Поменяем тип столбца \"date\" на datetime**"
   ]
  },
  {
   "cell_type": "code",
   "execution_count": 109,
   "metadata": {},
   "outputs": [
    {
     "name": "stdout",
     "output_type": "stream",
     "text": [
      "<class 'pandas.core.frame.DataFrame'>\n",
      "RangeIndex: 1197 entries, 0 to 1196\n",
      "Data columns (total 5 columns):\n",
      " #   Column         Non-Null Count  Dtype         \n",
      "---  ------         --------------  -----         \n",
      " 0   transactionId  1197 non-null   int64         \n",
      " 1   visitorId      1197 non-null   int64         \n",
      " 2   date           1197 non-null   datetime64[ns]\n",
      " 3   revenue        1197 non-null   int64         \n",
      " 4   group          1197 non-null   object        \n",
      "dtypes: datetime64[ns](1), int64(3), object(1)\n",
      "memory usage: 46.9+ KB\n",
      "<class 'pandas.core.frame.DataFrame'>\n",
      "RangeIndex: 62 entries, 0 to 61\n",
      "Data columns (total 3 columns):\n",
      " #   Column    Non-Null Count  Dtype         \n",
      "---  ------    --------------  -----         \n",
      " 0   date      62 non-null     datetime64[ns]\n",
      " 1   group     62 non-null     object        \n",
      " 2   visitors  62 non-null     int64         \n",
      "dtypes: datetime64[ns](1), int64(1), object(1)\n",
      "memory usage: 1.6+ KB\n"
     ]
    }
   ],
   "source": [
    "orders[\"date\"] = pd.to_datetime(orders['date'])\n",
    "visitors[\"date\"] = pd.to_datetime(visitors['date'])\n",
    "orders.info()\n",
    "visitors.info()"
   ]
  },
  {
   "cell_type": "markdown",
   "metadata": {},
   "source": [
    "**Вывод**\n",
    "\n",
    "  В таблицах не обнаружено дубликатов и пропущенных значений. Типы данных находятся в соответствии со значениями. В процессе предобработки был поменян только тип столбца \"date\" на datetime."
   ]
  },
  {
   "cell_type": "markdown",
   "metadata": {},
   "source": [
    "**2.1. Построим график кумулятивной выручки по группам. Сделать выводы и предположения.**"
   ]
  },
  {
   "cell_type": "markdown",
   "metadata": {},
   "source": [
    "Рассчитаем усредненную (медианную) выручку за день в каждой группе, чтобы иметь представление сколько выручка за день"
   ]
  },
  {
   "cell_type": "code",
   "execution_count": 110,
   "metadata": {},
   "outputs": [
    {
     "data": {
      "text/plain": [
       "group\n",
       "A    112473\n",
       "B    147274\n",
       "Name: revenue, dtype: int64"
      ]
     },
     "execution_count": 110,
     "metadata": {},
     "output_type": "execute_result"
    }
   ],
   "source": [
    "orders.groupby(['date','group'])['revenue'].sum().groupby('group').median()"
   ]
  },
  {
   "cell_type": "markdown",
   "metadata": {},
   "source": [
    "Сравним идентичны ли даты и группы в таблицах посетителей и заказов "
   ]
  },
  {
   "cell_type": "code",
   "execution_count": 111,
   "metadata": {},
   "outputs": [
    {
     "data": {
      "text/html": [
       "<div>\n",
       "<style scoped>\n",
       "    .dataframe tbody tr th:only-of-type {\n",
       "        vertical-align: middle;\n",
       "    }\n",
       "\n",
       "    .dataframe tbody tr th {\n",
       "        vertical-align: top;\n",
       "    }\n",
       "\n",
       "    .dataframe thead th {\n",
       "        text-align: right;\n",
       "    }\n",
       "</style>\n",
       "<table border=\"1\" class=\"dataframe\">\n",
       "  <thead>\n",
       "    <tr style=\"text-align: right;\">\n",
       "      <th></th>\n",
       "      <th>date</th>\n",
       "      <th>group</th>\n",
       "    </tr>\n",
       "  </thead>\n",
       "  <tbody>\n",
       "    <tr>\n",
       "      <th>0</th>\n",
       "      <td>2019-08-01</td>\n",
       "      <td>A</td>\n",
       "    </tr>\n",
       "    <tr>\n",
       "      <th>1</th>\n",
       "      <td>2019-08-01</td>\n",
       "      <td>B</td>\n",
       "    </tr>\n",
       "    <tr>\n",
       "      <th>2</th>\n",
       "      <td>2019-08-02</td>\n",
       "      <td>A</td>\n",
       "    </tr>\n",
       "    <tr>\n",
       "      <th>3</th>\n",
       "      <td>2019-08-02</td>\n",
       "      <td>B</td>\n",
       "    </tr>\n",
       "    <tr>\n",
       "      <th>4</th>\n",
       "      <td>2019-08-03</td>\n",
       "      <td>A</td>\n",
       "    </tr>\n",
       "    <tr>\n",
       "      <th>...</th>\n",
       "      <td>...</td>\n",
       "      <td>...</td>\n",
       "    </tr>\n",
       "    <tr>\n",
       "      <th>57</th>\n",
       "      <td>2019-08-29</td>\n",
       "      <td>B</td>\n",
       "    </tr>\n",
       "    <tr>\n",
       "      <th>58</th>\n",
       "      <td>2019-08-30</td>\n",
       "      <td>A</td>\n",
       "    </tr>\n",
       "    <tr>\n",
       "      <th>59</th>\n",
       "      <td>2019-08-30</td>\n",
       "      <td>B</td>\n",
       "    </tr>\n",
       "    <tr>\n",
       "      <th>60</th>\n",
       "      <td>2019-08-31</td>\n",
       "      <td>A</td>\n",
       "    </tr>\n",
       "    <tr>\n",
       "      <th>61</th>\n",
       "      <td>2019-08-31</td>\n",
       "      <td>B</td>\n",
       "    </tr>\n",
       "  </tbody>\n",
       "</table>\n",
       "<p>62 rows × 2 columns</p>\n",
       "</div>"
      ],
      "text/plain": [
       "         date group\n",
       "0  2019-08-01     A\n",
       "1  2019-08-01     B\n",
       "2  2019-08-02     A\n",
       "3  2019-08-02     B\n",
       "4  2019-08-03     A\n",
       "..        ...   ...\n",
       "57 2019-08-29     B\n",
       "58 2019-08-30     A\n",
       "59 2019-08-30     B\n",
       "60 2019-08-31     A\n",
       "61 2019-08-31     B\n",
       "\n",
       "[62 rows x 2 columns]"
      ]
     },
     "execution_count": 111,
     "metadata": {},
     "output_type": "execute_result"
    }
   ],
   "source": [
    "orders[['date','group']].drop_duplicates().sort_values(by=['date','group']).reset_index(drop=True)"
   ]
  },
  {
   "cell_type": "code",
   "execution_count": 112,
   "metadata": {},
   "outputs": [
    {
     "data": {
      "text/html": [
       "<div>\n",
       "<style scoped>\n",
       "    .dataframe tbody tr th:only-of-type {\n",
       "        vertical-align: middle;\n",
       "    }\n",
       "\n",
       "    .dataframe tbody tr th {\n",
       "        vertical-align: top;\n",
       "    }\n",
       "\n",
       "    .dataframe thead th {\n",
       "        text-align: right;\n",
       "    }\n",
       "</style>\n",
       "<table border=\"1\" class=\"dataframe\">\n",
       "  <thead>\n",
       "    <tr style=\"text-align: right;\">\n",
       "      <th></th>\n",
       "      <th>date</th>\n",
       "      <th>group</th>\n",
       "    </tr>\n",
       "  </thead>\n",
       "  <tbody>\n",
       "    <tr>\n",
       "      <th>0</th>\n",
       "      <td>2019-08-01</td>\n",
       "      <td>A</td>\n",
       "    </tr>\n",
       "    <tr>\n",
       "      <th>1</th>\n",
       "      <td>2019-08-01</td>\n",
       "      <td>B</td>\n",
       "    </tr>\n",
       "    <tr>\n",
       "      <th>2</th>\n",
       "      <td>2019-08-02</td>\n",
       "      <td>A</td>\n",
       "    </tr>\n",
       "    <tr>\n",
       "      <th>3</th>\n",
       "      <td>2019-08-02</td>\n",
       "      <td>B</td>\n",
       "    </tr>\n",
       "    <tr>\n",
       "      <th>4</th>\n",
       "      <td>2019-08-03</td>\n",
       "      <td>A</td>\n",
       "    </tr>\n",
       "    <tr>\n",
       "      <th>...</th>\n",
       "      <td>...</td>\n",
       "      <td>...</td>\n",
       "    </tr>\n",
       "    <tr>\n",
       "      <th>57</th>\n",
       "      <td>2019-08-29</td>\n",
       "      <td>B</td>\n",
       "    </tr>\n",
       "    <tr>\n",
       "      <th>58</th>\n",
       "      <td>2019-08-30</td>\n",
       "      <td>A</td>\n",
       "    </tr>\n",
       "    <tr>\n",
       "      <th>59</th>\n",
       "      <td>2019-08-30</td>\n",
       "      <td>B</td>\n",
       "    </tr>\n",
       "    <tr>\n",
       "      <th>60</th>\n",
       "      <td>2019-08-31</td>\n",
       "      <td>A</td>\n",
       "    </tr>\n",
       "    <tr>\n",
       "      <th>61</th>\n",
       "      <td>2019-08-31</td>\n",
       "      <td>B</td>\n",
       "    </tr>\n",
       "  </tbody>\n",
       "</table>\n",
       "<p>62 rows × 2 columns</p>\n",
       "</div>"
      ],
      "text/plain": [
       "         date group\n",
       "0  2019-08-01     A\n",
       "1  2019-08-01     B\n",
       "2  2019-08-02     A\n",
       "3  2019-08-02     B\n",
       "4  2019-08-03     A\n",
       "..        ...   ...\n",
       "57 2019-08-29     B\n",
       "58 2019-08-30     A\n",
       "59 2019-08-30     B\n",
       "60 2019-08-31     A\n",
       "61 2019-08-31     B\n",
       "\n",
       "[62 rows x 2 columns]"
      ]
     },
     "execution_count": 112,
     "metadata": {},
     "output_type": "execute_result"
    }
   ],
   "source": [
    "visitors[['date','group']].drop_duplicates().sort_values(by=['date','group']).reset_index(drop=True)"
   ]
  },
  {
   "cell_type": "code",
   "execution_count": 113,
   "metadata": {},
   "outputs": [
    {
     "data": {
      "text/plain": [
       "(62, 62)"
      ]
     },
     "execution_count": 113,
     "metadata": {},
     "output_type": "execute_result"
    }
   ],
   "source": [
    "compare_dg = orders[['date','group']].drop_duplicates().sort_values(by=['date','group']).reset_index(drop=True) == \\\n",
    "                        visitors[['date','group']].drop_duplicates().sort_values(by=['date','group']).reset_index(drop=True)\n",
    "\n",
    "compare_dg['date'].sum() , compare_dg['group'].sum()"
   ]
  },
  {
   "cell_type": "markdown",
   "metadata": {},
   "source": [
    "**Вывод** Все пары совпадают.\n",
    "\n",
    "\n",
    "Создаю таблицу cumulativeData"
   ]
  },
  {
   "cell_type": "code",
   "execution_count": 114,
   "metadata": {},
   "outputs": [
    {
     "data": {
      "text/html": [
       "<div>\n",
       "<style scoped>\n",
       "    .dataframe tbody tr th:only-of-type {\n",
       "        vertical-align: middle;\n",
       "    }\n",
       "\n",
       "    .dataframe tbody tr th {\n",
       "        vertical-align: top;\n",
       "    }\n",
       "\n",
       "    .dataframe thead th {\n",
       "        text-align: right;\n",
       "    }\n",
       "</style>\n",
       "<table border=\"1\" class=\"dataframe\">\n",
       "  <thead>\n",
       "    <tr style=\"text-align: right;\">\n",
       "      <th></th>\n",
       "      <th>date</th>\n",
       "      <th>group</th>\n",
       "      <th>orders</th>\n",
       "      <th>buyers</th>\n",
       "      <th>revenue</th>\n",
       "      <th>visitors</th>\n",
       "    </tr>\n",
       "  </thead>\n",
       "  <tbody>\n",
       "    <tr>\n",
       "      <th>0</th>\n",
       "      <td>2019-08-01</td>\n",
       "      <td>A</td>\n",
       "      <td>24</td>\n",
       "      <td>20</td>\n",
       "      <td>148579</td>\n",
       "      <td>719</td>\n",
       "    </tr>\n",
       "    <tr>\n",
       "      <th>1</th>\n",
       "      <td>2019-08-01</td>\n",
       "      <td>B</td>\n",
       "      <td>21</td>\n",
       "      <td>20</td>\n",
       "      <td>101217</td>\n",
       "      <td>713</td>\n",
       "    </tr>\n",
       "    <tr>\n",
       "      <th>2</th>\n",
       "      <td>2019-08-02</td>\n",
       "      <td>A</td>\n",
       "      <td>44</td>\n",
       "      <td>38</td>\n",
       "      <td>242401</td>\n",
       "      <td>1338</td>\n",
       "    </tr>\n",
       "    <tr>\n",
       "      <th>3</th>\n",
       "      <td>2019-08-02</td>\n",
       "      <td>B</td>\n",
       "      <td>45</td>\n",
       "      <td>43</td>\n",
       "      <td>266748</td>\n",
       "      <td>1294</td>\n",
       "    </tr>\n",
       "    <tr>\n",
       "      <th>4</th>\n",
       "      <td>2019-08-03</td>\n",
       "      <td>A</td>\n",
       "      <td>68</td>\n",
       "      <td>62</td>\n",
       "      <td>354874</td>\n",
       "      <td>1845</td>\n",
       "    </tr>\n",
       "  </tbody>\n",
       "</table>\n",
       "</div>"
      ],
      "text/plain": [
       "        date group  orders  buyers  revenue  visitors\n",
       "0 2019-08-01     A      24      20   148579       719\n",
       "1 2019-08-01     B      21      20   101217       713\n",
       "2 2019-08-02     A      44      38   242401      1338\n",
       "3 2019-08-02     B      45      43   266748      1294\n",
       "4 2019-08-03     A      68      62   354874      1845"
      ]
     },
     "execution_count": 114,
     "metadata": {},
     "output_type": "execute_result"
    }
   ],
   "source": [
    "datesGroups = orders[['date','group']].drop_duplicates()\n",
    "\n",
    "ordersAggregated = datesGroups.apply(lambda x: orders[np.logical_and(orders['date'] <= x['date'], orders['group'] == x['group'])]. \\\n",
    "                                     agg({'date' : 'max', \n",
    "                                          'group' : 'max', \n",
    "                                          'transactionId' : pd.Series.nunique, \n",
    "                                          'visitorId' : pd.Series.nunique, \n",
    "                                          'revenue' : 'sum'}), axis=1).sort_values(by=['date','group'])\n",
    "\n",
    "visitorsAggregated = datesGroups.apply(lambda x: visitors[np.logical_and(visitors['date'] <= x['date'], visitors['group'] == x['group'])]. \\\n",
    "                                       agg({'date' : 'max', \n",
    "                                            'group' : 'max', \n",
    "                                            'visitors' : 'sum'}), axis=1).sort_values(by=['date','group'])\n",
    "\n",
    "cumulativeData = ordersAggregated.merge(visitorsAggregated, left_on=['date', 'group'], right_on=['date', 'group'])\n",
    "cumulativeData.columns = ['date', 'group', 'orders', 'buyers', 'revenue', 'visitors']\n",
    "\n",
    "cumulativeData.head(5)"
   ]
  },
  {
   "cell_type": "markdown",
   "metadata": {},
   "source": [
    "Построю график кумулятивной выручки для обеих групп"
   ]
  },
  {
   "cell_type": "code",
   "execution_count": 115,
   "metadata": {},
   "outputs": [
    {
     "data": {
      "image/png": "[encoded data removed]",
      "text/plain": [
       "<Figure size 1080x360 with 1 Axes>"
      ]
     },
     "metadata": {
      "needs_background": "light"
     },
     "output_type": "display_data"
    }
   ],
   "source": [
    "cumulativeRevenueA = cumulativeData[cumulativeData['group']=='A'][['date','revenue', 'orders', 'visitors']]\n",
    "cumulativeRevenueB = cumulativeData[cumulativeData['group']=='B'][['date','revenue', 'orders', 'visitors']]\n",
    "\n",
    "from pandas.plotting import register_matplotlib_converters\n",
    "register_matplotlib_converters()\n",
    "\n",
    "plt.figure(figsize=(15,5))\n",
    "plt.plot(cumulativeRevenueA['date'], cumulativeRevenueA['revenue'], label='Кум.выручка группы A')\n",
    "plt.plot(cumulativeRevenueB['date'], cumulativeRevenueB['revenue'], label='Кум.выручка группы B')\n",
    "plt.grid()\n",
    "plt.legend()\n",
    "plt.ylabel('Выручка')\n",
    "plt.xlabel('Дата')\n",
    "plt.title('Графики кумулятивной выручки по группам A/B')\n",
    "plt.show()"
   ]
  },
  {
   "cell_type": "markdown",
   "metadata": {},
   "source": [
    "**2.1. Вывод** \n",
    "\n",
    "      Выручка в группе В в первой половине месяца растет незначительно быстрее, чем в группе А. До 13.08 выручки примерно равны, а после 17.08 группа В становится лидером, её выручка становится значительно выше. Можно предположить, что резкий всплекс выручки в группе В мог быть вызван большим заказом. В дальнейшем исследовании это надо учитывать."
   ]
  },
  {
   "cell_type": "markdown",
   "metadata": {},
   "source": [
    "**2.2. Построить график кумулятивного среднего чека по группам.**"
   ]
  },
  {
   "cell_type": "markdown",
   "metadata": {},
   "source": [
    "Для построения графики среднего кумулятивного чека по группам — разделим кумулятивную выручку на кумулятивное число заказов:"
   ]
  },
  {
   "cell_type": "code",
   "execution_count": 116,
   "metadata": {},
   "outputs": [
    {
     "data": {
      "image/png": "[encoded data removed]",
      "text/plain": [
       "<Figure size 1080x360 with 1 Axes>"
      ]
     },
     "metadata": {
      "needs_background": "light"
     },
     "output_type": "display_data"
    }
   ],
   "source": [
    "plt.figure(figsize=(15,5))\n",
    "plt.grid()\n",
    "plt.plot(cumulativeRevenueA['date'], cumulativeRevenueA['revenue']/cumulativeRevenueA['orders'], label='средний кумулятивный чек группы A')\n",
    "plt.plot(cumulativeRevenueB['date'], cumulativeRevenueB['revenue']/cumulativeRevenueB['orders'], label='средний кумулятивный чек группы B')\n",
    "plt.legend()\n",
    "plt.ylabel('Средний чек')\n",
    "plt.xlabel('Дата')\n",
    "plt.title('Графики кумулятивного среднего чека по группам A/B')\n",
    "plt.show()"
   ]
  },
  {
   "cell_type": "markdown",
   "metadata": {},
   "source": [
    "**2.2. Вывод** \n",
    "\n",
    "    Здесь мы видим схожесть с предыдущим графиком. То есть в первой половине месяца групппы А и В схожи и лидируют по общему чеку по очереди. После 17 августа группа В имеет средний чек значительно выше группы А и к концу месяца постепенно снижается."
   ]
  },
  {
   "cell_type": "markdown",
   "metadata": {},
   "source": [
    "**2.3. Построить график относительного изменения кумулятивного среднего чека группы B к группе A. Сделать выводы и предположения.**"
   ]
  },
  {
   "cell_type": "markdown",
   "metadata": {},
   "source": [
    "Для этого нам понадобиться собирать данные в одном датафрейме и потом построить график относительного изменения кумулятивного среднего чека групп"
   ]
  },
  {
   "cell_type": "code",
   "execution_count": 117,
   "metadata": {},
   "outputs": [
    {
     "data": {
      "image/png": "[encoded data removed]",
      "text/plain": [
       "<Figure size 1080x360 with 1 Axes>"
      ]
     },
     "metadata": {
      "needs_background": "light"
     },
     "output_type": "display_data"
    }
   ],
   "source": [
    "mergedCumulativeRevenue = cumulativeRevenueA.merge(cumulativeRevenueB, left_on='date', right_on='date', how='left', suffixes=['A', 'B'])\n",
    "\n",
    "plt.figure(figsize=(15,5))\n",
    "plt.grid()\n",
    "plt.plot(mergedCumulativeRevenue['date'], (mergedCumulativeRevenue['revenueB']/mergedCumulativeRevenue['ordersB'])/ \\\n",
    "         (mergedCumulativeRevenue['revenueA']/mergedCumulativeRevenue['ordersA'])-1)\n",
    "plt.title('Относительное изменение кумулятивного среднего чека групп \"B\" к \"А\"')\n",
    "plt.axhline(y=0, color='black', linestyle='--')\n",
    "plt.xlabel('Дата')\n",
    "plt.show()\n"
   ]
  },
  {
   "cell_type": "markdown",
   "metadata": {},
   "source": [
    "**2.3. Вывод** \n",
    "\n",
    "    В данном случае можно сделать похожий вывод, как с предыдущим графиком. Средий чек для группы В шел в рост равномерно до 7-8 августа, потом немного снизился, а после 17 августа всплеск и был значительно больше А - до конца месяца. К концу месяца видно равномерное снижение среднего чека. "
   ]
  },
  {
   "cell_type": "markdown",
   "metadata": {},
   "source": [
    "**2.4. Построить график кумулятивного среднего количества заказов по группам.**"
   ]
  },
  {
   "cell_type": "code",
   "execution_count": 118,
   "metadata": {},
   "outputs": [
    {
     "data": {
      "image/png": "[encoded data removed]",
      "text/plain": [
       "<Figure size 1080x360 with 1 Axes>"
      ]
     },
     "metadata": {
      "needs_background": "light"
     },
     "output_type": "display_data"
    }
   ],
   "source": [
    "\n",
    "\n",
    "plt.figure(figsize=(15,5))\n",
    "plt.grid()\n",
    "plt.plot(cumulativeRevenueA['date'], cumulativeRevenueA['orders'], label='среднее кумулятивное количество заказов группы A')\n",
    "plt.plot(cumulativeRevenueB['date'], cumulativeRevenueB['orders'], label='среднее кумулятивное количество заказов группы B')\n",
    "plt.legend()\n",
    "plt.title('График кумулятивной среднего количества заказов по группам')\n",
    "plt.xlabel('Дата')\n",
    "plt.ylabel('Заказы')\n",
    "plt.show()"
   ]
  },
  {
   "cell_type": "markdown",
   "metadata": {},
   "source": [
    "**2.4. Вывод** \n",
    "\n",
    "    Среднее кумулятивное количество заказов в группе В выше, в группе А - ниже."
   ]
  },
  {
   "cell_type": "markdown",
   "metadata": {},
   "source": [
    "**2.5. Построить график относительного изменения кумулятивного среднего количества заказов группы B к группе A.**"
   ]
  },
  {
   "cell_type": "code",
   "execution_count": 119,
   "metadata": {},
   "outputs": [
    {
     "data": {
      "image/png": "[encoded data removed]",
      "text/plain": [
       "<Figure size 1080x360 with 1 Axes>"
      ]
     },
     "metadata": {
      "needs_background": "light"
     },
     "output_type": "display_data"
    }
   ],
   "source": [
    "\n",
    "cumulativeData['order'] = cumulativeData['orders']/cumulativeData['visitors']\n",
    "cumulativeOrder=cumulativeRevenueA[['date', 'orders']].merge(cumulativeRevenueB, left_on='date', right_on='date', how='left', suffixes=['A', 'B'])\n",
    "\n",
    "plt.figure(figsize=(15,5))\n",
    "plt.grid()\n",
    "plt.plot(cumulativeOrder['date'],cumulativeOrder['ordersB']/cumulativeOrder['ordersA']-1, label='кумулятивная среднего количества заказов')\n",
    "plt.title('Относительное изменение кумулятивного среднего количества заказов группы \"B\" к \"А\"')\n",
    "plt.axhline(y=0, color='black', linestyle='--')\n",
    "plt.xlabel('Дата')\n",
    "plt.legend()\n",
    "plt.show()\n"
   ]
  },
  {
   "cell_type": "markdown",
   "metadata": {},
   "source": [
    "**2.5. Вывод** \n",
    "\n",
    "    Судя по графику, для группы В характерно повышение среднего количества заказов после 6.08, график стабильно больше до конца месяца, немного уменьшается после 17.08. Группа А наоборот, имеет плюс до 6.08, а затем заказов становится значительно меньше, чем в группе В. Разница достигает 20% на максимуме."
   ]
  },
  {
   "cell_type": "markdown",
   "metadata": {},
   "source": [
    "**2.6. Построить точечный график количества заказов по пользователям. Сделать выводы и предположения.**"
   ]
  },
  {
   "cell_type": "code",
   "execution_count": 120,
   "metadata": {},
   "outputs": [
    {
     "data": {
      "text/html": [
       "<div>\n",
       "<style scoped>\n",
       "    .dataframe tbody tr th:only-of-type {\n",
       "        vertical-align: middle;\n",
       "    }\n",
       "\n",
       "    .dataframe tbody tr th {\n",
       "        vertical-align: top;\n",
       "    }\n",
       "\n",
       "    .dataframe thead th {\n",
       "        text-align: right;\n",
       "    }\n",
       "</style>\n",
       "<table border=\"1\" class=\"dataframe\">\n",
       "  <thead>\n",
       "    <tr style=\"text-align: right;\">\n",
       "      <th></th>\n",
       "      <th>user_id</th>\n",
       "      <th>orders</th>\n",
       "    </tr>\n",
       "  </thead>\n",
       "  <tbody>\n",
       "    <tr>\n",
       "      <th>1023</th>\n",
       "      <td>4256040402</td>\n",
       "      <td>11</td>\n",
       "    </tr>\n",
       "    <tr>\n",
       "      <th>591</th>\n",
       "      <td>2458001652</td>\n",
       "      <td>11</td>\n",
       "    </tr>\n",
       "    <tr>\n",
       "      <th>569</th>\n",
       "      <td>2378935119</td>\n",
       "      <td>9</td>\n",
       "    </tr>\n",
       "    <tr>\n",
       "      <th>487</th>\n",
       "      <td>2038680547</td>\n",
       "      <td>8</td>\n",
       "    </tr>\n",
       "    <tr>\n",
       "      <th>44</th>\n",
       "      <td>199603092</td>\n",
       "      <td>5</td>\n",
       "    </tr>\n",
       "    <tr>\n",
       "      <th>744</th>\n",
       "      <td>3062433592</td>\n",
       "      <td>5</td>\n",
       "    </tr>\n",
       "    <tr>\n",
       "      <th>55</th>\n",
       "      <td>237748145</td>\n",
       "      <td>5</td>\n",
       "    </tr>\n",
       "    <tr>\n",
       "      <th>917</th>\n",
       "      <td>3803269165</td>\n",
       "      <td>5</td>\n",
       "    </tr>\n",
       "    <tr>\n",
       "      <th>299</th>\n",
       "      <td>1230306981</td>\n",
       "      <td>5</td>\n",
       "    </tr>\n",
       "    <tr>\n",
       "      <th>897</th>\n",
       "      <td>3717692402</td>\n",
       "      <td>5</td>\n",
       "    </tr>\n",
       "  </tbody>\n",
       "</table>\n",
       "</div>"
      ],
      "text/plain": [
       "         user_id  orders\n",
       "1023  4256040402      11\n",
       "591   2458001652      11\n",
       "569   2378935119       9\n",
       "487   2038680547       8\n",
       "44     199603092       5\n",
       "744   3062433592       5\n",
       "55     237748145       5\n",
       "917   3803269165       5\n",
       "299   1230306981       5\n",
       "897   3717692402       5"
      ]
     },
     "execution_count": 120,
     "metadata": {},
     "output_type": "execute_result"
    }
   ],
   "source": [
    "ordersByUsers = orders.drop(['group', 'revenue', 'date'], axis=1).groupby('visitorId', as_index=False). \\\n",
    "                                                                        agg({'transactionId' : pd.Series.nunique})\n",
    "\n",
    "ordersByUsers.columns = ['user_id','orders']\n",
    "\n",
    "ordersByUsers.sort_values(by='orders',ascending=False).head(10)"
   ]
  },
  {
   "cell_type": "code",
   "execution_count": 121,
   "metadata": {},
   "outputs": [
    {
     "data": {
      "image/png": "[encoded data removed]",
      "text/plain": [
       "<Figure size 1080x360 with 1 Axes>"
      ]
     },
     "metadata": {
      "needs_background": "light"
     },
     "output_type": "display_data"
    }
   ],
   "source": [
    "x_values = pd.Series(range(0,len(ordersByUsers)))\n",
    "\n",
    "plt.figure(figsize=(15,5))\n",
    "plt.grid()\n",
    "plt.title('График количества заказов по пользователям')\n",
    "plt.xlabel('пользователи')\n",
    "plt.ylabel('Количество заказов')\n",
    "plt.scatter(x_values, ordersByUsers['orders'], alpha=0.5)\n",
    "plt.show()"
   ]
  },
  {
   "cell_type": "markdown",
   "metadata": {},
   "source": [
    "**2.6. Вывод** \n",
    "\n",
    "      Больше всего пользователей совершили по одному заказу, потом идут те, кто сделал два заказа. Скорее всего то, что выше 3-4 заказов можно считать аномалией."
   ]
  },
  {
   "cell_type": "markdown",
   "metadata": {},
   "source": [
    "**2.7. Построить 95-й и 99-й перцентили количества заказов на пользователя. Выбрать границу для определения аномальных пользователей.**"
   ]
  },
  {
   "cell_type": "code",
   "execution_count": 122,
   "metadata": {},
   "outputs": [
    {
     "name": "stdout",
     "output_type": "stream",
     "text": [
      "Рассчитаем 95 и 99 перцентили по заказам :  [2. 4.]\n"
     ]
    }
   ],
   "source": [
    "print('Рассчитаем 95 и 99 перцентили по заказам : ', np.percentile(ordersByUsers['orders'], [95, 99])) "
   ]
  },
  {
   "cell_type": "markdown",
   "metadata": {},
   "source": [
    "**2.7. Вывод**\n",
    "\n",
    "    Большинство пользователей делают 1-2 заказа, соответственно, всё, там где больше двух заказов - можно считать аномалией."
   ]
  },
  {
   "cell_type": "markdown",
   "metadata": {},
   "source": [
    "**2.8. Построить точечный график стоимостей заказов. Сделать выводы и предположения.**"
   ]
  },
  {
   "cell_type": "code",
   "execution_count": 123,
   "metadata": {},
   "outputs": [
    {
     "data": {
      "image/png": "[encoded data removed]",
      "text/plain": [
       "<Figure size 1080x360 with 1 Axes>"
      ]
     },
     "metadata": {
      "needs_background": "light"
     },
     "output_type": "display_data"
    }
   ],
   "source": [
    "x_values = pd.Series(range(0,len(orders['revenue'])))\n",
    "plt.figure(figsize=(15,5))\n",
    "plt.grid()\n",
    "plt.title('График стоимостей заказов')\n",
    "plt.xlabel('Пользователи')\n",
    "plt.ylabel('Стоимость заказов')\n",
    "plt.scatter(x_values, orders['revenue'], alpha=0.5)\n",
    "plt.show()"
   ]
  },
  {
   "cell_type": "markdown",
   "metadata": {},
   "source": [
    "Для построения более наглядного графика, уберем аномальные значения."
   ]
  },
  {
   "cell_type": "code",
   "execution_count": 124,
   "metadata": {},
   "outputs": [
    {
     "data": {
      "image/png": "[encoded data removed]",
      "text/plain": [
       "<Figure size 1080x360 with 1 Axes>"
      ]
     },
     "metadata": {
      "needs_background": "light"
     },
     "output_type": "display_data"
    }
   ],
   "source": [
    "norm_orders = orders[orders['revenue']<=195000]['revenue']\n",
    "xn_values = pd.Series(range(0,len(norm_orders)))\n",
    "plt.figure(figsize=(15,5))\n",
    "plt.grid()\n",
    "plt.title('График стоимостей заказов')\n",
    "plt.xlabel('Пользователи')\n",
    "plt.ylabel('Стоимость заказов')\n",
    "plt.scatter(xn_values, norm_orders, alpha=0.5)\n",
    "plt.show()"
   ]
  },
  {
   "cell_type": "markdown",
   "metadata": {},
   "source": [
    "**2.8. Вывод**\n",
    "\n",
    "    На первом графике выделяются два аномальных заказа: один - около 1.2 млн, второй на 200 тысяч. На втоом графике видно, что основная часть заказов, как правило, не более 100 тысяч."
   ]
  },
  {
   "cell_type": "markdown",
   "metadata": {},
   "source": [
    "**2.9. Построить 95-й и 99-й перцентили стоимости заказов. Выбрать границу для определения аномальных заказов.**"
   ]
  },
  {
   "cell_type": "code",
   "execution_count": 125,
   "metadata": {},
   "outputs": [
    {
     "name": "stdout",
     "output_type": "stream",
     "text": [
      "Рассчитаем 95 и 99 перцентили по выручке заказов :  [28000.  58233.2]\n"
     ]
    }
   ],
   "source": [
    "print('Рассчитаем 95 и 99 перцентили по выручке заказов : ', np.percentile(orders['revenue'], [95, 99]))"
   ]
  },
  {
   "cell_type": "markdown",
   "metadata": {},
   "source": [
    "**2.9. Вывод**\n",
    "\n",
    "     Здесь мы видим, что 99% заказов меньше суммы 58233.2. Эту сумму установим как границу аномальных значений."
   ]
  },
  {
   "cell_type": "markdown",
   "metadata": {},
   "source": [
    "**2.10. Построить статистическую значимость различий в среднем количестве заказов между группами по «сырым» данным. Сделать выводы и предположения.**"
   ]
  },
  {
   "cell_type": "code",
   "execution_count": 126,
   "metadata": {},
   "outputs": [
    {
     "data": {
      "text/html": [
       "<div>\n",
       "<style scoped>\n",
       "    .dataframe tbody tr th:only-of-type {\n",
       "        vertical-align: middle;\n",
       "    }\n",
       "\n",
       "    .dataframe tbody tr th {\n",
       "        vertical-align: top;\n",
       "    }\n",
       "\n",
       "    .dataframe thead th {\n",
       "        text-align: right;\n",
       "    }\n",
       "</style>\n",
       "<table border=\"1\" class=\"dataframe\">\n",
       "  <thead>\n",
       "    <tr style=\"text-align: right;\">\n",
       "      <th></th>\n",
       "      <th>date</th>\n",
       "      <th>group</th>\n",
       "      <th>visitors</th>\n",
       "    </tr>\n",
       "  </thead>\n",
       "  <tbody>\n",
       "    <tr>\n",
       "      <th>0</th>\n",
       "      <td>2019-08-01</td>\n",
       "      <td>A</td>\n",
       "      <td>719</td>\n",
       "    </tr>\n",
       "    <tr>\n",
       "      <th>1</th>\n",
       "      <td>2019-08-02</td>\n",
       "      <td>A</td>\n",
       "      <td>619</td>\n",
       "    </tr>\n",
       "  </tbody>\n",
       "</table>\n",
       "</div>"
      ],
      "text/plain": [
       "        date group  visitors\n",
       "0 2019-08-01     A       719\n",
       "1 2019-08-02     A       619"
      ]
     },
     "execution_count": 126,
     "metadata": {},
     "output_type": "execute_result"
    }
   ],
   "source": [
    "visitors.head(2)"
   ]
  },
  {
   "cell_type": "code",
   "execution_count": 127,
   "metadata": {},
   "outputs": [
    {
     "data": {
      "text/html": [
       "<div>\n",
       "<style scoped>\n",
       "    .dataframe tbody tr th:only-of-type {\n",
       "        vertical-align: middle;\n",
       "    }\n",
       "\n",
       "    .dataframe tbody tr th {\n",
       "        vertical-align: top;\n",
       "    }\n",
       "\n",
       "    .dataframe thead th {\n",
       "        text-align: right;\n",
       "    }\n",
       "</style>\n",
       "<table border=\"1\" class=\"dataframe\">\n",
       "  <thead>\n",
       "    <tr style=\"text-align: right;\">\n",
       "      <th></th>\n",
       "      <th>transactionId</th>\n",
       "      <th>visitorId</th>\n",
       "      <th>date</th>\n",
       "      <th>revenue</th>\n",
       "      <th>group</th>\n",
       "    </tr>\n",
       "  </thead>\n",
       "  <tbody>\n",
       "    <tr>\n",
       "      <th>0</th>\n",
       "      <td>3667963787</td>\n",
       "      <td>3312258926</td>\n",
       "      <td>2019-08-15</td>\n",
       "      <td>1650</td>\n",
       "      <td>B</td>\n",
       "    </tr>\n",
       "    <tr>\n",
       "      <th>1</th>\n",
       "      <td>2804400009</td>\n",
       "      <td>3642806036</td>\n",
       "      <td>2019-08-15</td>\n",
       "      <td>730</td>\n",
       "      <td>B</td>\n",
       "    </tr>\n",
       "  </tbody>\n",
       "</table>\n",
       "</div>"
      ],
      "text/plain": [
       "   transactionId   visitorId       date  revenue group\n",
       "0     3667963787  3312258926 2019-08-15     1650     B\n",
       "1     2804400009  3642806036 2019-08-15      730     B"
      ]
     },
     "execution_count": 127,
     "metadata": {},
     "output_type": "execute_result"
    }
   ],
   "source": [
    "orders.head(2)"
   ]
  },
  {
   "cell_type": "markdown",
   "metadata": {},
   "source": [
    "Подготовим данные к анализу"
   ]
  },
  {
   "cell_type": "code",
   "execution_count": 141,
   "metadata": {},
   "outputs": [],
   "source": [
    "ordersByUsersA = orders[orders['group']=='A'].groupby('visitorId', as_index=False).agg({'transactionId':'nunique'})\n",
    "ordersByUsersA.columns = ['visitorId', 'orders']\n",
    "ordersByUsersB = orders[orders['group']=='B'].groupby('visitorId', as_index=False).agg({'transactionId':'nunique'})\n",
    "ordersByUsersB.columns = ['visitorId', 'orders']"
   ]
  },
  {
   "cell_type": "markdown",
   "metadata": {},
   "source": [
    "    Далее Объявим переменные sampleA  и sampleB, в них пользователям с заками будут соответствовать число заказов пользователя, нулями будет отмечено отсутсвие заказов, то есть ноль.\n",
    "\n",
    "    Далее посчитаю статистическую значимость различия среднего количества заказов, с применением теста Манна-Уитни.\n",
    "\n",
    "    Выведу p-value для сравнения среднего между группами. (округление p-value до 3 знаков после запятой). Затем вычислю и выведу относительное различие в среднем между группами. (округление до 3 знаков после запятой).\n",
    "\n",
    "    За нулевую гипотезу возьмём что: \"статистически значимых различий в количестве числа заказов между группами нет\"; тогда альтернативная гипотеза будет гласить - статистически значимые различия есть."
   ]
  },
  {
   "cell_type": "code",
   "execution_count": 142,
   "metadata": {},
   "outputs": [
    {
     "name": "stdout",
     "output_type": "stream",
     "text": [
      "alpha = 0.05\n",
      "p-value = 0.017\n",
      "Относительный прирост в среднем количестве заказов группы B по отношению к группе A: 0.138\n"
     ]
    }
   ],
   "source": [
    "\n",
    "list_orders_1 =[]\n",
    "for i in range(0,(visitors[visitors['group']=='A']['visitors'].sum()-len(ordersByUsersA))):\n",
    "    list_orders_1.append(0)\n",
    "orders_by_non_purchased_users_A = pd.Series(data = list_orders_1, name = 'orders')\n",
    "\n",
    "list_orders_2 =[]\n",
    "for i in range(0,(visitors[visitors['group']=='B']['visitors'].sum()-len(ordersByUsersB))):\n",
    "    list_orders_2.append(0)\n",
    "orders_by_non_purchased_users_B = pd.Series(data = list_orders_2, name = 'orders')\n",
    "\n",
    "sampleA = pd.concat([ordersByUsersA['orders'], orders_by_non_purchased_users_A], axis=0)\n",
    "sampleB = pd.concat([ordersByUsersB['orders'], orders_by_non_purchased_users_B], axis=0)\n",
    "\n",
    "print(\"alpha =\",0.05)\n",
    "print(\"p-value = {0:.3f}\".format(stats.mannwhitneyu(sampleA, sampleB, alternative = 'two-sided')[1]))\n",
    "print('Относительный прирост в среднем количестве заказов группы B по отношению к группе A: {:.3f}'.format(sampleB.mean()/sampleA.mean()-1))\n",
    "alpha = 0.05\n",
    "results = stats.mannwhitneyu(sampleA, sampleB)\n"
   ]
  },
  {
   "cell_type": "markdown",
   "metadata": {},
   "source": [
    "**2.10. Вывод**\n",
    "\n",
    "    Р-value сильно меньше 0.05, по-этому нулевую гипотезу отвергаем. Анализ \"сырых\" данных говорит о том, что в среднем количестве заказов по группам есть статистически значимые различия. А относительный прирост среднего гуппы В к конверсии группы А равен 13.8%."
   ]
  },
  {
   "cell_type": "markdown",
   "metadata": {},
   "source": [
    "**2.11. Посчитать статистическую значимость различий в среднем чеке заказа между группами по «сырым» данным. Сделать выводы и предположения.**"
   ]
  },
  {
   "cell_type": "markdown",
   "metadata": {},
   "source": [
    "    Для того, чтобы посчитать статистическую значимость различия средних чеков между группами, выведу p-value для сравнения средних чеков между группами. (округление p-value до трёх знаков после запятой). А так же посчитаю относительный прирост среднего чека группы B, округлив до трёх знаков после запятой."
   ]
  },
  {
   "cell_type": "code",
   "execution_count": 143,
   "metadata": {},
   "outputs": [
    {
     "name": "stdout",
     "output_type": "stream",
     "text": [
      "alpha = 0.05\n",
      "p-value = 0.729\n",
      "Относительный показатель 'B' и 'A' = 0.259\n"
     ]
    }
   ],
   "source": [
    "print(\"alpha =\",0.05)\n",
    "print('p-value = {0:.3f}'.format(stats.mannwhitneyu(orders[orders['group']=='A']['revenue'], orders[orders['group']=='B']['revenue'])[1]))\n",
    "print(\"Относительный показатель 'B' и 'A' = {0:.3f}\".format(orders[orders['group']=='B']['revenue'].mean()/orders[orders['group']=='A']['revenue'].mean()-1)) "
   ]
  },
  {
   "cell_type": "markdown",
   "metadata": {},
   "source": [
    "**2.11.  Вывод** \n",
    " \n",
    "     В данном случае p-value намного больше 0.05, что позволяет нам не отвергать нулевую гипотезу. Средние чеки по \"сырым\" данным схожи, при этом средний чек группы В выше, чем средний чек группы А - на 25.9%. Что может указывать на влияние выбросов на метрику."
   ]
  },
  {
   "cell_type": "markdown",
   "metadata": {},
   "source": [
    "**2.12. Посчитать статистическую значимость различий в среднем количестве заказов между группами по «очищенным» данным. Сделать выводы и предположения.**"
   ]
  },
  {
   "cell_type": "markdown",
   "metadata": {},
   "source": [
    "Для того, чтобы посчитать статистическую значимость различий в среднем количестве заказов между группами по «очищенным» данным, возьмем критерии из предыдущих вычислений. Сделаем срез данных, где число пользователей больше или равно 2, и пользователей, которые совершили заказ на сумму более 58233.2."
   ]
  },
  {
   "cell_type": "code",
   "execution_count": 162,
   "metadata": {},
   "outputs": [
    {
     "name": "stdout",
     "output_type": "stream",
     "text": [
      "1099    148427295\n",
      "18      199603092\n",
      "23      237748145\n",
      "37      249864742\n",
      "68      457167155\n",
      "Name: visitorId, dtype: int64\n",
      "Пользователи с заказом на сумму более 58233.2 = 31\n"
     ]
    }
   ],
   "source": [
    "limit_orders = 2\n",
    "limit_orders_revenue = 58233.2\n",
    "\n",
    "usersWithManyOrders = pd.concat([ordersByUsersA[ordersByUsersA['orders'] > limit_orders]['visitorId'], ordersByUsersB[ordersByUsersB['orders'] > 2]['visitorId']], axis = 0)\n",
    "usersWithExpensiveOrders = orders[orders['revenue'] > limit_orders_revenue]['visitorId']\n",
    "abnormalUsers = pd.concat([usersWithManyOrders, usersWithExpensiveOrders], axis = 0).drop_duplicates().sort_values()\n",
    "print(abnormalUsers.head(5))\n",
    "print(\"Пользователи с заказом на сумму более 58233.2 =\" ,len(abnormalUsers)) "
   ]
  },
  {
   "cell_type": "markdown",
   "metadata": {},
   "source": [
    " Сначала подготовим выборки количества заказов по пользователям по группам теста:"
   ]
  },
  {
   "cell_type": "code",
   "execution_count": 157,
   "metadata": {},
   "outputs": [],
   "source": [
    "visitorsADaily = visitors[visitors['group']=='A'][['date', 'visitors']]\n",
    "visitorsADaily.columns = ['date', 'visitorsPerDateA']\n",
    "\n",
    "#visitorsACummulative = visitorsADaily.apply(lambda x: visitorsADaily[visitorsADaily['date'] <= x['date']]. \\\n",
    "                                        #    agg({'date' : 'max', 'visitorsPerDateA' : 'sum'}), axis=1)\n",
    "#visitorsACummulative.columns = ['date', 'visitorsCummulativeA']\n",
    "\n",
    "visitorsBDaily = visitors[visitors['group']=='B'][['date', 'visitors']]\n",
    "visitorsBDaily.columns = ['date', 'visitorsPerDateB']\n",
    "\n",
    "#visitorsBCummulative = visitorsBDaily.apply(lambda x: visitorsBDaily[visitorsBDaily['date'] <= x['date']]. \\\n",
    "                                      #      agg({'date' : 'max', 'visitorsPerDateB' : 'sum'}), axis=1)\n",
    "#visitorsBCummulative.columns = ['date', 'visitorsCummulativeB']\n",
    "\n",
    "\n",
    "data = visitorsBDaily.merge(visitorsADaily, left_on='date', right_on='date', how='left')\n",
    "data.sample(3)\n",
    "\n",
    "\n",
    "\n",
    "\n",
    "sampleAFiltered = pd.concat([ordersByUsersA[np.logical_not(ordersByUsersA['visitorId'].isin(abnormalUsers))]['orders'], \\\n",
    "                             pd.Series(0, index=np.arange(data['visitorsPerDateA'].sum() - len(ordersByUsersA['orders'])), \\\n",
    "                                       name='orders')],axis=0)\n",
    "\n",
    "sampleBFiltered = pd.concat([ordersByUsersB[np.logical_not(ordersByUsersB['visitorId'].isin(abnormalUsers))]['orders'], \\\n",
    "                             pd.Series(0, index=np.arange(data['visitorsPerDateB'].sum() - len(ordersByUsersB['orders'])), \\\n",
    "                                       name='orders')],axis=0) "
   ]
  },
  {
   "cell_type": "markdown",
   "metadata": {},
   "source": [
    "Далее за нулевую гипотезу примем: \"статистически значимых различий в конверсии между группами нет\"; тогда альтернативная гипотеза будет гласить - статистически значимые различия есть. Применю статистический критерий Манна-Уитни к полученным выборкам."
   ]
  },
  {
   "cell_type": "code",
   "execution_count": 158,
   "metadata": {},
   "outputs": [
    {
     "name": "stdout",
     "output_type": "stream",
     "text": [
      "alpha = 0.05\n",
      "p-value = 0.010\n",
      "Относительный показатель 'B' и 'A' = 0.174\n"
     ]
    }
   ],
   "source": [
    "print(\"alpha =\",0.05)\n",
    "print(\"p-value = {0:.3f}\".format(stats.mannwhitneyu(sampleAFiltered, sampleBFiltered, alternative = 'two-sided')[1]))\n",
    "print(\"Относительный показатель 'B' и 'A' = {0:.3f}\".format(sampleBFiltered.mean()/sampleAFiltered.mean()-1)) "
   ]
  },
  {
   "cell_type": "markdown",
   "metadata": {},
   "source": [
    "**Вывод**\n",
    "\n",
    "    Р-value менее 0.05, что позволяет говорить о том, что статистически значимых различий между группами нет, значит гипотезу - отвергаем. Соответственно, по \"очищенным\" данным различия между группами есть. Относительный показатель вырос по \"очищенным\" данным до 17.4%."
   ]
  },
  {
   "cell_type": "markdown",
   "metadata": {},
   "source": [
    "**2.13. Посчитать статистическую значимость различий в среднем чеке заказа между группами по «очищенным» данным. Сделать выводы и предположения.**"
   ]
  },
  {
   "cell_type": "markdown",
   "metadata": {},
   "source": [
    "Для определения различий в среднем чеке заказа между группами по «очищенным» данным, приму за нулевую гипотезу: \"статистически значимых различий в средних чеках между группами нет\"; тогда альтернативная гипотеза будет гласить - статистически значимые различия есть. Воспользуюсь так же критерием Манна-Уитни. Округление значений проедем до трех знаков."
   ]
  },
  {
   "cell_type": "code",
   "execution_count": 159,
   "metadata": {},
   "outputs": [
    {
     "name": "stdout",
     "output_type": "stream",
     "text": [
      "alpha = 0.05\n",
      "p-value = 0.798\n",
      "Относительный показатель 'B' и 'A' = -0.020\n"
     ]
    }
   ],
   "source": [
    "print(\"alpha =\",0.05)\n",
    "print(\"p-value = {0:.3f}\".format(stats.mannwhitneyu(\n",
    "    orders[np.logical_and(\n",
    "        orders['group']=='A',\n",
    "        np.logical_not(orders['visitorId'].isin(abnormalUsers)))]['revenue'],\n",
    "    orders[np.logical_and(\n",
    "        orders['group']=='B',\n",
    "        np.logical_not(orders['visitorId'].isin(abnormalUsers)))]['revenue'], alternative = 'two-sided')[1]))\n",
    "\n",
    "print(\"Относительный показатель 'B' и 'A' = {0:.3f}\".format(\n",
    "    orders[np.logical_and(orders['group']=='B',np.logical_not(orders['visitorId'].isin(abnormalUsers)))]['revenue'].mean()/\n",
    "    orders[np.logical_and(\n",
    "        orders['group']=='A',\n",
    "        np.logical_not(orders['visitorId'].isin(abnormalUsers)))]['revenue'].mean() - 1)) "
   ]
  },
  {
   "cell_type": "markdown",
   "metadata": {},
   "source": [
    "**Вывод**\n",
    "\n",
    "    Мы видим, что p-value значительно выше 0.05. Следовательно, нулевую гипотезу не отвергаем, а значит различия в среднем чеке есть. По относительному показателю видно, что средний чек группы В на 2 % меньше, чем в группе А. А по \"сырым\" данным этот показатель был выше в группе В на 26%, чем в группе А. То есть на средний чек очень сильно повлияли аномальные заказы на 1,2 млн и на 200 тысяч."
   ]
  },
  {
   "cell_type": "markdown",
   "metadata": {},
   "source": [
    "**2.14. Принять решение по результатам теста и объяснить его.** \n",
    "\n",
    "    Варианты решений: \n",
    "    1. Остановить тест, зафиксировать победу одной из групп. \n",
    "    2. Остановить тест, зафиксировать отсутствие различий между группами. \n",
    "    3. Продолжить тест."
   ]
  },
  {
   "cell_type": "markdown",
   "metadata": {},
   "source": [
    "**По результатам А/В тестирования были сделаны выводы:**\n",
    "    \n",
    "     - По \"сырым\" и по \"очищенным\" данным различия между группамии В и А присутствует. Относительный показатель разницы группы В над А составил по \"очищенным\" данным - 17.4%, по \"сырым\" данным - 13.8%.\n",
    "     - По средним чекам, при очистке данных от аномальных покупок (в 1,2 млн и 200 тысяч, соответственно), выяснилось, что В и А группы примерно одинаковы (средний чек в группе В незначительно ниже среднего чека в группе А - на 2%).\n",
    "     \n",
    "     \n",
    "   **В данном случае, можно остановить тестирование и признать, что группа В эффективнее группы А.**"
   ]
  }
 ],
 "metadata": {
  "ExecuteTimeLog": [
   {
    "duration": 1172,
    "start_time": "2022-11-30T12:18:32.920Z"
   },
   {
    "duration": 139,
    "start_time": "2022-11-30T12:19:42.568Z"
   },
   {
    "duration": 92,
    "start_time": "2022-11-30T12:20:16.590Z"
   },
   {
    "duration": 8,
    "start_time": "2022-11-30T12:21:14.126Z"
   },
   {
    "duration": 9,
    "start_time": "2022-11-30T12:21:30.119Z"
   },
   {
    "duration": 26,
    "start_time": "2022-11-30T12:22:02.859Z"
   },
   {
    "duration": 13,
    "start_time": "2022-11-30T12:22:05.319Z"
   },
   {
    "duration": 17,
    "start_time": "2022-11-30T12:22:31.271Z"
   },
   {
    "duration": 11,
    "start_time": "2022-11-30T12:22:37.762Z"
   },
   {
    "duration": 5,
    "start_time": "2022-11-30T12:22:58.334Z"
   },
   {
    "duration": 5,
    "start_time": "2022-11-30T12:23:15.128Z"
   },
   {
    "duration": 6,
    "start_time": "2022-11-30T12:23:25.505Z"
   },
   {
    "duration": 8,
    "start_time": "2022-11-30T12:25:53.309Z"
   },
   {
    "duration": 8,
    "start_time": "2022-11-30T12:26:12.116Z"
   },
   {
    "duration": 23,
    "start_time": "2022-11-30T12:30:16.436Z"
   },
   {
    "duration": 9,
    "start_time": "2022-11-30T12:30:41.596Z"
   },
   {
    "duration": 7,
    "start_time": "2022-11-30T12:31:36.361Z"
   },
   {
    "duration": 7,
    "start_time": "2022-11-30T12:33:11.927Z"
   },
   {
    "duration": 9,
    "start_time": "2022-11-30T12:33:26.248Z"
   },
   {
    "duration": 9,
    "start_time": "2022-11-30T12:33:57.274Z"
   },
   {
    "duration": 10,
    "start_time": "2022-11-30T12:34:07.494Z"
   },
   {
    "duration": 9,
    "start_time": "2022-11-30T12:37:05.978Z"
   },
   {
    "duration": 46,
    "start_time": "2022-11-30T17:21:51.743Z"
   },
   {
    "duration": 41,
    "start_time": "2022-11-30T17:22:13.277Z"
   },
   {
    "duration": 56,
    "start_time": "2022-11-30T17:22:33.969Z"
   },
   {
    "duration": 48,
    "start_time": "2022-11-30T17:22:44.338Z"
   },
   {
    "duration": 47,
    "start_time": "2022-11-30T17:23:39.563Z"
   },
   {
    "duration": 1193,
    "start_time": "2022-11-30T17:23:53.596Z"
   },
   {
    "duration": 227,
    "start_time": "2022-11-30T17:24:00.451Z"
   },
   {
    "duration": 13,
    "start_time": "2022-11-30T17:24:39.420Z"
   },
   {
    "duration": 62,
    "start_time": "2022-11-30T17:25:01.659Z"
   },
   {
    "duration": 9,
    "start_time": "2022-11-30T17:25:14.645Z"
   },
   {
    "duration": 8,
    "start_time": "2022-11-30T17:25:20.610Z"
   },
   {
    "duration": 8,
    "start_time": "2022-11-30T17:25:26.293Z"
   },
   {
    "duration": 11,
    "start_time": "2022-11-30T17:25:42.994Z"
   },
   {
    "duration": 12,
    "start_time": "2022-11-30T17:26:08.339Z"
   },
   {
    "duration": 6,
    "start_time": "2022-11-30T17:26:44.895Z"
   },
   {
    "duration": 6,
    "start_time": "2022-11-30T17:26:47.142Z"
   },
   {
    "duration": 6,
    "start_time": "2022-11-30T17:26:49.992Z"
   },
   {
    "duration": 6,
    "start_time": "2022-11-30T17:27:18.432Z"
   },
   {
    "duration": 6,
    "start_time": "2022-11-30T17:27:21.270Z"
   },
   {
    "duration": 6,
    "start_time": "2022-11-30T17:27:37.582Z"
   },
   {
    "duration": 47,
    "start_time": "2022-12-06T13:13:01.144Z"
   },
   {
    "duration": 1232,
    "start_time": "2022-12-06T13:13:10.438Z"
   },
   {
    "duration": 133,
    "start_time": "2022-12-06T13:13:11.672Z"
   },
   {
    "duration": 15,
    "start_time": "2022-12-06T13:13:11.807Z"
   },
   {
    "duration": 17,
    "start_time": "2022-12-06T13:13:11.824Z"
   },
   {
    "duration": 34,
    "start_time": "2022-12-06T13:13:11.844Z"
   },
   {
    "duration": 29,
    "start_time": "2022-12-06T13:13:11.880Z"
   },
   {
    "duration": 16,
    "start_time": "2022-12-06T13:13:11.911Z"
   },
   {
    "duration": 24,
    "start_time": "2022-12-06T13:13:11.929Z"
   },
   {
    "duration": 10,
    "start_time": "2022-12-06T13:13:11.955Z"
   },
   {
    "duration": 173,
    "start_time": "2022-12-06T13:13:11.966Z"
   },
   {
    "duration": 11,
    "start_time": "2022-12-06T13:13:12.141Z"
   },
   {
    "duration": 27,
    "start_time": "2022-12-06T13:13:12.154Z"
   },
   {
    "duration": 13,
    "start_time": "2022-12-06T13:13:12.183Z"
   },
   {
    "duration": 22,
    "start_time": "2022-12-06T13:13:12.199Z"
   },
   {
    "duration": 11,
    "start_time": "2022-12-06T13:13:12.222Z"
   },
   {
    "duration": 22,
    "start_time": "2022-12-06T13:13:12.235Z"
   },
   {
    "duration": 16,
    "start_time": "2022-12-06T13:13:12.259Z"
   },
   {
    "duration": 50,
    "start_time": "2022-12-06T13:13:12.276Z"
   },
   {
    "duration": 275,
    "start_time": "2022-12-06T13:13:12.328Z"
   },
   {
    "duration": 287,
    "start_time": "2022-12-06T13:13:43.985Z"
   },
   {
    "duration": 203,
    "start_time": "2022-12-06T13:14:05.035Z"
   },
   {
    "duration": 243,
    "start_time": "2022-12-06T13:14:48.537Z"
   },
   {
    "duration": 267,
    "start_time": "2022-12-06T13:15:44.821Z"
   },
   {
    "duration": 6,
    "start_time": "2022-12-06T13:23:25.888Z"
   },
   {
    "duration": 8,
    "start_time": "2022-12-06T13:24:29.386Z"
   },
   {
    "duration": 826,
    "start_time": "2022-12-06T13:25:02.529Z"
   },
   {
    "duration": 265,
    "start_time": "2022-12-06T13:25:18.862Z"
   },
   {
    "duration": 240,
    "start_time": "2022-12-06T13:25:40.365Z"
   },
   {
    "duration": 601,
    "start_time": "2022-12-06T13:27:37.898Z"
   },
   {
    "duration": 4,
    "start_time": "2022-12-06T13:38:06.660Z"
   },
   {
    "duration": 548,
    "start_time": "2022-12-06T13:38:37.443Z"
   },
   {
    "duration": 1184,
    "start_time": "2022-12-07T08:43:44.667Z"
   },
   {
    "duration": 93,
    "start_time": "2022-12-07T08:44:12.506Z"
   },
   {
    "duration": 3,
    "start_time": "2022-12-07T08:44:34.155Z"
   },
   {
    "duration": 135,
    "start_time": "2022-12-07T08:44:34.160Z"
   },
   {
    "duration": 12,
    "start_time": "2022-12-07T08:44:34.297Z"
   },
   {
    "duration": 29,
    "start_time": "2022-12-07T08:44:34.310Z"
   },
   {
    "duration": 45,
    "start_time": "2022-12-07T08:44:34.342Z"
   },
   {
    "duration": 60,
    "start_time": "2022-12-07T08:44:34.388Z"
   },
   {
    "duration": 55,
    "start_time": "2022-12-07T08:44:34.449Z"
   },
   {
    "duration": 63,
    "start_time": "2022-12-07T08:44:34.506Z"
   },
   {
    "duration": 28,
    "start_time": "2022-12-07T08:44:34.570Z"
   },
   {
    "duration": 197,
    "start_time": "2022-12-07T08:44:34.600Z"
   },
   {
    "duration": 8,
    "start_time": "2022-12-07T08:44:34.799Z"
   },
   {
    "duration": 27,
    "start_time": "2022-12-07T08:44:34.809Z"
   },
   {
    "duration": 17,
    "start_time": "2022-12-07T08:44:34.838Z"
   },
   {
    "duration": 15,
    "start_time": "2022-12-07T08:44:34.857Z"
   },
   {
    "duration": 15,
    "start_time": "2022-12-07T08:44:34.873Z"
   },
   {
    "duration": 13,
    "start_time": "2022-12-07T08:44:34.889Z"
   },
   {
    "duration": 17,
    "start_time": "2022-12-07T08:44:34.903Z"
   },
   {
    "duration": 26,
    "start_time": "2022-12-07T08:44:34.922Z"
   },
   {
    "duration": 35,
    "start_time": "2022-12-07T08:44:34.950Z"
   },
   {
    "duration": 639,
    "start_time": "2022-12-07T08:44:34.987Z"
   },
   {
    "duration": 191,
    "start_time": "2022-12-07T08:45:05.213Z"
   },
   {
    "duration": 4,
    "start_time": "2022-12-07T08:46:46.112Z"
   },
   {
    "duration": 5,
    "start_time": "2022-12-07T08:47:00.351Z"
   },
   {
    "duration": 7,
    "start_time": "2022-12-07T08:47:22.570Z"
   },
   {
    "duration": 5,
    "start_time": "2022-12-07T08:47:34.551Z"
   },
   {
    "duration": 7,
    "start_time": "2022-12-07T08:47:54.847Z"
   },
   {
    "duration": 2,
    "start_time": "2022-12-07T08:48:30.547Z"
   },
   {
    "duration": 11,
    "start_time": "2022-12-07T08:48:47.447Z"
   },
   {
    "duration": 20,
    "start_time": "2022-12-07T08:49:04.402Z"
   },
   {
    "duration": 11,
    "start_time": "2022-12-07T08:49:45.874Z"
   },
   {
    "duration": 8,
    "start_time": "2022-12-07T09:05:02.723Z"
   },
   {
    "duration": 11,
    "start_time": "2022-12-07T09:05:47.950Z"
   },
   {
    "duration": 10,
    "start_time": "2022-12-07T09:06:04.049Z"
   },
   {
    "duration": 8,
    "start_time": "2022-12-07T09:06:34.131Z"
   },
   {
    "duration": 13,
    "start_time": "2022-12-07T09:07:13.613Z"
   },
   {
    "duration": 13,
    "start_time": "2022-12-07T09:07:16.845Z"
   },
   {
    "duration": 31,
    "start_time": "2022-12-07T09:07:51.169Z"
   },
   {
    "duration": 18,
    "start_time": "2022-12-07T09:09:05.904Z"
   },
   {
    "duration": 15,
    "start_time": "2022-12-07T09:09:50.994Z"
   },
   {
    "duration": 17,
    "start_time": "2022-12-07T09:11:07.239Z"
   },
   {
    "duration": 135,
    "start_time": "2022-12-07T09:11:12.532Z"
   },
   {
    "duration": 3,
    "start_time": "2022-12-07T09:13:06.543Z"
   },
   {
    "duration": 36,
    "start_time": "2022-12-07T09:13:06.548Z"
   },
   {
    "duration": 8,
    "start_time": "2022-12-07T09:13:06.587Z"
   },
   {
    "duration": 19,
    "start_time": "2022-12-07T09:13:06.597Z"
   },
   {
    "duration": 8,
    "start_time": "2022-12-07T09:13:06.618Z"
   },
   {
    "duration": 12,
    "start_time": "2022-12-07T09:13:06.627Z"
   },
   {
    "duration": 11,
    "start_time": "2022-12-07T09:13:06.641Z"
   },
   {
    "duration": 13,
    "start_time": "2022-12-07T09:13:06.653Z"
   },
   {
    "duration": 11,
    "start_time": "2022-12-07T09:13:06.667Z"
   },
   {
    "duration": 59,
    "start_time": "2022-12-07T09:13:06.679Z"
   },
   {
    "duration": 8,
    "start_time": "2022-12-07T09:13:06.740Z"
   },
   {
    "duration": 9,
    "start_time": "2022-12-07T09:13:06.749Z"
   },
   {
    "duration": 11,
    "start_time": "2022-12-07T09:13:06.759Z"
   },
   {
    "duration": 9,
    "start_time": "2022-12-07T09:13:06.772Z"
   },
   {
    "duration": 8,
    "start_time": "2022-12-07T09:13:06.783Z"
   },
   {
    "duration": 6,
    "start_time": "2022-12-07T09:13:06.793Z"
   },
   {
    "duration": 8,
    "start_time": "2022-12-07T09:13:06.800Z"
   },
   {
    "duration": 7,
    "start_time": "2022-12-07T09:13:06.810Z"
   },
   {
    "duration": 18,
    "start_time": "2022-12-07T09:13:06.819Z"
   },
   {
    "duration": 8,
    "start_time": "2022-12-07T09:13:06.838Z"
   },
   {
    "duration": 19,
    "start_time": "2022-12-07T09:13:06.848Z"
   },
   {
    "duration": 36,
    "start_time": "2022-12-07T09:13:06.869Z"
   },
   {
    "duration": 300,
    "start_time": "2022-12-07T09:13:06.907Z"
   },
   {
    "duration": 272,
    "start_time": "2022-12-07T09:13:20.582Z"
   },
   {
    "duration": 14,
    "start_time": "2022-12-07T09:14:54.810Z"
   },
   {
    "duration": 13,
    "start_time": "2022-12-07T09:15:36.054Z"
   },
   {
    "duration": 15,
    "start_time": "2022-12-07T09:15:43.971Z"
   },
   {
    "duration": 270,
    "start_time": "2022-12-07T09:18:22.509Z"
   },
   {
    "duration": 193,
    "start_time": "2022-12-07T09:18:41.711Z"
   },
   {
    "duration": 197,
    "start_time": "2022-12-07T09:18:49.431Z"
   },
   {
    "duration": 189,
    "start_time": "2022-12-07T09:28:31.052Z"
   },
   {
    "duration": 188,
    "start_time": "2022-12-07T09:28:42.122Z"
   },
   {
    "duration": 48,
    "start_time": "2022-12-07T09:32:49.264Z"
   },
   {
    "duration": 382,
    "start_time": "2022-12-07T09:33:58.057Z"
   },
   {
    "duration": 353,
    "start_time": "2022-12-07T09:34:11.846Z"
   },
   {
    "duration": 4,
    "start_time": "2022-12-07T10:28:33.327Z"
   },
   {
    "duration": 4,
    "start_time": "2022-12-07T10:29:27.736Z"
   },
   {
    "duration": 306,
    "start_time": "2022-12-07T10:32:04.729Z"
   },
   {
    "duration": 264,
    "start_time": "2022-12-07T10:32:23.354Z"
   },
   {
    "duration": 304,
    "start_time": "2022-12-07T10:32:34.826Z"
   },
   {
    "duration": 261,
    "start_time": "2022-12-07T10:32:48.338Z"
   },
   {
    "duration": 4,
    "start_time": "2022-12-07T10:36:57.511Z"
   },
   {
    "duration": 5,
    "start_time": "2022-12-07T10:37:05.896Z"
   },
   {
    "duration": 6,
    "start_time": "2022-12-07T10:37:45.178Z"
   },
   {
    "duration": 3,
    "start_time": "2022-12-07T10:40:09.817Z"
   },
   {
    "duration": 3,
    "start_time": "2022-12-07T10:40:35.180Z"
   },
   {
    "duration": 31,
    "start_time": "2022-12-07T10:40:35.185Z"
   },
   {
    "duration": 8,
    "start_time": "2022-12-07T10:40:35.218Z"
   },
   {
    "duration": 17,
    "start_time": "2022-12-07T10:40:35.228Z"
   },
   {
    "duration": 16,
    "start_time": "2022-12-07T10:40:35.248Z"
   },
   {
    "duration": 11,
    "start_time": "2022-12-07T10:40:35.265Z"
   },
   {
    "duration": 26,
    "start_time": "2022-12-07T10:40:35.277Z"
   },
   {
    "duration": 25,
    "start_time": "2022-12-07T10:40:35.304Z"
   },
   {
    "duration": 31,
    "start_time": "2022-12-07T10:40:35.331Z"
   },
   {
    "duration": 59,
    "start_time": "2022-12-07T10:40:35.363Z"
   },
   {
    "duration": 7,
    "start_time": "2022-12-07T10:40:35.425Z"
   },
   {
    "duration": 15,
    "start_time": "2022-12-07T10:40:35.434Z"
   },
   {
    "duration": 21,
    "start_time": "2022-12-07T10:40:35.450Z"
   },
   {
    "duration": 22,
    "start_time": "2022-12-07T10:40:35.473Z"
   },
   {
    "duration": 10,
    "start_time": "2022-12-07T10:40:35.496Z"
   },
   {
    "duration": 29,
    "start_time": "2022-12-07T10:40:35.507Z"
   },
   {
    "duration": 9,
    "start_time": "2022-12-07T10:40:35.537Z"
   },
   {
    "duration": 11,
    "start_time": "2022-12-07T10:40:35.547Z"
   },
   {
    "duration": 27,
    "start_time": "2022-12-07T10:40:35.559Z"
   },
   {
    "duration": 10,
    "start_time": "2022-12-07T10:40:35.588Z"
   },
   {
    "duration": 11,
    "start_time": "2022-12-07T10:40:35.599Z"
   },
   {
    "duration": 24,
    "start_time": "2022-12-07T10:40:35.612Z"
   },
   {
    "duration": 28,
    "start_time": "2022-12-07T10:40:35.638Z"
   },
   {
    "duration": 307,
    "start_time": "2022-12-07T10:40:35.668Z"
   },
   {
    "duration": 210,
    "start_time": "2022-12-07T10:40:35.977Z"
   },
   {
    "duration": 197,
    "start_time": "2022-12-07T10:40:36.189Z"
   },
   {
    "duration": 324,
    "start_time": "2022-12-07T10:40:36.388Z"
   },
   {
    "duration": 4,
    "start_time": "2022-12-07T10:40:36.714Z"
   },
   {
    "duration": 3,
    "start_time": "2022-12-07T10:41:23.033Z"
   },
   {
    "duration": 4,
    "start_time": "2022-12-07T10:41:28.578Z"
   },
   {
    "duration": 3,
    "start_time": "2022-12-07T10:41:39.484Z"
   },
   {
    "duration": 4,
    "start_time": "2022-12-07T10:44:54.901Z"
   },
   {
    "duration": 4,
    "start_time": "2022-12-07T10:45:02.058Z"
   },
   {
    "duration": 4,
    "start_time": "2022-12-07T10:45:17.239Z"
   },
   {
    "duration": 4,
    "start_time": "2022-12-07T10:46:22.785Z"
   },
   {
    "duration": 11,
    "start_time": "2022-12-07T10:46:32.555Z"
   },
   {
    "duration": 662,
    "start_time": "2022-12-07T10:47:14.073Z"
   },
   {
    "duration": 11,
    "start_time": "2022-12-07T10:51:40.519Z"
   },
   {
    "duration": 326,
    "start_time": "2022-12-07T10:52:04.618Z"
   },
   {
    "duration": 8,
    "start_time": "2022-12-07T10:52:58.145Z"
   },
   {
    "duration": 54,
    "start_time": "2022-12-07T10:53:17.449Z"
   },
   {
    "duration": 60,
    "start_time": "2022-12-07T10:53:43.280Z"
   },
   {
    "duration": 205,
    "start_time": "2022-12-07T10:54:13.122Z"
   },
   {
    "duration": 162,
    "start_time": "2022-12-07T10:54:42.403Z"
   },
   {
    "duration": 166,
    "start_time": "2022-12-07T10:54:50.147Z"
   },
   {
    "duration": 175,
    "start_time": "2022-12-07T10:55:07.380Z"
   },
   {
    "duration": 266,
    "start_time": "2022-12-07T10:59:44.948Z"
   },
   {
    "duration": 172,
    "start_time": "2022-12-07T11:05:57.936Z"
   },
   {
    "duration": 172,
    "start_time": "2022-12-07T11:07:11.737Z"
   },
   {
    "duration": 168,
    "start_time": "2022-12-07T11:07:16.409Z"
   },
   {
    "duration": 303,
    "start_time": "2022-12-07T11:11:08.203Z"
   },
   {
    "duration": 498,
    "start_time": "2022-12-07T11:12:45.613Z"
   },
   {
    "duration": 563,
    "start_time": "2022-12-07T11:21:07.014Z"
   },
   {
    "duration": 417,
    "start_time": "2022-12-07T11:21:24.920Z"
   },
   {
    "duration": 120,
    "start_time": "2022-12-07T11:21:44.019Z"
   },
   {
    "duration": 393,
    "start_time": "2022-12-07T11:22:29.115Z"
   },
   {
    "duration": 384,
    "start_time": "2022-12-07T11:23:09.768Z"
   },
   {
    "duration": 194,
    "start_time": "2022-12-07T11:28:48.299Z"
   },
   {
    "duration": 46,
    "start_time": "2022-12-07T11:29:03.764Z"
   },
   {
    "duration": 182,
    "start_time": "2022-12-07T11:29:09.085Z"
   },
   {
    "duration": 219,
    "start_time": "2022-12-07T11:30:21.995Z"
   },
   {
    "duration": 186,
    "start_time": "2022-12-07T11:30:41.336Z"
   },
   {
    "duration": 4,
    "start_time": "2022-12-07T11:38:18.570Z"
   },
   {
    "duration": 118,
    "start_time": "2022-12-07T11:38:32.307Z"
   },
   {
    "duration": 306,
    "start_time": "2022-12-07T11:39:03.719Z"
   },
   {
    "duration": 382,
    "start_time": "2022-12-07T11:41:43.321Z"
   },
   {
    "duration": 280,
    "start_time": "2022-12-07T13:10:15.651Z"
   },
   {
    "duration": 321,
    "start_time": "2022-12-07T13:15:26.070Z"
   },
   {
    "duration": 140,
    "start_time": "2022-12-07T13:21:25.983Z"
   },
   {
    "duration": 177,
    "start_time": "2022-12-07T13:21:44.652Z"
   },
   {
    "duration": 139,
    "start_time": "2022-12-07T13:21:49.852Z"
   },
   {
    "duration": 168,
    "start_time": "2022-12-07T13:22:24.683Z"
   },
   {
    "duration": 6,
    "start_time": "2022-12-07T13:28:49.119Z"
   },
   {
    "duration": 4,
    "start_time": "2022-12-07T13:31:03.809Z"
   },
   {
    "duration": 147,
    "start_time": "2022-12-07T13:34:19.331Z"
   },
   {
    "duration": 153,
    "start_time": "2022-12-07T13:34:29.260Z"
   },
   {
    "duration": 142,
    "start_time": "2022-12-07T13:34:37.011Z"
   },
   {
    "duration": 200,
    "start_time": "2022-12-07T13:36:07.210Z"
   },
   {
    "duration": 146,
    "start_time": "2022-12-07T13:36:30.710Z"
   },
   {
    "duration": 152,
    "start_time": "2022-12-07T13:36:33.628Z"
   },
   {
    "duration": 5,
    "start_time": "2022-12-07T13:44:41.964Z"
   },
   {
    "duration": 5,
    "start_time": "2022-12-07T13:44:46.022Z"
   },
   {
    "duration": 15,
    "start_time": "2022-12-07T14:29:46.627Z"
   },
   {
    "duration": 16,
    "start_time": "2022-12-07T14:30:45.968Z"
   },
   {
    "duration": 15,
    "start_time": "2022-12-07T14:30:58.835Z"
   },
   {
    "duration": 16,
    "start_time": "2022-12-07T14:32:06.900Z"
   },
   {
    "duration": 12,
    "start_time": "2022-12-07T14:33:04.056Z"
   },
   {
    "duration": 141,
    "start_time": "2022-12-07T14:36:11.386Z"
   },
   {
    "duration": 140,
    "start_time": "2022-12-07T14:39:56.792Z"
   },
   {
    "duration": 8,
    "start_time": "2022-12-07T14:40:02.519Z"
   },
   {
    "duration": 15,
    "start_time": "2022-12-07T14:41:22.839Z"
   },
   {
    "duration": 10,
    "start_time": "2022-12-07T14:42:22.217Z"
   },
   {
    "duration": 16,
    "start_time": "2022-12-07T14:45:24.507Z"
   },
   {
    "duration": 15,
    "start_time": "2022-12-07T14:46:19.349Z"
   },
   {
    "duration": 896,
    "start_time": "2022-12-07T14:47:26.566Z"
   },
   {
    "duration": 16,
    "start_time": "2022-12-07T14:54:29.286Z"
   },
   {
    "duration": 16,
    "start_time": "2022-12-07T15:05:19.810Z"
   },
   {
    "duration": 127,
    "start_time": "2022-12-07T15:06:10.371Z"
   },
   {
    "duration": 49,
    "start_time": "2022-12-08T08:28:40.495Z"
   },
   {
    "duration": 1317,
    "start_time": "2022-12-08T08:28:45.152Z"
   },
   {
    "duration": 148,
    "start_time": "2022-12-08T08:28:46.472Z"
   },
   {
    "duration": 14,
    "start_time": "2022-12-08T08:28:46.622Z"
   },
   {
    "duration": 15,
    "start_time": "2022-12-08T08:28:46.639Z"
   },
   {
    "duration": 14,
    "start_time": "2022-12-08T08:28:46.656Z"
   },
   {
    "duration": 23,
    "start_time": "2022-12-08T08:28:46.680Z"
   },
   {
    "duration": 20,
    "start_time": "2022-12-08T08:28:46.705Z"
   },
   {
    "duration": 11,
    "start_time": "2022-12-08T08:28:46.728Z"
   },
   {
    "duration": 16,
    "start_time": "2022-12-08T08:28:46.740Z"
   },
   {
    "duration": 169,
    "start_time": "2022-12-08T08:28:46.760Z"
   },
   {
    "duration": 13,
    "start_time": "2022-12-08T08:28:46.931Z"
   },
   {
    "duration": 14,
    "start_time": "2022-12-08T08:28:46.946Z"
   },
   {
    "duration": 19,
    "start_time": "2022-12-08T08:28:46.962Z"
   },
   {
    "duration": 27,
    "start_time": "2022-12-08T08:28:46.987Z"
   },
   {
    "duration": 15,
    "start_time": "2022-12-08T08:28:47.016Z"
   },
   {
    "duration": 9,
    "start_time": "2022-12-08T08:28:47.034Z"
   },
   {
    "duration": 40,
    "start_time": "2022-12-08T08:28:47.045Z"
   },
   {
    "duration": 22,
    "start_time": "2022-12-08T08:28:47.087Z"
   },
   {
    "duration": 26,
    "start_time": "2022-12-08T08:28:47.111Z"
   },
   {
    "duration": 13,
    "start_time": "2022-12-08T08:28:47.140Z"
   },
   {
    "duration": 31,
    "start_time": "2022-12-08T08:28:47.155Z"
   },
   {
    "duration": 20,
    "start_time": "2022-12-08T08:28:47.188Z"
   },
   {
    "duration": 17,
    "start_time": "2022-12-08T08:28:47.209Z"
   },
   {
    "duration": 393,
    "start_time": "2022-12-08T08:28:47.229Z"
   },
   {
    "duration": 391,
    "start_time": "2022-12-08T08:28:47.624Z"
   },
   {
    "duration": 287,
    "start_time": "2022-12-08T08:28:48.016Z"
   },
   {
    "duration": 401,
    "start_time": "2022-12-08T08:28:48.305Z"
   },
   {
    "duration": 298,
    "start_time": "2022-12-08T08:28:48.710Z"
   },
   {
    "duration": 328,
    "start_time": "2022-12-08T08:28:49.010Z"
   },
   {
    "duration": 162,
    "start_time": "2022-12-08T08:28:49.341Z"
   },
   {
    "duration": 201,
    "start_time": "2022-12-08T08:28:49.505Z"
   },
   {
    "duration": 4,
    "start_time": "2022-12-08T08:28:49.709Z"
   },
   {
    "duration": 219,
    "start_time": "2022-12-08T08:28:49.715Z"
   },
   {
    "duration": 232,
    "start_time": "2022-12-08T08:28:49.936Z"
   },
   {
    "duration": 6,
    "start_time": "2022-12-08T08:28:50.170Z"
   },
   {
    "duration": 272,
    "start_time": "2022-12-08T08:28:50.179Z"
   },
   {
    "duration": 0,
    "start_time": "2022-12-08T08:28:50.452Z"
   },
   {
    "duration": 10,
    "start_time": "2022-12-08T08:29:56.813Z"
   },
   {
    "duration": 15,
    "start_time": "2022-12-08T08:31:09.921Z"
   },
   {
    "duration": 8,
    "start_time": "2022-12-08T08:43:46.375Z"
   },
   {
    "duration": 8,
    "start_time": "2022-12-08T08:43:59.519Z"
   },
   {
    "duration": 8,
    "start_time": "2022-12-08T08:44:04.274Z"
   },
   {
    "duration": 204,
    "start_time": "2022-12-08T08:44:25.204Z"
   },
   {
    "duration": 218,
    "start_time": "2022-12-08T08:44:44.567Z"
   },
   {
    "duration": 8,
    "start_time": "2022-12-08T08:46:07.781Z"
   },
   {
    "duration": 48,
    "start_time": "2022-12-08T08:48:16.469Z"
   },
   {
    "duration": 178,
    "start_time": "2022-12-08T08:59:09.323Z"
   },
   {
    "duration": 184,
    "start_time": "2022-12-08T09:01:08.668Z"
   },
   {
    "duration": 207,
    "start_time": "2022-12-08T09:01:23.713Z"
   },
   {
    "duration": 28,
    "start_time": "2022-12-08T09:25:41.578Z"
   },
   {
    "duration": 15,
    "start_time": "2022-12-08T09:26:43.892Z"
   },
   {
    "duration": 58,
    "start_time": "2022-12-08T09:27:33.196Z"
   },
   {
    "duration": 18,
    "start_time": "2022-12-08T09:28:12.273Z"
   },
   {
    "duration": 13,
    "start_time": "2022-12-08T09:28:18.442Z"
   },
   {
    "duration": 10,
    "start_time": "2022-12-08T09:38:45.706Z"
   },
   {
    "duration": 16,
    "start_time": "2022-12-08T10:00:45.173Z"
   },
   {
    "duration": 10,
    "start_time": "2022-12-08T10:01:34.837Z"
   },
   {
    "duration": 22,
    "start_time": "2022-12-08T10:06:10.022Z"
   },
   {
    "duration": 22,
    "start_time": "2022-12-08T10:06:46.301Z"
   },
   {
    "duration": 24,
    "start_time": "2022-12-08T10:18:39.173Z"
   },
   {
    "duration": 1150,
    "start_time": "2022-12-08T13:07:52.859Z"
   },
   {
    "duration": 140,
    "start_time": "2022-12-08T13:07:54.011Z"
   },
   {
    "duration": 12,
    "start_time": "2022-12-08T13:07:54.153Z"
   },
   {
    "duration": 11,
    "start_time": "2022-12-08T13:07:54.167Z"
   },
   {
    "duration": 9,
    "start_time": "2022-12-08T13:07:54.180Z"
   },
   {
    "duration": 6,
    "start_time": "2022-12-08T13:07:54.196Z"
   },
   {
    "duration": 12,
    "start_time": "2022-12-08T13:07:54.204Z"
   },
   {
    "duration": 17,
    "start_time": "2022-12-08T13:07:54.217Z"
   },
   {
    "duration": 10,
    "start_time": "2022-12-08T13:07:54.236Z"
   },
   {
    "duration": 210,
    "start_time": "2022-12-08T13:07:54.248Z"
   },
   {
    "duration": 9,
    "start_time": "2022-12-08T13:07:54.460Z"
   },
   {
    "duration": 11,
    "start_time": "2022-12-08T13:07:54.471Z"
   },
   {
    "duration": 24,
    "start_time": "2022-12-08T13:07:54.484Z"
   },
   {
    "duration": 17,
    "start_time": "2022-12-08T13:07:54.512Z"
   },
   {
    "duration": 26,
    "start_time": "2022-12-08T13:07:54.532Z"
   },
   {
    "duration": 25,
    "start_time": "2022-12-08T13:07:54.560Z"
   },
   {
    "duration": 18,
    "start_time": "2022-12-08T13:07:54.587Z"
   },
   {
    "duration": 14,
    "start_time": "2022-12-08T13:07:54.606Z"
   },
   {
    "duration": 23,
    "start_time": "2022-12-08T13:07:54.622Z"
   },
   {
    "duration": 13,
    "start_time": "2022-12-08T13:07:54.648Z"
   },
   {
    "duration": 17,
    "start_time": "2022-12-08T13:07:54.663Z"
   },
   {
    "duration": 16,
    "start_time": "2022-12-08T13:07:54.697Z"
   },
   {
    "duration": 15,
    "start_time": "2022-12-08T13:07:54.714Z"
   },
   {
    "duration": 342,
    "start_time": "2022-12-08T13:07:54.732Z"
   },
   {
    "duration": 312,
    "start_time": "2022-12-08T13:07:55.076Z"
   },
   {
    "duration": 199,
    "start_time": "2022-12-08T13:07:55.389Z"
   },
   {
    "duration": 367,
    "start_time": "2022-12-08T13:07:55.596Z"
   },
   {
    "duration": 269,
    "start_time": "2022-12-08T13:07:55.965Z"
   },
   {
    "duration": 287,
    "start_time": "2022-12-08T13:07:56.235Z"
   },
   {
    "duration": 180,
    "start_time": "2022-12-08T13:07:56.524Z"
   },
   {
    "duration": 173,
    "start_time": "2022-12-08T13:07:56.706Z"
   },
   {
    "duration": 15,
    "start_time": "2022-12-08T13:07:56.881Z"
   },
   {
    "duration": 159,
    "start_time": "2022-12-08T13:07:56.898Z"
   },
   {
    "duration": 190,
    "start_time": "2022-12-08T13:07:57.059Z"
   },
   {
    "duration": 5,
    "start_time": "2022-12-08T13:07:57.251Z"
   },
   {
    "duration": 11,
    "start_time": "2022-12-08T13:07:57.258Z"
   },
   {
    "duration": 10,
    "start_time": "2022-12-08T13:07:57.270Z"
   },
   {
    "duration": 197,
    "start_time": "2022-12-08T13:07:57.282Z"
   },
   {
    "duration": 36,
    "start_time": "2022-12-08T13:07:57.480Z"
   },
   {
    "duration": 187,
    "start_time": "2022-12-08T13:07:57.518Z"
   },
   {
    "duration": 10,
    "start_time": "2022-12-08T13:07:57.709Z"
   },
   {
    "duration": 10,
    "start_time": "2022-12-08T13:07:57.721Z"
   },
   {
    "duration": 7,
    "start_time": "2022-12-08T13:07:57.732Z"
   },
   {
    "duration": 22,
    "start_time": "2022-12-08T13:07:57.740Z"
   },
   {
    "duration": 40,
    "start_time": "2022-12-08T13:07:57.764Z"
   },
   {
    "duration": 12,
    "start_time": "2022-12-08T13:24:27.871Z"
   },
   {
    "duration": 12,
    "start_time": "2022-12-08T13:25:03.052Z"
   },
   {
    "duration": 9,
    "start_time": "2022-12-08T13:26:15.882Z"
   },
   {
    "duration": 46,
    "start_time": "2022-12-08T14:01:28.489Z"
   },
   {
    "duration": 1267,
    "start_time": "2022-12-08T14:01:34.759Z"
   },
   {
    "duration": 149,
    "start_time": "2022-12-08T14:01:36.028Z"
   },
   {
    "duration": 12,
    "start_time": "2022-12-08T14:01:36.179Z"
   },
   {
    "duration": 12,
    "start_time": "2022-12-08T14:01:36.193Z"
   },
   {
    "duration": 8,
    "start_time": "2022-12-08T14:01:36.207Z"
   },
   {
    "duration": 12,
    "start_time": "2022-12-08T14:01:36.217Z"
   },
   {
    "duration": 17,
    "start_time": "2022-12-08T14:01:36.230Z"
   },
   {
    "duration": 21,
    "start_time": "2022-12-08T14:01:36.249Z"
   },
   {
    "duration": 8,
    "start_time": "2022-12-08T14:01:36.272Z"
   },
   {
    "duration": 158,
    "start_time": "2022-12-08T14:01:36.282Z"
   },
   {
    "duration": 8,
    "start_time": "2022-12-08T14:01:36.442Z"
   },
   {
    "duration": 9,
    "start_time": "2022-12-08T14:01:36.452Z"
   },
   {
    "duration": 12,
    "start_time": "2022-12-08T14:01:36.462Z"
   },
   {
    "duration": 12,
    "start_time": "2022-12-08T14:01:36.476Z"
   },
   {
    "duration": 7,
    "start_time": "2022-12-08T14:01:36.489Z"
   },
   {
    "duration": 4,
    "start_time": "2022-12-08T14:01:36.498Z"
   },
   {
    "duration": 5,
    "start_time": "2022-12-08T14:01:36.504Z"
   },
   {
    "duration": 7,
    "start_time": "2022-12-08T14:01:36.511Z"
   },
   {
    "duration": 20,
    "start_time": "2022-12-08T14:01:36.519Z"
   },
   {
    "duration": 10,
    "start_time": "2022-12-08T14:01:36.541Z"
   },
   {
    "duration": 14,
    "start_time": "2022-12-08T14:01:36.553Z"
   },
   {
    "duration": 43,
    "start_time": "2022-12-08T14:01:36.568Z"
   },
   {
    "duration": 16,
    "start_time": "2022-12-08T14:01:36.613Z"
   },
   {
    "duration": 313,
    "start_time": "2022-12-08T14:01:36.631Z"
   },
   {
    "duration": 291,
    "start_time": "2022-12-08T14:01:36.945Z"
   },
   {
    "duration": 241,
    "start_time": "2022-12-08T14:01:37.238Z"
   },
   {
    "duration": 367,
    "start_time": "2022-12-08T14:01:37.481Z"
   },
   {
    "duration": 204,
    "start_time": "2022-12-08T14:01:37.853Z"
   },
   {
    "duration": 320,
    "start_time": "2022-12-08T14:01:38.059Z"
   },
   {
    "duration": 155,
    "start_time": "2022-12-08T14:01:38.381Z"
   },
   {
    "duration": 172,
    "start_time": "2022-12-08T14:01:38.538Z"
   },
   {
    "duration": 4,
    "start_time": "2022-12-08T14:01:38.713Z"
   },
   {
    "duration": 167,
    "start_time": "2022-12-08T14:01:38.719Z"
   },
   {
    "duration": 186,
    "start_time": "2022-12-08T14:01:38.887Z"
   },
   {
    "duration": 5,
    "start_time": "2022-12-08T14:01:39.075Z"
   },
   {
    "duration": 13,
    "start_time": "2022-12-08T14:01:39.081Z"
   },
   {
    "duration": 11,
    "start_time": "2022-12-08T14:01:39.096Z"
   },
   {
    "duration": 195,
    "start_time": "2022-12-08T14:01:39.109Z"
   },
   {
    "duration": 27,
    "start_time": "2022-12-08T14:01:39.306Z"
   },
   {
    "duration": 180,
    "start_time": "2022-12-08T14:01:39.335Z"
   },
   {
    "duration": 11,
    "start_time": "2022-12-08T14:01:39.517Z"
   },
   {
    "duration": 9,
    "start_time": "2022-12-08T14:01:39.530Z"
   },
   {
    "duration": 10,
    "start_time": "2022-12-08T14:01:39.540Z"
   },
   {
    "duration": 24,
    "start_time": "2022-12-08T14:01:39.552Z"
   },
   {
    "duration": 14,
    "start_time": "2022-12-08T14:01:39.605Z"
   },
   {
    "duration": 9,
    "start_time": "2022-12-08T14:03:07.315Z"
   },
   {
    "duration": 294,
    "start_time": "2022-12-08T14:23:23.700Z"
   },
   {
    "duration": 210,
    "start_time": "2022-12-08T14:26:02.624Z"
   },
   {
    "duration": 338,
    "start_time": "2022-12-08T14:26:51.975Z"
   },
   {
    "duration": 214,
    "start_time": "2022-12-08T14:30:19.212Z"
   },
   {
    "duration": 279,
    "start_time": "2022-12-08T14:30:42.041Z"
   },
   {
    "duration": 90,
    "start_time": "2022-12-08T14:34:33.203Z"
   },
   {
    "duration": 1433,
    "start_time": "2022-12-08T14:35:46.506Z"
   },
   {
    "duration": 11,
    "start_time": "2022-12-08T14:36:39.729Z"
   },
   {
    "duration": 1364,
    "start_time": "2022-12-08T14:41:01.520Z"
   },
   {
    "duration": 308,
    "start_time": "2022-12-08T14:41:17.459Z"
   },
   {
    "duration": 325,
    "start_time": "2022-12-08T14:41:39.802Z"
   },
   {
    "duration": 216,
    "start_time": "2022-12-08T14:42:56.159Z"
   },
   {
    "duration": 235,
    "start_time": "2022-12-08T14:43:13.480Z"
   },
   {
    "duration": 248,
    "start_time": "2022-12-08T14:48:39.726Z"
   },
   {
    "duration": 8,
    "start_time": "2022-12-08T14:49:04.765Z"
   },
   {
    "duration": 217,
    "start_time": "2022-12-08T14:50:25.789Z"
   },
   {
    "duration": 174,
    "start_time": "2022-12-08T14:54:48.344Z"
   },
   {
    "duration": 155,
    "start_time": "2022-12-08T14:56:05.050Z"
   },
   {
    "duration": 184,
    "start_time": "2022-12-08T14:56:37.094Z"
   },
   {
    "duration": 9,
    "start_time": "2022-12-08T15:44:09.294Z"
   },
   {
    "duration": 13,
    "start_time": "2022-12-08T15:45:55.810Z"
   },
   {
    "duration": 9,
    "start_time": "2022-12-08T15:46:25.641Z"
   },
   {
    "duration": 58,
    "start_time": "2022-12-08T15:57:27.398Z"
   },
   {
    "duration": 66,
    "start_time": "2022-12-08T15:58:09.008Z"
   },
   {
    "duration": 64,
    "start_time": "2022-12-08T16:01:49.951Z"
   },
   {
    "duration": 165,
    "start_time": "2022-12-08T16:02:15.060Z"
   },
   {
    "duration": 2,
    "start_time": "2022-12-08T16:02:21.587Z"
   },
   {
    "duration": 28,
    "start_time": "2022-12-08T16:02:21.609Z"
   },
   {
    "duration": 7,
    "start_time": "2022-12-08T16:02:21.638Z"
   },
   {
    "duration": 42,
    "start_time": "2022-12-08T16:02:21.647Z"
   },
   {
    "duration": 22,
    "start_time": "2022-12-08T16:02:21.690Z"
   },
   {
    "duration": 16,
    "start_time": "2022-12-08T16:02:21.713Z"
   },
   {
    "duration": 24,
    "start_time": "2022-12-08T16:02:21.730Z"
   },
   {
    "duration": 18,
    "start_time": "2022-12-08T16:02:21.755Z"
   },
   {
    "duration": 14,
    "start_time": "2022-12-08T16:02:21.774Z"
   },
   {
    "duration": 70,
    "start_time": "2022-12-08T16:02:21.790Z"
   },
   {
    "duration": 8,
    "start_time": "2022-12-08T16:02:21.862Z"
   },
   {
    "duration": 25,
    "start_time": "2022-12-08T16:02:21.871Z"
   },
   {
    "duration": 36,
    "start_time": "2022-12-08T16:02:21.897Z"
   },
   {
    "duration": 31,
    "start_time": "2022-12-08T16:02:21.935Z"
   },
   {
    "duration": 16,
    "start_time": "2022-12-08T16:02:21.967Z"
   },
   {
    "duration": 17,
    "start_time": "2022-12-08T16:02:21.984Z"
   },
   {
    "duration": 26,
    "start_time": "2022-12-08T16:02:22.003Z"
   },
   {
    "duration": 25,
    "start_time": "2022-12-08T16:02:22.030Z"
   },
   {
    "duration": 56,
    "start_time": "2022-12-08T16:02:22.057Z"
   },
   {
    "duration": 14,
    "start_time": "2022-12-08T16:02:22.115Z"
   },
   {
    "duration": 45,
    "start_time": "2022-12-08T16:02:22.131Z"
   },
   {
    "duration": 69,
    "start_time": "2022-12-08T16:02:22.177Z"
   },
   {
    "duration": 39,
    "start_time": "2022-12-08T16:02:22.248Z"
   },
   {
    "duration": 324,
    "start_time": "2022-12-08T16:02:22.289Z"
   },
   {
    "duration": 227,
    "start_time": "2022-12-08T16:02:22.615Z"
   },
   {
    "duration": 210,
    "start_time": "2022-12-08T16:02:22.844Z"
   },
   {
    "duration": 282,
    "start_time": "2022-12-08T16:02:23.056Z"
   },
   {
    "duration": 233,
    "start_time": "2022-12-08T16:02:23.340Z"
   },
   {
    "duration": 7,
    "start_time": "2022-12-08T16:02:23.576Z"
   },
   {
    "duration": 275,
    "start_time": "2022-12-08T16:02:23.585Z"
   },
   {
    "duration": 116,
    "start_time": "2022-12-08T16:02:23.862Z"
   },
   {
    "duration": 150,
    "start_time": "2022-12-08T16:02:23.980Z"
   },
   {
    "duration": 5,
    "start_time": "2022-12-08T16:02:24.132Z"
   },
   {
    "duration": 327,
    "start_time": "2022-12-08T16:02:24.139Z"
   },
   {
    "duration": 174,
    "start_time": "2022-12-08T16:02:24.469Z"
   },
   {
    "duration": 5,
    "start_time": "2022-12-08T16:02:24.645Z"
   },
   {
    "duration": 47,
    "start_time": "2022-12-08T16:02:24.651Z"
   },
   {
    "duration": 28,
    "start_time": "2022-12-08T16:02:24.699Z"
   },
   {
    "duration": 74,
    "start_time": "2022-12-08T16:02:24.729Z"
   },
   {
    "duration": 183,
    "start_time": "2022-12-08T16:02:24.805Z"
   },
   {
    "duration": 22,
    "start_time": "2022-12-08T16:02:24.990Z"
   },
   {
    "duration": 29,
    "start_time": "2022-12-08T16:02:25.014Z"
   },
   {
    "duration": 12,
    "start_time": "2022-12-08T16:02:25.045Z"
   },
   {
    "duration": 61,
    "start_time": "2022-12-08T16:02:25.058Z"
   },
   {
    "duration": 16,
    "start_time": "2022-12-08T16:02:25.121Z"
   },
   {
    "duration": 12,
    "start_time": "2022-12-08T16:03:03.918Z"
   },
   {
    "duration": 193,
    "start_time": "2022-12-08T16:04:23.630Z"
   },
   {
    "duration": 60,
    "start_time": "2022-12-08T16:04:46.143Z"
   },
   {
    "duration": 57,
    "start_time": "2022-12-08T16:06:02.775Z"
   },
   {
    "duration": 58,
    "start_time": "2022-12-08T16:07:08.352Z"
   },
   {
    "duration": 66,
    "start_time": "2022-12-08T16:14:52.737Z"
   },
   {
    "duration": 1023,
    "start_time": "2022-12-08T19:22:40.944Z"
   },
   {
    "duration": 76,
    "start_time": "2022-12-08T19:22:41.969Z"
   },
   {
    "duration": 10,
    "start_time": "2022-12-08T19:22:42.047Z"
   },
   {
    "duration": 12,
    "start_time": "2022-12-08T19:22:42.059Z"
   },
   {
    "duration": 7,
    "start_time": "2022-12-08T19:22:42.073Z"
   },
   {
    "duration": 11,
    "start_time": "2022-12-08T19:22:42.081Z"
   },
   {
    "duration": 11,
    "start_time": "2022-12-08T19:22:42.093Z"
   },
   {
    "duration": 10,
    "start_time": "2022-12-08T19:22:42.105Z"
   },
   {
    "duration": 8,
    "start_time": "2022-12-08T19:22:42.116Z"
   },
   {
    "duration": 51,
    "start_time": "2022-12-08T19:22:42.126Z"
   },
   {
    "duration": 7,
    "start_time": "2022-12-08T19:22:42.178Z"
   },
   {
    "duration": 9,
    "start_time": "2022-12-08T19:22:42.187Z"
   },
   {
    "duration": 11,
    "start_time": "2022-12-08T19:22:42.197Z"
   },
   {
    "duration": 10,
    "start_time": "2022-12-08T19:22:42.209Z"
   },
   {
    "duration": 8,
    "start_time": "2022-12-08T19:22:42.221Z"
   },
   {
    "duration": 5,
    "start_time": "2022-12-08T19:22:42.230Z"
   },
   {
    "duration": 6,
    "start_time": "2022-12-08T19:22:42.236Z"
   },
   {
    "duration": 6,
    "start_time": "2022-12-08T19:22:42.244Z"
   },
   {
    "duration": 17,
    "start_time": "2022-12-08T19:22:42.278Z"
   },
   {
    "duration": 8,
    "start_time": "2022-12-08T19:22:42.296Z"
   },
   {
    "duration": 12,
    "start_time": "2022-12-08T19:22:42.306Z"
   },
   {
    "duration": 11,
    "start_time": "2022-12-08T19:22:42.319Z"
   },
   {
    "duration": 11,
    "start_time": "2022-12-08T19:22:42.331Z"
   },
   {
    "duration": 318,
    "start_time": "2022-12-08T19:22:42.343Z"
   },
   {
    "duration": 332,
    "start_time": "2022-12-08T19:22:42.663Z"
   },
   {
    "duration": 212,
    "start_time": "2022-12-08T19:22:42.997Z"
   },
   {
    "duration": 275,
    "start_time": "2022-12-08T19:22:43.210Z"
   },
   {
    "duration": 208,
    "start_time": "2022-12-08T19:22:43.488Z"
   },
   {
    "duration": 7,
    "start_time": "2022-12-08T19:22:43.698Z"
   },
   {
    "duration": 230,
    "start_time": "2022-12-08T19:22:43.706Z"
   },
   {
    "duration": 188,
    "start_time": "2022-12-08T19:22:43.939Z"
   },
   {
    "duration": 154,
    "start_time": "2022-12-08T19:22:44.128Z"
   },
   {
    "duration": 4,
    "start_time": "2022-12-08T19:22:44.283Z"
   },
   {
    "duration": 158,
    "start_time": "2022-12-08T19:22:44.288Z"
   },
   {
    "duration": 190,
    "start_time": "2022-12-08T19:22:44.447Z"
   },
   {
    "duration": 4,
    "start_time": "2022-12-08T19:22:44.639Z"
   },
   {
    "duration": 13,
    "start_time": "2022-12-08T19:22:44.645Z"
   },
   {
    "duration": 13,
    "start_time": "2022-12-08T19:22:44.660Z"
   },
   {
    "duration": 14,
    "start_time": "2022-12-08T19:22:44.675Z"
   },
   {
    "duration": 56,
    "start_time": "2022-12-08T19:22:44.691Z"
   },
   {
    "duration": 10,
    "start_time": "2022-12-08T19:22:44.749Z"
   },
   {
    "duration": 1313,
    "start_time": "2022-12-08T19:22:44.760Z"
   },
   {
    "duration": 0,
    "start_time": "2022-12-08T19:22:46.075Z"
   },
   {
    "duration": 0,
    "start_time": "2022-12-08T19:22:46.076Z"
   },
   {
    "duration": 0,
    "start_time": "2022-12-08T19:22:46.078Z"
   },
   {
    "duration": 47,
    "start_time": "2022-12-08T19:32:32.683Z"
   },
   {
    "duration": 1178,
    "start_time": "2022-12-08T19:32:50.876Z"
   },
   {
    "duration": 140,
    "start_time": "2022-12-08T19:32:52.057Z"
   },
   {
    "duration": 12,
    "start_time": "2022-12-08T19:32:52.199Z"
   },
   {
    "duration": 10,
    "start_time": "2022-12-08T19:32:52.213Z"
   },
   {
    "duration": 57,
    "start_time": "2022-12-08T19:32:52.225Z"
   },
   {
    "duration": 8,
    "start_time": "2022-12-08T19:32:52.284Z"
   },
   {
    "duration": 11,
    "start_time": "2022-12-08T19:32:52.293Z"
   },
   {
    "duration": 11,
    "start_time": "2022-12-08T19:32:52.305Z"
   },
   {
    "duration": 7,
    "start_time": "2022-12-08T19:32:52.318Z"
   },
   {
    "duration": 213,
    "start_time": "2022-12-08T19:32:52.328Z"
   },
   {
    "duration": 8,
    "start_time": "2022-12-08T19:32:52.542Z"
   },
   {
    "duration": 9,
    "start_time": "2022-12-08T19:32:52.552Z"
   },
   {
    "duration": 11,
    "start_time": "2022-12-08T19:32:52.563Z"
   },
   {
    "duration": 13,
    "start_time": "2022-12-08T19:32:52.575Z"
   },
   {
    "duration": 7,
    "start_time": "2022-12-08T19:32:52.590Z"
   },
   {
    "duration": 7,
    "start_time": "2022-12-08T19:32:52.599Z"
   },
   {
    "duration": 7,
    "start_time": "2022-12-08T19:32:52.608Z"
   },
   {
    "duration": 9,
    "start_time": "2022-12-08T19:32:52.616Z"
   },
   {
    "duration": 20,
    "start_time": "2022-12-08T19:32:52.626Z"
   },
   {
    "duration": 9,
    "start_time": "2022-12-08T19:32:52.647Z"
   },
   {
    "duration": 13,
    "start_time": "2022-12-08T19:32:52.678Z"
   },
   {
    "duration": 37,
    "start_time": "2022-12-08T19:32:52.693Z"
   },
   {
    "duration": 29,
    "start_time": "2022-12-08T19:32:52.731Z"
   },
   {
    "duration": 372,
    "start_time": "2022-12-08T19:32:52.762Z"
   },
   {
    "duration": 294,
    "start_time": "2022-12-08T19:32:53.135Z"
   },
   {
    "duration": 224,
    "start_time": "2022-12-08T19:32:53.430Z"
   },
   {
    "duration": 390,
    "start_time": "2022-12-08T19:32:53.656Z"
   },
   {
    "duration": 243,
    "start_time": "2022-12-08T19:32:54.052Z"
   },
   {
    "duration": 9,
    "start_time": "2022-12-08T19:32:54.297Z"
   },
   {
    "duration": 239,
    "start_time": "2022-12-08T19:32:54.307Z"
   },
   {
    "duration": 150,
    "start_time": "2022-12-08T19:32:54.548Z"
   },
   {
    "duration": 142,
    "start_time": "2022-12-08T19:32:54.699Z"
   },
   {
    "duration": 5,
    "start_time": "2022-12-08T19:32:54.842Z"
   },
   {
    "duration": 165,
    "start_time": "2022-12-08T19:32:54.848Z"
   },
   {
    "duration": 198,
    "start_time": "2022-12-08T19:32:55.015Z"
   },
   {
    "duration": 5,
    "start_time": "2022-12-08T19:32:55.215Z"
   },
   {
    "duration": 10,
    "start_time": "2022-12-08T19:32:55.221Z"
   },
   {
    "duration": 10,
    "start_time": "2022-12-08T19:32:55.232Z"
   },
   {
    "duration": 14,
    "start_time": "2022-12-08T19:32:55.243Z"
   },
   {
    "duration": 56,
    "start_time": "2022-12-08T19:32:55.258Z"
   },
   {
    "duration": 11,
    "start_time": "2022-12-08T19:32:55.315Z"
   },
   {
    "duration": 1110,
    "start_time": "2022-12-08T19:32:55.327Z"
   },
   {
    "duration": 0,
    "start_time": "2022-12-08T19:32:56.439Z"
   },
   {
    "duration": 0,
    "start_time": "2022-12-08T19:32:56.441Z"
   },
   {
    "duration": 0,
    "start_time": "2022-12-08T19:32:56.443Z"
   },
   {
    "duration": 0,
    "start_time": "2022-12-08T19:32:56.444Z"
   },
   {
    "duration": 4,
    "start_time": "2022-12-08T19:33:21.097Z"
   },
   {
    "duration": 15,
    "start_time": "2022-12-08T19:34:07.660Z"
   },
   {
    "duration": 15,
    "start_time": "2022-12-08T19:34:19.293Z"
   },
   {
    "duration": 45,
    "start_time": "2022-12-10T06:25:56.426Z"
   },
   {
    "duration": 1267,
    "start_time": "2022-12-10T06:26:02.647Z"
   },
   {
    "duration": 149,
    "start_time": "2022-12-10T06:26:03.917Z"
   },
   {
    "duration": 15,
    "start_time": "2022-12-10T06:26:04.069Z"
   },
   {
    "duration": 37,
    "start_time": "2022-12-10T06:26:04.086Z"
   },
   {
    "duration": 13,
    "start_time": "2022-12-10T06:26:04.124Z"
   },
   {
    "duration": 22,
    "start_time": "2022-12-10T06:26:04.139Z"
   },
   {
    "duration": 25,
    "start_time": "2022-12-10T06:26:04.163Z"
   },
   {
    "duration": 32,
    "start_time": "2022-12-10T06:26:04.190Z"
   },
   {
    "duration": 12,
    "start_time": "2022-12-10T06:26:04.224Z"
   },
   {
    "duration": 147,
    "start_time": "2022-12-10T06:26:04.240Z"
   },
   {
    "duration": 8,
    "start_time": "2022-12-10T06:26:04.389Z"
   },
   {
    "duration": 19,
    "start_time": "2022-12-10T06:26:04.399Z"
   },
   {
    "duration": 13,
    "start_time": "2022-12-10T06:26:04.420Z"
   },
   {
    "duration": 11,
    "start_time": "2022-12-10T06:26:04.435Z"
   },
   {
    "duration": 12,
    "start_time": "2022-12-10T06:26:04.448Z"
   },
   {
    "duration": 6,
    "start_time": "2022-12-10T06:26:04.462Z"
   },
   {
    "duration": 15,
    "start_time": "2022-12-10T06:26:04.469Z"
   },
   {
    "duration": 11,
    "start_time": "2022-12-10T06:26:04.485Z"
   },
   {
    "duration": 23,
    "start_time": "2022-12-10T06:26:04.497Z"
   },
   {
    "duration": 17,
    "start_time": "2022-12-10T06:26:04.521Z"
   },
   {
    "duration": 13,
    "start_time": "2022-12-10T06:26:04.540Z"
   },
   {
    "duration": 27,
    "start_time": "2022-12-10T06:26:04.555Z"
   },
   {
    "duration": 15,
    "start_time": "2022-12-10T06:26:04.583Z"
   },
   {
    "duration": 315,
    "start_time": "2022-12-10T06:26:04.599Z"
   },
   {
    "duration": 311,
    "start_time": "2022-12-10T06:26:04.916Z"
   },
   {
    "duration": 219,
    "start_time": "2022-12-10T06:26:05.229Z"
   },
   {
    "duration": 392,
    "start_time": "2022-12-10T06:26:05.450Z"
   },
   {
    "duration": 215,
    "start_time": "2022-12-10T06:26:05.845Z"
   },
   {
    "duration": 91,
    "start_time": "2022-12-10T06:26:06.062Z"
   },
   {
    "duration": 0,
    "start_time": "2022-12-10T06:26:06.155Z"
   },
   {
    "duration": 0,
    "start_time": "2022-12-10T06:26:06.156Z"
   },
   {
    "duration": 0,
    "start_time": "2022-12-10T06:26:06.157Z"
   },
   {
    "duration": 0,
    "start_time": "2022-12-10T06:26:06.158Z"
   },
   {
    "duration": 0,
    "start_time": "2022-12-10T06:26:06.159Z"
   },
   {
    "duration": 0,
    "start_time": "2022-12-10T06:26:06.160Z"
   },
   {
    "duration": 0,
    "start_time": "2022-12-10T06:26:06.161Z"
   },
   {
    "duration": 0,
    "start_time": "2022-12-10T06:26:06.162Z"
   },
   {
    "duration": 0,
    "start_time": "2022-12-10T06:26:06.164Z"
   },
   {
    "duration": 0,
    "start_time": "2022-12-10T06:26:06.165Z"
   },
   {
    "duration": 0,
    "start_time": "2022-12-10T06:26:06.178Z"
   },
   {
    "duration": 0,
    "start_time": "2022-12-10T06:26:06.179Z"
   },
   {
    "duration": 0,
    "start_time": "2022-12-10T06:26:06.180Z"
   },
   {
    "duration": 0,
    "start_time": "2022-12-10T06:26:06.181Z"
   },
   {
    "duration": 0,
    "start_time": "2022-12-10T06:26:06.182Z"
   },
   {
    "duration": 0,
    "start_time": "2022-12-10T06:26:06.183Z"
   },
   {
    "duration": 0,
    "start_time": "2022-12-10T06:26:06.184Z"
   },
   {
    "duration": 0,
    "start_time": "2022-12-10T06:26:06.185Z"
   },
   {
    "duration": 244,
    "start_time": "2022-12-10T06:26:22.566Z"
   },
   {
    "duration": 235,
    "start_time": "2022-12-10T06:56:07.739Z"
   },
   {
    "duration": 223,
    "start_time": "2022-12-10T06:56:48.635Z"
   },
   {
    "duration": 13,
    "start_time": "2022-12-10T07:26:28.256Z"
   },
   {
    "duration": 49,
    "start_time": "2022-12-10T14:16:55.376Z"
   },
   {
    "duration": 1263,
    "start_time": "2022-12-10T14:17:00.655Z"
   },
   {
    "duration": 140,
    "start_time": "2022-12-10T14:17:01.920Z"
   },
   {
    "duration": 13,
    "start_time": "2022-12-10T14:17:02.061Z"
   },
   {
    "duration": 12,
    "start_time": "2022-12-10T14:17:02.077Z"
   },
   {
    "duration": 28,
    "start_time": "2022-12-10T14:17:02.090Z"
   },
   {
    "duration": 21,
    "start_time": "2022-12-10T14:17:02.120Z"
   },
   {
    "duration": 12,
    "start_time": "2022-12-10T14:17:02.143Z"
   },
   {
    "duration": 19,
    "start_time": "2022-12-10T14:17:02.157Z"
   },
   {
    "duration": 13,
    "start_time": "2022-12-10T14:17:02.178Z"
   },
   {
    "duration": 159,
    "start_time": "2022-12-10T14:17:02.195Z"
   },
   {
    "duration": 9,
    "start_time": "2022-12-10T14:17:02.356Z"
   },
   {
    "duration": 13,
    "start_time": "2022-12-10T14:17:02.367Z"
   },
   {
    "duration": 16,
    "start_time": "2022-12-10T14:17:02.382Z"
   },
   {
    "duration": 15,
    "start_time": "2022-12-10T14:17:02.400Z"
   },
   {
    "duration": 7,
    "start_time": "2022-12-10T14:17:02.417Z"
   },
   {
    "duration": 6,
    "start_time": "2022-12-10T14:17:02.425Z"
   },
   {
    "duration": 7,
    "start_time": "2022-12-10T14:17:02.455Z"
   },
   {
    "duration": 13,
    "start_time": "2022-12-10T14:17:02.463Z"
   },
   {
    "duration": 23,
    "start_time": "2022-12-10T14:17:02.478Z"
   },
   {
    "duration": 11,
    "start_time": "2022-12-10T14:17:02.502Z"
   },
   {
    "duration": 19,
    "start_time": "2022-12-10T14:17:02.514Z"
   },
   {
    "duration": 33,
    "start_time": "2022-12-10T14:17:02.535Z"
   },
   {
    "duration": 16,
    "start_time": "2022-12-10T14:17:02.570Z"
   },
   {
    "duration": 324,
    "start_time": "2022-12-10T14:17:02.588Z"
   },
   {
    "duration": 328,
    "start_time": "2022-12-10T14:17:02.914Z"
   },
   {
    "duration": 228,
    "start_time": "2022-12-10T14:17:03.244Z"
   },
   {
    "duration": 403,
    "start_time": "2022-12-10T14:17:03.474Z"
   },
   {
    "duration": 252,
    "start_time": "2022-12-10T14:17:03.882Z"
   },
   {
    "duration": 82,
    "start_time": "2022-12-10T14:17:04.136Z"
   },
   {
    "duration": 0,
    "start_time": "2022-12-10T14:17:04.220Z"
   },
   {
    "duration": 1,
    "start_time": "2022-12-10T14:17:04.222Z"
   },
   {
    "duration": 0,
    "start_time": "2022-12-10T14:17:04.224Z"
   },
   {
    "duration": 0,
    "start_time": "2022-12-10T14:17:04.226Z"
   },
   {
    "duration": 0,
    "start_time": "2022-12-10T14:17:04.227Z"
   },
   {
    "duration": 0,
    "start_time": "2022-12-10T14:17:04.229Z"
   },
   {
    "duration": 0,
    "start_time": "2022-12-10T14:17:04.230Z"
   },
   {
    "duration": 0,
    "start_time": "2022-12-10T14:17:04.231Z"
   },
   {
    "duration": 0,
    "start_time": "2022-12-10T14:17:04.232Z"
   },
   {
    "duration": 0,
    "start_time": "2022-12-10T14:17:04.258Z"
   },
   {
    "duration": 0,
    "start_time": "2022-12-10T14:17:04.259Z"
   },
   {
    "duration": 0,
    "start_time": "2022-12-10T14:17:04.261Z"
   },
   {
    "duration": 0,
    "start_time": "2022-12-10T14:17:04.262Z"
   },
   {
    "duration": 0,
    "start_time": "2022-12-10T14:17:04.264Z"
   },
   {
    "duration": 0,
    "start_time": "2022-12-10T14:17:04.266Z"
   },
   {
    "duration": 0,
    "start_time": "2022-12-10T14:17:04.267Z"
   },
   {
    "duration": 0,
    "start_time": "2022-12-10T14:17:04.268Z"
   },
   {
    "duration": 0,
    "start_time": "2022-12-10T14:17:04.270Z"
   },
   {
    "duration": 0,
    "start_time": "2022-12-10T14:17:04.271Z"
   },
   {
    "duration": 8,
    "start_time": "2022-12-10T14:17:30.446Z"
   },
   {
    "duration": 12,
    "start_time": "2022-12-10T14:25:00.547Z"
   },
   {
    "duration": 280,
    "start_time": "2022-12-10T14:26:16.293Z"
   },
   {
    "duration": 253,
    "start_time": "2022-12-10T14:26:23.491Z"
   },
   {
    "duration": 361,
    "start_time": "2022-12-10T14:26:27.682Z"
   },
   {
    "duration": 239,
    "start_time": "2022-12-10T14:26:35.227Z"
   },
   {
    "duration": 9,
    "start_time": "2022-12-10T14:26:41.306Z"
   },
   {
    "duration": 12,
    "start_time": "2022-12-10T14:26:47.700Z"
   },
   {
    "duration": 12,
    "start_time": "2022-12-10T14:28:12.650Z"
   },
   {
    "duration": 633,
    "start_time": "2022-12-10T14:30:31.357Z"
   },
   {
    "duration": 52,
    "start_time": "2022-12-10T14:31:44.709Z"
   },
   {
    "duration": 195,
    "start_time": "2022-12-10T14:32:05.691Z"
   },
   {
    "duration": 10,
    "start_time": "2022-12-10T14:35:04.370Z"
   },
   {
    "duration": 10,
    "start_time": "2022-12-10T14:35:12.368Z"
   },
   {
    "duration": 16,
    "start_time": "2022-12-10T14:35:54.549Z"
   },
   {
    "duration": 19,
    "start_time": "2022-12-10T14:37:24.451Z"
   },
   {
    "duration": 9,
    "start_time": "2022-12-10T14:38:44.909Z"
   },
   {
    "duration": 19,
    "start_time": "2022-12-10T14:38:54.962Z"
   },
   {
    "duration": 8,
    "start_time": "2022-12-10T14:38:57.819Z"
   },
   {
    "duration": 11,
    "start_time": "2022-12-10T14:39:18.207Z"
   },
   {
    "duration": 9,
    "start_time": "2022-12-10T14:39:24.254Z"
   },
   {
    "duration": 3,
    "start_time": "2022-12-10T14:39:48.698Z"
   },
   {
    "duration": 26,
    "start_time": "2022-12-10T14:39:48.709Z"
   },
   {
    "duration": 8,
    "start_time": "2022-12-10T14:39:48.737Z"
   },
   {
    "duration": 11,
    "start_time": "2022-12-10T14:39:48.746Z"
   },
   {
    "duration": 8,
    "start_time": "2022-12-10T14:39:48.759Z"
   },
   {
    "duration": 8,
    "start_time": "2022-12-10T14:39:48.768Z"
   },
   {
    "duration": 10,
    "start_time": "2022-12-10T14:39:48.777Z"
   },
   {
    "duration": 10,
    "start_time": "2022-12-10T14:39:48.789Z"
   },
   {
    "duration": 13,
    "start_time": "2022-12-10T14:39:48.801Z"
   },
   {
    "duration": 54,
    "start_time": "2022-12-10T14:39:48.815Z"
   },
   {
    "duration": 8,
    "start_time": "2022-12-10T14:39:48.871Z"
   },
   {
    "duration": 9,
    "start_time": "2022-12-10T14:39:48.880Z"
   },
   {
    "duration": 14,
    "start_time": "2022-12-10T14:39:48.890Z"
   },
   {
    "duration": 14,
    "start_time": "2022-12-10T14:39:48.907Z"
   },
   {
    "duration": 7,
    "start_time": "2022-12-10T14:39:48.924Z"
   },
   {
    "duration": 22,
    "start_time": "2022-12-10T14:39:48.934Z"
   },
   {
    "duration": 6,
    "start_time": "2022-12-10T14:39:48.958Z"
   },
   {
    "duration": 16,
    "start_time": "2022-12-10T14:39:48.965Z"
   },
   {
    "duration": 29,
    "start_time": "2022-12-10T14:39:48.983Z"
   },
   {
    "duration": 10,
    "start_time": "2022-12-10T14:39:49.014Z"
   },
   {
    "duration": 40,
    "start_time": "2022-12-10T14:39:49.026Z"
   },
   {
    "duration": 14,
    "start_time": "2022-12-10T14:39:49.068Z"
   },
   {
    "duration": 15,
    "start_time": "2022-12-10T14:39:49.084Z"
   },
   {
    "duration": 349,
    "start_time": "2022-12-10T14:39:49.101Z"
   },
   {
    "duration": 225,
    "start_time": "2022-12-10T14:39:49.451Z"
   },
   {
    "duration": 262,
    "start_time": "2022-12-10T14:39:49.680Z"
   },
   {
    "duration": 340,
    "start_time": "2022-12-10T14:39:49.943Z"
   },
   {
    "duration": 241,
    "start_time": "2022-12-10T14:39:50.285Z"
   },
   {
    "duration": 13,
    "start_time": "2022-12-10T14:39:50.528Z"
   },
   {
    "duration": 0,
    "start_time": "2022-12-10T14:39:50.542Z"
   },
   {
    "duration": 0,
    "start_time": "2022-12-10T14:39:50.554Z"
   },
   {
    "duration": 0,
    "start_time": "2022-12-10T14:39:50.556Z"
   },
   {
    "duration": 0,
    "start_time": "2022-12-10T14:39:50.557Z"
   },
   {
    "duration": 0,
    "start_time": "2022-12-10T14:39:50.558Z"
   },
   {
    "duration": 0,
    "start_time": "2022-12-10T14:39:50.559Z"
   },
   {
    "duration": 0,
    "start_time": "2022-12-10T14:39:50.560Z"
   },
   {
    "duration": 0,
    "start_time": "2022-12-10T14:39:50.561Z"
   },
   {
    "duration": 0,
    "start_time": "2022-12-10T14:39:50.562Z"
   },
   {
    "duration": 0,
    "start_time": "2022-12-10T14:39:50.563Z"
   },
   {
    "duration": 0,
    "start_time": "2022-12-10T14:39:50.565Z"
   },
   {
    "duration": 0,
    "start_time": "2022-12-10T14:39:50.566Z"
   },
   {
    "duration": 0,
    "start_time": "2022-12-10T14:39:50.568Z"
   },
   {
    "duration": 0,
    "start_time": "2022-12-10T14:39:50.569Z"
   },
   {
    "duration": 0,
    "start_time": "2022-12-10T14:39:50.570Z"
   },
   {
    "duration": 0,
    "start_time": "2022-12-10T14:39:50.572Z"
   },
   {
    "duration": 0,
    "start_time": "2022-12-10T14:39:50.573Z"
   },
   {
    "duration": 0,
    "start_time": "2022-12-10T14:39:50.574Z"
   },
   {
    "duration": 0,
    "start_time": "2022-12-10T14:39:50.575Z"
   },
   {
    "duration": 0,
    "start_time": "2022-12-10T14:39:50.576Z"
   },
   {
    "duration": 9,
    "start_time": "2022-12-10T14:40:12.005Z"
   },
   {
    "duration": 15,
    "start_time": "2022-12-10T14:40:14.666Z"
   },
   {
    "duration": 845,
    "start_time": "2022-12-10T14:41:15.122Z"
   },
   {
    "duration": 855,
    "start_time": "2022-12-10T14:41:43.447Z"
   },
   {
    "duration": 11,
    "start_time": "2022-12-10T14:42:25.905Z"
   },
   {
    "duration": 202,
    "start_time": "2022-12-10T14:42:35.313Z"
   },
   {
    "duration": 49,
    "start_time": "2022-12-10T14:43:59.371Z"
   },
   {
    "duration": 247,
    "start_time": "2022-12-10T14:44:17.609Z"
   },
   {
    "duration": 332,
    "start_time": "2022-12-10T14:47:25.882Z"
   },
   {
    "duration": 9,
    "start_time": "2022-12-10T14:52:44.347Z"
   },
   {
    "duration": 4,
    "start_time": "2022-12-10T14:52:51.753Z"
   },
   {
    "duration": 34,
    "start_time": "2022-12-10T14:52:51.758Z"
   },
   {
    "duration": 9,
    "start_time": "2022-12-10T14:52:51.793Z"
   },
   {
    "duration": 12,
    "start_time": "2022-12-10T14:52:51.803Z"
   },
   {
    "duration": 6,
    "start_time": "2022-12-10T14:52:51.817Z"
   },
   {
    "duration": 8,
    "start_time": "2022-12-10T14:52:51.825Z"
   },
   {
    "duration": 11,
    "start_time": "2022-12-10T14:52:51.835Z"
   },
   {
    "duration": 8,
    "start_time": "2022-12-10T14:52:51.855Z"
   },
   {
    "duration": 13,
    "start_time": "2022-12-10T14:52:51.865Z"
   },
   {
    "duration": 151,
    "start_time": "2022-12-10T14:52:51.880Z"
   },
   {
    "duration": 8,
    "start_time": "2022-12-10T14:52:52.033Z"
   },
   {
    "duration": 12,
    "start_time": "2022-12-10T14:52:52.042Z"
   },
   {
    "duration": 14,
    "start_time": "2022-12-10T14:52:52.056Z"
   },
   {
    "duration": 12,
    "start_time": "2022-12-10T14:52:52.072Z"
   },
   {
    "duration": 10,
    "start_time": "2022-12-10T14:52:52.086Z"
   },
   {
    "duration": 6,
    "start_time": "2022-12-10T14:52:52.098Z"
   },
   {
    "duration": 7,
    "start_time": "2022-12-10T14:52:52.106Z"
   },
   {
    "duration": 41,
    "start_time": "2022-12-10T14:52:52.115Z"
   },
   {
    "duration": 21,
    "start_time": "2022-12-10T14:52:52.159Z"
   },
   {
    "duration": 9,
    "start_time": "2022-12-10T14:52:52.182Z"
   },
   {
    "duration": 14,
    "start_time": "2022-12-10T14:52:52.193Z"
   },
   {
    "duration": 55,
    "start_time": "2022-12-10T14:52:52.209Z"
   },
   {
    "duration": 15,
    "start_time": "2022-12-10T14:52:52.265Z"
   },
   {
    "duration": 331,
    "start_time": "2022-12-10T14:52:52.282Z"
   },
   {
    "duration": 232,
    "start_time": "2022-12-10T14:52:52.615Z"
   },
   {
    "duration": 226,
    "start_time": "2022-12-10T14:52:52.849Z"
   },
   {
    "duration": 305,
    "start_time": "2022-12-10T14:52:53.077Z"
   },
   {
    "duration": 239,
    "start_time": "2022-12-10T14:52:53.384Z"
   },
   {
    "duration": 362,
    "start_time": "2022-12-10T14:52:53.626Z"
   },
   {
    "duration": 164,
    "start_time": "2022-12-10T14:52:53.990Z"
   },
   {
    "duration": 159,
    "start_time": "2022-12-10T14:52:54.156Z"
   },
   {
    "duration": 6,
    "start_time": "2022-12-10T14:52:54.317Z"
   },
   {
    "duration": 183,
    "start_time": "2022-12-10T14:52:54.325Z"
   },
   {
    "duration": 232,
    "start_time": "2022-12-10T14:52:54.509Z"
   },
   {
    "duration": 18,
    "start_time": "2022-12-10T14:52:54.744Z"
   },
   {
    "duration": 19,
    "start_time": "2022-12-10T14:52:54.764Z"
   },
   {
    "duration": 12,
    "start_time": "2022-12-10T14:52:54.788Z"
   },
   {
    "duration": 21,
    "start_time": "2022-12-10T14:52:54.803Z"
   },
   {
    "duration": 77,
    "start_time": "2022-12-10T14:52:54.827Z"
   },
   {
    "duration": 13,
    "start_time": "2022-12-10T14:52:54.905Z"
   },
   {
    "duration": 17,
    "start_time": "2022-12-10T14:52:54.920Z"
   },
   {
    "duration": 0,
    "start_time": "2022-12-10T14:52:54.955Z"
   },
   {
    "duration": 0,
    "start_time": "2022-12-10T14:52:54.957Z"
   },
   {
    "duration": 1,
    "start_time": "2022-12-10T14:52:54.959Z"
   },
   {
    "duration": 0,
    "start_time": "2022-12-10T14:52:54.962Z"
   },
   {
    "duration": 677,
    "start_time": "2022-12-10T14:53:21.670Z"
   },
   {
    "duration": 748,
    "start_time": "2022-12-10T14:54:00.437Z"
   },
   {
    "duration": 10,
    "start_time": "2022-12-10T14:54:19.886Z"
   },
   {
    "duration": 13,
    "start_time": "2022-12-10T14:54:55.472Z"
   },
   {
    "duration": 10,
    "start_time": "2022-12-10T14:55:10.152Z"
   },
   {
    "duration": 701,
    "start_time": "2022-12-10T14:55:25.694Z"
   },
   {
    "duration": 19,
    "start_time": "2022-12-10T14:55:49.176Z"
   },
   {
    "duration": 58,
    "start_time": "2022-12-10T14:56:16.056Z"
   },
   {
    "duration": 12,
    "start_time": "2022-12-10T14:56:28.850Z"
   },
   {
    "duration": 11,
    "start_time": "2022-12-10T14:56:37.047Z"
   },
   {
    "duration": 61,
    "start_time": "2022-12-10T14:56:42.353Z"
   },
   {
    "duration": 13,
    "start_time": "2022-12-10T14:56:56.369Z"
   },
   {
    "duration": 10,
    "start_time": "2022-12-10T14:57:03.874Z"
   },
   {
    "duration": 12,
    "start_time": "2022-12-10T14:57:09.098Z"
   },
   {
    "duration": 20,
    "start_time": "2022-12-10T14:58:34.807Z"
   },
   {
    "duration": 11,
    "start_time": "2022-12-10T14:58:44.379Z"
   },
   {
    "duration": 6,
    "start_time": "2022-12-10T14:59:04.610Z"
   },
   {
    "duration": 841,
    "start_time": "2022-12-10T15:38:09.157Z"
   },
   {
    "duration": 59,
    "start_time": "2022-12-10T15:38:24.553Z"
   },
   {
    "duration": 109,
    "start_time": "2022-12-10T15:39:08.957Z"
   },
   {
    "duration": 820,
    "start_time": "2022-12-10T15:39:38.347Z"
   },
   {
    "duration": 119,
    "start_time": "2022-12-10T15:40:16.149Z"
   },
   {
    "duration": 47,
    "start_time": "2022-12-10T15:42:13.774Z"
   },
   {
    "duration": 45,
    "start_time": "2022-12-10T15:42:22.864Z"
   },
   {
    "duration": 16,
    "start_time": "2022-12-10T15:42:29.903Z"
   },
   {
    "duration": 25,
    "start_time": "2022-12-10T15:42:40.077Z"
   },
   {
    "duration": 27,
    "start_time": "2022-12-10T15:42:49.099Z"
   },
   {
    "duration": 22,
    "start_time": "2022-12-10T15:43:11.705Z"
   },
   {
    "duration": 15,
    "start_time": "2022-12-10T15:44:16.170Z"
   },
   {
    "duration": 14,
    "start_time": "2022-12-10T15:44:41.387Z"
   },
   {
    "duration": 12,
    "start_time": "2022-12-10T15:44:51.117Z"
   }
  ],
  "kernelspec": {
   "display_name": "Python 3 (ipykernel)",
   "language": "python",
   "name": "python3"
  },
  "language_info": {
   "codemirror_mode": {
    "name": "ipython",
    "version": 3
   },
   "file_extension": ".py",
   "mimetype": "text/x-python",
   "name": "python",
   "nbconvert_exporter": "python",
   "pygments_lexer": "ipython3",
   "version": "3.9.13"
  },
  "toc": {
   "base_numbering": 1,
   "nav_menu": {},
   "number_sections": false,
   "sideBar": true,
   "skip_h1_title": false,
   "title_cell": "Table of Contents",
   "title_sidebar": "Contents",
   "toc_cell": false,
   "toc_position": {},
   "toc_section_display": true,
   "toc_window_display": true
  }
 },
 "nbformat": 4,
 "nbformat_minor": 2
}
