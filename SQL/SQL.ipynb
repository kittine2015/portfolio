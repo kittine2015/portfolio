{
 "cells": [
  {
   "cell_type": "markdown",
   "metadata": {},
   "source": [
    "**Проект SQL**"
   ]
  },
  {
   "cell_type": "markdown",
   "metadata": {},
   "source": [
    "  **Цель**\n",
    "    \n",
    "    Цель исследования — проанализировать базу данных крупного сервиса для чтения книг по подписке. В ней — информация о книгах, издательствах, авторах, а также пользовательские обзоры книг. Эти данные помогут сформулировать ценностное предложение для нового продукта.\n",
    "\n",
    " **Задания**\n",
    "\n",
    "- Посчитайте, сколько книг вышло после 1 января 2000 года;\n",
    "- Для каждой книги посчитайте количество обзоров и среднюю оценку;\n",
    "- Определите издательство, которое выпустило наибольшее число книг толще 50 страниц — так вы исключите из анализа брошюры;\n",
    "- Определите автора с самой высокой средней оценкой книг — учитывайте только книги с 50 и более оценками;\n",
    "\n",
    "\n",
    "\n",
    "\n",
    "  **Описание данных**\n",
    "\n",
    "**Таблица books**\n",
    "\n",
    "Содержит данные о книгах:\n",
    "\n",
    "    book_id — идентификатор книги;\n",
    "    author_id — идентификатор автора;\n",
    "    title — название книги;\n",
    "    num_pages — количество страниц;\n",
    "    publication_date — дата публикации книги;\n",
    "    publisher_id — идентификатор издателя.\n",
    "\n",
    "**Таблица authors**\n",
    "\n",
    "Содержит данные об авторах:\n",
    "\n",
    "    author_id — идентификатор автора;\n",
    "    author — имя автора.\n",
    "\n",
    "**Таблица publishers**\n",
    "\n",
    "Содержит данные об издательствах:\n",
    "\n",
    "    publisher_id — идентификатор издательства;\n",
    "    publisher — название издательства;\n",
    "\n",
    "**Таблица ratings**\n",
    "\n",
    "Содержит данные о пользовательских оценках книг:\n",
    "\n",
    "    rating_id — идентификатор оценки;\n",
    "    book_id — идентификатор книги;\n",
    "    username — имя пользователя, оставившего оценку;\n",
    "    rating — оценка книги.\n",
    "\n",
    "**Таблица reviews**\n",
    "\n",
    "Содержит данные о пользовательских обзорах на книги:\n",
    "\n",
    "    review_id — идентификатор обзора;\n",
    "    book_id — идентификатор книги;\n",
    "    username — имя пользователя, написавшего обзор;\n",
    "    text — текст обзора.\n",
    "\n"
   ]
  },
  {
   "cell_type": "code",
   "execution_count": 33,
   "metadata": {},
   "outputs": [],
   "source": [
    "# импортируем библиотеки\n",
    "import pandas as pd\n",
    "from sqlalchemy import create_engine"
   ]
  },
  {
   "cell_type": "code",
   "execution_count": 34,
   "metadata": {},
   "outputs": [],
   "source": [
    "\n",
    "# устанавливаем параметры\n",
    "db_config = {'user': 'praktikum_student', # имя пользователя\n",
    "'pwd': 'Sdf4$2;d-d30pp', # пароль\n",
    "'host': 'rc1b-wcoijxj3yxfsf3fs.mdb.yandexcloud.net',\n",
    "'port': 6432, # порт подключения\n",
    "'db': 'data-analyst-final-project-db'} # название базы данных\n",
    "connection_string = 'postgresql://{}:{}@{}:{}/{}'.format(db_config['user'],\n",
    "db_config['pwd'],\n",
    "db_config['host'],\n",
    "db_config['port'],\n",
    "db_config['db'])\n",
    "# сохраняем коннектор\n",
    "engine = create_engine(connection_string, connect_args={'sslmode':'require'})"
   ]
  },
  {
   "cell_type": "code",
   "execution_count": 35,
   "metadata": {},
   "outputs": [
    {
     "data": {
      "text/html": [
       "<div>\n",
       "<style scoped>\n",
       "    .dataframe tbody tr th:only-of-type {\n",
       "        vertical-align: middle;\n",
       "    }\n",
       "\n",
       "    .dataframe tbody tr th {\n",
       "        vertical-align: top;\n",
       "    }\n",
       "\n",
       "    .dataframe thead th {\n",
       "        text-align: right;\n",
       "    }\n",
       "</style>\n",
       "<table border=\"1\" class=\"dataframe\">\n",
       "  <thead>\n",
       "    <tr style=\"text-align: right;\">\n",
       "      <th></th>\n",
       "      <th>book_id</th>\n",
       "      <th>author_id</th>\n",
       "      <th>title</th>\n",
       "      <th>num_pages</th>\n",
       "      <th>publication_date</th>\n",
       "      <th>publisher_id</th>\n",
       "    </tr>\n",
       "  </thead>\n",
       "  <tbody>\n",
       "    <tr>\n",
       "      <th>0</th>\n",
       "      <td>1</td>\n",
       "      <td>546</td>\n",
       "      <td>'Salem's Lot</td>\n",
       "      <td>594</td>\n",
       "      <td>2005-11-01</td>\n",
       "      <td>93</td>\n",
       "    </tr>\n",
       "    <tr>\n",
       "      <th>1</th>\n",
       "      <td>2</td>\n",
       "      <td>465</td>\n",
       "      <td>1 000 Places to See Before You Die</td>\n",
       "      <td>992</td>\n",
       "      <td>2003-05-22</td>\n",
       "      <td>336</td>\n",
       "    </tr>\n",
       "    <tr>\n",
       "      <th>2</th>\n",
       "      <td>3</td>\n",
       "      <td>407</td>\n",
       "      <td>13 Little Blue Envelopes (Little Blue Envelope...</td>\n",
       "      <td>322</td>\n",
       "      <td>2010-12-21</td>\n",
       "      <td>135</td>\n",
       "    </tr>\n",
       "    <tr>\n",
       "      <th>3</th>\n",
       "      <td>4</td>\n",
       "      <td>82</td>\n",
       "      <td>1491: New Revelations of the Americas Before C...</td>\n",
       "      <td>541</td>\n",
       "      <td>2006-10-10</td>\n",
       "      <td>309</td>\n",
       "    </tr>\n",
       "    <tr>\n",
       "      <th>4</th>\n",
       "      <td>5</td>\n",
       "      <td>125</td>\n",
       "      <td>1776</td>\n",
       "      <td>386</td>\n",
       "      <td>2006-07-04</td>\n",
       "      <td>268</td>\n",
       "    </tr>\n",
       "  </tbody>\n",
       "</table>\n",
       "</div>"
      ],
      "text/plain": [
       "   book_id  author_id                                              title  \\\n",
       "0        1        546                                       'Salem's Lot   \n",
       "1        2        465                 1 000 Places to See Before You Die   \n",
       "2        3        407  13 Little Blue Envelopes (Little Blue Envelope...   \n",
       "3        4         82  1491: New Revelations of the Americas Before C...   \n",
       "4        5        125                                               1776   \n",
       "\n",
       "   num_pages publication_date  publisher_id  \n",
       "0        594       2005-11-01            93  \n",
       "1        992       2003-05-22           336  \n",
       "2        322       2010-12-21           135  \n",
       "3        541       2006-10-10           309  \n",
       "4        386       2006-07-04           268  "
      ]
     },
     "metadata": {},
     "output_type": "display_data"
    },
    {
     "name": "stdout",
     "output_type": "stream",
     "text": [
      "<class 'pandas.core.frame.DataFrame'>\n",
      "RangeIndex: 1000 entries, 0 to 999\n",
      "Data columns (total 6 columns):\n",
      " #   Column            Non-Null Count  Dtype \n",
      "---  ------            --------------  ----- \n",
      " 0   book_id           1000 non-null   int64 \n",
      " 1   author_id         1000 non-null   int64 \n",
      " 2   title             1000 non-null   object\n",
      " 3   num_pages         1000 non-null   int64 \n",
      " 4   publication_date  1000 non-null   object\n",
      " 5   publisher_id      1000 non-null   int64 \n",
      "dtypes: int64(4), object(2)\n",
      "memory usage: 47.0+ KB\n"
     ]
    },
    {
     "data": {
      "text/plain": [
       "None"
      ]
     },
     "metadata": {},
     "output_type": "display_data"
    }
   ],
   "source": [
    "query = ''' SELECT * \n",
    "            FROM books '''\n",
    "\n",
    "books = pd.io.sql.read_sql(query, con = engine)\n",
    "display(books.head(5))\n",
    "display(books.info())\n"
   ]
  },
  {
   "cell_type": "code",
   "execution_count": 36,
   "metadata": {
    "scrolled": true
   },
   "outputs": [
    {
     "data": {
      "text/html": [
       "<div>\n",
       "<style scoped>\n",
       "    .dataframe tbody tr th:only-of-type {\n",
       "        vertical-align: middle;\n",
       "    }\n",
       "\n",
       "    .dataframe tbody tr th {\n",
       "        vertical-align: top;\n",
       "    }\n",
       "\n",
       "    .dataframe thead th {\n",
       "        text-align: right;\n",
       "    }\n",
       "</style>\n",
       "<table border=\"1\" class=\"dataframe\">\n",
       "  <thead>\n",
       "    <tr style=\"text-align: right;\">\n",
       "      <th></th>\n",
       "      <th>author_id</th>\n",
       "      <th>author</th>\n",
       "    </tr>\n",
       "  </thead>\n",
       "  <tbody>\n",
       "    <tr>\n",
       "      <th>0</th>\n",
       "      <td>1</td>\n",
       "      <td>A.S. Byatt</td>\n",
       "    </tr>\n",
       "    <tr>\n",
       "      <th>1</th>\n",
       "      <td>2</td>\n",
       "      <td>Aesop/Laura Harris/Laura Gibbs</td>\n",
       "    </tr>\n",
       "    <tr>\n",
       "      <th>2</th>\n",
       "      <td>3</td>\n",
       "      <td>Agatha Christie</td>\n",
       "    </tr>\n",
       "    <tr>\n",
       "      <th>3</th>\n",
       "      <td>4</td>\n",
       "      <td>Alan Brennert</td>\n",
       "    </tr>\n",
       "    <tr>\n",
       "      <th>4</th>\n",
       "      <td>5</td>\n",
       "      <td>Alan Moore/David   Lloyd</td>\n",
       "    </tr>\n",
       "  </tbody>\n",
       "</table>\n",
       "</div>"
      ],
      "text/plain": [
       "   author_id                          author\n",
       "0          1                      A.S. Byatt\n",
       "1          2  Aesop/Laura Harris/Laura Gibbs\n",
       "2          3                 Agatha Christie\n",
       "3          4                   Alan Brennert\n",
       "4          5        Alan Moore/David   Lloyd"
      ]
     },
     "metadata": {},
     "output_type": "display_data"
    },
    {
     "name": "stdout",
     "output_type": "stream",
     "text": [
      "<class 'pandas.core.frame.DataFrame'>\n",
      "RangeIndex: 636 entries, 0 to 635\n",
      "Data columns (total 2 columns):\n",
      " #   Column     Non-Null Count  Dtype \n",
      "---  ------     --------------  ----- \n",
      " 0   author_id  636 non-null    int64 \n",
      " 1   author     636 non-null    object\n",
      "dtypes: int64(1), object(1)\n",
      "memory usage: 10.1+ KB\n"
     ]
    },
    {
     "data": {
      "text/plain": [
       "None"
      ]
     },
     "metadata": {},
     "output_type": "display_data"
    }
   ],
   "source": [
    "query = ''' SELECT * \n",
    "            FROM authors '''\n",
    "\n",
    "authors = pd.io.sql.read_sql(query, con = engine)\n",
    "display(authors.head(5))\n",
    "display(authors.info())"
   ]
  },
  {
   "cell_type": "code",
   "execution_count": 37,
   "metadata": {},
   "outputs": [
    {
     "data": {
      "text/html": [
       "<div>\n",
       "<style scoped>\n",
       "    .dataframe tbody tr th:only-of-type {\n",
       "        vertical-align: middle;\n",
       "    }\n",
       "\n",
       "    .dataframe tbody tr th {\n",
       "        vertical-align: top;\n",
       "    }\n",
       "\n",
       "    .dataframe thead th {\n",
       "        text-align: right;\n",
       "    }\n",
       "</style>\n",
       "<table border=\"1\" class=\"dataframe\">\n",
       "  <thead>\n",
       "    <tr style=\"text-align: right;\">\n",
       "      <th></th>\n",
       "      <th>publisher_id</th>\n",
       "      <th>publisher</th>\n",
       "    </tr>\n",
       "  </thead>\n",
       "  <tbody>\n",
       "    <tr>\n",
       "      <th>0</th>\n",
       "      <td>1</td>\n",
       "      <td>Ace</td>\n",
       "    </tr>\n",
       "    <tr>\n",
       "      <th>1</th>\n",
       "      <td>2</td>\n",
       "      <td>Ace Book</td>\n",
       "    </tr>\n",
       "    <tr>\n",
       "      <th>2</th>\n",
       "      <td>3</td>\n",
       "      <td>Ace Books</td>\n",
       "    </tr>\n",
       "    <tr>\n",
       "      <th>3</th>\n",
       "      <td>4</td>\n",
       "      <td>Ace Hardcover</td>\n",
       "    </tr>\n",
       "    <tr>\n",
       "      <th>4</th>\n",
       "      <td>5</td>\n",
       "      <td>Addison Wesley Publishing Company</td>\n",
       "    </tr>\n",
       "  </tbody>\n",
       "</table>\n",
       "</div>"
      ],
      "text/plain": [
       "   publisher_id                          publisher\n",
       "0             1                                Ace\n",
       "1             2                           Ace Book\n",
       "2             3                          Ace Books\n",
       "3             4                      Ace Hardcover\n",
       "4             5  Addison Wesley Publishing Company"
      ]
     },
     "metadata": {},
     "output_type": "display_data"
    },
    {
     "name": "stdout",
     "output_type": "stream",
     "text": [
      "<class 'pandas.core.frame.DataFrame'>\n",
      "RangeIndex: 340 entries, 0 to 339\n",
      "Data columns (total 2 columns):\n",
      " #   Column        Non-Null Count  Dtype \n",
      "---  ------        --------------  ----- \n",
      " 0   publisher_id  340 non-null    int64 \n",
      " 1   publisher     340 non-null    object\n",
      "dtypes: int64(1), object(1)\n",
      "memory usage: 5.4+ KB\n"
     ]
    },
    {
     "data": {
      "text/plain": [
       "None"
      ]
     },
     "metadata": {},
     "output_type": "display_data"
    }
   ],
   "source": [
    "query = ''' SELECT * \n",
    "            FROM publishers '''\n",
    "\n",
    "publishers = pd.io.sql.read_sql(query, con = engine)\n",
    "display(publishers.head(5))\n",
    "display(publishers.info())"
   ]
  },
  {
   "cell_type": "code",
   "execution_count": 38,
   "metadata": {},
   "outputs": [
    {
     "data": {
      "text/html": [
       "<div>\n",
       "<style scoped>\n",
       "    .dataframe tbody tr th:only-of-type {\n",
       "        vertical-align: middle;\n",
       "    }\n",
       "\n",
       "    .dataframe tbody tr th {\n",
       "        vertical-align: top;\n",
       "    }\n",
       "\n",
       "    .dataframe thead th {\n",
       "        text-align: right;\n",
       "    }\n",
       "</style>\n",
       "<table border=\"1\" class=\"dataframe\">\n",
       "  <thead>\n",
       "    <tr style=\"text-align: right;\">\n",
       "      <th></th>\n",
       "      <th>rating_id</th>\n",
       "      <th>book_id</th>\n",
       "      <th>username</th>\n",
       "      <th>rating</th>\n",
       "    </tr>\n",
       "  </thead>\n",
       "  <tbody>\n",
       "    <tr>\n",
       "      <th>0</th>\n",
       "      <td>1</td>\n",
       "      <td>1</td>\n",
       "      <td>ryanfranco</td>\n",
       "      <td>4</td>\n",
       "    </tr>\n",
       "    <tr>\n",
       "      <th>1</th>\n",
       "      <td>2</td>\n",
       "      <td>1</td>\n",
       "      <td>grantpatricia</td>\n",
       "      <td>2</td>\n",
       "    </tr>\n",
       "    <tr>\n",
       "      <th>2</th>\n",
       "      <td>3</td>\n",
       "      <td>1</td>\n",
       "      <td>brandtandrea</td>\n",
       "      <td>5</td>\n",
       "    </tr>\n",
       "    <tr>\n",
       "      <th>3</th>\n",
       "      <td>4</td>\n",
       "      <td>2</td>\n",
       "      <td>lorichen</td>\n",
       "      <td>3</td>\n",
       "    </tr>\n",
       "    <tr>\n",
       "      <th>4</th>\n",
       "      <td>5</td>\n",
       "      <td>2</td>\n",
       "      <td>mariokeller</td>\n",
       "      <td>2</td>\n",
       "    </tr>\n",
       "  </tbody>\n",
       "</table>\n",
       "</div>"
      ],
      "text/plain": [
       "   rating_id  book_id       username  rating\n",
       "0          1        1     ryanfranco       4\n",
       "1          2        1  grantpatricia       2\n",
       "2          3        1   brandtandrea       5\n",
       "3          4        2       lorichen       3\n",
       "4          5        2    mariokeller       2"
      ]
     },
     "metadata": {},
     "output_type": "display_data"
    },
    {
     "name": "stdout",
     "output_type": "stream",
     "text": [
      "<class 'pandas.core.frame.DataFrame'>\n",
      "RangeIndex: 6456 entries, 0 to 6455\n",
      "Data columns (total 4 columns):\n",
      " #   Column     Non-Null Count  Dtype \n",
      "---  ------     --------------  ----- \n",
      " 0   rating_id  6456 non-null   int64 \n",
      " 1   book_id    6456 non-null   int64 \n",
      " 2   username   6456 non-null   object\n",
      " 3   rating     6456 non-null   int64 \n",
      "dtypes: int64(3), object(1)\n",
      "memory usage: 201.9+ KB\n"
     ]
    },
    {
     "data": {
      "text/plain": [
       "None"
      ]
     },
     "metadata": {},
     "output_type": "display_data"
    }
   ],
   "source": [
    "query = ''' SELECT * \n",
    "            FROM ratings '''\n",
    "\n",
    "ratings = pd.io.sql.read_sql(query, con = engine)\n",
    "\n",
    "display(ratings.head(5))\n",
    "display(ratings.info())"
   ]
  },
  {
   "cell_type": "code",
   "execution_count": 39,
   "metadata": {},
   "outputs": [
    {
     "data": {
      "text/html": [
       "<div>\n",
       "<style scoped>\n",
       "    .dataframe tbody tr th:only-of-type {\n",
       "        vertical-align: middle;\n",
       "    }\n",
       "\n",
       "    .dataframe tbody tr th {\n",
       "        vertical-align: top;\n",
       "    }\n",
       "\n",
       "    .dataframe thead th {\n",
       "        text-align: right;\n",
       "    }\n",
       "</style>\n",
       "<table border=\"1\" class=\"dataframe\">\n",
       "  <thead>\n",
       "    <tr style=\"text-align: right;\">\n",
       "      <th></th>\n",
       "      <th>review_id</th>\n",
       "      <th>book_id</th>\n",
       "      <th>username</th>\n",
       "      <th>text</th>\n",
       "    </tr>\n",
       "  </thead>\n",
       "  <tbody>\n",
       "    <tr>\n",
       "      <th>0</th>\n",
       "      <td>1</td>\n",
       "      <td>1</td>\n",
       "      <td>brandtandrea</td>\n",
       "      <td>Mention society tell send professor analysis. ...</td>\n",
       "    </tr>\n",
       "    <tr>\n",
       "      <th>1</th>\n",
       "      <td>2</td>\n",
       "      <td>1</td>\n",
       "      <td>ryanfranco</td>\n",
       "      <td>Foot glass pretty audience hit themselves. Amo...</td>\n",
       "    </tr>\n",
       "    <tr>\n",
       "      <th>2</th>\n",
       "      <td>3</td>\n",
       "      <td>2</td>\n",
       "      <td>lorichen</td>\n",
       "      <td>Listen treat keep worry. Miss husband tax but ...</td>\n",
       "    </tr>\n",
       "    <tr>\n",
       "      <th>3</th>\n",
       "      <td>4</td>\n",
       "      <td>3</td>\n",
       "      <td>johnsonamanda</td>\n",
       "      <td>Finally month interesting blue could nature cu...</td>\n",
       "    </tr>\n",
       "    <tr>\n",
       "      <th>4</th>\n",
       "      <td>5</td>\n",
       "      <td>3</td>\n",
       "      <td>scotttamara</td>\n",
       "      <td>Nation purpose heavy give wait song will. List...</td>\n",
       "    </tr>\n",
       "  </tbody>\n",
       "</table>\n",
       "</div>"
      ],
      "text/plain": [
       "   review_id  book_id       username  \\\n",
       "0          1        1   brandtandrea   \n",
       "1          2        1     ryanfranco   \n",
       "2          3        2       lorichen   \n",
       "3          4        3  johnsonamanda   \n",
       "4          5        3    scotttamara   \n",
       "\n",
       "                                                text  \n",
       "0  Mention society tell send professor analysis. ...  \n",
       "1  Foot glass pretty audience hit themselves. Amo...  \n",
       "2  Listen treat keep worry. Miss husband tax but ...  \n",
       "3  Finally month interesting blue could nature cu...  \n",
       "4  Nation purpose heavy give wait song will. List...  "
      ]
     },
     "metadata": {},
     "output_type": "display_data"
    },
    {
     "name": "stdout",
     "output_type": "stream",
     "text": [
      "<class 'pandas.core.frame.DataFrame'>\n",
      "RangeIndex: 2793 entries, 0 to 2792\n",
      "Data columns (total 4 columns):\n",
      " #   Column     Non-Null Count  Dtype \n",
      "---  ------     --------------  ----- \n",
      " 0   review_id  2793 non-null   int64 \n",
      " 1   book_id    2793 non-null   int64 \n",
      " 2   username   2793 non-null   object\n",
      " 3   text       2793 non-null   object\n",
      "dtypes: int64(2), object(2)\n",
      "memory usage: 87.4+ KB\n"
     ]
    },
    {
     "data": {
      "text/plain": [
       "None"
      ]
     },
     "metadata": {},
     "output_type": "display_data"
    }
   ],
   "source": [
    "query = ''' SELECT * \n",
    "            FROM reviews '''\n",
    "\n",
    "reviews = pd.io.sql.read_sql(query, con = engine)\n",
    "\n",
    "display(reviews.head(5))\n",
    "display(reviews.info())"
   ]
  },
  {
   "cell_type": "markdown",
   "metadata": {},
   "source": [
    "    Таблица books: Содержит данные о книгах\n",
    "    Таблица authors: Содержит данные об авторе\n",
    "    Таблица publishers: Содержит данные об издательствах\n",
    "    Таблица ratings: Содержит данные о пользовательских оценках книг\n",
    "    Таблица reviews: Содержит данные  о пользовательских обзорах на книги"
   ]
  },
  {
   "cell_type": "markdown",
   "metadata": {},
   "source": [
    "**Посчитайте, сколько книг вышло после 1 января 2000 года**"
   ]
  },
  {
   "cell_type": "code",
   "execution_count": 40,
   "metadata": {},
   "outputs": [
    {
     "data": {
      "text/html": [
       "<div>\n",
       "<style scoped>\n",
       "    .dataframe tbody tr th:only-of-type {\n",
       "        vertical-align: middle;\n",
       "    }\n",
       "\n",
       "    .dataframe tbody tr th {\n",
       "        vertical-align: top;\n",
       "    }\n",
       "\n",
       "    .dataframe thead th {\n",
       "        text-align: right;\n",
       "    }\n",
       "</style>\n",
       "<table border=\"1\" class=\"dataframe\">\n",
       "  <thead>\n",
       "    <tr style=\"text-align: right;\">\n",
       "      <th></th>\n",
       "      <th>count</th>\n",
       "    </tr>\n",
       "  </thead>\n",
       "  <tbody>\n",
       "    <tr>\n",
       "      <th>0</th>\n",
       "      <td>821</td>\n",
       "    </tr>\n",
       "  </tbody>\n",
       "</table>\n",
       "</div>"
      ],
      "text/plain": [
       "   count\n",
       "0    821"
      ]
     },
     "execution_count": 40,
     "metadata": {},
     "output_type": "execute_result"
    }
   ],
   "source": [
    "query = ''' SELECT count(book_id) \n",
    "            FROM books\n",
    "            WHERE CAST(publication_date AS date) >= '2000-01-01'\n",
    "            '''\n",
    "\n",
    "pd.io.sql.read_sql(query, con = engine)"
   ]
  },
  {
   "cell_type": "markdown",
   "metadata": {},
   "source": [
    "После 1 января вышло 821 шт книг"
   ]
  },
  {
   "cell_type": "markdown",
   "metadata": {},
   "source": [
    "**Для каждой книги посчитайте количество обзоров и среднюю оценку**"
   ]
  },
  {
   "cell_type": "code",
   "execution_count": 41,
   "metadata": {},
   "outputs": [
    {
     "data": {
      "text/html": [
       "<div>\n",
       "<style scoped>\n",
       "    .dataframe tbody tr th:only-of-type {\n",
       "        vertical-align: middle;\n",
       "    }\n",
       "\n",
       "    .dataframe tbody tr th {\n",
       "        vertical-align: top;\n",
       "    }\n",
       "\n",
       "    .dataframe thead th {\n",
       "        text-align: right;\n",
       "    }\n",
       "</style>\n",
       "<table border=\"1\" class=\"dataframe\">\n",
       "  <thead>\n",
       "    <tr style=\"text-align: right;\">\n",
       "      <th></th>\n",
       "      <th>book_id</th>\n",
       "      <th>round</th>\n",
       "    </tr>\n",
       "  </thead>\n",
       "  <tbody>\n",
       "    <tr>\n",
       "      <th>0</th>\n",
       "      <td>1</td>\n",
       "      <td>4.0</td>\n",
       "    </tr>\n",
       "    <tr>\n",
       "      <th>1</th>\n",
       "      <td>2</td>\n",
       "      <td>3.0</td>\n",
       "    </tr>\n",
       "    <tr>\n",
       "      <th>2</th>\n",
       "      <td>3</td>\n",
       "      <td>5.0</td>\n",
       "    </tr>\n",
       "    <tr>\n",
       "      <th>3</th>\n",
       "      <td>4</td>\n",
       "      <td>5.0</td>\n",
       "    </tr>\n",
       "    <tr>\n",
       "      <th>4</th>\n",
       "      <td>5</td>\n",
       "      <td>4.0</td>\n",
       "    </tr>\n",
       "  </tbody>\n",
       "</table>\n",
       "</div>"
      ],
      "text/plain": [
       "   book_id  round\n",
       "0        1    4.0\n",
       "1        2    3.0\n",
       "2        3    5.0\n",
       "3        4    5.0\n",
       "4        5    4.0"
      ]
     },
     "metadata": {},
     "output_type": "display_data"
    },
    {
     "data": {
      "text/html": [
       "<div>\n",
       "<style scoped>\n",
       "    .dataframe tbody tr th:only-of-type {\n",
       "        vertical-align: middle;\n",
       "    }\n",
       "\n",
       "    .dataframe tbody tr th {\n",
       "        vertical-align: top;\n",
       "    }\n",
       "\n",
       "    .dataframe thead th {\n",
       "        text-align: right;\n",
       "    }\n",
       "</style>\n",
       "<table border=\"1\" class=\"dataframe\">\n",
       "  <thead>\n",
       "    <tr style=\"text-align: right;\">\n",
       "      <th></th>\n",
       "      <th>book_id</th>\n",
       "      <th>count_review</th>\n",
       "    </tr>\n",
       "  </thead>\n",
       "  <tbody>\n",
       "    <tr>\n",
       "      <th>0</th>\n",
       "      <td>1</td>\n",
       "      <td>2</td>\n",
       "    </tr>\n",
       "    <tr>\n",
       "      <th>1</th>\n",
       "      <td>2</td>\n",
       "      <td>1</td>\n",
       "    </tr>\n",
       "    <tr>\n",
       "      <th>2</th>\n",
       "      <td>3</td>\n",
       "      <td>3</td>\n",
       "    </tr>\n",
       "    <tr>\n",
       "      <th>3</th>\n",
       "      <td>4</td>\n",
       "      <td>2</td>\n",
       "    </tr>\n",
       "    <tr>\n",
       "      <th>4</th>\n",
       "      <td>5</td>\n",
       "      <td>4</td>\n",
       "    </tr>\n",
       "  </tbody>\n",
       "</table>\n",
       "</div>"
      ],
      "text/plain": [
       "   book_id  count_review\n",
       "0        1             2\n",
       "1        2             1\n",
       "2        3             3\n",
       "3        4             2\n",
       "4        5             4"
      ]
     },
     "metadata": {},
     "output_type": "display_data"
    }
   ],
   "source": [
    "#Посчитаем среднее количество обзоров\n",
    "query = ''' SELECT book_id,\n",
    "                   ROUND(AVG(rating))\n",
    "                   \n",
    "                   \n",
    "            FROM ratings\n",
    "            GROUP BY book_id\n",
    "            ORDER BY book_id;\n",
    "            \n",
    "            '''\n",
    "\n",
    "rev_avg = pd.io.sql.read_sql(query, con = engine)\n",
    "display(rev_avg.head(5))\n",
    "#Посчитаем среднюю оценку\n",
    "query = ''' SELECT book_id,\n",
    "                   --ROUND(AVG(rat.rating))\n",
    "                   COUNT(review_id) as count_review\n",
    "                   \n",
    "            FROM reviews\n",
    "            GROUP BY book_id\n",
    "            ORDER BY book_id;\n",
    "            \n",
    "            '''\n",
    "\n",
    "rat_count = pd.io.sql.read_sql(query, con = engine)\n",
    "display(rat_count.head(5))\n"
   ]
  },
  {
   "cell_type": "code",
   "execution_count": 42,
   "metadata": {},
   "outputs": [
    {
     "data": {
      "text/html": [
       "<div>\n",
       "<style scoped>\n",
       "    .dataframe tbody tr th:only-of-type {\n",
       "        vertical-align: middle;\n",
       "    }\n",
       "\n",
       "    .dataframe tbody tr th {\n",
       "        vertical-align: top;\n",
       "    }\n",
       "\n",
       "    .dataframe thead th {\n",
       "        text-align: right;\n",
       "    }\n",
       "</style>\n",
       "<table border=\"1\" class=\"dataframe\">\n",
       "  <thead>\n",
       "    <tr style=\"text-align: right;\">\n",
       "      <th></th>\n",
       "      <th>book</th>\n",
       "      <th>avg_rating</th>\n",
       "      <th>count_review</th>\n",
       "    </tr>\n",
       "  </thead>\n",
       "  <tbody>\n",
       "    <tr>\n",
       "      <th>0</th>\n",
       "      <td>948</td>\n",
       "      <td>3.662500</td>\n",
       "      <td>7</td>\n",
       "    </tr>\n",
       "    <tr>\n",
       "      <th>1</th>\n",
       "      <td>963</td>\n",
       "      <td>3.977273</td>\n",
       "      <td>6</td>\n",
       "    </tr>\n",
       "    <tr>\n",
       "      <th>2</th>\n",
       "      <td>734</td>\n",
       "      <td>4.206897</td>\n",
       "      <td>6</td>\n",
       "    </tr>\n",
       "    <tr>\n",
       "      <th>3</th>\n",
       "      <td>302</td>\n",
       "      <td>4.414634</td>\n",
       "      <td>6</td>\n",
       "    </tr>\n",
       "    <tr>\n",
       "      <th>4</th>\n",
       "      <td>695</td>\n",
       "      <td>4.081081</td>\n",
       "      <td>6</td>\n",
       "    </tr>\n",
       "  </tbody>\n",
       "</table>\n",
       "</div>"
      ],
      "text/plain": [
       "   book  avg_rating  count_review\n",
       "0   948    3.662500             7\n",
       "1   963    3.977273             6\n",
       "2   734    4.206897             6\n",
       "3   302    4.414634             6\n",
       "4   695    4.081081             6"
      ]
     },
     "metadata": {},
     "output_type": "display_data"
    }
   ],
   "source": [
    "query = ''' SELECT books.book_id as book,\n",
    "                   AVG(ratings.rating) AS avg_rating,\n",
    "                   COUNT(DISTINCT reviews.review_id) as count_review\n",
    "            FROM books\n",
    "            LEFT JOIN ratings ON ratings.book_id = books.book_id\n",
    "            LEFT JOIN reviews ON reviews.book_id=books.book_id\n",
    "            GROUP BY books.book_id\n",
    "            ORDER BY count_review DESC;\n",
    "        '''\n",
    "\n",
    "general = pd.io.sql.read_sql(query, con = engine)\n",
    "display(general.head(5)) \n",
    "                   "
   ]
  },
  {
   "cell_type": "markdown",
   "metadata": {},
   "source": [
    "Посчитали среднюю оценку для книги и количество обзоров."
   ]
  },
  {
   "cell_type": "markdown",
   "metadata": {},
   "source": [
    "**Определите издательство, которое выпустило наибольшее число книг толще 50 страниц — так вы исключите из анализа брошюры**"
   ]
  },
  {
   "cell_type": "code",
   "execution_count": 43,
   "metadata": {},
   "outputs": [
    {
     "data": {
      "text/html": [
       "<div>\n",
       "<style scoped>\n",
       "    .dataframe tbody tr th:only-of-type {\n",
       "        vertical-align: middle;\n",
       "    }\n",
       "\n",
       "    .dataframe tbody tr th {\n",
       "        vertical-align: top;\n",
       "    }\n",
       "\n",
       "    .dataframe thead th {\n",
       "        text-align: right;\n",
       "    }\n",
       "</style>\n",
       "<table border=\"1\" class=\"dataframe\">\n",
       "  <thead>\n",
       "    <tr style=\"text-align: right;\">\n",
       "      <th></th>\n",
       "      <th>publisher</th>\n",
       "    </tr>\n",
       "  </thead>\n",
       "  <tbody>\n",
       "    <tr>\n",
       "      <th>0</th>\n",
       "      <td>Penguin Books</td>\n",
       "    </tr>\n",
       "  </tbody>\n",
       "</table>\n",
       "</div>"
      ],
      "text/plain": [
       "       publisher\n",
       "0  Penguin Books"
      ]
     },
     "metadata": {},
     "output_type": "display_data"
    }
   ],
   "source": [
    "query = ''' SELECT publisher\n",
    "            FROM (\n",
    "            SELECT pub.publisher,\n",
    "                   COUNT(publisher) AS number_pub\n",
    "            FROM books AS b\n",
    "            JOIN publishers AS pub ON pub.publisher_id=b.publisher_id\n",
    "            WHERE num_pages >= 50\n",
    "            GROUP BY publisher\n",
    "            ORDER BY number_pub DESC\n",
    "            ) AS tab\n",
    "            LIMIT 1;\n",
    "            \n",
    "            '''\n",
    "\n",
    "publish_count = pd.io.sql.read_sql(query, con = engine)\n",
    "display(publish_count.head(5))\n"
   ]
  },
  {
   "cell_type": "markdown",
   "metadata": {},
   "source": [
    "Penguin Books - издательство, в котором наибольшее количество толстых книг"
   ]
  },
  {
   "cell_type": "markdown",
   "metadata": {},
   "source": [
    "**Определите автора с самой высокой средней оценкой книг — учитывайте только книги с 50 и более оценками**"
   ]
  },
  {
   "cell_type": "code",
   "execution_count": 44,
   "metadata": {},
   "outputs": [
    {
     "data": {
      "text/html": [
       "<div>\n",
       "<style scoped>\n",
       "    .dataframe tbody tr th:only-of-type {\n",
       "        vertical-align: middle;\n",
       "    }\n",
       "\n",
       "    .dataframe tbody tr th {\n",
       "        vertical-align: top;\n",
       "    }\n",
       "\n",
       "    .dataframe thead th {\n",
       "        text-align: right;\n",
       "    }\n",
       "</style>\n",
       "<table border=\"1\" class=\"dataframe\">\n",
       "  <thead>\n",
       "    <tr style=\"text-align: right;\">\n",
       "      <th></th>\n",
       "      <th>author_name</th>\n",
       "      <th>avg_rate</th>\n",
       "    </tr>\n",
       "  </thead>\n",
       "  <tbody>\n",
       "    <tr>\n",
       "      <th>0</th>\n",
       "      <td>J.K. Rowling/Mary GrandPré</td>\n",
       "      <td>4.28</td>\n",
       "    </tr>\n",
       "  </tbody>\n",
       "</table>\n",
       "</div>"
      ],
      "text/plain": [
       "                  author_name  avg_rate\n",
       "0  J.K. Rowling/Mary GrandPré      4.28"
      ]
     },
     "metadata": {},
     "output_type": "display_data"
    }
   ],
   "source": [
    "query = '''SELECT authors.author AS author_name,\n",
    "                  ROUND(AVG(tab.average_rating), 2) AS avg_rate    \n",
    "           FROM books\n",
    "           LEFT JOIN (\n",
    "                   SELECT book_id,\n",
    "                          COUNT(rating) AS cnt,\n",
    "                          AVG(rating) AS average_rating\n",
    "                   FROM ratings\n",
    "                   GROUP BY book_id\n",
    "                   ) AS tab\n",
    "                ON tab.book_id = books.book_id\n",
    "           LEFT JOIN authors ON authors.author_id = books.author_id\n",
    "           WHERE tab.cnt >= 50\n",
    "           GROUP BY author_name\n",
    "           ORDER BY avg_rate DESC\n",
    "           LIMIT 1;   \n",
    "        '''\n",
    "author_top = pd.io.sql.read_sql(query, con = engine)\n",
    "display(author_top.head(5))"
   ]
  },
  {
   "cell_type": "markdown",
   "metadata": {},
   "source": [
    "Joahn Rowling имеет самую высокую среднюю оценку, учитывая только книги с 50 и более оценками."
   ]
  },
  {
   "cell_type": "markdown",
   "metadata": {},
   "source": [
    "**Посчитайте среднее количество обзоров от пользователей, которые поставили больше 50 оценок.**"
   ]
  },
  {
   "cell_type": "code",
   "execution_count": 45,
   "metadata": {},
   "outputs": [
    {
     "data": {
      "text/html": [
       "<div>\n",
       "<style scoped>\n",
       "    .dataframe tbody tr th:only-of-type {\n",
       "        vertical-align: middle;\n",
       "    }\n",
       "\n",
       "    .dataframe tbody tr th {\n",
       "        vertical-align: top;\n",
       "    }\n",
       "\n",
       "    .dataframe thead th {\n",
       "        text-align: right;\n",
       "    }\n",
       "</style>\n",
       "<table border=\"1\" class=\"dataframe\">\n",
       "  <thead>\n",
       "    <tr style=\"text-align: right;\">\n",
       "      <th></th>\n",
       "      <th>average_number_of_reviews</th>\n",
       "    </tr>\n",
       "  </thead>\n",
       "  <tbody>\n",
       "    <tr>\n",
       "      <th>0</th>\n",
       "      <td>24.0</td>\n",
       "    </tr>\n",
       "  </tbody>\n",
       "</table>\n",
       "</div>"
      ],
      "text/plain": [
       "   average_number_of_reviews\n",
       "0                       24.0"
      ]
     },
     "metadata": {},
     "output_type": "display_data"
    }
   ],
   "source": [
    "query = \"\"\"SELECT ROUND(AVG(tab_2.review_cnt)) AS average_number_of_reviews\n",
    "           FROM (\n",
    "                SELECT username  \n",
    "                FROM ratings\n",
    "                GROUP BY username\n",
    "                HAVING COUNT(rating_id) > 50) AS tab\n",
    "           LEFT JOIN (\n",
    "                       SELECT username,\n",
    "                              COUNT(review_id) AS review_cnt\n",
    "                       FROM reviews\n",
    "                       GROUP BY username) AS tab_2\n",
    "            ON tab_2.username = tab.username\n",
    "        \"\"\"\n",
    "user_review_top = pd.io.sql.read_sql(query, con = engine)\n",
    "display(user_review_top.head(5))"
   ]
  },
  {
   "cell_type": "markdown",
   "metadata": {},
   "source": [
    "24 - среднее количество обзоров от пользователей, которые поставили больше 50 оценок."
   ]
  },
  {
   "cell_type": "markdown",
   "metadata": {},
   "source": [
    "**Общий вывод**"
   ]
  },
  {
   "cell_type": "markdown",
   "metadata": {},
   "source": [
    "  - Penguin Books - издательство, в котором наибольшее количество толстых книг\n",
    "  - Joahn Rowling имеет самую высокую среднюю оценку, учитывая только книги с 50 и более оценками\n",
    "  - 24 - среднее количество обзоров от пользователей, которые поставили больше 50 оценок.\n",
    "  \n",
    "    Возможно, стоит предусмотреть систему поощерений для пользователей, которые ставят оценки и пишут отзывы."
   ]
  }
 ],
 "metadata": {
  "ExecuteTimeLog": [
   {
    "duration": 10694,
    "start_time": "2023-02-21T07:55:51.051Z"
   },
   {
    "duration": 76,
    "start_time": "2023-02-21T07:56:42.288Z"
   },
   {
    "duration": 4,
    "start_time": "2023-02-21T07:57:13.640Z"
   },
   {
    "duration": 120,
    "start_time": "2023-02-21T07:58:21.036Z"
   },
   {
    "duration": 28,
    "start_time": "2023-02-21T08:08:25.911Z"
   },
   {
    "duration": 17,
    "start_time": "2023-02-21T08:08:36.926Z"
   },
   {
    "duration": 37,
    "start_time": "2023-02-21T08:10:31.101Z"
   },
   {
    "duration": 23,
    "start_time": "2023-02-21T08:10:37.354Z"
   },
   {
    "duration": 13,
    "start_time": "2023-02-21T08:12:36.640Z"
   },
   {
    "duration": 10,
    "start_time": "2023-02-21T08:12:50.070Z"
   },
   {
    "duration": 19,
    "start_time": "2023-02-21T08:16:15.454Z"
   },
   {
    "duration": 15,
    "start_time": "2023-02-21T08:16:37.226Z"
   },
   {
    "duration": 13,
    "start_time": "2023-02-21T08:17:00.643Z"
   },
   {
    "duration": 33,
    "start_time": "2023-02-21T08:17:16.512Z"
   },
   {
    "duration": 22,
    "start_time": "2023-02-21T08:17:36.824Z"
   },
   {
    "duration": 165,
    "start_time": "2023-02-21T08:20:41.380Z"
   },
   {
    "duration": 121,
    "start_time": "2023-02-21T08:24:08.519Z"
   },
   {
    "duration": 138,
    "start_time": "2023-02-21T08:24:26.823Z"
   },
   {
    "duration": 177,
    "start_time": "2023-02-21T08:26:32.029Z"
   },
   {
    "duration": 139,
    "start_time": "2023-02-21T08:27:54.832Z"
   },
   {
    "duration": 138,
    "start_time": "2023-02-21T08:28:19.732Z"
   },
   {
    "duration": 144,
    "start_time": "2023-02-21T08:28:42.365Z"
   },
   {
    "duration": 139,
    "start_time": "2023-02-21T08:30:50.764Z"
   },
   {
    "duration": 39,
    "start_time": "2023-02-21T08:33:11.904Z"
   },
   {
    "duration": 61,
    "start_time": "2023-02-21T08:33:40.681Z"
   },
   {
    "duration": 26,
    "start_time": "2023-02-21T08:33:56.936Z"
   },
   {
    "duration": 22,
    "start_time": "2023-02-21T08:34:26.952Z"
   },
   {
    "duration": 42,
    "start_time": "2023-02-21T08:35:06.508Z"
   },
   {
    "duration": 47,
    "start_time": "2023-02-21T08:35:19.833Z"
   },
   {
    "duration": 28,
    "start_time": "2023-02-21T08:35:33.252Z"
   },
   {
    "duration": 10,
    "start_time": "2023-02-21T08:36:37.545Z"
   },
   {
    "duration": 27,
    "start_time": "2023-02-21T08:36:44.709Z"
   },
   {
    "duration": 55,
    "start_time": "2023-02-21T08:36:50.183Z"
   },
   {
    "duration": 11,
    "start_time": "2023-02-21T08:37:10.264Z"
   },
   {
    "duration": 143,
    "start_time": "2023-02-21T08:41:32.825Z"
   },
   {
    "duration": 142,
    "start_time": "2023-02-21T08:41:54.409Z"
   },
   {
    "duration": 145,
    "start_time": "2023-02-21T08:43:22.170Z"
   },
   {
    "duration": 148,
    "start_time": "2023-02-21T10:06:12.810Z"
   },
   {
    "duration": 143,
    "start_time": "2023-02-21T10:07:37.871Z"
   },
   {
    "duration": 74,
    "start_time": "2023-02-21T10:09:07.665Z"
   },
   {
    "duration": 32,
    "start_time": "2023-02-21T10:09:41.312Z"
   },
   {
    "duration": 33,
    "start_time": "2023-02-21T10:10:14.456Z"
   },
   {
    "duration": 114,
    "start_time": "2023-02-21T10:11:14.567Z"
   },
   {
    "duration": 44,
    "start_time": "2023-02-21T10:11:22.308Z"
   },
   {
    "duration": 29,
    "start_time": "2023-02-21T10:12:10.867Z"
   },
   {
    "duration": 30,
    "start_time": "2023-02-21T10:12:55.971Z"
   },
   {
    "duration": 113,
    "start_time": "2023-02-21T10:13:16.620Z"
   },
   {
    "duration": 23,
    "start_time": "2023-02-21T10:13:25.344Z"
   },
   {
    "duration": 143,
    "start_time": "2023-02-21T10:15:33.201Z"
   },
   {
    "duration": 50,
    "start_time": "2023-02-21T10:15:52.383Z"
   },
   {
    "duration": 22,
    "start_time": "2023-02-21T10:18:22.111Z"
   },
   {
    "duration": 128,
    "start_time": "2023-02-21T10:31:32.953Z"
   },
   {
    "duration": 110,
    "start_time": "2023-02-21T10:31:42.254Z"
   },
   {
    "duration": 142,
    "start_time": "2023-02-21T10:31:54.559Z"
   },
   {
    "duration": 138,
    "start_time": "2023-02-21T10:32:25.718Z"
   },
   {
    "duration": 25,
    "start_time": "2023-02-21T10:32:34.326Z"
   },
   {
    "duration": 41,
    "start_time": "2023-02-21T10:36:20.867Z"
   },
   {
    "duration": 29,
    "start_time": "2023-02-21T10:41:33.805Z"
   },
   {
    "duration": 38,
    "start_time": "2023-02-21T10:42:00.582Z"
   },
   {
    "duration": 120,
    "start_time": "2023-02-21T10:42:16.608Z"
   },
   {
    "duration": 108,
    "start_time": "2023-02-21T10:43:13.619Z"
   },
   {
    "duration": 46,
    "start_time": "2023-02-21T10:47:19.984Z"
   },
   {
    "duration": 113,
    "start_time": "2023-02-21T10:52:45.541Z"
   },
   {
    "duration": 114,
    "start_time": "2023-02-21T10:54:20.709Z"
   },
   {
    "duration": 109,
    "start_time": "2023-02-21T10:55:46.820Z"
   },
   {
    "duration": 103,
    "start_time": "2023-02-21T10:59:56.338Z"
   },
   {
    "duration": 98,
    "start_time": "2023-02-21T11:04:31.602Z"
   },
   {
    "duration": 108,
    "start_time": "2023-02-21T11:05:38.868Z"
   },
   {
    "duration": 33,
    "start_time": "2023-02-21T11:05:51.376Z"
   },
   {
    "duration": 21,
    "start_time": "2023-02-21T11:06:01.464Z"
   },
   {
    "duration": 20,
    "start_time": "2023-02-21T11:06:13.704Z"
   },
   {
    "duration": 125,
    "start_time": "2023-02-21T11:16:22.220Z"
   },
   {
    "duration": 112,
    "start_time": "2023-02-21T11:16:37.053Z"
   },
   {
    "duration": 12,
    "start_time": "2023-02-21T11:17:31.118Z"
   },
   {
    "duration": 13,
    "start_time": "2023-02-21T11:17:44.164Z"
   },
   {
    "duration": 112,
    "start_time": "2023-02-21T13:07:07.750Z"
   },
   {
    "duration": 105,
    "start_time": "2023-02-21T13:08:19.331Z"
   },
   {
    "duration": 99,
    "start_time": "2023-02-21T13:09:16.440Z"
   },
   {
    "duration": 156,
    "start_time": "2023-02-21T13:09:29.384Z"
   },
   {
    "duration": 97,
    "start_time": "2023-02-21T13:11:48.901Z"
   },
   {
    "duration": 99,
    "start_time": "2023-02-21T13:12:33.221Z"
   },
   {
    "duration": 100,
    "start_time": "2023-02-21T13:13:12.950Z"
   },
   {
    "duration": 102,
    "start_time": "2023-02-21T13:13:37.164Z"
   },
   {
    "duration": 124,
    "start_time": "2023-02-21T13:14:13.580Z"
   },
   {
    "duration": 92,
    "start_time": "2023-02-21T13:17:08.416Z"
   },
   {
    "duration": 121,
    "start_time": "2023-02-21T13:18:41.180Z"
   },
   {
    "duration": 102,
    "start_time": "2023-02-21T13:18:53.297Z"
   },
   {
    "duration": 14,
    "start_time": "2023-02-21T13:21:07.136Z"
   },
   {
    "duration": 122,
    "start_time": "2023-02-21T13:22:22.427Z"
   },
   {
    "duration": 119,
    "start_time": "2023-02-21T13:22:50.364Z"
   },
   {
    "duration": 112,
    "start_time": "2023-02-21T13:24:06.980Z"
   },
   {
    "duration": 111,
    "start_time": "2023-02-21T13:25:35.645Z"
   },
   {
    "duration": 113,
    "start_time": "2023-02-21T13:25:49.662Z"
   },
   {
    "duration": 102,
    "start_time": "2023-02-21T13:26:55.568Z"
   },
   {
    "duration": 105,
    "start_time": "2023-02-21T13:27:58.946Z"
   },
   {
    "duration": 95,
    "start_time": "2023-02-21T13:28:30.906Z"
   },
   {
    "duration": 114,
    "start_time": "2023-02-21T13:28:59.122Z"
   },
   {
    "duration": 13163,
    "start_time": "2023-02-21T13:35:10.391Z"
   },
   {
    "duration": 104,
    "start_time": "2023-02-21T13:35:23.556Z"
   },
   {
    "duration": 19,
    "start_time": "2023-02-21T13:35:23.661Z"
   },
   {
    "duration": 35,
    "start_time": "2023-02-21T13:35:23.681Z"
   },
   {
    "duration": 39,
    "start_time": "2023-02-21T13:35:23.718Z"
   },
   {
    "duration": 27,
    "start_time": "2023-02-21T13:35:23.759Z"
   },
   {
    "duration": 22,
    "start_time": "2023-02-21T13:35:23.787Z"
   },
   {
    "duration": 40,
    "start_time": "2023-02-21T13:35:23.812Z"
   },
   {
    "duration": 19,
    "start_time": "2023-02-21T13:35:23.854Z"
   },
   {
    "duration": 18,
    "start_time": "2023-02-21T13:35:23.875Z"
   },
   {
    "duration": 237,
    "start_time": "2023-02-21T13:35:23.898Z"
   },
   {
    "duration": 129,
    "start_time": "2023-02-21T13:36:17.517Z"
   },
   {
    "duration": 115,
    "start_time": "2023-02-21T13:40:52.106Z"
   },
   {
    "duration": 17,
    "start_time": "2023-02-21T13:41:40.158Z"
   },
   {
    "duration": 122,
    "start_time": "2023-02-21T13:42:41.455Z"
   },
   {
    "duration": 119,
    "start_time": "2023-02-21T13:43:06.185Z"
   },
   {
    "duration": 18,
    "start_time": "2023-02-21T13:43:30.911Z"
   },
   {
    "duration": 103,
    "start_time": "2023-02-21T13:48:32.820Z"
   },
   {
    "duration": 20,
    "start_time": "2023-02-21T13:49:22.107Z"
   },
   {
    "duration": 14,
    "start_time": "2023-02-21T13:49:28.041Z"
   },
   {
    "duration": 6,
    "start_time": "2023-02-21T13:58:24.667Z"
   },
   {
    "duration": 93,
    "start_time": "2023-02-21T13:58:24.674Z"
   },
   {
    "duration": 27,
    "start_time": "2023-02-21T13:58:24.768Z"
   },
   {
    "duration": 28,
    "start_time": "2023-02-21T13:58:24.797Z"
   },
   {
    "duration": 33,
    "start_time": "2023-02-21T13:58:24.826Z"
   },
   {
    "duration": 45,
    "start_time": "2023-02-21T13:58:24.860Z"
   },
   {
    "duration": 12,
    "start_time": "2023-02-21T13:58:24.907Z"
   },
   {
    "duration": 27,
    "start_time": "2023-02-21T13:58:24.921Z"
   },
   {
    "duration": 68,
    "start_time": "2023-02-21T13:58:24.949Z"
   },
   {
    "duration": 16,
    "start_time": "2023-02-21T13:58:25.019Z"
   },
   {
    "duration": 25,
    "start_time": "2023-02-21T13:58:25.037Z"
   },
   {
    "duration": 19,
    "start_time": "2023-02-21T13:58:25.064Z"
   },
   {
    "duration": 8439,
    "start_time": "2023-02-22T03:28:30.098Z"
   },
   {
    "duration": 296,
    "start_time": "2023-02-22T03:28:38.539Z"
   },
   {
    "duration": 83,
    "start_time": "2023-02-22T03:28:38.836Z"
   },
   {
    "duration": 81,
    "start_time": "2023-02-22T03:28:38.921Z"
   },
   {
    "duration": 115,
    "start_time": "2023-02-22T03:28:39.004Z"
   },
   {
    "duration": 101,
    "start_time": "2023-02-22T03:28:39.121Z"
   },
   {
    "duration": 75,
    "start_time": "2023-02-22T03:28:39.223Z"
   },
   {
    "duration": 156,
    "start_time": "2023-02-22T03:28:39.300Z"
   },
   {
    "duration": 83,
    "start_time": "2023-02-22T03:28:39.458Z"
   },
   {
    "duration": 104,
    "start_time": "2023-02-22T03:28:56.649Z"
   },
   {
    "duration": 65,
    "start_time": "2023-02-22T03:29:56.907Z"
   },
   {
    "duration": 48,
    "start_time": "2023-02-22T04:30:35.728Z"
   },
   {
    "duration": 510,
    "start_time": "2023-02-22T04:30:39.671Z"
   },
   {
    "duration": 9765,
    "start_time": "2023-02-22T04:30:40.183Z"
   },
   {
    "duration": 70,
    "start_time": "2023-02-22T04:30:49.950Z"
   },
   {
    "duration": 26,
    "start_time": "2023-02-22T04:30:50.022Z"
   },
   {
    "duration": 22,
    "start_time": "2023-02-22T04:30:50.050Z"
   },
   {
    "duration": 54,
    "start_time": "2023-02-22T04:30:50.074Z"
   },
   {
    "duration": 28,
    "start_time": "2023-02-22T04:30:50.132Z"
   },
   {
    "duration": 11,
    "start_time": "2023-02-22T04:30:50.162Z"
   },
   {
    "duration": 64,
    "start_time": "2023-02-22T04:30:50.174Z"
   },
   {
    "duration": 18,
    "start_time": "2023-02-22T04:30:50.240Z"
   },
   {
    "duration": 12,
    "start_time": "2023-02-22T04:30:50.260Z"
   },
   {
    "duration": 13,
    "start_time": "2023-02-22T04:30:50.273Z"
   },
   {
    "duration": 14,
    "start_time": "2023-02-22T04:30:50.287Z"
   },
   {
    "duration": 74,
    "start_time": "2023-02-22T04:40:42.966Z"
   },
   {
    "duration": 20,
    "start_time": "2023-02-22T04:42:27.470Z"
   },
   {
    "duration": 22,
    "start_time": "2023-02-22T04:42:37.274Z"
   },
   {
    "duration": 25,
    "start_time": "2023-02-22T04:44:24.505Z"
   },
   {
    "duration": 21,
    "start_time": "2023-02-22T04:44:46.855Z"
   },
   {
    "duration": 193,
    "start_time": "2023-02-22T04:45:57.097Z"
   },
   {
    "duration": 30,
    "start_time": "2023-02-22T04:46:02.055Z"
   },
   {
    "duration": 29,
    "start_time": "2023-02-22T04:47:13.275Z"
   },
   {
    "duration": 3,
    "start_time": "2023-02-22T04:48:04.689Z"
   },
   {
    "duration": 6,
    "start_time": "2023-02-22T04:48:04.703Z"
   },
   {
    "duration": 71,
    "start_time": "2023-02-22T04:48:04.711Z"
   },
   {
    "duration": 28,
    "start_time": "2023-02-22T04:48:04.785Z"
   },
   {
    "duration": 28,
    "start_time": "2023-02-22T04:48:04.816Z"
   },
   {
    "duration": 36,
    "start_time": "2023-02-22T04:48:04.846Z"
   },
   {
    "duration": 110,
    "start_time": "2023-02-22T04:48:04.884Z"
   },
   {
    "duration": 18,
    "start_time": "2023-02-22T04:48:04.996Z"
   },
   {
    "duration": 28,
    "start_time": "2023-02-22T04:48:05.016Z"
   },
   {
    "duration": 20,
    "start_time": "2023-02-22T04:48:05.046Z"
   },
   {
    "duration": 34,
    "start_time": "2023-02-22T04:48:05.069Z"
   },
   {
    "duration": 15,
    "start_time": "2023-02-22T04:48:05.105Z"
   },
   {
    "duration": 18,
    "start_time": "2023-02-22T04:48:05.122Z"
   },
   {
    "duration": 18,
    "start_time": "2023-02-22T04:48:05.142Z"
   },
   {
    "duration": 18,
    "start_time": "2023-02-22T04:48:21.531Z"
   },
   {
    "duration": 25,
    "start_time": "2023-02-22T04:50:57.199Z"
   },
   {
    "duration": 19,
    "start_time": "2023-02-22T04:52:38.029Z"
   },
   {
    "duration": 20,
    "start_time": "2023-02-22T04:54:12.516Z"
   },
   {
    "duration": 100,
    "start_time": "2023-02-22T04:57:25.221Z"
   },
   {
    "duration": 112,
    "start_time": "2023-02-22T04:57:35.401Z"
   },
   {
    "duration": 22,
    "start_time": "2023-02-22T04:58:02.679Z"
   },
   {
    "duration": 31,
    "start_time": "2023-02-22T04:58:50.494Z"
   },
   {
    "duration": 95,
    "start_time": "2023-02-22T04:59:54.795Z"
   },
   {
    "duration": 145,
    "start_time": "2023-02-22T05:01:01.812Z"
   },
   {
    "duration": 128,
    "start_time": "2023-02-22T05:01:21.754Z"
   },
   {
    "duration": 109,
    "start_time": "2023-02-22T05:02:29.434Z"
   },
   {
    "duration": 25,
    "start_time": "2023-02-22T05:10:35.069Z"
   },
   {
    "duration": 102,
    "start_time": "2023-02-22T05:11:19.352Z"
   },
   {
    "duration": 50,
    "start_time": "2023-02-22T09:57:21.450Z"
   },
   {
    "duration": 519,
    "start_time": "2023-02-22T09:57:27.176Z"
   },
   {
    "duration": 20724,
    "start_time": "2023-02-22T09:57:27.697Z"
   },
   {
    "duration": 291,
    "start_time": "2023-02-22T09:57:48.423Z"
   },
   {
    "duration": 84,
    "start_time": "2023-02-22T09:57:48.716Z"
   },
   {
    "duration": 83,
    "start_time": "2023-02-22T09:57:48.802Z"
   },
   {
    "duration": 106,
    "start_time": "2023-02-22T09:57:48.887Z"
   },
   {
    "duration": 108,
    "start_time": "2023-02-22T09:57:48.994Z"
   },
   {
    "duration": 75,
    "start_time": "2023-02-22T09:57:49.104Z"
   },
   {
    "duration": 156,
    "start_time": "2023-02-22T09:57:49.181Z"
   },
   {
    "duration": 274,
    "start_time": "2023-02-22T09:57:49.339Z"
   },
   {
    "duration": 0,
    "start_time": "2023-02-22T09:57:49.615Z"
   },
   {
    "duration": 0,
    "start_time": "2023-02-22T09:57:49.616Z"
   },
   {
    "duration": 0,
    "start_time": "2023-02-22T09:57:49.617Z"
   },
   {
    "duration": 0,
    "start_time": "2023-02-22T09:57:49.620Z"
   },
   {
    "duration": 76,
    "start_time": "2023-02-22T09:57:55.175Z"
   },
   {
    "duration": 613,
    "start_time": "2023-02-22T09:58:48.357Z"
   },
   {
    "duration": 76,
    "start_time": "2023-02-22T09:59:33.402Z"
   },
   {
    "duration": 152,
    "start_time": "2023-02-22T10:00:18.349Z"
   },
   {
    "duration": 135,
    "start_time": "2023-02-22T10:00:41.500Z"
   },
   {
    "duration": 135,
    "start_time": "2023-02-22T10:01:07.203Z"
   },
   {
    "duration": 169,
    "start_time": "2023-02-22T10:01:50.101Z"
   },
   {
    "duration": 135,
    "start_time": "2023-02-22T10:02:06.808Z"
   },
   {
    "duration": 135,
    "start_time": "2023-02-22T10:02:24.864Z"
   },
   {
    "duration": 4097,
    "start_time": "2023-02-22T10:02:37.126Z"
   },
   {
    "duration": 3868,
    "start_time": "2023-02-22T10:02:41.677Z"
   },
   {
    "duration": 128,
    "start_time": "2023-02-22T10:03:36.882Z"
   },
   {
    "duration": 147,
    "start_time": "2023-02-22T10:04:04.494Z"
   },
   {
    "duration": 133,
    "start_time": "2023-02-22T10:04:37.706Z"
   },
   {
    "duration": 140,
    "start_time": "2023-02-22T10:09:55.254Z"
   },
   {
    "duration": 111,
    "start_time": "2023-02-22T10:10:17.661Z"
   },
   {
    "duration": 116,
    "start_time": "2023-02-22T10:12:45.150Z"
   },
   {
    "duration": 119,
    "start_time": "2023-02-22T10:12:59.798Z"
   },
   {
    "duration": 99,
    "start_time": "2023-02-22T10:14:34.924Z"
   },
   {
    "duration": 101,
    "start_time": "2023-02-22T10:15:00.652Z"
   },
   {
    "duration": 97,
    "start_time": "2023-02-22T10:15:15.195Z"
   },
   {
    "duration": 3,
    "start_time": "2023-02-22T10:18:10.588Z"
   },
   {
    "duration": 6,
    "start_time": "2023-02-22T10:18:10.594Z"
   },
   {
    "duration": 291,
    "start_time": "2023-02-22T10:18:10.604Z"
   },
   {
    "duration": 83,
    "start_time": "2023-02-22T10:18:10.897Z"
   },
   {
    "duration": 83,
    "start_time": "2023-02-22T10:18:10.981Z"
   },
   {
    "duration": 109,
    "start_time": "2023-02-22T10:18:11.066Z"
   },
   {
    "duration": 101,
    "start_time": "2023-02-22T10:18:11.178Z"
   },
   {
    "duration": 75,
    "start_time": "2023-02-22T10:18:11.281Z"
   },
   {
    "duration": 159,
    "start_time": "2023-02-22T10:18:11.358Z"
   },
   {
    "duration": 87,
    "start_time": "2023-02-22T10:18:11.518Z"
   },
   {
    "duration": 130,
    "start_time": "2023-02-22T10:18:11.607Z"
   },
   {
    "duration": 78,
    "start_time": "2023-02-22T10:18:11.738Z"
   },
   {
    "duration": 77,
    "start_time": "2023-02-22T10:18:11.818Z"
   }
  ],
  "kernelspec": {
   "display_name": "Python 3 (ipykernel)",
   "language": "python",
   "name": "python3"
  },
  "language_info": {
   "codemirror_mode": {
    "name": "ipython",
    "version": 3
   },
   "file_extension": ".py",
   "mimetype": "text/x-python",
   "name": "python",
   "nbconvert_exporter": "python",
   "pygments_lexer": "ipython3",
   "version": "3.9.13"
  },
  "toc": {
   "base_numbering": 1,
   "nav_menu": {},
   "number_sections": true,
   "sideBar": true,
   "skip_h1_title": true,
   "title_cell": "Table of Contents",
   "title_sidebar": "Contents",
   "toc_cell": false,
   "toc_position": {},
   "toc_section_display": true,
   "toc_window_display": false
  }
 },
 "nbformat": 4,
 "nbformat_minor": 2
}
